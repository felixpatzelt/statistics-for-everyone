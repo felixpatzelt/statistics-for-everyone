{
 "cells": [
  {
   "cell_type": "code",
   "execution_count": null,
   "metadata": {},
   "outputs": [],
   "source": [
    "%matplotlib inline\n",
    "%config InlineBackend.figure_format = 'retina'\n",
    "import matplotlib.pyplot as plt\n",
    "import numpy as np"
   ]
  },
  {
   "cell_type": "code",
   "execution_count": null,
   "metadata": {},
   "outputs": [],
   "source": [
    "def toss_coins(p_coin_1, p_coin_2, n_throws, seed=None):\n",
    "    np.random.seed(seed)\n",
    "    # alternate between drawing coin 1 and 2 so we get the same initial throws for different n\n",
    "    # transpose output so we can just unpack the results for each coin\n",
    "    return np.random.binomial(1, (p_coin_1, p_coin_2), size=(n_throws, 2)).T\n",
    "\n",
    "def repeated_experiment_means(p_coin_1, p_coin_2, n_throws, n_repeats, seed=0):\n",
    "    results = []\n",
    "    for i in range(n_repeats):\n",
    "        heads = toss_coins(p_coin_1, p_coin_2, n_throws, seed=seed+i*n_throws*2)\n",
    "        means = heads.mean(1)\n",
    "        results.append(means)\n",
    "    return np.array(results)\n",
    "\n",
    "def plot_heads(coin1, coin2):\n",
    "    fig, ax = plt.subplots()\n",
    "    ax.plot(coin1.cumsum(), label='Coin 1', drawstyle='steps')\n",
    "    ax.plot(coin2.cumsum(), label='Coin 2', drawstyle='steps')\n",
    "    ax.set_xlabel('Tosses')\n",
    "    ax.set_ylabel('Number of Heads')\n",
    "    ax.legend()\n",
    "    \n",
    "    return fig, ax\n",
    "    \n",
    "def plot_p_head(coin1, coin2, show_se=2):\n",
    "    m1 = coin1.mean()\n",
    "    m2 = coin2.mean()\n",
    "    e1 = coin1.std() / np.sqrt(len(coin1))\n",
    "    e2 = coin2.std() / np.sqrt(len(coin2))\n",
    "\n",
    "    fig, ax = plt.subplots(figsize=(3,4))\n",
    "    ax.bar([1, 2], [m1, m2], yerr=[e1, e2])\n",
    "    ax.set_xticks([1, 2])\n",
    "    ax.set_xlabel('Coin')\n",
    "    ax.set_ylabel('P(Head)')\n",
    "    \n",
    "    return fig, ax\n",
    "    \n",
    "def plot_experiment(means, n_bins=21):\n",
    "    fig, ax = plt.subplots(ncols=2, figsize=(12,4), sharey=True)\n",
    "    ax[0].plot(means)\n",
    "    ax[0].legend(['Coin 1', 'Coin 2'])\n",
    "    ax[0].set_ylabel('p(Head)')\n",
    "    ax[0].set_xlabel('Experiment')\n",
    "\n",
    "    bins   = np.linspace(0, 1, n_bins)\n",
    "    pd1, _ = np.histogram(means[:,0], bins=bins)\n",
    "    pd2, _ = np.histogram(means[:,1], bins=bins)\n",
    "    bc = (bins[1:] + bins[:-1]) / 2\n",
    "    ax[1].barh(bc, pd1, height=1/len(bins), alpha=.5)\n",
    "    ax[1].barh(bc, pd2, height=1/len(bins), alpha=.5)\n",
    "    ax[1].set_xlabel('Count')\n",
    "    \n",
    "    return fig, ax"
   ]
  },
  {
   "cell_type": "code",
   "execution_count": null,
   "metadata": {},
   "outputs": [],
   "source": [
    "coin1, coin2 = toss_coins(\n",
    "    p_coin_1 = 0.5,\n",
    "    p_coin_2 = 0.4,\n",
    "    n_throws = 150,\n",
    "    seed     = 0\n",
    ")"
   ]
  },
  {
   "cell_type": "code",
   "execution_count": null,
   "metadata": {},
   "outputs": [],
   "source": [
    "plot_heads(coin1, coin2)"
   ]
  },
  {
   "cell_type": "code",
   "execution_count": null,
   "metadata": {},
   "outputs": [],
   "source": [
    "coin1, coin2 = toss_coins(\n",
    "    p_coin_1 = 0.5,\n",
    "    p_coin_2 = 0.4,\n",
    "    n_throws = 25,\n",
    "    seed     = 0\n",
    ")\n",
    "plot_p_head(coin1, coin2)"
   ]
  },
  {
   "cell_type": "code",
   "execution_count": null,
   "metadata": {},
   "outputs": [],
   "source": [
    "m1 = coin1.mean()\n",
    "m2 = coin2.mean()\n",
    "n  = len(coin1)\n",
    "np.sqrt(m1 * (1 - m1) / n), np.sqrt(m2 * (1 - m2) / n)"
   ]
  },
  {
   "cell_type": "code",
   "execution_count": null,
   "metadata": {},
   "outputs": [],
   "source": [
    "np.sqrt(.5 * (1 - .5) / n), np.sqrt(.6 * (1 - .6) / n)"
   ]
  },
  {
   "cell_type": "code",
   "execution_count": null,
   "metadata": {},
   "outputs": [],
   "source": [
    "coin1, coin2 = toss_coins(\n",
    "    p_coin_1 = 0.5,\n",
    "    p_coin_2 = 0.4,\n",
    "    n_throws = 1000,\n",
    "    seed     = 0\n",
    ")\n",
    "plot_p_head(coin1, coin2)"
   ]
  },
  {
   "cell_type": "code",
   "execution_count": null,
   "metadata": {},
   "outputs": [],
   "source": [
    "means = repeated_experiment_means(\n",
    "    p_coin_1  = 0.5,\n",
    "    p_coin_2  = 0.4,\n",
    "    n_throws  = 25,\n",
    "    n_repeats = 100,\n",
    "    seed      = 1\n",
    ")\n",
    "plot_experiment(means)"
   ]
  },
  {
   "cell_type": "code",
   "execution_count": null,
   "metadata": {},
   "outputs": [],
   "source": []
  }
 ],
 "metadata": {
  "kernelspec": {
   "display_name": "Python 3",
   "language": "python",
   "name": "python3"
  },
  "language_info": {
   "codemirror_mode": {
    "name": "ipython",
    "version": 3
   },
   "file_extension": ".py",
   "mimetype": "text/x-python",
   "name": "python",
   "nbconvert_exporter": "python",
   "pygments_lexer": "ipython3",
   "version": "3.7.3"
  }
 },
 "nbformat": 4,
 "nbformat_minor": 2
}
