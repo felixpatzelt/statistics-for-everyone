{
 "cells": [
  {
   "cell_type": "code",
   "execution_count": null,
   "metadata": {},
   "outputs": [],
   "source": [
    "#!pip install voila voila-reveal"
   ]
  },
  {
   "cell_type": "code",
   "execution_count": null,
   "metadata": {},
   "outputs": [],
   "source": [
    "import subprocess\n",
    "from glob import glob\n",
    "import ipywidgets as widgets"
   ]
  },
  {
   "cell_type": "code",
   "execution_count": null,
   "metadata": {},
   "outputs": [],
   "source": [
    "class Voilauncher():\n",
    "    def __init__(self, notebooks):\n",
    "        self.notebook_file = ''\n",
    "        self.process = None\n",
    "        self.cmd_tpl = '''voila {notebook_file} --template=reveal --VoilaConfiguration.resources=\"{{'reveal': {{'theme': 'simple'}}}}\"'''\n",
    "\n",
    "        self.dropdown = widgets.Dropdown(options=notebooks)\n",
    "        self.launch_btn = widgets.Button(description='Start Voila')\n",
    "        self.terminate_btn = widgets.Button(description='Stop Voila')\n",
    "\n",
    "        self.launch_btn.on_click(self.launch)\n",
    "        self.terminate_btn.on_click(self.terminate)\n",
    "\n",
    "    def launch(self,b):\n",
    "        if self.process is not None:\n",
    "            self.terminate()\n",
    "        self.notebook_file = self.dropdown.value\n",
    "        self.process = subprocess.Popen(self.cmd_tpl.format(notebook_file=self.notebook_file), shell=True)\n",
    "        print(\"C'est parti! Started notebook\", self.notebook_file, ' with pid', launcher.process.pid) # check notebook console\n",
    "    \n",
    "    def show(self):\n",
    "        return widgets.Box([self.dropdown, self.launch_btn, self.terminate_btn])\n",
    "    \n",
    "    def terminate(self, b=None):\n",
    "        self.process.terminate()\n",
    "        launcher.process.wait()\n",
    "        print(\"Terminated notebook\", self.notebook_file, ' with pid', launcher.process.pid) # check notebook console\n"
   ]
  },
  {
   "cell_type": "code",
   "execution_count": null,
   "metadata": {},
   "outputs": [],
   "source": [
    "notebooks = sorted(glob('*.ipynb'))\n",
    "launcher  = Voilauncher(notebooks)\n",
    "launcher.show()"
   ]
  },
  {
   "cell_type": "markdown",
   "metadata": {
    "slideshow": {
     "slide_type": "notes"
    }
   },
   "source": [
    "Remember to stop before shutting down this notebook.\n",
    "If something goes wrong, check the logs for the pid."
   ]
  }
 ],
 "metadata": {
  "kernelspec": {
   "display_name": "Python 3",
   "language": "python",
   "name": "python3"
  },
  "language_info": {
   "codemirror_mode": {
    "name": "ipython",
    "version": 3
   },
   "file_extension": ".py",
   "mimetype": "text/x-python",
   "name": "python",
   "nbconvert_exporter": "python",
   "pygments_lexer": "ipython3",
   "version": "3.7.7"
  }
 },
 "nbformat": 4,
 "nbformat_minor": 4
}
