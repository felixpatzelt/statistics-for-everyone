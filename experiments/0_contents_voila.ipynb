{
 "cells": [
  {
   "cell_type": "markdown",
   "metadata": {},
   "source": [
    "# Start notebooks with voilà\n",
    "- Select a notebook below to launch interactive presentations\n",
    "- To be used with a local python installation"
   ]
  },
  {
   "cell_type": "code",
   "execution_count": 1,
   "metadata": {},
   "outputs": [],
   "source": [
    "# needed to run this notebook\n",
    "#!pip install voila voila-reveal"
   ]
  },
  {
   "cell_type": "code",
   "execution_count": 2,
   "metadata": {},
   "outputs": [],
   "source": [
    "from contents_code import *"
   ]
  },
  {
   "cell_type": "code",
   "execution_count": 3,
   "metadata": {},
   "outputs": [
    {
     "data": {
      "application/vnd.jupyter.widget-view+json": {
       "model_id": "4978dea2e0aa41dbac59ff66207fb4b4",
       "version_major": 2,
       "version_minor": 0
      },
      "text/plain": [
       "Box(children=(Dropdown(options=('0_contents.ipynb', '1_cards.ipynb', '2_practical_basics.ipynb', 'Normal_dist.…"
      ]
     },
     "metadata": {},
     "output_type": "display_data"
    }
   ],
   "source": [
    "notebooks = sorted(glob('*.ipynb'))\n",
    "launcher  = Voilauncher(notebooks)\n",
    "launcher.show()"
   ]
  },
  {
   "cell_type": "markdown",
   "metadata": {
    "slideshow": {
     "slide_type": "notes"
    }
   },
   "source": [
    "Remember to stop before shutting down this notebook.\n",
    "If something goes wrong, check the logs for the pid."
   ]
  },
  {
   "cell_type": "code",
   "execution_count": null,
   "metadata": {},
   "outputs": [],
   "source": []
  }
 ],
 "metadata": {
  "kernelspec": {
   "display_name": "Python 3",
   "language": "python",
   "name": "python3"
  },
  "language_info": {
   "codemirror_mode": {
    "name": "ipython",
    "version": 3
   },
   "file_extension": ".py",
   "mimetype": "text/x-python",
   "name": "python",
   "nbconvert_exporter": "python",
   "pygments_lexer": "ipython3",
   "version": "3.7.7"
  },
  "widgets": {
   "application/vnd.jupyter.widget-state+json": {
    "state": {
     "0b587212e02d4627b4a72ddff3220f52": {
      "model_module": "@jupyter-widgets/controls",
      "model_module_version": "1.5.0",
      "model_name": "ButtonModel",
      "state": {
       "description": "Stop Voila",
       "layout": "IPY_MODEL_103924563d60491fa17e09cd309399aa",
       "style": "IPY_MODEL_c05b0ba8cc404dd68a61c240687e1dbe"
      }
     },
     "103924563d60491fa17e09cd309399aa": {
      "model_module": "@jupyter-widgets/base",
      "model_module_version": "1.2.0",
      "model_name": "LayoutModel",
      "state": {}
     },
     "112b1e7dea6141eaa143e6cfcaee58c1": {
      "model_module": "@jupyter-widgets/controls",
      "model_module_version": "1.5.0",
      "model_name": "DropdownModel",
      "state": {
       "_options_labels": [
        "0_contents.ipynb",
        "1_cards.ipynb",
        "2_practical_basics.ipynb",
        "Normal_dist.ipynb",
        "bokeh_test.ipynb",
        "test_widgets.ipynb"
       ],
       "index": 1,
       "layout": "IPY_MODEL_d8135477d9b04984be7868f7e94ff1c2",
       "style": "IPY_MODEL_8d7ae70e57e54db3a14b0af48d4d5f2f"
      }
     },
     "4978dea2e0aa41dbac59ff66207fb4b4": {
      "model_module": "@jupyter-widgets/controls",
      "model_module_version": "1.5.0",
      "model_name": "BoxModel",
      "state": {
       "children": [
        "IPY_MODEL_112b1e7dea6141eaa143e6cfcaee58c1",
        "IPY_MODEL_58926f17a06541e9ad727f6a7fe35ebe",
        "IPY_MODEL_0b587212e02d4627b4a72ddff3220f52"
       ],
       "layout": "IPY_MODEL_6693a36f816c4fd093a839f0e3756a9c"
      }
     },
     "58926f17a06541e9ad727f6a7fe35ebe": {
      "model_module": "@jupyter-widgets/controls",
      "model_module_version": "1.5.0",
      "model_name": "ButtonModel",
      "state": {
       "description": "Start Voila",
       "layout": "IPY_MODEL_fbb3ed5ee8ea49949cb19b019d4dcf9a",
       "style": "IPY_MODEL_60977fe5c1e64e92a8d2c4678087079b"
      }
     },
     "60977fe5c1e64e92a8d2c4678087079b": {
      "model_module": "@jupyter-widgets/controls",
      "model_module_version": "1.5.0",
      "model_name": "ButtonStyleModel",
      "state": {}
     },
     "6693a36f816c4fd093a839f0e3756a9c": {
      "model_module": "@jupyter-widgets/base",
      "model_module_version": "1.2.0",
      "model_name": "LayoutModel",
      "state": {}
     },
     "8d7ae70e57e54db3a14b0af48d4d5f2f": {
      "model_module": "@jupyter-widgets/controls",
      "model_module_version": "1.5.0",
      "model_name": "DescriptionStyleModel",
      "state": {
       "description_width": ""
      }
     },
     "c05b0ba8cc404dd68a61c240687e1dbe": {
      "model_module": "@jupyter-widgets/controls",
      "model_module_version": "1.5.0",
      "model_name": "ButtonStyleModel",
      "state": {}
     },
     "d8135477d9b04984be7868f7e94ff1c2": {
      "model_module": "@jupyter-widgets/base",
      "model_module_version": "1.2.0",
      "model_name": "LayoutModel",
      "state": {}
     },
     "fbb3ed5ee8ea49949cb19b019d4dcf9a": {
      "model_module": "@jupyter-widgets/base",
      "model_module_version": "1.2.0",
      "model_name": "LayoutModel",
      "state": {}
     }
    },
    "version_major": 2,
    "version_minor": 0
   }
  }
 },
 "nbformat": 4,
 "nbformat_minor": 4
}
