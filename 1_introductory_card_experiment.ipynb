{
 "cells": [
  {
   "cell_type": "markdown",
   "metadata": {
    "slideshow": {
     "slide_type": "slide"
    }
   },
   "source": [
    "## Introductory experiment: drawing cards from two stacks\n",
    "\n",
    "- Imagine a game with **two big stacks of cards**.\n",
    "- Like in a lottery, there are two types of cards: **wins** and **blanks** .\n",
    "- The stacks were shuffled and don't contain equal numbers of wins and blanks.\n",
    "- Each turn, draw one card from each stack.\n",
    "- How many pairs of cards do you have to draw to decide **which stack has more wins**?"
   ]
  },
  {
   "cell_type": "code",
   "execution_count": null,
   "metadata": {},
   "outputs": [],
   "source": [
    "# setup\n",
    "from helpers.cards import *\n",
    "import helpers.plotting as pt\n",
    "from helpers.svg_wrapper import SVGImg\n",
    "pt.enable_slide_theme()"
   ]
  },
  {
   "cell_type": "code",
   "execution_count": null,
   "metadata": {
    "slideshow": {
     "slide_type": "skip"
    }
   },
   "outputs": [],
   "source": [
    "pt.import_lato_font_in_notebook()"
   ]
  },
  {
   "cell_type": "code",
   "execution_count": null,
   "metadata": {},
   "outputs": [],
   "source": [
    "SVGImg('images/cards.svg', width='60%', output_dir='slides')"
   ]
  },
  {
   "cell_type": "code",
   "execution_count": null,
   "metadata": {
    "slideshow": {
     "slide_type": "skip"
    }
   },
   "outputs": [],
   "source": [
    "# create data for virtual experiments\n",
    "p_win_1       = 0.5\n",
    "p_win_2       = 0.38\n",
    "n_card_pairs  = 100\n",
    "n_repeats      = 50\n",
    "\n",
    "df = repeated_experiments_df(\n",
    "    p_win_1,\n",
    "    p_win_2,\n",
    "    n_card_pairs,\n",
    "    n_repeats\n",
    ")\n",
    "df.head()"
   ]
  },
  {
   "cell_type": "code",
   "execution_count": null,
   "metadata": {},
   "outputs": [],
   "source": [
    "# transparently export data if needed\n",
    "# if you have issues viewing the plots, try embedding the data\n",
    "# this will increase the file size!\n",
    "data = pt.df_to_datasource(df)"
   ]
  },
  {
   "cell_type": "markdown",
   "metadata": {
    "slideshow": {
     "slide_type": "slide"
    }
   },
   "source": [
    "### Draw cards from two different stacks - one at a time from each stack\n",
    "- What can we know after drawing a certain number of cards?\n",
    "- When have we drawn enough cards to be certain?"
   ]
  },
  {
   "cell_type": "markdown",
   "metadata": {
    "slideshow": {
     "slide_type": "skip"
    }
   },
   "source": [
    "The next three figures are interactive! Unfortunately they won't work on GitHub, in that case please keep on scrolling."
   ]
  },
  {
   "cell_type": "code",
   "execution_count": null,
   "metadata": {},
   "outputs": [],
   "source": [
    "plot_first_experiment_bars(data=data, n_card_pairs=min(n_card_pairs, 40))"
   ]
  },
  {
   "cell_type": "markdown",
   "metadata": {
    "slideshow": {
     "slide_type": "skip"
    }
   },
   "source": [
    ".\n",
    "\n",
    ".\n",
    "\n",
    "**Spoilers below!**\n",
    "\n",
    ".\n",
    "\n",
    ".\n",
    "\n",
    ".\n",
    "\n",
    "Scroll down when you are finished drawing cards\n",
    "\n",
    ".\n",
    "\n",
    ".\n",
    "\n",
    ".\n",
    "\n",
    ".\n",
    "\n",
    ".\n",
    "\n",
    ".\n",
    "\n",
    ".\n",
    "\n",
    ".\n",
    "\n",
    ".\n",
    "\n",
    ".\n",
    "\n",
    ".\n",
    "\n",
    ".\n",
    "\n",
    ".\n",
    "\n"
   ]
  },
  {
   "cell_type": "markdown",
   "metadata": {
    "slideshow": {
     "slide_type": "slide"
    }
   },
   "source": [
    "### It can take a while to see which stack is better!"
   ]
  },
  {
   "cell_type": "code",
   "execution_count": null,
   "metadata": {},
   "outputs": [],
   "source": [
    "plot_first_experiment_lines(data=data)"
   ]
  },
  {
   "cell_type": "markdown",
   "metadata": {
    "slideshow": {
     "slide_type": "slide"
    }
   },
   "source": [
    "### If we shuffle the cards and repeat the experiment,<br> will we get a different answer?"
   ]
  },
  {
   "cell_type": "markdown",
   "metadata": {
    "slideshow": {
     "slide_type": "slide"
    }
   },
   "source": [
    "### Repeat the experiment\n",
    "- Draw a fixed number of cards from each stack.\n",
    "- Calculate each stack's winning probability = number of wins / number of cards.\n",
    "- Shuffle the cards back into the stacks they came from.\n",
    "- Repeat the experiment 50 times."
   ]
  },
  {
   "cell_type": "markdown",
   "metadata": {
    "slideshow": {
     "slide_type": "slide"
    }
   },
   "source": [
    "### Each repetition yields a different winning probability for each stack. "
   ]
  },
  {
   "cell_type": "code",
   "execution_count": null,
   "metadata": {},
   "outputs": [],
   "source": [
    "plot_repeated_experiments(data=data, n_card_pairs=n_card_pairs, show='Experiments')"
   ]
  },
  {
   "cell_type": "markdown",
   "metadata": {},
   "source": [
    "- The more cards we draw per experiment, the more similar the outcomes (circles)<br> of the different experiments become."
   ]
  },
  {
   "cell_type": "markdown",
   "metadata": {
    "slideshow": {
     "slide_type": "slide"
    }
   },
   "source": [
    "### We can count how often the outcome falls in a certain range"
   ]
  },
  {
   "cell_type": "code",
   "execution_count": null,
   "metadata": {},
   "outputs": [],
   "source": [
    "plot_repeated_experiments(data=data, n_card_pairs=n_card_pairs, show='Experiments, Histogram')"
   ]
  },
  {
   "cell_type": "markdown",
   "metadata": {},
   "source": [
    "- A **histogram** shows how many experiments had a certain outcome (bar chart, right).\n",
    "- It visualises the **distribution** of possible outcomes."
   ]
  },
  {
   "cell_type": "markdown",
   "metadata": {
    "slideshow": {
     "slide_type": "slide"
    }
   },
   "source": [
    "### The **standard deviation (std.)** measures the spread of the outcomes"
   ]
  },
  {
   "cell_type": "code",
   "execution_count": null,
   "metadata": {},
   "outputs": [],
   "source": [
    "plot_repeated_experiments(data=data, n_card_pairs=n_card_pairs, show='Experiments, Histogram, Std')"
   ]
  },
  {
   "cell_type": "markdown",
   "metadata": {},
   "source": [
    "- The standard deviation over many experiments corresponds to the **standard error** for a **single experiment**.$^{*▾}$\n",
    "- **Two standard errors** correspond to the **confidence interval** which contains **95%** of the outcomes.\n",
    "- That is, the uncertainty we'd have about the true winning probabilites after performing one experiment."
   ]
  },
  {
   "cell_type": "markdown",
   "metadata": {
    "slideshow": {
     "slide_type": "subslide"
    }
   },
   "source": [
    "### *The standard error of the mean...\n",
    "\n",
    "- ...is calculated by dividing the standard deviation<br>by the square root of the number of samples\n",
    "- ...will be discussed further in a followup \n",
    "\n",
    "See also: https://en.wikipedia.org/wiki/Standard_error"
   ]
  },
  {
   "cell_type": "markdown",
   "metadata": {
    "slideshow": {
     "slide_type": "slide"
    }
   },
   "source": [
    "### A single small experiment (25 cards)\n",
    "\n",
    "- **Error bars** show the uncertainty of a single experiment (here the confidence interval).\n",
    "- Here they **overlap** - the difference betwen the stacks is smaller than the uncertainty\n",
    "- **We can't decide** which stack is better $^{*▾}$"
   ]
  },
  {
   "cell_type": "code",
   "execution_count": null,
   "metadata": {},
   "outputs": [],
   "source": [
    "plot_experiment_bars_with_errors(data=data, n_card_pairs=n_card_pairs, n_card_pairs_init=15, n_repeats=n_repeats)"
   ]
  },
  {
   "cell_type": "markdown",
   "metadata": {
    "slideshow": {
     "slide_type": "subslide"
    }
   },
   "source": [
    "### *Error bars commonly represent confidence intervals or standard errors\n",
    "\n",
    "For \"well behaved\" distributions, which we will explain in a followup,\n",
    "- they show the **uncertainty of the mean** value of an observable,\n",
    "- one standard error represent the range in which ~68% of the observations fall.\n",
    "- 2 standard errors represent the range in which ~95% of the observations fall.\n",
    "- If they **don't overlap**, we can assume the corresponding **means are different**.\n",
    "- False positives can occur. To lower their probability, we can require more standard errors of difference.\n",
    "- False negatives can occur. To lower their probability, we can collect more samples.\n",
    "- Sometimes error bars can show other related measures, which should be noted near the figure.\n",
    "- A detailed explenation can be found e.g. in this [paper by Cumming et. al.](https://www.ncbi.nlm.nih.gov/pmc/articles/PMC2064100/)\n"
   ]
  },
  {
   "cell_type": "markdown",
   "metadata": {
    "slideshow": {
     "slide_type": "slide"
    }
   },
   "source": [
    "### An bigger experiment (100 cards)\n",
    "\n",
    "- The **error bars don't overlap**.\n",
    "- We can say the difference is **statistically significant**.\n",
    "- We can be very certain that stack 1 has more wins."
   ]
  },
  {
   "cell_type": "code",
   "execution_count": null,
   "metadata": {},
   "outputs": [],
   "source": [
    "plot_experiment_bars_with_errors(data=data, n_card_pairs=n_card_pairs, n_card_pairs_init=100, n_repeats=n_repeats)"
   ]
  },
  {
   "cell_type": "markdown",
   "metadata": {
    "slideshow": {
     "slide_type": "slide"
    }
   },
   "source": [
    "## Conclusion: observations have uncertainty\n",
    "\n",
    "### Always ask about the uncertainty to…\n",
    "- **avoid overconfidence**: you know what you don't know\n",
    "- **avoid missing significant effects**: you know when you probably know something"
   ]
  },
  {
   "cell_type": "markdown",
   "metadata": {
    "slideshow": {
     "slide_type": "slide"
    }
   },
   "source": [
    "## How to calculate these quantities yourself? \n",
    "See next section [practical basics](2_practical_basics.slides.html)!"
   ]
  },
  {
   "cell_type": "code",
   "execution_count": null,
   "metadata": {
    "slideshow": {
     "slide_type": "skip"
    }
   },
   "outputs": [],
   "source": [
    "# todo: think about links that work in both notebooks and slides"
   ]
  },
  {
   "cell_type": "code",
   "execution_count": null,
   "metadata": {},
   "outputs": [],
   "source": []
  }
 ],
 "metadata": {
  "kernelspec": {
   "display_name": "Python 3",
   "language": "python",
   "name": "python3"
  },
  "language_info": {
   "codemirror_mode": {
    "name": "ipython",
    "version": 3
   },
   "file_extension": ".py",
   "mimetype": "text/x-python",
   "name": "python",
   "nbconvert_exporter": "python",
   "pygments_lexer": "ipython3",
   "version": "3.8.5"
  },
  "widgets": {
   "application/vnd.jupyter.widget-state+json": {
    "state": {},
    "version_major": 2,
    "version_minor": 0
   }
  }
 },
 "nbformat": 4,
 "nbformat_minor": 4
}
