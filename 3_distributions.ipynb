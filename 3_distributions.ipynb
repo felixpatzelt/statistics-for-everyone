{
 "cells": [
  {
   "cell_type": "markdown",
   "metadata": {
    "slideshow": {
     "slide_type": "slide"
    }
   },
   "source": [
    "## Distributions and the Central Limit Theorem\n",
    "\n",
    "Today we are going to introduce:\n",
    "- Statistical distributions\n",
    "- The Central Limit Theorem"
   ]
  },
  {
   "cell_type": "code",
   "execution_count": 1,
   "metadata": {
    "slideshow": {
     "slide_type": "skip"
    }
   },
   "outputs": [
    {
     "data": {
      "text/html": [
       "<style>@import url(https://fonts.googleapis.com/css?family=Lato:400,700,400italic,700italic);</style>"
      ],
      "text/plain": [
       "<IPython.core.display.HTML object>"
      ]
     },
     "execution_count": 1,
     "metadata": {},
     "output_type": "execute_result"
    }
   ],
   "source": [
    "import pandas as pd\n",
    "import numpy as np\n",
    "import altair as alt\n",
    "import helpers.plotting as pt\n",
    "from helpers.svg_wrapper import SVGImg\n",
    "pt.enable_slide_theme()\n",
    "pt.import_lato_font_in_notebook()"
   ]
  },
  {
   "cell_type": "code",
   "execution_count": 2,
   "metadata": {},
   "outputs": [
    {
     "data": {
      "text/html": [
       "<script type=\"text/x-mathjax-config\">\n",
       "MathJax.Hub.Config({\n",
       "    \"HTML-CSS\" : {\n",
       "        mtextFontInherit: true,\n",
       "    }\n",
       "});\n",
       "</script>\n"
      ],
      "text/plain": [
       "<IPython.core.display.HTML object>"
      ]
     },
     "metadata": {},
     "output_type": "display_data"
    }
   ],
   "source": [
    "%%html\n",
    "<script type=\"text/x-mathjax-config\">\n",
    "MathJax.Hub.Config({\n",
    "    \"HTML-CSS\" : {\n",
    "        mtextFontInherit: true,\n",
    "    }\n",
    "});\n",
    "</script>"
   ]
  },
  {
   "cell_type": "code",
   "execution_count": 3,
   "metadata": {
    "slideshow": {
     "slide_type": "skip"
    }
   },
   "outputs": [],
   "source": [
    "def distribution_parameter(\n",
    "        min:float, max:float, step:float, init_value:float, name:str, type:float='range'\n",
    "    ) -> alt.selection:\n",
    "    b = alt.binding(\n",
    "        input=type, min=min, max=max, step=step, name=name\n",
    "    )\n",
    "    return alt.selection_single(\n",
    "        bind = b,\n",
    "        init = dict(value=init_value)\n",
    "    )\n",
    "\n",
    "def distribution_chart(\n",
    "        xmin:float,\n",
    "        xmax:float,\n",
    "        xstep:float,\n",
    "        pdf_transform_expression: str,\n",
    "        mark_type='line',\n",
    "        xscale=alt.Scale(),\n",
    "        yscale=alt.Scale(),\n",
    "        **distribution_parameters\n",
    "    ) -> alt.Chart:\n",
    "    return alt.Chart(\n",
    "        alt.sequence(xmin, xmax, xstep, as_='x')\n",
    "    ).__getattr__(f'mark_{mark_type}')().encode(\n",
    "        x=alt.X('x:Q', scale=xscale),\n",
    "        y=alt.Y('px:Q', scale=yscale),\n",
    "    ).add_selection(\n",
    "        *list(distribution_parameters.values())[::-1], \n",
    "    ).transform_calculate(\n",
    "        **{k: v.value for k, v in distribution_parameters.items()}\n",
    "    ).transform_calculate(\n",
    "        px = pdf_transform_expression\n",
    "    )\n",
    "\n",
    "def chart_with_parameters(chart, **distribution_parameters):\n",
    "    return chart.add_selection(\n",
    "        *list(distribution_parameters.values()), \n",
    "    ).transform_calculate(\n",
    "        **{k: v.value for k, v in distribution_parameters.items()}\n",
    "    )"
   ]
  },
  {
   "cell_type": "markdown",
   "metadata": {
    "slideshow": {
     "slide_type": "slide"
    }
   },
   "source": [
    "### How to describe the possible outcomes of an experiment? Distributions!\n",
    "\n",
    "Think about **throwing a** six-sided **[die](https://en.wikipedia.org/wiki/Dice)**: \n",
    "- The possible outcomes are the integers (whole numbers) 1, 2, 3, 4, 5, 6.\n",
    "- Each outcome should have the same **probability: 1/6**.\n",
    "- The outcomes are described by the **discrete uniform distribution** on the integers 1-6."
   ]
  },
  {
   "cell_type": "code",
   "execution_count": 4,
   "metadata": {},
   "outputs": [
    {
     "data": {
      "text/html": [
       "\n",
       "            <object type=\"image/svg+xml\" data=\"images/die.svg\" style=\"width: 15%; height: 100%; margin: auto;\">\n",
       "                <img src=\"images/die.svg\" width=\"15%\" height=\"100%\"></img>\n",
       "            </object>\n",
       "            "
      ],
      "text/plain": [
       "<helpers.svg_wrapper.SVGImg at 0x110be3cd0>"
      ]
     },
     "execution_count": 4,
     "metadata": {},
     "output_type": "execute_result"
    }
   ],
   "source": [
    "SVGImg('images/die.svg', width='15%', output_dir='slides')"
   ]
  },
  {
   "cell_type": "markdown",
   "metadata": {
    "slideshow": {
     "slide_type": "slide"
    }
   },
   "source": [
    "## There are discrete and continuous probability distributions!\n",
    "\n",
    "For simplicity, we will keep the uniform distribution as an example for the moment."
   ]
  },
  {
   "cell_type": "markdown",
   "metadata": {
    "slideshow": {
     "slide_type": "slide"
    }
   },
   "source": [
    "### In the discrete case, \n",
    "- we can specify the probability of each possible outcome.\n",
    "- Mathematically this is done via a \"[probability mass function](https://en.wikipedia.org/wiki/Probability_mass_function)\".\n",
    "- All the probabilities add up to one (one out of all possible outcomes will happen)."
   ]
  },
  {
   "cell_type": "code",
   "execution_count": 5,
   "metadata": {},
   "outputs": [
    {
     "data": {
      "text/html": [
       "\n",
       "<div id=\"altair-viz-740a481089e941fbbd4db4b7cf8a7e14\"></div>\n",
       "<script type=\"text/javascript\">\n",
       "  (function(spec, embedOpt){\n",
       "    let outputDiv = document.currentScript.previousElementSibling;\n",
       "    if (outputDiv.id !== \"altair-viz-740a481089e941fbbd4db4b7cf8a7e14\") {\n",
       "      outputDiv = document.getElementById(\"altair-viz-740a481089e941fbbd4db4b7cf8a7e14\");\n",
       "    }\n",
       "    const paths = {\n",
       "      \"vega\": \"https://cdn.jsdelivr.net/npm//vega@5?noext\",\n",
       "      \"vega-lib\": \"https://cdn.jsdelivr.net/npm//vega-lib?noext\",\n",
       "      \"vega-lite\": \"https://cdn.jsdelivr.net/npm//vega-lite@4.8.1?noext\",\n",
       "      \"vega-embed\": \"https://cdn.jsdelivr.net/npm//vega-embed@6?noext\",\n",
       "    };\n",
       "\n",
       "    function loadScript(lib) {\n",
       "      return new Promise(function(resolve, reject) {\n",
       "        var s = document.createElement('script');\n",
       "        s.src = paths[lib];\n",
       "        s.async = true;\n",
       "        s.onload = () => resolve(paths[lib]);\n",
       "        s.onerror = () => reject(`Error loading script: ${paths[lib]}`);\n",
       "        document.getElementsByTagName(\"head\")[0].appendChild(s);\n",
       "      });\n",
       "    }\n",
       "\n",
       "    function showError(err) {\n",
       "      outputDiv.innerHTML = `<div class=\"error\" style=\"color:red;\">${err}</div>`;\n",
       "      throw err;\n",
       "    }\n",
       "\n",
       "    function displayChart(vegaEmbed) {\n",
       "      vegaEmbed(outputDiv, spec, embedOpt)\n",
       "        .catch(err => showError(`Javascript Error: ${err.message}<br>This usually means there's a typo in your chart specification. See the javascript console for the full traceback.`));\n",
       "    }\n",
       "\n",
       "    if(typeof define === \"function\" && define.amd) {\n",
       "      requirejs.config({paths});\n",
       "      require([\"vega-embed\"], displayChart, err => showError(`Error loading script: ${err.message}`));\n",
       "    } else if (typeof vegaEmbed === \"function\") {\n",
       "      displayChart(vegaEmbed);\n",
       "    } else {\n",
       "      loadScript(\"vega\")\n",
       "        .then(() => loadScript(\"vega-lite\"))\n",
       "        .then(() => loadScript(\"vega-embed\"))\n",
       "        .catch(showError)\n",
       "        .then(() => displayChart(vegaEmbed));\n",
       "    }\n",
       "  })({\"config\": {\"title\": {\"fontSize\": 24.0, \"font\": [\"Lato\", \"Helvetica Neue\", \"Helvetica\", \"Arial\", \"Sans Serif\"], \"fontWeight\": \"normal\"}, \"axisX\": {\"labelFont\": [\"Lato\", \"Helvetica Neue\", \"Helvetica\", \"Arial\", \"Sans Serif\"], \"labelFontSize\": 16, \"titleFont\": [\"Lato\", \"Helvetica Neue\", \"Helvetica\", \"Arial\", \"Sans Serif\"], \"titleFontSize\": 16, \"titleFontWeight\": \"normal\", \"titlePadding\": 10}, \"axisY\": {\"labelFont\": [\"Lato\", \"Helvetica Neue\", \"Helvetica\", \"Arial\", \"Sans Serif\"], \"labelFontSize\": 16, \"titleFont\": [\"Lato\", \"Helvetica Neue\", \"Helvetica\", \"Arial\", \"Sans Serif\"], \"titleFontSize\": 16, \"titleFontWeight\": \"normal\", \"titlePadding\": 10}, \"legend\": {\"labelFont\": [\"Lato\", \"Helvetica Neue\", \"Helvetica\", \"Arial\", \"Sans Serif\"], \"labelFontSize\": 16, \"titleFont\": [\"Lato\", \"Helvetica Neue\", \"Helvetica\", \"Arial\", \"Sans Serif\"], \"titleFontSize\": 16, \"titleFontWeight\": \"normal\"}, \"text\": {\"font\": [\"Lato\", \"Helvetica Neue\", \"Helvetica\", \"Arial\", \"Sans Serif\"], \"fontSize\": 14.4}}, \"data\": {\"sequence\": {\"start\": -1, \"stop\": 21, \"step\": 1, \"as\": \"x\"}}, \"mark\": \"bar\", \"encoding\": {\"x\": {\"type\": \"quantitative\", \"field\": \"x\", \"scale\": {\"domain\": [0, 21]}}, \"y\": {\"type\": \"quantitative\", \"field\": \"px\", \"scale\": {\"domain\": [0, 0.51]}}}, \"selection\": {\"selector001\": {\"type\": \"single\", \"bind\": {\"input\": \"range\", \"min\": 2, \"max\": 20, \"step\": 1, \"name\": \"Max\"}, \"init\": {\"value\": 2}}}, \"transform\": [{\"calculate\": \"selector001.value\", \"as\": \"max\"}, {\"calculate\": \"1/datum.max * (1 <= datum.x) * (datum.x <= datum.max)\", \"as\": \"px\"}], \"$schema\": \"https://vega.github.io/schema/vega-lite/v4.8.1.json\"}, {\"actions\": false, \"mode\": \"vega-lite\"});\n",
       "</script>"
      ],
      "text/plain": [
       "alt.Chart(...)"
      ]
     },
     "execution_count": 5,
     "metadata": {},
     "output_type": "execute_result"
    }
   ],
   "source": [
    "# uniform probability mass function\n",
    "distribution_chart(\n",
    "    pdf_transform_expression = '1/datum.max * (1 <= datum.x) * (datum.x <= datum.max)',\n",
    "    xmin = -1,\n",
    "    xmax = 21,\n",
    "    xstep = 1,\n",
    "    mark_type='bar',\n",
    "    xscale=alt.Scale(domain=(0,21)),\n",
    "    yscale=alt.Scale(domain=(0,0.51)),\n",
    "    max=distribution_parameter(\n",
    "        min=2,\n",
    "        max=20,\n",
    "        step=1,\n",
    "        init_value=2,\n",
    "        name='Max'\n",
    "    )\n",
    ")"
   ]
  },
  {
   "cell_type": "markdown",
   "metadata": {},
   "source": [
    "Above: the discrete uniform distribution with minimum 2, maximum set by slider."
   ]
  },
  {
   "cell_type": "markdown",
   "metadata": {
    "slideshow": {
     "slide_type": "slide"
    }
   },
   "source": [
    "### A continuous example: a spinning disc with markings that can rotate freely.\n",
    "\n",
    "- If you spin it, it will stop at a random angle.\n",
    "- If we say it stopped at e.g. 18°, we mean it was closest to that marking.\n",
    "- There are infinitely many angles between 17.5° and 18.5°.\n",
    "- The probability to hit a specific one is zero.\n",
    "- The probability to end up somewhere in this 1° intervall, is 1/360!"
   ]
  },
  {
   "cell_type": "code",
   "execution_count": 6,
   "metadata": {},
   "outputs": [
    {
     "data": {
      "text/html": [
       "\n",
       "            <object type=\"image/svg+xml\" data=\"images/spinner.svg\" style=\"width: 50%; height: 100%; margin: auto;\">\n",
       "                <img src=\"images/spinner.svg\" width=\"50%\" height=\"100%\"></img>\n",
       "            </object>\n",
       "            "
      ],
      "text/plain": [
       "<helpers.svg_wrapper.SVGImg at 0x120eb9250>"
      ]
     },
     "execution_count": 6,
     "metadata": {},
     "output_type": "execute_result"
    }
   ],
   "source": [
    "SVGImg('images/spinner.svg', width='50%', output_dir='slides')"
   ]
  },
  {
   "cell_type": "markdown",
   "metadata": {
    "slideshow": {
     "slide_type": "slide"
    }
   },
   "source": [
    "### For a continuous distribution, \n",
    "\n",
    "- There are infinitely many possible outcomes.\n",
    "- The [probability density](https://en.wikipedia.org/wiki/Probability_density_function) describes which outcomes may occur.\n",
    "- The **probability** for an outcome to be in an interval <br>is equal to the **area** under the probability density."
   ]
  },
  {
   "cell_type": "markdown",
   "metadata": {
    "slideshow": {
     "slide_type": "slide"
    }
   },
   "source": [
    "### Example: the continuous uniform distribution"
   ]
  },
  {
   "cell_type": "code",
   "execution_count": 7,
   "metadata": {},
   "outputs": [
    {
     "data": {
      "text/html": [
       "\n",
       "<div id=\"altair-viz-4501a95d935544268b7cc2f4b459bc1e\"></div>\n",
       "<script type=\"text/javascript\">\n",
       "  (function(spec, embedOpt){\n",
       "    let outputDiv = document.currentScript.previousElementSibling;\n",
       "    if (outputDiv.id !== \"altair-viz-4501a95d935544268b7cc2f4b459bc1e\") {\n",
       "      outputDiv = document.getElementById(\"altair-viz-4501a95d935544268b7cc2f4b459bc1e\");\n",
       "    }\n",
       "    const paths = {\n",
       "      \"vega\": \"https://cdn.jsdelivr.net/npm//vega@5?noext\",\n",
       "      \"vega-lib\": \"https://cdn.jsdelivr.net/npm//vega-lib?noext\",\n",
       "      \"vega-lite\": \"https://cdn.jsdelivr.net/npm//vega-lite@4.8.1?noext\",\n",
       "      \"vega-embed\": \"https://cdn.jsdelivr.net/npm//vega-embed@6?noext\",\n",
       "    };\n",
       "\n",
       "    function loadScript(lib) {\n",
       "      return new Promise(function(resolve, reject) {\n",
       "        var s = document.createElement('script');\n",
       "        s.src = paths[lib];\n",
       "        s.async = true;\n",
       "        s.onload = () => resolve(paths[lib]);\n",
       "        s.onerror = () => reject(`Error loading script: ${paths[lib]}`);\n",
       "        document.getElementsByTagName(\"head\")[0].appendChild(s);\n",
       "      });\n",
       "    }\n",
       "\n",
       "    function showError(err) {\n",
       "      outputDiv.innerHTML = `<div class=\"error\" style=\"color:red;\">${err}</div>`;\n",
       "      throw err;\n",
       "    }\n",
       "\n",
       "    function displayChart(vegaEmbed) {\n",
       "      vegaEmbed(outputDiv, spec, embedOpt)\n",
       "        .catch(err => showError(`Javascript Error: ${err.message}<br>This usually means there's a typo in your chart specification. See the javascript console for the full traceback.`));\n",
       "    }\n",
       "\n",
       "    if(typeof define === \"function\" && define.amd) {\n",
       "      requirejs.config({paths});\n",
       "      require([\"vega-embed\"], displayChart, err => showError(`Error loading script: ${err.message}`));\n",
       "    } else if (typeof vegaEmbed === \"function\") {\n",
       "      displayChart(vegaEmbed);\n",
       "    } else {\n",
       "      loadScript(\"vega\")\n",
       "        .then(() => loadScript(\"vega-lite\"))\n",
       "        .then(() => loadScript(\"vega-embed\"))\n",
       "        .catch(showError)\n",
       "        .then(() => displayChart(vegaEmbed));\n",
       "    }\n",
       "  })({\"config\": {\"title\": {\"fontSize\": 24.0, \"font\": [\"Lato\", \"Helvetica Neue\", \"Helvetica\", \"Arial\", \"Sans Serif\"], \"fontWeight\": \"normal\"}, \"axisX\": {\"labelFont\": [\"Lato\", \"Helvetica Neue\", \"Helvetica\", \"Arial\", \"Sans Serif\"], \"labelFontSize\": 16, \"titleFont\": [\"Lato\", \"Helvetica Neue\", \"Helvetica\", \"Arial\", \"Sans Serif\"], \"titleFontSize\": 16, \"titleFontWeight\": \"normal\", \"titlePadding\": 10}, \"axisY\": {\"labelFont\": [\"Lato\", \"Helvetica Neue\", \"Helvetica\", \"Arial\", \"Sans Serif\"], \"labelFontSize\": 16, \"titleFont\": [\"Lato\", \"Helvetica Neue\", \"Helvetica\", \"Arial\", \"Sans Serif\"], \"titleFontSize\": 16, \"titleFontWeight\": \"normal\", \"titlePadding\": 10}, \"legend\": {\"labelFont\": [\"Lato\", \"Helvetica Neue\", \"Helvetica\", \"Arial\", \"Sans Serif\"], \"labelFontSize\": 16, \"titleFont\": [\"Lato\", \"Helvetica Neue\", \"Helvetica\", \"Arial\", \"Sans Serif\"], \"titleFontSize\": 16, \"titleFontWeight\": \"normal\"}, \"text\": {\"font\": [\"Lato\", \"Helvetica Neue\", \"Helvetica\", \"Arial\", \"Sans Serif\"], \"fontSize\": 14.4}}, \"hconcat\": [{\"hconcat\": [{\"layer\": [{\"mark\": {\"type\": \"rule\", \"color\": \"SlateGrey\"}, \"encoding\": {\"opacity\": {\"condition\": {\"value\": 1, \"test\": \"(selector002.value > 0)\"}, \"value\": 0}, \"x\": {\"type\": \"quantitative\", \"aggregate\": \"mean\", \"field\": \"sel_min\", \"title\": \"\"}}, \"selection\": {\"selector003\": {\"type\": \"single\", \"bind\": {\"input\": \"range\", \"min\": 0, \"max\": 3, \"step\": 0.1, \"name\": \"Selection max\"}, \"init\": {\"value\": 3}}, \"selector002\": {\"type\": \"single\", \"bind\": {\"input\": \"range\", \"min\": 0, \"max\": 3, \"step\": 0.1, \"name\": \"Selection min\"}, \"init\": {\"value\": 0}}, \"selector004\": {\"type\": \"single\", \"bind\": {\"input\": \"range\", \"min\": 0.5, \"max\": 3, \"step\": 0.1, \"name\": \"Distribution max\"}, \"init\": {\"value\": 2}}}}, {\"mark\": {\"type\": \"rule\", \"color\": \"SlateGrey\"}, \"encoding\": {\"opacity\": {\"condition\": {\"value\": 1, \"test\": \"(selector003.value < 3)\"}, \"value\": 0}, \"x\": {\"type\": \"quantitative\", \"aggregate\": \"mean\", \"field\": \"sel_max\", \"title\": \"\"}}}, {\"mark\": {\"type\": \"area\", \"color\": \"LightBlue\", \"opacity\": 0.5}, \"encoding\": {\"x\": {\"type\": \"quantitative\", \"field\": \"x\"}, \"y\": {\"type\": \"quantitative\", \"field\": \"ps\", \"title\": \"Probability Density\"}}}, {\"mark\": \"line\", \"encoding\": {\"x\": {\"type\": \"quantitative\", \"field\": \"x\", \"scale\": {\"domain\": [-0.1, 3.1], \"nice\": false}, \"title\": \"x\"}, \"y\": {\"type\": \"quantitative\", \"field\": \"px\", \"scale\": {\"domain\": [0, 2]}, \"title\": \"Probability Density\"}}, \"width\": 400}]}, {\"mark\": {\"type\": \"bar\", \"clip\": true, \"color\": \"LightBlue\"}, \"encoding\": {\"y\": {\"type\": \"quantitative\", \"aggregate\": \"sum\", \"field\": \"probability\", \"scale\": {\"domain\": [0, 1.1]}, \"title\": \"Probability in Selection\"}}, \"selection\": {\"selector003\": {\"type\": \"single\", \"bind\": {\"input\": \"range\", \"min\": 0, \"max\": 3, \"step\": 0.1, \"name\": \"Selection max\"}, \"init\": {\"value\": 3}}, \"selector002\": {\"type\": \"single\", \"bind\": {\"input\": \"range\", \"min\": 0, \"max\": 3, \"step\": 0.1, \"name\": \"Selection min\"}, \"init\": {\"value\": 0}}, \"selector004\": {\"type\": \"single\", \"bind\": {\"input\": \"range\", \"min\": 0.5, \"max\": 3, \"step\": 0.1, \"name\": \"Distribution max\"}, \"init\": {\"value\": 2}}}, \"width\": 50}]}], \"data\": {\"sequence\": {\"start\": -0.1, \"stop\": 3.1, \"step\": 0.003, \"as\": \"x\"}}, \"transform\": [{\"calculate\": \"selector003.value\", \"as\": \"sel_max\"}, {\"calculate\": \"selector002.value\", \"as\": \"sel_min\"}, {\"calculate\": \"selector004.value\", \"as\": \"dist_max\"}, {\"calculate\": \"1 / datum.dist_max * ((datum.x > 0 ) & (datum.x < datum.dist_max))\", \"as\": \"px\"}, {\"calculate\": \"datum.px * ((datum.x > datum.sel_min ) & (datum.x < datum.sel_max))\", \"as\": \"ps\"}, {\"calculate\": \"datum.ps*0.003\", \"as\": \"probability\"}], \"$schema\": \"https://vega.github.io/schema/vega-lite/v4.8.1.json\"}, {\"actions\": false, \"mode\": \"vega-lite\", \"renderer\": \"svg\"});\n",
       "</script>"
      ],
      "text/plain": [
       "alt.HConcatChart(...)"
      ]
     },
     "metadata": {},
     "output_type": "display_data"
    }
   ],
   "source": [
    "# uniform density\n",
    "xmax = 3 # upper limit\n",
    "dx = xmax / 1000 # step size for plotting\n",
    "\n",
    "# value ranges to show on the axes\n",
    "xscale = alt.Scale(domain=(-0.1, 3.1), nice=False)\n",
    "yscale = alt.Scale(domain=(0,2))\n",
    "pscale = alt.Scale(domain=(0,1.1))\n",
    "\n",
    "# interactive parameters\n",
    "sel_min = distribution_parameter(\n",
    "    min=0,\n",
    "    max=xmax,\n",
    "    step=0.1,\n",
    "    init_value=0,\n",
    "    name='Selection min'\n",
    ")\n",
    "sel_max = distribution_parameter(\n",
    "    min=0,\n",
    "    max=xmax,\n",
    "    step=0.1,\n",
    "    init_value=xmax+0,\n",
    "    name='Selection max'\n",
    ")\n",
    "dist_max = distribution_parameter(\n",
    "    min=0.5,\n",
    "    max=xmax,\n",
    "    step=0.1,\n",
    "    init_value=2,\n",
    "    name='Distribution max'\n",
    ")\n",
    "\n",
    "# all parts of the chart\n",
    "base = alt.Chart(\n",
    "    alt.sequence(start=-0.1, stop=xmax+0.1, step=dx, as_='x')\n",
    ")\n",
    "density = base.mark_line().encode(\n",
    "    x=alt.X('x:Q', scale=xscale, title='x'),\n",
    "    y=alt.Y('px:Q', scale=yscale, title='Probability Density'),\n",
    ").properties(\n",
    "    width=400\n",
    ")\n",
    "selected = base.mark_area(color='LightBlue', opacity=0.5).encode(\n",
    "    x=alt.X('x:Q'),\n",
    "    y=alt.Y('ps:Q', title='Probability Density'),\n",
    ")\n",
    "selection_min = base.mark_rule(color='SlateGrey').encode(\n",
    "    x=alt.X('mean(sel_min):Q', title=''),\n",
    "    opacity=alt.condition(sel_min.value > 0, alt.value(1), alt.value(0))\n",
    ")\n",
    "selection_max = base.mark_rule(color='SlateGrey').encode(\n",
    "    x=alt.X('mean(sel_max):Q', title=''),\n",
    "    opacity=alt.condition(sel_max.value < xmax, alt.value(1), alt.value(0))\n",
    ")\n",
    "selected_area = base.encode(\n",
    "    y=alt.Y('sum(probability):Q', scale=pscale, title='Probability in Selection'),\n",
    ").mark_bar(clip=True, color='LightBlue').properties(\n",
    "        width=50\n",
    ")\n",
    "# combine\n",
    "chart_with_parameters(\n",
    "    alt.hconcat(selection_min + selection_max + selected + density  | selected_area),\n",
    "    sel_max=sel_max,\n",
    "    sel_min=sel_min,\n",
    "    dist_max=dist_max,\n",
    ").transform_calculate(\n",
    "    px = f'1 / datum.dist_max * ((datum.x > 0 ) & (datum.x < datum.dist_max))',\n",
    "    ps = f'datum.px * ((datum.x > datum.sel_min ) & (datum.x < datum.sel_max))',\n",
    "    probability = f'datum.ps*{dx}'\n",
    ").display(renderer='svg')"
   ]
  },
  {
   "cell_type": "markdown",
   "metadata": {},
   "source": [
    "Left: the continuous uniform distribution (line) between 0 and a variable maximum.<br>\n",
    "Right: the probability that an outcome falls between selection min and selection max."
   ]
  },
  {
   "cell_type": "markdown",
   "metadata": {
    "slideshow": {
     "slide_type": "slide"
    }
   },
   "source": [
    "## There are many different probability distributions!\n",
    "\n",
    "Let's look at a very common one: the [normal distribution](https://en.wikipedia.org/wiki/Normal_distribution)."
   ]
  },
  {
   "cell_type": "markdown",
   "metadata": {
    "slideshow": {
     "slide_type": "slide"
    }
   },
   "source": [
    "## The normal distribution...\n",
    "\n",
    "- is also called the bell curve or Gaussian distribution. \n",
    "- It is specified by its mean and its variance or standard deviation."
   ]
  },
  {
   "cell_type": "code",
   "execution_count": 8,
   "metadata": {},
   "outputs": [
    {
     "data": {
      "text/html": [
       "\n",
       "<div id=\"altair-viz-607f5d00fdd841dca3a2294678c7b238\"></div>\n",
       "<script type=\"text/javascript\">\n",
       "  (function(spec, embedOpt){\n",
       "    let outputDiv = document.currentScript.previousElementSibling;\n",
       "    if (outputDiv.id !== \"altair-viz-607f5d00fdd841dca3a2294678c7b238\") {\n",
       "      outputDiv = document.getElementById(\"altair-viz-607f5d00fdd841dca3a2294678c7b238\");\n",
       "    }\n",
       "    const paths = {\n",
       "      \"vega\": \"https://cdn.jsdelivr.net/npm//vega@5?noext\",\n",
       "      \"vega-lib\": \"https://cdn.jsdelivr.net/npm//vega-lib?noext\",\n",
       "      \"vega-lite\": \"https://cdn.jsdelivr.net/npm//vega-lite@4.8.1?noext\",\n",
       "      \"vega-embed\": \"https://cdn.jsdelivr.net/npm//vega-embed@6?noext\",\n",
       "    };\n",
       "\n",
       "    function loadScript(lib) {\n",
       "      return new Promise(function(resolve, reject) {\n",
       "        var s = document.createElement('script');\n",
       "        s.src = paths[lib];\n",
       "        s.async = true;\n",
       "        s.onload = () => resolve(paths[lib]);\n",
       "        s.onerror = () => reject(`Error loading script: ${paths[lib]}`);\n",
       "        document.getElementsByTagName(\"head\")[0].appendChild(s);\n",
       "      });\n",
       "    }\n",
       "\n",
       "    function showError(err) {\n",
       "      outputDiv.innerHTML = `<div class=\"error\" style=\"color:red;\">${err}</div>`;\n",
       "      throw err;\n",
       "    }\n",
       "\n",
       "    function displayChart(vegaEmbed) {\n",
       "      vegaEmbed(outputDiv, spec, embedOpt)\n",
       "        .catch(err => showError(`Javascript Error: ${err.message}<br>This usually means there's a typo in your chart specification. See the javascript console for the full traceback.`));\n",
       "    }\n",
       "\n",
       "    if(typeof define === \"function\" && define.amd) {\n",
       "      requirejs.config({paths});\n",
       "      require([\"vega-embed\"], displayChart, err => showError(`Error loading script: ${err.message}`));\n",
       "    } else if (typeof vegaEmbed === \"function\") {\n",
       "      displayChart(vegaEmbed);\n",
       "    } else {\n",
       "      loadScript(\"vega\")\n",
       "        .then(() => loadScript(\"vega-lite\"))\n",
       "        .then(() => loadScript(\"vega-embed\"))\n",
       "        .catch(showError)\n",
       "        .then(() => displayChart(vegaEmbed));\n",
       "    }\n",
       "  })({\"config\": {\"title\": {\"fontSize\": 24.0, \"font\": [\"Lato\", \"Helvetica Neue\", \"Helvetica\", \"Arial\", \"Sans Serif\"], \"fontWeight\": \"normal\"}, \"axisX\": {\"labelFont\": [\"Lato\", \"Helvetica Neue\", \"Helvetica\", \"Arial\", \"Sans Serif\"], \"labelFontSize\": 16, \"titleFont\": [\"Lato\", \"Helvetica Neue\", \"Helvetica\", \"Arial\", \"Sans Serif\"], \"titleFontSize\": 16, \"titleFontWeight\": \"normal\", \"titlePadding\": 10}, \"axisY\": {\"labelFont\": [\"Lato\", \"Helvetica Neue\", \"Helvetica\", \"Arial\", \"Sans Serif\"], \"labelFontSize\": 16, \"titleFont\": [\"Lato\", \"Helvetica Neue\", \"Helvetica\", \"Arial\", \"Sans Serif\"], \"titleFontSize\": 16, \"titleFontWeight\": \"normal\", \"titlePadding\": 10}, \"legend\": {\"labelFont\": [\"Lato\", \"Helvetica Neue\", \"Helvetica\", \"Arial\", \"Sans Serif\"], \"labelFontSize\": 16, \"titleFont\": [\"Lato\", \"Helvetica Neue\", \"Helvetica\", \"Arial\", \"Sans Serif\"], \"titleFontSize\": 16, \"titleFontWeight\": \"normal\"}, \"text\": {\"font\": [\"Lato\", \"Helvetica Neue\", \"Helvetica\", \"Arial\", \"Sans Serif\"], \"fontSize\": 14.4}}, \"data\": {\"sequence\": {\"start\": -5, \"stop\": 5, \"step\": 0.1, \"as\": \"x\"}}, \"mark\": \"line\", \"encoding\": {\"x\": {\"type\": \"quantitative\", \"field\": \"x\", \"scale\": {}}, \"y\": {\"type\": \"quantitative\", \"field\": \"px\", \"scale\": {}}}, \"selection\": {\"selector006\": {\"type\": \"single\", \"bind\": {\"input\": \"range\", \"min\": 0.5, \"max\": 5, \"step\": 0.1, \"name\": \"Std\"}, \"init\": {\"value\": 1}}, \"selector005\": {\"type\": \"single\", \"bind\": {\"input\": \"range\", \"min\": -5, \"max\": 5, \"step\": 0.1, \"name\": \"Mean\"}, \"init\": {\"value\": 0}}}, \"transform\": [{\"calculate\": \"selector005.value\", \"as\": \"mean\"}, {\"calculate\": \"selector006.value\", \"as\": \"std\"}, {\"calculate\": \"densityNormal(datum.x, datum.mean, datum.std)\", \"as\": \"px\"}], \"width\": 500, \"$schema\": \"https://vega.github.io/schema/vega-lite/v4.8.1.json\"}, {\"actions\": false, \"mode\": \"vega-lite\"});\n",
       "</script>"
      ],
      "text/plain": [
       "alt.Chart(...)"
      ]
     },
     "execution_count": 8,
     "metadata": {},
     "output_type": "execute_result"
    }
   ],
   "source": [
    "# gaussian density\n",
    "distribution_chart(\n",
    "    pdf_transform_expression = 'densityNormal(datum.x, datum.mean, datum.std)',\n",
    "    xmin = -5,\n",
    "    xmax = 5,\n",
    "    xstep = .1,\n",
    "    mean = distribution_parameter(\n",
    "        min=-5,\n",
    "        max=5,\n",
    "        step=.1,\n",
    "        init_value=0,\n",
    "        name='Mean'\n",
    "    ),\n",
    "    std = distribution_parameter(\n",
    "        min=.5,\n",
    "        max=5,\n",
    "        step=.1,\n",
    "        init_value=1,\n",
    "        name='Std'\n",
    "    )\n",
    ").properties(\n",
    "        width=500\n",
    ")"
   ]
  },
  {
   "cell_type": "markdown",
   "metadata": {
    "slideshow": {
     "slide_type": "slide"
    }
   },
   "source": [
    "### When we sample from a normal distribution...\n",
    "\n",
    "- the standard deviation tells us which fraction of the observations we expect to fall how far away from the mean.\n",
    "- This is called the [68-95-99 rule](https://en.wikipedia.org/wiki/68–95–99.7_rule).\n",
    "- [Remember](2_practical_basics.slides.html) that the [standard error](https://en.wikipedia.org/wiki/Standard_error) is modeled as a normal distribution, so the same rule applies there."
   ]
  },
  {
   "cell_type": "code",
   "execution_count": 9,
   "metadata": {},
   "outputs": [
    {
     "data": {
      "text/html": [
       "\n",
       "            <object type=\"image/svg+xml\" data=\"images/68-95-99.svg\" style=\"width: 50%; height: 100%; margin: auto;\">\n",
       "                <img src=\"images/68-95-99.svg\" width=\"50%\" height=\"100%\"></img>\n",
       "            </object>\n",
       "            "
      ],
      "text/plain": [
       "<helpers.svg_wrapper.SVGImg at 0x120eb93d0>"
      ]
     },
     "execution_count": 9,
     "metadata": {},
     "output_type": "execute_result"
    }
   ],
   "source": [
    "SVGImg('images/68-95-99.svg', width='50%', output_dir='slides')"
   ]
  },
  {
   "cell_type": "markdown",
   "metadata": {
    "slideshow": {
     "slide_type": "slide"
    }
   },
   "source": [
    "### The sums of independent random numbers are often approximately normally distributed!\n",
    "\n",
    "- This is why the normal distribution is so common.\n",
    "- Random fluctuations and errors in particular are often caused<br> by many independent contributions."
   ]
  },
  {
   "cell_type": "markdown",
   "metadata": {
    "slideshow": {
     "slide_type": "slide"
    }
   },
   "source": [
    "### Example: the sum of the points from several dice"
   ]
  },
  {
   "cell_type": "code",
   "execution_count": 14,
   "metadata": {},
   "outputs": [],
   "source": [
    "import itertools"
   ]
  },
  {
   "cell_type": "code",
   "execution_count": 15,
   "metadata": {
    "jupyter": {
     "source_hidden": true
    }
   },
   "outputs": [],
   "source": [
    "# a naive brute-force calculation of the probability mass function for the sum of n dice\n",
    "# ======================================================================================\n",
    "n_max = 7 # maximum number of dice to consider\n",
    "res = pd.DataFrame(index=pd.Index(range(1,6*n_max+1), name='Sum of Points'))\n",
    "# for n = 1 ... n_max dice\n",
    "for n in range(1, n_max+1):\n",
    "    # calculate number of possibilities to get each possible outcome value\n",
    "    outcome, possibilities = np.unique(\n",
    "        # sum of points for each outcome\n",
    "        np.array(\n",
    "            # create list of all possible outcomes\n",
    "            # each outcome is a list of the number of points for each die\n",
    "            list(itertools.product(*[list(range(1,7))]*n))\n",
    "        ).sum(1), \n",
    "        return_counts=True\n",
    "    )\n",
    "    res.loc[outcome, n] = possibilities\n",
    "\n",
    "# normalise counts to probabilities\n",
    "res /= res.sum()\n",
    "\n",
    "# add mean points per die\n",
    "dice_sum_df = pd.melt(res.reset_index(), id_vars=['Sum of Points'], var_name='Dice', value_name='Probability')\n",
    "dice_sum_df['Points per Die'] = dice_sum_df['Sum of Points'] / dice_sum_df['Dice']"
   ]
  },
  {
   "cell_type": "code",
   "execution_count": 16,
   "metadata": {
    "jupyter": {
     "source_hidden": true
    }
   },
   "outputs": [
    {
     "data": {
      "text/html": [
       "\n",
       "<div id=\"altair-viz-6ad333632ed94e3286ff37c8259edaa3\"></div>\n",
       "<script type=\"text/javascript\">\n",
       "  (function(spec, embedOpt){\n",
       "    let outputDiv = document.currentScript.previousElementSibling;\n",
       "    if (outputDiv.id !== \"altair-viz-6ad333632ed94e3286ff37c8259edaa3\") {\n",
       "      outputDiv = document.getElementById(\"altair-viz-6ad333632ed94e3286ff37c8259edaa3\");\n",
       "    }\n",
       "    const paths = {\n",
       "      \"vega\": \"https://cdn.jsdelivr.net/npm//vega@5?noext\",\n",
       "      \"vega-lib\": \"https://cdn.jsdelivr.net/npm//vega-lib?noext\",\n",
       "      \"vega-lite\": \"https://cdn.jsdelivr.net/npm//vega-lite@4.8.1?noext\",\n",
       "      \"vega-embed\": \"https://cdn.jsdelivr.net/npm//vega-embed@6?noext\",\n",
       "    };\n",
       "\n",
       "    function loadScript(lib) {\n",
       "      return new Promise(function(resolve, reject) {\n",
       "        var s = document.createElement('script');\n",
       "        s.src = paths[lib];\n",
       "        s.async = true;\n",
       "        s.onload = () => resolve(paths[lib]);\n",
       "        s.onerror = () => reject(`Error loading script: ${paths[lib]}`);\n",
       "        document.getElementsByTagName(\"head\")[0].appendChild(s);\n",
       "      });\n",
       "    }\n",
       "\n",
       "    function showError(err) {\n",
       "      outputDiv.innerHTML = `<div class=\"error\" style=\"color:red;\">${err}</div>`;\n",
       "      throw err;\n",
       "    }\n",
       "\n",
       "    function displayChart(vegaEmbed) {\n",
       "      vegaEmbed(outputDiv, spec, embedOpt)\n",
       "        .catch(err => showError(`Javascript Error: ${err.message}<br>This usually means there's a typo in your chart specification. See the javascript console for the full traceback.`));\n",
       "    }\n",
       "\n",
       "    if(typeof define === \"function\" && define.amd) {\n",
       "      requirejs.config({paths});\n",
       "      require([\"vega-embed\"], displayChart, err => showError(`Error loading script: ${err.message}`));\n",
       "    } else if (typeof vegaEmbed === \"function\") {\n",
       "      displayChart(vegaEmbed);\n",
       "    } else {\n",
       "      loadScript(\"vega\")\n",
       "        .then(() => loadScript(\"vega-lite\"))\n",
       "        .then(() => loadScript(\"vega-embed\"))\n",
       "        .catch(showError)\n",
       "        .then(() => displayChart(vegaEmbed));\n",
       "    }\n",
       "  })({\"config\": {\"title\": {\"fontSize\": 24.0, \"font\": [\"Lato\", \"Helvetica Neue\", \"Helvetica\", \"Arial\", \"Sans Serif\"], \"fontWeight\": \"normal\"}, \"axisX\": {\"labelFont\": [\"Lato\", \"Helvetica Neue\", \"Helvetica\", \"Arial\", \"Sans Serif\"], \"labelFontSize\": 16, \"titleFont\": [\"Lato\", \"Helvetica Neue\", \"Helvetica\", \"Arial\", \"Sans Serif\"], \"titleFontSize\": 16, \"titleFontWeight\": \"normal\", \"titlePadding\": 10}, \"axisY\": {\"labelFont\": [\"Lato\", \"Helvetica Neue\", \"Helvetica\", \"Arial\", \"Sans Serif\"], \"labelFontSize\": 16, \"titleFont\": [\"Lato\", \"Helvetica Neue\", \"Helvetica\", \"Arial\", \"Sans Serif\"], \"titleFontSize\": 16, \"titleFontWeight\": \"normal\", \"titlePadding\": 10}, \"legend\": {\"labelFont\": [\"Lato\", \"Helvetica Neue\", \"Helvetica\", \"Arial\", \"Sans Serif\"], \"labelFontSize\": 16, \"titleFont\": [\"Lato\", \"Helvetica Neue\", \"Helvetica\", \"Arial\", \"Sans Serif\"], \"titleFontSize\": 16, \"titleFontWeight\": \"normal\"}, \"text\": {\"font\": [\"Lato\", \"Helvetica Neue\", \"Helvetica\", \"Arial\", \"Sans Serif\"], \"fontSize\": 14.4}}, \"data\": {\"name\": \"data-76027f744c8aaba00299726100658a03\"}, \"mark\": \"bar\", \"encoding\": {\"x\": {\"type\": \"quantitative\", \"field\": \"Value\", \"title\": \"Points\"}, \"y\": {\"type\": \"quantitative\", \"field\": \"Probability\"}}, \"selection\": {\"selector009\": {\"type\": \"single\", \"bind\": {\"input\": \"range\", \"min\": 1, \"max\": 7, \"step\": 1, \"name\": \"Dice\"}, \"init\": {\"value\": 1}}, \"selector010\": {\"type\": \"single\", \"bind\": {\"input\": \"select\", \"options\": [\"Sum of Points\", \"Points per Die\"], \"name\": \"Measure:\"}, \"fields\": [\"Measure\"], \"init\": {\"Measure\": \"Sum of Points\"}}}, \"transform\": [{\"calculate\": \"selector009.value\", \"as\": \"n_dice\"}, {\"filter\": \"((+datum.Dice) === (+selector009.value))\"}, {\"fold\": [\"Sum of Points\", \"Points per Die\"], \"as\": [\"Measure\", \"Value\"]}, {\"filter\": {\"selection\": \"selector010\"}}], \"width\": 250, \"$schema\": \"https://vega.github.io/schema/vega-lite/v4.8.1.json\", \"datasets\": {\"data-76027f744c8aaba00299726100658a03\": [{\"Sum of Points\": 1, \"Dice\": 1, \"Probability\": 0.16666666666666666, \"Points per Die\": 1.0}, {\"Sum of Points\": 2, \"Dice\": 1, \"Probability\": 0.16666666666666666, \"Points per Die\": 2.0}, {\"Sum of Points\": 3, \"Dice\": 1, \"Probability\": 0.16666666666666666, \"Points per Die\": 3.0}, {\"Sum of Points\": 4, \"Dice\": 1, \"Probability\": 0.16666666666666666, \"Points per Die\": 4.0}, {\"Sum of Points\": 5, \"Dice\": 1, \"Probability\": 0.16666666666666666, \"Points per Die\": 5.0}, {\"Sum of Points\": 6, \"Dice\": 1, \"Probability\": 0.16666666666666666, \"Points per Die\": 6.0}, {\"Sum of Points\": 7, \"Dice\": 1, \"Probability\": null, \"Points per Die\": 7.0}, {\"Sum of Points\": 8, \"Dice\": 1, \"Probability\": null, \"Points per Die\": 8.0}, {\"Sum of Points\": 9, \"Dice\": 1, \"Probability\": null, \"Points per Die\": 9.0}, {\"Sum of Points\": 10, \"Dice\": 1, \"Probability\": null, \"Points per Die\": 10.0}, {\"Sum of Points\": 11, \"Dice\": 1, \"Probability\": null, \"Points per Die\": 11.0}, {\"Sum of Points\": 12, \"Dice\": 1, \"Probability\": null, \"Points per Die\": 12.0}, {\"Sum of Points\": 13, \"Dice\": 1, \"Probability\": null, \"Points per Die\": 13.0}, {\"Sum of Points\": 14, \"Dice\": 1, \"Probability\": null, \"Points per Die\": 14.0}, {\"Sum of Points\": 15, \"Dice\": 1, \"Probability\": null, \"Points per Die\": 15.0}, {\"Sum of Points\": 16, \"Dice\": 1, \"Probability\": null, \"Points per Die\": 16.0}, {\"Sum of Points\": 17, \"Dice\": 1, \"Probability\": null, \"Points per Die\": 17.0}, {\"Sum of Points\": 18, \"Dice\": 1, \"Probability\": null, \"Points per Die\": 18.0}, {\"Sum of Points\": 19, \"Dice\": 1, \"Probability\": null, \"Points per Die\": 19.0}, {\"Sum of Points\": 20, \"Dice\": 1, \"Probability\": null, \"Points per Die\": 20.0}, {\"Sum of Points\": 21, \"Dice\": 1, \"Probability\": null, \"Points per Die\": 21.0}, {\"Sum of Points\": 22, \"Dice\": 1, \"Probability\": null, \"Points per Die\": 22.0}, {\"Sum of Points\": 23, \"Dice\": 1, \"Probability\": null, \"Points per Die\": 23.0}, {\"Sum of Points\": 24, \"Dice\": 1, \"Probability\": null, \"Points per Die\": 24.0}, {\"Sum of Points\": 25, \"Dice\": 1, \"Probability\": null, \"Points per Die\": 25.0}, {\"Sum of Points\": 26, \"Dice\": 1, \"Probability\": null, \"Points per Die\": 26.0}, {\"Sum of Points\": 27, \"Dice\": 1, \"Probability\": null, \"Points per Die\": 27.0}, {\"Sum of Points\": 28, \"Dice\": 1, \"Probability\": null, \"Points per Die\": 28.0}, {\"Sum of Points\": 29, \"Dice\": 1, \"Probability\": null, \"Points per Die\": 29.0}, {\"Sum of Points\": 30, \"Dice\": 1, \"Probability\": null, \"Points per Die\": 30.0}, {\"Sum of Points\": 31, \"Dice\": 1, \"Probability\": null, \"Points per Die\": 31.0}, {\"Sum of Points\": 32, \"Dice\": 1, \"Probability\": null, \"Points per Die\": 32.0}, {\"Sum of Points\": 33, \"Dice\": 1, \"Probability\": null, \"Points per Die\": 33.0}, {\"Sum of Points\": 34, \"Dice\": 1, \"Probability\": null, \"Points per Die\": 34.0}, {\"Sum of Points\": 35, \"Dice\": 1, \"Probability\": null, \"Points per Die\": 35.0}, {\"Sum of Points\": 36, \"Dice\": 1, \"Probability\": null, \"Points per Die\": 36.0}, {\"Sum of Points\": 37, \"Dice\": 1, \"Probability\": null, \"Points per Die\": 37.0}, {\"Sum of Points\": 38, \"Dice\": 1, \"Probability\": null, \"Points per Die\": 38.0}, {\"Sum of Points\": 39, \"Dice\": 1, \"Probability\": null, \"Points per Die\": 39.0}, {\"Sum of Points\": 40, \"Dice\": 1, \"Probability\": null, \"Points per Die\": 40.0}, {\"Sum of Points\": 41, \"Dice\": 1, \"Probability\": null, \"Points per Die\": 41.0}, {\"Sum of Points\": 42, \"Dice\": 1, \"Probability\": null, \"Points per Die\": 42.0}, {\"Sum of Points\": 1, \"Dice\": 2, \"Probability\": null, \"Points per Die\": 0.5}, {\"Sum of Points\": 2, \"Dice\": 2, \"Probability\": 0.027777777777777776, \"Points per Die\": 1.0}, {\"Sum of Points\": 3, \"Dice\": 2, \"Probability\": 0.05555555555555555, \"Points per Die\": 1.5}, {\"Sum of Points\": 4, \"Dice\": 2, \"Probability\": 0.08333333333333333, \"Points per Die\": 2.0}, {\"Sum of Points\": 5, \"Dice\": 2, \"Probability\": 0.1111111111111111, \"Points per Die\": 2.5}, {\"Sum of Points\": 6, \"Dice\": 2, \"Probability\": 0.1388888888888889, \"Points per Die\": 3.0}, {\"Sum of Points\": 7, \"Dice\": 2, \"Probability\": 0.16666666666666666, \"Points per Die\": 3.5}, {\"Sum of Points\": 8, \"Dice\": 2, \"Probability\": 0.1388888888888889, \"Points per Die\": 4.0}, {\"Sum of Points\": 9, \"Dice\": 2, \"Probability\": 0.1111111111111111, \"Points per Die\": 4.5}, {\"Sum of Points\": 10, \"Dice\": 2, \"Probability\": 0.08333333333333333, \"Points per Die\": 5.0}, {\"Sum of Points\": 11, \"Dice\": 2, \"Probability\": 0.05555555555555555, \"Points per Die\": 5.5}, {\"Sum of Points\": 12, \"Dice\": 2, \"Probability\": 0.027777777777777776, \"Points per Die\": 6.0}, {\"Sum of Points\": 13, \"Dice\": 2, \"Probability\": null, \"Points per Die\": 6.5}, {\"Sum of Points\": 14, \"Dice\": 2, \"Probability\": null, \"Points per Die\": 7.0}, {\"Sum of Points\": 15, \"Dice\": 2, \"Probability\": null, \"Points per Die\": 7.5}, {\"Sum of Points\": 16, \"Dice\": 2, \"Probability\": null, \"Points per Die\": 8.0}, {\"Sum of Points\": 17, \"Dice\": 2, \"Probability\": null, \"Points per Die\": 8.5}, {\"Sum of Points\": 18, \"Dice\": 2, \"Probability\": null, \"Points per Die\": 9.0}, {\"Sum of Points\": 19, \"Dice\": 2, \"Probability\": null, \"Points per Die\": 9.5}, {\"Sum of Points\": 20, \"Dice\": 2, \"Probability\": null, \"Points per Die\": 10.0}, {\"Sum of Points\": 21, \"Dice\": 2, \"Probability\": null, \"Points per Die\": 10.5}, {\"Sum of Points\": 22, \"Dice\": 2, \"Probability\": null, \"Points per Die\": 11.0}, {\"Sum of Points\": 23, \"Dice\": 2, \"Probability\": null, \"Points per Die\": 11.5}, {\"Sum of Points\": 24, \"Dice\": 2, \"Probability\": null, \"Points per Die\": 12.0}, {\"Sum of Points\": 25, \"Dice\": 2, \"Probability\": null, \"Points per Die\": 12.5}, {\"Sum of Points\": 26, \"Dice\": 2, \"Probability\": null, \"Points per Die\": 13.0}, {\"Sum of Points\": 27, \"Dice\": 2, \"Probability\": null, \"Points per Die\": 13.5}, {\"Sum of Points\": 28, \"Dice\": 2, \"Probability\": null, \"Points per Die\": 14.0}, {\"Sum of Points\": 29, \"Dice\": 2, \"Probability\": null, \"Points per Die\": 14.5}, {\"Sum of Points\": 30, \"Dice\": 2, \"Probability\": null, \"Points per Die\": 15.0}, {\"Sum of Points\": 31, \"Dice\": 2, \"Probability\": null, \"Points per Die\": 15.5}, {\"Sum of Points\": 32, \"Dice\": 2, \"Probability\": null, \"Points per Die\": 16.0}, {\"Sum of Points\": 33, \"Dice\": 2, \"Probability\": null, \"Points per Die\": 16.5}, {\"Sum of Points\": 34, \"Dice\": 2, \"Probability\": null, \"Points per Die\": 17.0}, {\"Sum of Points\": 35, \"Dice\": 2, \"Probability\": null, \"Points per Die\": 17.5}, {\"Sum of Points\": 36, \"Dice\": 2, \"Probability\": null, \"Points per Die\": 18.0}, {\"Sum of Points\": 37, \"Dice\": 2, \"Probability\": null, \"Points per Die\": 18.5}, {\"Sum of Points\": 38, \"Dice\": 2, \"Probability\": null, \"Points per Die\": 19.0}, {\"Sum of Points\": 39, \"Dice\": 2, \"Probability\": null, \"Points per Die\": 19.5}, {\"Sum of Points\": 40, \"Dice\": 2, \"Probability\": null, \"Points per Die\": 20.0}, {\"Sum of Points\": 41, \"Dice\": 2, \"Probability\": null, \"Points per Die\": 20.5}, {\"Sum of Points\": 42, \"Dice\": 2, \"Probability\": null, \"Points per Die\": 21.0}, {\"Sum of Points\": 1, \"Dice\": 3, \"Probability\": null, \"Points per Die\": 0.3333333333333333}, {\"Sum of Points\": 2, \"Dice\": 3, \"Probability\": null, \"Points per Die\": 0.6666666666666666}, {\"Sum of Points\": 3, \"Dice\": 3, \"Probability\": 0.004629629629629629, \"Points per Die\": 1.0}, {\"Sum of Points\": 4, \"Dice\": 3, \"Probability\": 0.013888888888888888, \"Points per Die\": 1.3333333333333333}, {\"Sum of Points\": 5, \"Dice\": 3, \"Probability\": 0.027777777777777776, \"Points per Die\": 1.6666666666666667}, {\"Sum of Points\": 6, \"Dice\": 3, \"Probability\": 0.046296296296296294, \"Points per Die\": 2.0}, {\"Sum of Points\": 7, \"Dice\": 3, \"Probability\": 0.06944444444444445, \"Points per Die\": 2.3333333333333335}, {\"Sum of Points\": 8, \"Dice\": 3, \"Probability\": 0.09722222222222222, \"Points per Die\": 2.6666666666666665}, {\"Sum of Points\": 9, \"Dice\": 3, \"Probability\": 0.11574074074074074, \"Points per Die\": 3.0}, {\"Sum of Points\": 10, \"Dice\": 3, \"Probability\": 0.125, \"Points per Die\": 3.3333333333333335}, {\"Sum of Points\": 11, \"Dice\": 3, \"Probability\": 0.125, \"Points per Die\": 3.6666666666666665}, {\"Sum of Points\": 12, \"Dice\": 3, \"Probability\": 0.11574074074074074, \"Points per Die\": 4.0}, {\"Sum of Points\": 13, \"Dice\": 3, \"Probability\": 0.09722222222222222, \"Points per Die\": 4.333333333333333}, {\"Sum of Points\": 14, \"Dice\": 3, \"Probability\": 0.06944444444444445, \"Points per Die\": 4.666666666666667}, {\"Sum of Points\": 15, \"Dice\": 3, \"Probability\": 0.046296296296296294, \"Points per Die\": 5.0}, {\"Sum of Points\": 16, \"Dice\": 3, \"Probability\": 0.027777777777777776, \"Points per Die\": 5.333333333333333}, {\"Sum of Points\": 17, \"Dice\": 3, \"Probability\": 0.013888888888888888, \"Points per Die\": 5.666666666666667}, {\"Sum of Points\": 18, \"Dice\": 3, \"Probability\": 0.004629629629629629, \"Points per Die\": 6.0}, {\"Sum of Points\": 19, \"Dice\": 3, \"Probability\": null, \"Points per Die\": 6.333333333333333}, {\"Sum of Points\": 20, \"Dice\": 3, \"Probability\": null, \"Points per Die\": 6.666666666666667}, {\"Sum of Points\": 21, \"Dice\": 3, \"Probability\": null, \"Points per Die\": 7.0}, {\"Sum of Points\": 22, \"Dice\": 3, \"Probability\": null, \"Points per Die\": 7.333333333333333}, {\"Sum of Points\": 23, \"Dice\": 3, \"Probability\": null, \"Points per Die\": 7.666666666666667}, {\"Sum of Points\": 24, \"Dice\": 3, \"Probability\": null, \"Points per Die\": 8.0}, {\"Sum of Points\": 25, \"Dice\": 3, \"Probability\": null, \"Points per Die\": 8.333333333333334}, {\"Sum of Points\": 26, \"Dice\": 3, \"Probability\": null, \"Points per Die\": 8.666666666666666}, {\"Sum of Points\": 27, \"Dice\": 3, \"Probability\": null, \"Points per Die\": 9.0}, {\"Sum of Points\": 28, \"Dice\": 3, \"Probability\": null, \"Points per Die\": 9.333333333333334}, {\"Sum of Points\": 29, \"Dice\": 3, \"Probability\": null, \"Points per Die\": 9.666666666666666}, {\"Sum of Points\": 30, \"Dice\": 3, \"Probability\": null, \"Points per Die\": 10.0}, {\"Sum of Points\": 31, \"Dice\": 3, \"Probability\": null, \"Points per Die\": 10.333333333333334}, {\"Sum of Points\": 32, \"Dice\": 3, \"Probability\": null, \"Points per Die\": 10.666666666666666}, {\"Sum of Points\": 33, \"Dice\": 3, \"Probability\": null, \"Points per Die\": 11.0}, {\"Sum of Points\": 34, \"Dice\": 3, \"Probability\": null, \"Points per Die\": 11.333333333333334}, {\"Sum of Points\": 35, \"Dice\": 3, \"Probability\": null, \"Points per Die\": 11.666666666666666}, {\"Sum of Points\": 36, \"Dice\": 3, \"Probability\": null, \"Points per Die\": 12.0}, {\"Sum of Points\": 37, \"Dice\": 3, \"Probability\": null, \"Points per Die\": 12.333333333333334}, {\"Sum of Points\": 38, \"Dice\": 3, \"Probability\": null, \"Points per Die\": 12.666666666666666}, {\"Sum of Points\": 39, \"Dice\": 3, \"Probability\": null, \"Points per Die\": 13.0}, {\"Sum of Points\": 40, \"Dice\": 3, \"Probability\": null, \"Points per Die\": 13.333333333333334}, {\"Sum of Points\": 41, \"Dice\": 3, \"Probability\": null, \"Points per Die\": 13.666666666666666}, {\"Sum of Points\": 42, \"Dice\": 3, \"Probability\": null, \"Points per Die\": 14.0}, {\"Sum of Points\": 1, \"Dice\": 4, \"Probability\": null, \"Points per Die\": 0.25}, {\"Sum of Points\": 2, \"Dice\": 4, \"Probability\": null, \"Points per Die\": 0.5}, {\"Sum of Points\": 3, \"Dice\": 4, \"Probability\": null, \"Points per Die\": 0.75}, {\"Sum of Points\": 4, \"Dice\": 4, \"Probability\": 0.0007716049382716049, \"Points per Die\": 1.0}, {\"Sum of Points\": 5, \"Dice\": 4, \"Probability\": 0.0030864197530864196, \"Points per Die\": 1.25}, {\"Sum of Points\": 6, \"Dice\": 4, \"Probability\": 0.007716049382716049, \"Points per Die\": 1.5}, {\"Sum of Points\": 7, \"Dice\": 4, \"Probability\": 0.015432098765432098, \"Points per Die\": 1.75}, {\"Sum of Points\": 8, \"Dice\": 4, \"Probability\": 0.02700617283950617, \"Points per Die\": 2.0}, {\"Sum of Points\": 9, \"Dice\": 4, \"Probability\": 0.043209876543209874, \"Points per Die\": 2.25}, {\"Sum of Points\": 10, \"Dice\": 4, \"Probability\": 0.06172839506172839, \"Points per Die\": 2.5}, {\"Sum of Points\": 11, \"Dice\": 4, \"Probability\": 0.08024691358024691, \"Points per Die\": 2.75}, {\"Sum of Points\": 12, \"Dice\": 4, \"Probability\": 0.09645061728395062, \"Points per Die\": 3.0}, {\"Sum of Points\": 13, \"Dice\": 4, \"Probability\": 0.10802469135802469, \"Points per Die\": 3.25}, {\"Sum of Points\": 14, \"Dice\": 4, \"Probability\": 0.11265432098765432, \"Points per Die\": 3.5}, {\"Sum of Points\": 15, \"Dice\": 4, \"Probability\": 0.10802469135802469, \"Points per Die\": 3.75}, {\"Sum of Points\": 16, \"Dice\": 4, \"Probability\": 0.09645061728395062, \"Points per Die\": 4.0}, {\"Sum of Points\": 17, \"Dice\": 4, \"Probability\": 0.08024691358024691, \"Points per Die\": 4.25}, {\"Sum of Points\": 18, \"Dice\": 4, \"Probability\": 0.06172839506172839, \"Points per Die\": 4.5}, {\"Sum of Points\": 19, \"Dice\": 4, \"Probability\": 0.043209876543209874, \"Points per Die\": 4.75}, {\"Sum of Points\": 20, \"Dice\": 4, \"Probability\": 0.02700617283950617, \"Points per Die\": 5.0}, {\"Sum of Points\": 21, \"Dice\": 4, \"Probability\": 0.015432098765432098, \"Points per Die\": 5.25}, {\"Sum of Points\": 22, \"Dice\": 4, \"Probability\": 0.007716049382716049, \"Points per Die\": 5.5}, {\"Sum of Points\": 23, \"Dice\": 4, \"Probability\": 0.0030864197530864196, \"Points per Die\": 5.75}, {\"Sum of Points\": 24, \"Dice\": 4, \"Probability\": 0.0007716049382716049, \"Points per Die\": 6.0}, {\"Sum of Points\": 25, \"Dice\": 4, \"Probability\": null, \"Points per Die\": 6.25}, {\"Sum of Points\": 26, \"Dice\": 4, \"Probability\": null, \"Points per Die\": 6.5}, {\"Sum of Points\": 27, \"Dice\": 4, \"Probability\": null, \"Points per Die\": 6.75}, {\"Sum of Points\": 28, \"Dice\": 4, \"Probability\": null, \"Points per Die\": 7.0}, {\"Sum of Points\": 29, \"Dice\": 4, \"Probability\": null, \"Points per Die\": 7.25}, {\"Sum of Points\": 30, \"Dice\": 4, \"Probability\": null, \"Points per Die\": 7.5}, {\"Sum of Points\": 31, \"Dice\": 4, \"Probability\": null, \"Points per Die\": 7.75}, {\"Sum of Points\": 32, \"Dice\": 4, \"Probability\": null, \"Points per Die\": 8.0}, {\"Sum of Points\": 33, \"Dice\": 4, \"Probability\": null, \"Points per Die\": 8.25}, {\"Sum of Points\": 34, \"Dice\": 4, \"Probability\": null, \"Points per Die\": 8.5}, {\"Sum of Points\": 35, \"Dice\": 4, \"Probability\": null, \"Points per Die\": 8.75}, {\"Sum of Points\": 36, \"Dice\": 4, \"Probability\": null, \"Points per Die\": 9.0}, {\"Sum of Points\": 37, \"Dice\": 4, \"Probability\": null, \"Points per Die\": 9.25}, {\"Sum of Points\": 38, \"Dice\": 4, \"Probability\": null, \"Points per Die\": 9.5}, {\"Sum of Points\": 39, \"Dice\": 4, \"Probability\": null, \"Points per Die\": 9.75}, {\"Sum of Points\": 40, \"Dice\": 4, \"Probability\": null, \"Points per Die\": 10.0}, {\"Sum of Points\": 41, \"Dice\": 4, \"Probability\": null, \"Points per Die\": 10.25}, {\"Sum of Points\": 42, \"Dice\": 4, \"Probability\": null, \"Points per Die\": 10.5}, {\"Sum of Points\": 1, \"Dice\": 5, \"Probability\": null, \"Points per Die\": 0.2}, {\"Sum of Points\": 2, \"Dice\": 5, \"Probability\": null, \"Points per Die\": 0.4}, {\"Sum of Points\": 3, \"Dice\": 5, \"Probability\": null, \"Points per Die\": 0.6}, {\"Sum of Points\": 4, \"Dice\": 5, \"Probability\": null, \"Points per Die\": 0.8}, {\"Sum of Points\": 5, \"Dice\": 5, \"Probability\": 0.0001286008230452675, \"Points per Die\": 1.0}, {\"Sum of Points\": 6, \"Dice\": 5, \"Probability\": 0.0006430041152263374, \"Points per Die\": 1.2}, {\"Sum of Points\": 7, \"Dice\": 5, \"Probability\": 0.0019290123456790122, \"Points per Die\": 1.4}, {\"Sum of Points\": 8, \"Dice\": 5, \"Probability\": 0.0045010288065843625, \"Points per Die\": 1.6}, {\"Sum of Points\": 9, \"Dice\": 5, \"Probability\": 0.009002057613168725, \"Points per Die\": 1.8}, {\"Sum of Points\": 10, \"Dice\": 5, \"Probability\": 0.016203703703703703, \"Points per Die\": 2.0}, {\"Sum of Points\": 11, \"Dice\": 5, \"Probability\": 0.026363168724279837, \"Points per Die\": 2.2}, {\"Sum of Points\": 12, \"Dice\": 5, \"Probability\": 0.03922325102880658, \"Points per Die\": 2.4}, {\"Sum of Points\": 13, \"Dice\": 5, \"Probability\": 0.05401234567901234, \"Points per Die\": 2.6}, {\"Sum of Points\": 14, \"Dice\": 5, \"Probability\": 0.06944444444444445, \"Points per Die\": 2.8}, {\"Sum of Points\": 15, \"Dice\": 5, \"Probability\": 0.08371913580246913, \"Points per Die\": 3.0}, {\"Sum of Points\": 16, \"Dice\": 5, \"Probability\": 0.09452160493827161, \"Points per Die\": 3.2}, {\"Sum of Points\": 17, \"Dice\": 5, \"Probability\": 0.10030864197530864, \"Points per Die\": 3.4}, {\"Sum of Points\": 18, \"Dice\": 5, \"Probability\": 0.10030864197530864, \"Points per Die\": 3.6}, {\"Sum of Points\": 19, \"Dice\": 5, \"Probability\": 0.09452160493827161, \"Points per Die\": 3.8}, {\"Sum of Points\": 20, \"Dice\": 5, \"Probability\": 0.08371913580246913, \"Points per Die\": 4.0}, {\"Sum of Points\": 21, \"Dice\": 5, \"Probability\": 0.06944444444444445, \"Points per Die\": 4.2}, {\"Sum of Points\": 22, \"Dice\": 5, \"Probability\": 0.05401234567901234, \"Points per Die\": 4.4}, {\"Sum of Points\": 23, \"Dice\": 5, \"Probability\": 0.03922325102880658, \"Points per Die\": 4.6}, {\"Sum of Points\": 24, \"Dice\": 5, \"Probability\": 0.026363168724279837, \"Points per Die\": 4.8}, {\"Sum of Points\": 25, \"Dice\": 5, \"Probability\": 0.016203703703703703, \"Points per Die\": 5.0}, {\"Sum of Points\": 26, \"Dice\": 5, \"Probability\": 0.009002057613168725, \"Points per Die\": 5.2}, {\"Sum of Points\": 27, \"Dice\": 5, \"Probability\": 0.0045010288065843625, \"Points per Die\": 5.4}, {\"Sum of Points\": 28, \"Dice\": 5, \"Probability\": 0.0019290123456790122, \"Points per Die\": 5.6}, {\"Sum of Points\": 29, \"Dice\": 5, \"Probability\": 0.0006430041152263374, \"Points per Die\": 5.8}, {\"Sum of Points\": 30, \"Dice\": 5, \"Probability\": 0.0001286008230452675, \"Points per Die\": 6.0}, {\"Sum of Points\": 31, \"Dice\": 5, \"Probability\": null, \"Points per Die\": 6.2}, {\"Sum of Points\": 32, \"Dice\": 5, \"Probability\": null, \"Points per Die\": 6.4}, {\"Sum of Points\": 33, \"Dice\": 5, \"Probability\": null, \"Points per Die\": 6.6}, {\"Sum of Points\": 34, \"Dice\": 5, \"Probability\": null, \"Points per Die\": 6.8}, {\"Sum of Points\": 35, \"Dice\": 5, \"Probability\": null, \"Points per Die\": 7.0}, {\"Sum of Points\": 36, \"Dice\": 5, \"Probability\": null, \"Points per Die\": 7.2}, {\"Sum of Points\": 37, \"Dice\": 5, \"Probability\": null, \"Points per Die\": 7.4}, {\"Sum of Points\": 38, \"Dice\": 5, \"Probability\": null, \"Points per Die\": 7.6}, {\"Sum of Points\": 39, \"Dice\": 5, \"Probability\": null, \"Points per Die\": 7.8}, {\"Sum of Points\": 40, \"Dice\": 5, \"Probability\": null, \"Points per Die\": 8.0}, {\"Sum of Points\": 41, \"Dice\": 5, \"Probability\": null, \"Points per Die\": 8.2}, {\"Sum of Points\": 42, \"Dice\": 5, \"Probability\": null, \"Points per Die\": 8.4}, {\"Sum of Points\": 1, \"Dice\": 6, \"Probability\": null, \"Points per Die\": 0.16666666666666666}, {\"Sum of Points\": 2, \"Dice\": 6, \"Probability\": null, \"Points per Die\": 0.3333333333333333}, {\"Sum of Points\": 3, \"Dice\": 6, \"Probability\": null, \"Points per Die\": 0.5}, {\"Sum of Points\": 4, \"Dice\": 6, \"Probability\": null, \"Points per Die\": 0.6666666666666666}, {\"Sum of Points\": 5, \"Dice\": 6, \"Probability\": null, \"Points per Die\": 0.8333333333333334}, {\"Sum of Points\": 6, \"Dice\": 6, \"Probability\": 2.143347050754458e-05, \"Points per Die\": 1.0}, {\"Sum of Points\": 7, \"Dice\": 6, \"Probability\": 0.0001286008230452675, \"Points per Die\": 1.1666666666666667}, {\"Sum of Points\": 8, \"Dice\": 6, \"Probability\": 0.0004501028806584362, \"Points per Die\": 1.3333333333333333}, {\"Sum of Points\": 9, \"Dice\": 6, \"Probability\": 0.0012002743484224967, \"Points per Die\": 1.5}, {\"Sum of Points\": 10, \"Dice\": 6, \"Probability\": 0.002700617283950617, \"Points per Die\": 1.6666666666666667}, {\"Sum of Points\": 11, \"Dice\": 6, \"Probability\": 0.005401234567901234, \"Points per Die\": 1.8333333333333333}, {\"Sum of Points\": 12, \"Dice\": 6, \"Probability\": 0.00977366255144033, \"Points per Die\": 2.0}, {\"Sum of Points\": 13, \"Dice\": 6, \"Probability\": 0.016203703703703703, \"Points per Die\": 2.1666666666666665}, {\"Sum of Points\": 14, \"Dice\": 6, \"Probability\": 0.02488425925925926, \"Points per Die\": 2.3333333333333335}, {\"Sum of Points\": 15, \"Dice\": 6, \"Probability\": 0.03570816186556927, \"Points per Die\": 2.5}, {\"Sum of Points\": 16, \"Dice\": 6, \"Probability\": 0.048161008230452676, \"Points per Die\": 2.6666666666666665}, {\"Sum of Points\": 17, \"Dice\": 6, \"Probability\": 0.061213991769547324, \"Points per Die\": 2.8333333333333335}, {\"Sum of Points\": 18, \"Dice\": 6, \"Probability\": 0.07353823731138547, \"Points per Die\": 3.0}, {\"Sum of Points\": 19, \"Dice\": 6, \"Probability\": 0.08371913580246913, \"Points per Die\": 3.1666666666666665}, {\"Sum of Points\": 20, \"Dice\": 6, \"Probability\": 0.09047067901234568, \"Points per Die\": 3.3333333333333335}, {\"Sum of Points\": 21, \"Dice\": 6, \"Probability\": 0.09284979423868313, \"Points per Die\": 3.5}, {\"Sum of Points\": 22, \"Dice\": 6, \"Probability\": 0.09047067901234568, \"Points per Die\": 3.6666666666666665}, {\"Sum of Points\": 23, \"Dice\": 6, \"Probability\": 0.08371913580246913, \"Points per Die\": 3.8333333333333335}, {\"Sum of Points\": 24, \"Dice\": 6, \"Probability\": 0.07353823731138547, \"Points per Die\": 4.0}, {\"Sum of Points\": 25, \"Dice\": 6, \"Probability\": 0.061213991769547324, \"Points per Die\": 4.166666666666667}, {\"Sum of Points\": 26, \"Dice\": 6, \"Probability\": 0.048161008230452676, \"Points per Die\": 4.333333333333333}, {\"Sum of Points\": 27, \"Dice\": 6, \"Probability\": 0.03570816186556927, \"Points per Die\": 4.5}, {\"Sum of Points\": 28, \"Dice\": 6, \"Probability\": 0.02488425925925926, \"Points per Die\": 4.666666666666667}, {\"Sum of Points\": 29, \"Dice\": 6, \"Probability\": 0.016203703703703703, \"Points per Die\": 4.833333333333333}, {\"Sum of Points\": 30, \"Dice\": 6, \"Probability\": 0.00977366255144033, \"Points per Die\": 5.0}, {\"Sum of Points\": 31, \"Dice\": 6, \"Probability\": 0.005401234567901234, \"Points per Die\": 5.166666666666667}, {\"Sum of Points\": 32, \"Dice\": 6, \"Probability\": 0.002700617283950617, \"Points per Die\": 5.333333333333333}, {\"Sum of Points\": 33, \"Dice\": 6, \"Probability\": 0.0012002743484224967, \"Points per Die\": 5.5}, {\"Sum of Points\": 34, \"Dice\": 6, \"Probability\": 0.0004501028806584362, \"Points per Die\": 5.666666666666667}, {\"Sum of Points\": 35, \"Dice\": 6, \"Probability\": 0.0001286008230452675, \"Points per Die\": 5.833333333333333}, {\"Sum of Points\": 36, \"Dice\": 6, \"Probability\": 2.143347050754458e-05, \"Points per Die\": 6.0}, {\"Sum of Points\": 37, \"Dice\": 6, \"Probability\": null, \"Points per Die\": 6.166666666666667}, {\"Sum of Points\": 38, \"Dice\": 6, \"Probability\": null, \"Points per Die\": 6.333333333333333}, {\"Sum of Points\": 39, \"Dice\": 6, \"Probability\": null, \"Points per Die\": 6.5}, {\"Sum of Points\": 40, \"Dice\": 6, \"Probability\": null, \"Points per Die\": 6.666666666666667}, {\"Sum of Points\": 41, \"Dice\": 6, \"Probability\": null, \"Points per Die\": 6.833333333333333}, {\"Sum of Points\": 42, \"Dice\": 6, \"Probability\": null, \"Points per Die\": 7.0}, {\"Sum of Points\": 1, \"Dice\": 7, \"Probability\": null, \"Points per Die\": 0.14285714285714285}, {\"Sum of Points\": 2, \"Dice\": 7, \"Probability\": null, \"Points per Die\": 0.2857142857142857}, {\"Sum of Points\": 3, \"Dice\": 7, \"Probability\": null, \"Points per Die\": 0.42857142857142855}, {\"Sum of Points\": 4, \"Dice\": 7, \"Probability\": null, \"Points per Die\": 0.5714285714285714}, {\"Sum of Points\": 5, \"Dice\": 7, \"Probability\": null, \"Points per Die\": 0.7142857142857143}, {\"Sum of Points\": 6, \"Dice\": 7, \"Probability\": null, \"Points per Die\": 0.8571428571428571}, {\"Sum of Points\": 7, \"Dice\": 7, \"Probability\": 3.5722450845907635e-06, \"Points per Die\": 1.0}, {\"Sum of Points\": 8, \"Dice\": 7, \"Probability\": 2.5005715592135344e-05, \"Points per Die\": 1.1428571428571428}, {\"Sum of Points\": 9, \"Dice\": 7, \"Probability\": 0.00010002286236854138, \"Points per Die\": 1.2857142857142858}, {\"Sum of Points\": 10, \"Dice\": 7, \"Probability\": 0.00030006858710562417, \"Points per Die\": 1.4285714285714286}, {\"Sum of Points\": 11, \"Dice\": 7, \"Probability\": 0.0007501714677640603, \"Points per Die\": 1.5714285714285714}, {\"Sum of Points\": 12, \"Dice\": 7, \"Probability\": 0.0016503772290809328, \"Points per Die\": 1.7142857142857142}, {\"Sum of Points\": 13, \"Dice\": 7, \"Probability\": 0.0032757487425697303, \"Points per Die\": 1.8571428571428572}, {\"Sum of Points\": 14, \"Dice\": 7, \"Probability\": 0.005954932556012803, \"Points per Die\": 2.0}, {\"Sum of Points\": 15, \"Dice\": 7, \"Probability\": 0.010027291952446274, \"Points per Die\": 2.142857142857143}, {\"Sum of Points\": 16, \"Dice\": 7, \"Probability\": 0.015778606538637403, \"Points per Die\": 2.2857142857142856}, {\"Sum of Points\": 17, \"Dice\": 7, \"Probability\": 0.023355338363054413, \"Points per Die\": 2.4285714285714284}, {\"Sum of Points\": 18, \"Dice\": 7, \"Probability\": 0.03265746456332876, \"Points per Die\": 2.5714285714285716}, {\"Sum of Points\": 19, \"Dice\": 7, \"Probability\": 0.04328489368998628, \"Points per Die\": 2.7142857142857144}, {\"Sum of Points\": 20, \"Dice\": 7, \"Probability\": 0.054537465706447186, \"Points per Die\": 2.857142857142857}, {\"Sum of Points\": 21, \"Dice\": 7, \"Probability\": 0.06546853566529492, \"Points per Die\": 3.0}, {\"Sum of Points\": 22, \"Dice\": 7, \"Probability\": 0.0749921410608139, \"Points per Die\": 3.142857142857143}, {\"Sum of Points\": 23, \"Dice\": 7, \"Probability\": 0.08204375285779607, \"Points per Die\": 3.2857142857142856}, {\"Sum of Points\": 24, \"Dice\": 7, \"Probability\": 0.08579461019661637, \"Points per Die\": 3.4285714285714284}, {\"Sum of Points\": 25, \"Dice\": 7, \"Probability\": 0.08579461019661637, \"Points per Die\": 3.5714285714285716}, {\"Sum of Points\": 26, \"Dice\": 7, \"Probability\": 0.08204375285779607, \"Points per Die\": 3.7142857142857144}, {\"Sum of Points\": 27, \"Dice\": 7, \"Probability\": 0.0749921410608139, \"Points per Die\": 3.857142857142857}, {\"Sum of Points\": 28, \"Dice\": 7, \"Probability\": 0.06546853566529492, \"Points per Die\": 4.0}, {\"Sum of Points\": 29, \"Dice\": 7, \"Probability\": 0.054537465706447186, \"Points per Die\": 4.142857142857143}, {\"Sum of Points\": 30, \"Dice\": 7, \"Probability\": 0.04328489368998628, \"Points per Die\": 4.285714285714286}, {\"Sum of Points\": 31, \"Dice\": 7, \"Probability\": 0.03265746456332876, \"Points per Die\": 4.428571428571429}, {\"Sum of Points\": 32, \"Dice\": 7, \"Probability\": 0.023355338363054413, \"Points per Die\": 4.571428571428571}, {\"Sum of Points\": 33, \"Dice\": 7, \"Probability\": 0.015778606538637403, \"Points per Die\": 4.714285714285714}, {\"Sum of Points\": 34, \"Dice\": 7, \"Probability\": 0.010027291952446274, \"Points per Die\": 4.857142857142857}, {\"Sum of Points\": 35, \"Dice\": 7, \"Probability\": 0.005954932556012803, \"Points per Die\": 5.0}, {\"Sum of Points\": 36, \"Dice\": 7, \"Probability\": 0.0032757487425697303, \"Points per Die\": 5.142857142857143}, {\"Sum of Points\": 37, \"Dice\": 7, \"Probability\": 0.0016503772290809328, \"Points per Die\": 5.285714285714286}, {\"Sum of Points\": 38, \"Dice\": 7, \"Probability\": 0.0007501714677640603, \"Points per Die\": 5.428571428571429}, {\"Sum of Points\": 39, \"Dice\": 7, \"Probability\": 0.00030006858710562417, \"Points per Die\": 5.571428571428571}, {\"Sum of Points\": 40, \"Dice\": 7, \"Probability\": 0.00010002286236854138, \"Points per Die\": 5.714285714285714}, {\"Sum of Points\": 41, \"Dice\": 7, \"Probability\": 2.5005715592135344e-05, \"Points per Die\": 5.857142857142857}, {\"Sum of Points\": 42, \"Dice\": 7, \"Probability\": 3.5722450845907635e-06, \"Points per Die\": 6.0}]}}, {\"actions\": false, \"mode\": \"vega-lite\", \"renderer\": \"svg\"});\n",
       "</script>"
      ],
      "text/plain": [
       "alt.Chart(...)"
      ]
     },
     "metadata": {},
     "output_type": "display_data"
    }
   ],
   "source": [
    "# plot parameters\n",
    "n_dice = distribution_parameter(\n",
    "    min=1,\n",
    "    max=n_max,\n",
    "    step=1,\n",
    "    init_value=1,\n",
    "    name='Dice'\n",
    ")\n",
    "measure_dropdown = alt.binding_select(\n",
    "    options=['Sum of Points', 'Points per Die'], \n",
    "    name='Measure:'\n",
    ")\n",
    "selection = alt.selection_single(\n",
    "    bind=measure_dropdown, \n",
    "    fields=['Measure'], \n",
    "    init=dict(Measure = 'Sum of Points')\n",
    ")\n",
    "\n",
    "# chart base\n",
    "chart = alt.Chart(\n",
    "    dice_sum_df\n",
    ").mark_bar().encode(\n",
    "    x=alt.X('Value:Q', title='Points'),\n",
    "    y='Probability:Q'\n",
    ")\n",
    "# add parameters & filters\n",
    "chart_with_parameters(\n",
    "    chart,\n",
    "    n_dice=n_dice,\n",
    ").transform_filter(\n",
    "    +alt.datum.Dice == +n_dice.value,\n",
    ").transform_fold(\n",
    "    # transform the two measure columns to long format\n",
    "    # i.e. measure denotes from which column the value came\n",
    "    ['Sum of Points', 'Points per Die'],\n",
    "    as_=['Measure', 'Value']\n",
    ").add_selection(\n",
    "    selection\n",
    ").transform_filter(\n",
    "    selection\n",
    ").properties(\n",
    "    width=250\n",
    ").display(renderer='svg')"
   ]
  },
  {
   "cell_type": "markdown",
   "metadata": {},
   "source": [
    "Above: as the number of dice is increased, the normal distribution emerges."
   ]
  },
  {
   "cell_type": "markdown",
   "metadata": {
    "slideshow": {
     "slide_type": "slide"
    }
   },
   "source": [
    "### The Central Limit Theorem\n",
    "\n",
    "Take a random sample of\n",
    "- N independent observations \n",
    "- with a finite variance.\n",
    "\n",
    "In the limit of large N, the distribution of\n",
    "\n",
    "$$\\frac{\\text{Sample Mean} - \\text{Population Mean}}{\\sqrt{\\text{Population Variance } / \\text{ N}}}$$\n",
    "\n",
    "converges towards a standard normal distribution (i.e. mean 0 and variance 1)\n",
    "\n",
    "See also: [Mathworld](https://mathworld.wolfram.com/CentralLimitTheorem.html), [Wikipedia](https://en.wikipedia.org/wiki/Central_limit_theorem)"
   ]
  },
  {
   "cell_type": "markdown",
   "metadata": {
    "slideshow": {
     "slide_type": "slide"
    }
   },
   "source": [
    "## The Central Limit Theorem has many applications, but...\n",
    "\n",
    "- Some distributions need more samples for a good normal approximation.\n",
    "- Correlations slow down the convergence.\n",
    "- Not all distributions have a finite variance.\n",
    "- Not all distributions have a finite mean.\n",
    "\n",
    "#### Therefore...\n",
    "- make sure to always look at your raw numbers. \n",
    "- Consider a [normality test](https://en.wikipedia.org/wiki/Normality_test) or ask a statistician.\n",
    "- We will have another session on what to do if your data is not normal."
   ]
  },
  {
   "cell_type": "markdown",
   "metadata": {
    "slideshow": {
     "slide_type": "subslide"
    }
   },
   "source": [
    "## Examples where sums don't converge towards a normal distribution\n",
    "- The [Cauchy distribution](https://en.wikipedia.org/wiki/Cauchy_distribution) and [Lévy distribution](https://en.wikipedia.org/wiki/Lévy_distribution) remain stable under aggregation. I.e. they don't converge towards a normal distribution.\n",
    "- Price changes in financial markets have a (just) finite variance but it [changes](https://en.wikipedia.org/wiki/Heteroscedasticity) over time. E.g. Daily price changes are sums of many small ones, but even their logarithms exhibit much more [extremes](https://www.statisticshowto.com/heavy-tailed-distribution/) than a expected normal distribution.\n",
    "\n",
    "#### See also: \n",
    "- [This game](http://seesaw.neuro.uni-bremen.de) generates extreme events.\n",
    "- An Explanation of [infinite mean and variance](https://stats.stackexchange.com/a/91515)"
   ]
  },
  {
   "cell_type": "markdown",
   "metadata": {
    "slideshow": {
     "slide_type": "slide"
    }
   },
   "source": [
    "## Summary\n",
    "\n",
    "- There are discrete 🎲 and continuous ⚪️ random distributions\n",
    "- For continuous distributions, the area under the probability density gives us a probability 🗻\n",
    "- Sums of many independent random variables with finite variance converge towards a normal distribution 🔔\n",
    "- Correlations or extreme events can lead to exceptions 🤪\n",
    "\n",
    "To wrap up, check ot the [Galton board](https://en.wikipedia.org/wiki/Bean_machine), e.g in this [video](https://www.youtube.com/watch?v=Vo9Esp1yaC8)"
   ]
  },
  {
   "cell_type": "raw",
   "metadata": {
    "slideshow": {
     "slide_type": "skip"
    }
   },
   "source": [
    "# gaussian density\n",
    "distribution_chart(\n",
    "    pdf_transform_expression = 'densityNormal(log(datum.x), log(datum.mean), log(datum.std))',\n",
    "    xmin = 0,\n",
    "    xmax = 100,\n",
    "    xstep = .1,\n",
    "    mean = distribution_parameter(\n",
    "        min=0.1,\n",
    "        max=100,\n",
    "        step=.1,\n",
    "        init_value=1,\n",
    "        name='Mean'\n",
    "    ),\n",
    "    std = distribution_parameter(\n",
    "        min=1.1,\n",
    "        max=5,\n",
    "        step=.1,\n",
    "        init_value=2,\n",
    "        name='Std'\n",
    "    )\n",
    ")"
   ]
  },
  {
   "cell_type": "markdown",
   "metadata": {
    "slideshow": {
     "slide_type": "slide"
    }
   },
   "source": [
    "## In the next session,\n",
    "\n",
    "we will take a deeper dive into…\n",
    "\n",
    "- comparing two different statistical distributions,\n",
    "- statistical significance and p-values,\n",
    "- statistical power and effect sizes."
   ]
  },
  {
   "cell_type": "code",
   "execution_count": null,
   "metadata": {},
   "outputs": [],
   "source": []
  }
 ],
 "metadata": {
  "kernelspec": {
   "display_name": "Python 3",
   "language": "python",
   "name": "python3"
  },
  "language_info": {
   "codemirror_mode": {
    "name": "ipython",
    "version": 3
   },
   "file_extension": ".py",
   "mimetype": "text/x-python",
   "name": "python",
   "nbconvert_exporter": "python",
   "pygments_lexer": "ipython3",
   "version": "3.8.5"
  }
 },
 "nbformat": 4,
 "nbformat_minor": 4
}
