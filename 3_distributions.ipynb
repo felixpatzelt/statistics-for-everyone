{
 "cells": [
  {
   "cell_type": "markdown",
   "metadata": {
    "slideshow": {
     "slide_type": "slide"
    }
   },
   "source": [
    "## Distributions and the central limit theorem\n",
    "\n",
    "- Introduce Statistical Distribtutions\n",
    "- Central limit theorem"
   ]
  },
  {
   "cell_type": "markdown",
   "metadata": {
    "slideshow": {
     "slide_type": "skip"
    }
   },
   "source": [
    "- In probability theory and statistics, a probability distribution is the mathematical function that gives the probabilities of occurrence of different possible outcomes for an experiment\n",
    "- In the discrete case, it is sufficient to specify a probability mass function assigning a probability to each possible outcome: for example, when throwing a fair die, each of the six values 1 to 6 has the probability 1/6. \n",
    "- In contrast, when a random variable takes values from a continuum then typically, any individual outcome has probability zero and only events that include infinitely many outcomes, such as intervals, can have positive probability. "
   ]
  },
  {
   "cell_type": "code",
   "execution_count": 1,
   "metadata": {
    "slideshow": {
     "slide_type": "skip"
    }
   },
   "outputs": [
    {
     "data": {
      "text/html": [
       "<style>@import url(https://fonts.googleapis.com/css?family=Lato:400,700,400italic,700italic);</style>"
      ],
      "text/plain": [
       "<IPython.core.display.HTML object>"
      ]
     },
     "execution_count": 1,
     "metadata": {},
     "output_type": "execute_result"
    }
   ],
   "source": [
    "import pandas as pd\n",
    "import numpy as np\n",
    "import altair as alt\n",
    "import helpers.plotting as pt\n",
    "from helpers.svg_wrapper import SVGImg\n",
    "pt.enable_slide_theme()\n",
    "pt.import_lato_font_in_notebook()"
   ]
  },
  {
   "cell_type": "code",
   "execution_count": 2,
   "metadata": {
    "slideshow": {
     "slide_type": "skip"
    }
   },
   "outputs": [],
   "source": [
    "def distribution_parameter(\n",
    "        min:float, max:float, step:float, init_value:float, name:str, type:float='range'\n",
    "    ) -> alt.selection:\n",
    "    b = alt.binding(\n",
    "        input=type, min=min, max=max, step=step, name=name\n",
    "    )\n",
    "    return alt.selection_single(\n",
    "        bind = b,\n",
    "        init = dict(value=init_value)\n",
    "    )\n",
    "\n",
    "def distribution_chart(\n",
    "        xmin:float,\n",
    "        xmax:float,\n",
    "        xstep:float,\n",
    "        pdf_transform_expression: str,\n",
    "        mark_type='line',\n",
    "        xscale=alt.Scale(),\n",
    "        yscale=alt.Scale(),\n",
    "        **distribution_parameters\n",
    "    ) -> alt.Chart:\n",
    "    return alt.Chart(\n",
    "        alt.sequence(xmin, xmax, xstep, as_='x')\n",
    "    ).__getattr__(f'mark_{mark_type}')().encode(\n",
    "        x=alt.X('x:Q', scale=xscale),\n",
    "        y=alt.Y('px:Q', scale=yscale),\n",
    "    ).add_selection(\n",
    "        *list(distribution_parameters.values())[::-1], \n",
    "    ).transform_calculate(\n",
    "        **{k: v.value for k, v in distribution_parameters.items()}\n",
    "    ).transform_calculate(\n",
    "        px = pdf_transform_expression\n",
    "    )\n",
    "\n",
    "def chart_with_parameters(chart, **distribution_parameters):\n",
    "    return chart.add_selection(\n",
    "        *list(distribution_parameters.values()), \n",
    "    ).transform_calculate(\n",
    "        **{k: v.value for k, v in distribution_parameters.items()}\n",
    "    )"
   ]
  },
  {
   "cell_type": "markdown",
   "metadata": {
    "slideshow": {
     "slide_type": "slide"
    }
   },
   "source": [
    "### How to describe the possible outcomes of an experiment? Distributions!\n",
    "\n",
    "Think about **throwing a** six-sided **[die](https://en.wikipedia.org/wiki/Dice)**: \n",
    "- The possible outcomes are the integers (whole numbers) 1, 2, 3, 4, 5, 6\n",
    "- Each outcome should have the same **probability 1/6**\n",
    "- We can say, the outcomes are described by the **discrete uniform distribution** on the integers 1 ... 6."
   ]
  },
  {
   "cell_type": "code",
   "execution_count": 3,
   "metadata": {},
   "outputs": [
    {
     "data": {
      "text/html": [
       "\n",
       "            <object type=\"image/svg+xml\" data=\"images/die.svg\" style=\"width: 15%; height: 100%; margin: auto;\">\n",
       "                <img src=\"images/die.svg\" width=\"15%\" height=\"100%\"></img>\n",
       "            </object>\n",
       "            "
      ],
      "text/plain": [
       "<helpers.svg_wrapper.SVGImg at 0x105b51e80>"
      ]
     },
     "execution_count": 3,
     "metadata": {},
     "output_type": "execute_result"
    }
   ],
   "source": [
    "SVGImg('images/die.svg', width='15%', output_dir='slides')"
   ]
  },
  {
   "cell_type": "markdown",
   "metadata": {
    "slideshow": {
     "slide_type": "slide"
    }
   },
   "source": [
    "## There are discrete and continuous probability distributions!\n",
    "\n",
    "For simplicity, we will keep the uniform distributin as an example for the moment"
   ]
  },
  {
   "cell_type": "markdown",
   "metadata": {
    "slideshow": {
     "slide_type": "slide"
    }
   },
   "source": [
    "### In the discrete case, \n",
    "- we can specify the probability of each possible outcome\n",
    "- mathematically this is done via a \"probability mass function\"\n",
    "- all the probabilities add up to one (one out of all possible outcomes will happen)"
   ]
  },
  {
   "cell_type": "code",
   "execution_count": 4,
   "metadata": {},
   "outputs": [
    {
     "data": {
      "text/html": [
       "\n",
       "<div id=\"altair-viz-efae4ff6e04c49f98dada2c23fcc4c5d\"></div>\n",
       "<script type=\"text/javascript\">\n",
       "  (function(spec, embedOpt){\n",
       "    let outputDiv = document.currentScript.previousElementSibling;\n",
       "    if (outputDiv.id !== \"altair-viz-efae4ff6e04c49f98dada2c23fcc4c5d\") {\n",
       "      outputDiv = document.getElementById(\"altair-viz-efae4ff6e04c49f98dada2c23fcc4c5d\");\n",
       "    }\n",
       "    const paths = {\n",
       "      \"vega\": \"https://cdn.jsdelivr.net/npm//vega@5?noext\",\n",
       "      \"vega-lib\": \"https://cdn.jsdelivr.net/npm//vega-lib?noext\",\n",
       "      \"vega-lite\": \"https://cdn.jsdelivr.net/npm//vega-lite@4.8.1?noext\",\n",
       "      \"vega-embed\": \"https://cdn.jsdelivr.net/npm//vega-embed@6?noext\",\n",
       "    };\n",
       "\n",
       "    function loadScript(lib) {\n",
       "      return new Promise(function(resolve, reject) {\n",
       "        var s = document.createElement('script');\n",
       "        s.src = paths[lib];\n",
       "        s.async = true;\n",
       "        s.onload = () => resolve(paths[lib]);\n",
       "        s.onerror = () => reject(`Error loading script: ${paths[lib]}`);\n",
       "        document.getElementsByTagName(\"head\")[0].appendChild(s);\n",
       "      });\n",
       "    }\n",
       "\n",
       "    function showError(err) {\n",
       "      outputDiv.innerHTML = `<div class=\"error\" style=\"color:red;\">${err}</div>`;\n",
       "      throw err;\n",
       "    }\n",
       "\n",
       "    function displayChart(vegaEmbed) {\n",
       "      vegaEmbed(outputDiv, spec, embedOpt)\n",
       "        .catch(err => showError(`Javascript Error: ${err.message}<br>This usually means there's a typo in your chart specification. See the javascript console for the full traceback.`));\n",
       "    }\n",
       "\n",
       "    if(typeof define === \"function\" && define.amd) {\n",
       "      requirejs.config({paths});\n",
       "      require([\"vega-embed\"], displayChart, err => showError(`Error loading script: ${err.message}`));\n",
       "    } else if (typeof vegaEmbed === \"function\") {\n",
       "      displayChart(vegaEmbed);\n",
       "    } else {\n",
       "      loadScript(\"vega\")\n",
       "        .then(() => loadScript(\"vega-lite\"))\n",
       "        .then(() => loadScript(\"vega-embed\"))\n",
       "        .catch(showError)\n",
       "        .then(() => displayChart(vegaEmbed));\n",
       "    }\n",
       "  })({\"config\": {\"title\": {\"fontSize\": 24.0, \"font\": [\"Lato\", \"Helvetica Neue\", \"Helvetica\", \"Arial\", \"Sans Serif\"], \"fontWeight\": \"normal\"}, \"axisX\": {\"labelFont\": [\"Lato\", \"Helvetica Neue\", \"Helvetica\", \"Arial\", \"Sans Serif\"], \"labelFontSize\": 16, \"titleFont\": [\"Lato\", \"Helvetica Neue\", \"Helvetica\", \"Arial\", \"Sans Serif\"], \"titleFontSize\": 16, \"titleFontWeight\": \"normal\", \"titlePadding\": 10}, \"axisY\": {\"labelFont\": [\"Lato\", \"Helvetica Neue\", \"Helvetica\", \"Arial\", \"Sans Serif\"], \"labelFontSize\": 16, \"titleFont\": [\"Lato\", \"Helvetica Neue\", \"Helvetica\", \"Arial\", \"Sans Serif\"], \"titleFontSize\": 16, \"titleFontWeight\": \"normal\", \"titlePadding\": 10}, \"legend\": {\"labelFont\": [\"Lato\", \"Helvetica Neue\", \"Helvetica\", \"Arial\", \"Sans Serif\"], \"labelFontSize\": 16, \"titleFont\": [\"Lato\", \"Helvetica Neue\", \"Helvetica\", \"Arial\", \"Sans Serif\"], \"titleFontSize\": 16, \"titleFontWeight\": \"normal\"}, \"text\": {\"font\": [\"Lato\", \"Helvetica Neue\", \"Helvetica\", \"Arial\", \"Sans Serif\"], \"fontSize\": 14.4}}, \"data\": {\"sequence\": {\"start\": -1, \"stop\": 20, \"step\": 1, \"as\": \"x\"}}, \"mark\": \"bar\", \"encoding\": {\"x\": {\"type\": \"quantitative\", \"field\": \"x\", \"scale\": {\"domain\": [0, 20]}}, \"y\": {\"type\": \"quantitative\", \"field\": \"px\", \"scale\": {\"domain\": [0, 0.51]}}}, \"selection\": {\"selector001\": {\"type\": \"single\", \"bind\": {\"input\": \"range\", \"min\": 2, \"max\": 20, \"step\": 1, \"name\": \"Max\"}, \"init\": {\"value\": 2}}}, \"transform\": [{\"calculate\": \"selector001.value\", \"as\": \"max\"}, {\"calculate\": \"1/datum.max * (1 <= datum.x) * (datum.x <= datum.max)\", \"as\": \"px\"}], \"$schema\": \"https://vega.github.io/schema/vega-lite/v4.8.1.json\"}, {\"actions\": false, \"mode\": \"vega-lite\"});\n",
       "</script>"
      ],
      "text/plain": [
       "alt.Chart(...)"
      ]
     },
     "execution_count": 4,
     "metadata": {},
     "output_type": "execute_result"
    }
   ],
   "source": [
    "# uniform probability mass function\n",
    "distribution_chart(\n",
    "    pdf_transform_expression = '1/datum.max * (1 <= datum.x) * (datum.x <= datum.max)',\n",
    "    xmin = -1,\n",
    "    xmax = 20,\n",
    "    xstep = 1,\n",
    "    mark_type='bar',\n",
    "    xscale=alt.Scale(domain=(0,20)),\n",
    "    yscale=alt.Scale(domain=(0,0.51)),\n",
    "    max=distribution_parameter(\n",
    "        min=2,\n",
    "        max=20,\n",
    "        step=1,\n",
    "        init_value=2,\n",
    "        name='Max'\n",
    "    )\n",
    ")"
   ]
  },
  {
   "cell_type": "markdown",
   "metadata": {},
   "source": [
    "Above: the discrete uniform distribution with minimum 1, maximum set by slider."
   ]
  },
  {
   "cell_type": "markdown",
   "metadata": {
    "slideshow": {
     "slide_type": "slide"
    }
   },
   "source": [
    "### A continuous example: a spinning disc with markings that can rotate freely.\n",
    "\n",
    "- If you spin it, it will stop at a random angle.\n",
    "- If we say it stopped at e.g. 18°, we mean it was closest to that marking.\n",
    "- There are infinitely many angles between 17.5° and 18.5°.\n",
    "- The probability to hit a specific one is zero.\n",
    "- The probability to end up somewhere in this 1° intervall, is 1/360!"
   ]
  },
  {
   "cell_type": "code",
   "execution_count": 5,
   "metadata": {},
   "outputs": [
    {
     "data": {
      "text/html": [
       "\n",
       "            <object type=\"image/svg+xml\" data=\"images/spinner.svg\" style=\"width: 50%; height: 100%; margin: auto;\">\n",
       "                <img src=\"images/spinner.svg\" width=\"50%\" height=\"100%\"></img>\n",
       "            </object>\n",
       "            "
      ],
      "text/plain": [
       "<helpers.svg_wrapper.SVGImg at 0x115ef1f10>"
      ]
     },
     "execution_count": 5,
     "metadata": {},
     "output_type": "execute_result"
    }
   ],
   "source": [
    "SVGImg('images/spinner.svg', width='50%', output_dir='slides')"
   ]
  },
  {
   "cell_type": "markdown",
   "metadata": {
    "slideshow": {
     "slide_type": "slide"
    }
   },
   "source": [
    "### There are discrete and continuous probability distributions\n",
    "\n",
    "In the continuous case, \n",
    "- there are infinitely many possible outcomes\n",
    "- we typically give the "
   ]
  },
  {
   "cell_type": "code",
   "execution_count": null,
   "metadata": {},
   "outputs": [],
   "source": []
  },
  {
   "cell_type": "code",
   "execution_count": 79,
   "metadata": {},
   "outputs": [
    {
     "data": {
      "text/html": [
       "\n",
       "<div id=\"altair-viz-5b2fc0e19edc4ceaa7346a4df433e3f1\"></div>\n",
       "<script type=\"text/javascript\">\n",
       "  (function(spec, embedOpt){\n",
       "    let outputDiv = document.currentScript.previousElementSibling;\n",
       "    if (outputDiv.id !== \"altair-viz-5b2fc0e19edc4ceaa7346a4df433e3f1\") {\n",
       "      outputDiv = document.getElementById(\"altair-viz-5b2fc0e19edc4ceaa7346a4df433e3f1\");\n",
       "    }\n",
       "    const paths = {\n",
       "      \"vega\": \"https://cdn.jsdelivr.net/npm//vega@5?noext\",\n",
       "      \"vega-lib\": \"https://cdn.jsdelivr.net/npm//vega-lib?noext\",\n",
       "      \"vega-lite\": \"https://cdn.jsdelivr.net/npm//vega-lite@4.8.1?noext\",\n",
       "      \"vega-embed\": \"https://cdn.jsdelivr.net/npm//vega-embed@6?noext\",\n",
       "    };\n",
       "\n",
       "    function loadScript(lib) {\n",
       "      return new Promise(function(resolve, reject) {\n",
       "        var s = document.createElement('script');\n",
       "        s.src = paths[lib];\n",
       "        s.async = true;\n",
       "        s.onload = () => resolve(paths[lib]);\n",
       "        s.onerror = () => reject(`Error loading script: ${paths[lib]}`);\n",
       "        document.getElementsByTagName(\"head\")[0].appendChild(s);\n",
       "      });\n",
       "    }\n",
       "\n",
       "    function showError(err) {\n",
       "      outputDiv.innerHTML = `<div class=\"error\" style=\"color:red;\">${err}</div>`;\n",
       "      throw err;\n",
       "    }\n",
       "\n",
       "    function displayChart(vegaEmbed) {\n",
       "      vegaEmbed(outputDiv, spec, embedOpt)\n",
       "        .catch(err => showError(`Javascript Error: ${err.message}<br>This usually means there's a typo in your chart specification. See the javascript console for the full traceback.`));\n",
       "    }\n",
       "\n",
       "    if(typeof define === \"function\" && define.amd) {\n",
       "      requirejs.config({paths});\n",
       "      require([\"vega-embed\"], displayChart, err => showError(`Error loading script: ${err.message}`));\n",
       "    } else if (typeof vegaEmbed === \"function\") {\n",
       "      displayChart(vegaEmbed);\n",
       "    } else {\n",
       "      loadScript(\"vega\")\n",
       "        .then(() => loadScript(\"vega-lite\"))\n",
       "        .then(() => loadScript(\"vega-embed\"))\n",
       "        .catch(showError)\n",
       "        .then(() => displayChart(vegaEmbed));\n",
       "    }\n",
       "  })({\"config\": {\"title\": {\"fontSize\": 24.0, \"font\": [\"Lato\", \"Helvetica Neue\", \"Helvetica\", \"Arial\", \"Sans Serif\"], \"fontWeight\": \"normal\"}, \"axisX\": {\"labelFont\": [\"Lato\", \"Helvetica Neue\", \"Helvetica\", \"Arial\", \"Sans Serif\"], \"labelFontSize\": 16, \"titleFont\": [\"Lato\", \"Helvetica Neue\", \"Helvetica\", \"Arial\", \"Sans Serif\"], \"titleFontSize\": 16, \"titleFontWeight\": \"normal\", \"titlePadding\": 10}, \"axisY\": {\"labelFont\": [\"Lato\", \"Helvetica Neue\", \"Helvetica\", \"Arial\", \"Sans Serif\"], \"labelFontSize\": 16, \"titleFont\": [\"Lato\", \"Helvetica Neue\", \"Helvetica\", \"Arial\", \"Sans Serif\"], \"titleFontSize\": 16, \"titleFontWeight\": \"normal\", \"titlePadding\": 10}, \"legend\": {\"labelFont\": [\"Lato\", \"Helvetica Neue\", \"Helvetica\", \"Arial\", \"Sans Serif\"], \"labelFontSize\": 16, \"titleFont\": [\"Lato\", \"Helvetica Neue\", \"Helvetica\", \"Arial\", \"Sans Serif\"], \"titleFontSize\": 16, \"titleFontWeight\": \"normal\"}, \"text\": {\"font\": [\"Lato\", \"Helvetica Neue\", \"Helvetica\", \"Arial\", \"Sans Serif\"], \"fontSize\": 14.4}}, \"hconcat\": [{\"hconcat\": [{\"layer\": [{\"mark\": {\"type\": \"rule\", \"opacity\": 0.2}, \"encoding\": {\"x\": {\"type\": \"quantitative\", \"aggregate\": \"mean\", \"field\": \"sel_min\", \"title\": \"\"}}, \"selection\": {\"selector212\": {\"type\": \"single\", \"bind\": {\"input\": \"range\", \"min\": 0, \"max\": 3, \"step\": 0.1, \"name\": \"Selection max\"}, \"init\": {\"value\": 3}}, \"selector213\": {\"type\": \"single\", \"bind\": {\"input\": \"range\", \"min\": -0.1, \"max\": 3, \"step\": 0.1, \"name\": \"Selection min\"}, \"init\": {\"value\": -0.1}}, \"selector214\": {\"type\": \"single\", \"bind\": {\"input\": \"range\", \"min\": 0.5, \"max\": 3, \"step\": 0.1, \"name\": \"Distribution max\"}, \"init\": {\"value\": 2}}}}, {\"mark\": {\"type\": \"rule\", \"opacity\": 0.2}, \"encoding\": {\"x\": {\"type\": \"quantitative\", \"aggregate\": \"mean\", \"field\": \"sel_max\", \"title\": \"\"}}}, {\"mark\": {\"type\": \"area\", \"opacity\": 0.5}, \"encoding\": {\"x\": {\"type\": \"quantitative\", \"field\": \"x\"}, \"y\": {\"type\": \"quantitative\", \"field\": \"ps\", \"title\": \"Probability Density\"}}}, {\"mark\": \"line\", \"encoding\": {\"x\": {\"type\": \"quantitative\", \"field\": \"x\", \"scale\": {\"domain\": [-0.1, 3.1], \"nice\": false}, \"title\": \"x\"}, \"y\": {\"type\": \"quantitative\", \"field\": \"px\", \"scale\": {\"domain\": [0, 2]}, \"title\": \"Probability Density\"}}, \"width\": 400}]}, {\"mark\": {\"type\": \"bar\", \"clip\": true}, \"encoding\": {\"y\": {\"type\": \"quantitative\", \"aggregate\": \"sum\", \"field\": \"probability\", \"scale\": {\"domain\": [0, 1.1]}, \"title\": \"Probability in Selection\"}}, \"selection\": {\"selector212\": {\"type\": \"single\", \"bind\": {\"input\": \"range\", \"min\": 0, \"max\": 3, \"step\": 0.1, \"name\": \"Selection max\"}, \"init\": {\"value\": 3}}, \"selector213\": {\"type\": \"single\", \"bind\": {\"input\": \"range\", \"min\": -0.1, \"max\": 3, \"step\": 0.1, \"name\": \"Selection min\"}, \"init\": {\"value\": -0.1}}, \"selector214\": {\"type\": \"single\", \"bind\": {\"input\": \"range\", \"min\": 0.5, \"max\": 3, \"step\": 0.1, \"name\": \"Distribution max\"}, \"init\": {\"value\": 2}}}, \"width\": 50}]}], \"data\": {\"sequence\": {\"start\": -0.1, \"stop\": 3.1, \"step\": 0.003, \"as\": \"x\"}}, \"transform\": [{\"calculate\": \"selector212.value\", \"as\": \"sel_max\"}, {\"calculate\": \"selector213.value\", \"as\": \"sel_min\"}, {\"calculate\": \"selector214.value\", \"as\": \"dist_max\"}, {\"calculate\": \"1 / datum.dist_max * ((datum.x > 0 ) & (datum.x < datum.dist_max))\", \"as\": \"px\"}, {\"calculate\": \"datum.px * ((datum.x > datum.sel_min ) & (datum.x < datum.sel_max))\", \"as\": \"ps\"}, {\"calculate\": \"datum.ps*0.003\", \"as\": \"probability\"}], \"$schema\": \"https://vega.github.io/schema/vega-lite/v4.8.1.json\"}, {\"actions\": false, \"mode\": \"vega-lite\", \"renderer\": \"svg\"});\n",
       "</script>"
      ],
      "text/plain": [
       "alt.HConcatChart(...)"
      ]
     },
     "metadata": {},
     "output_type": "display_data"
    }
   ],
   "source": [
    "# uniform density\n",
    "xmax = 3\n",
    "dx = xmax / 1000\n",
    "\n",
    "xscale = alt.Scale(domain=(-0.1, 3.1), nice=False)\n",
    "yscale = alt.Scale(domain=(0,2))\n",
    "pscale = alt.Scale(domain=(0,1.1))\n",
    "\n",
    "base = alt.Chart(\n",
    "    alt.sequence(start=-0.1, stop=xmax+0.1, step=dx, as_='x')\n",
    ")\n",
    "\n",
    "density = base.mark_line().encode(\n",
    "    x=alt.X('x:Q', scale=xscale, title='x'),\n",
    "    y=alt.Y('px:Q', scale=yscale, title='Probability Density'),\n",
    ").properties(\n",
    "    width=400\n",
    ")\n",
    "selected = base.mark_area(opacity=0.5).encode(\n",
    "    x=alt.X('x:Q'),\n",
    "    y=alt.Y('ps:Q', title='Probability Density'),\n",
    ")\n",
    "selection_min = base.mark_rule(opacity=0.2).encode(\n",
    "    x=alt.X('mean(sel_min):Q', title='')\n",
    ")\n",
    "selection_max = base.mark_rule(opacity=0.2).encode(\n",
    "    x=alt.X('mean(sel_max):Q', title='')\n",
    ")\n",
    "selected_area = base.encode(\n",
    "    y=alt.Y('sum(probability):Q', scale=pscale, title='Probability in Selection'),\n",
    ").mark_bar(clip=True\n",
    ").properties(\n",
    "        width=50\n",
    ")\n",
    "\n",
    "chart_with_parameters(\n",
    "    alt.hconcat(selection_min + selection_max + selected + density  | selected_area),\n",
    "    sel_max=distribution_parameter(\n",
    "        min=0,\n",
    "        max=xmax,\n",
    "        step=0.1,\n",
    "        init_value=xmax,\n",
    "        name='Selection max'\n",
    "    ),\n",
    "    sel_min=distribution_parameter(\n",
    "        min=-0.1,\n",
    "        max=xmax,\n",
    "        step=0.1,\n",
    "        init_value=-0.1,\n",
    "        name='Selection min'\n",
    "    ),\n",
    "    dist_max=distribution_parameter(\n",
    "        min=0.5,\n",
    "        max=xmax,\n",
    "        step=0.1,\n",
    "        init_value=2,\n",
    "        name='Distribution max'\n",
    "    ),\n",
    ").transform_calculate(\n",
    "    px = f'1 / datum.dist_max * ((datum.x > 0 ) & (datum.x < datum.dist_max))',\n",
    "    ps = f'datum.px * ((datum.x > datum.sel_min ) & (datum.x < datum.sel_max))',\n",
    "    probability = f'datum.ps*{dx}'\n",
    ").display(renderer='svg')"
   ]
  },
  {
   "cell_type": "markdown",
   "metadata": {
    "slideshow": {
     "slide_type": "slide"
    }
   },
   "source": [
    "### ---"
   ]
  },
  {
   "cell_type": "code",
   "execution_count": 4,
   "metadata": {},
   "outputs": [
    {
     "data": {
      "text/html": [
       "\n",
       "<div id=\"altair-viz-0a5fea4f4b5f42fe95001788d33ff764\"></div>\n",
       "<script type=\"text/javascript\">\n",
       "  (function(spec, embedOpt){\n",
       "    let outputDiv = document.currentScript.previousElementSibling;\n",
       "    if (outputDiv.id !== \"altair-viz-0a5fea4f4b5f42fe95001788d33ff764\") {\n",
       "      outputDiv = document.getElementById(\"altair-viz-0a5fea4f4b5f42fe95001788d33ff764\");\n",
       "    }\n",
       "    const paths = {\n",
       "      \"vega\": \"https://cdn.jsdelivr.net/npm//vega@5?noext\",\n",
       "      \"vega-lib\": \"https://cdn.jsdelivr.net/npm//vega-lib?noext\",\n",
       "      \"vega-lite\": \"https://cdn.jsdelivr.net/npm//vega-lite@4.8.1?noext\",\n",
       "      \"vega-embed\": \"https://cdn.jsdelivr.net/npm//vega-embed@6?noext\",\n",
       "    };\n",
       "\n",
       "    function loadScript(lib) {\n",
       "      return new Promise(function(resolve, reject) {\n",
       "        var s = document.createElement('script');\n",
       "        s.src = paths[lib];\n",
       "        s.async = true;\n",
       "        s.onload = () => resolve(paths[lib]);\n",
       "        s.onerror = () => reject(`Error loading script: ${paths[lib]}`);\n",
       "        document.getElementsByTagName(\"head\")[0].appendChild(s);\n",
       "      });\n",
       "    }\n",
       "\n",
       "    function showError(err) {\n",
       "      outputDiv.innerHTML = `<div class=\"error\" style=\"color:red;\">${err}</div>`;\n",
       "      throw err;\n",
       "    }\n",
       "\n",
       "    function displayChart(vegaEmbed) {\n",
       "      vegaEmbed(outputDiv, spec, embedOpt)\n",
       "        .catch(err => showError(`Javascript Error: ${err.message}<br>This usually means there's a typo in your chart specification. See the javascript console for the full traceback.`));\n",
       "    }\n",
       "\n",
       "    if(typeof define === \"function\" && define.amd) {\n",
       "      requirejs.config({paths});\n",
       "      require([\"vega-embed\"], displayChart, err => showError(`Error loading script: ${err.message}`));\n",
       "    } else if (typeof vegaEmbed === \"function\") {\n",
       "      displayChart(vegaEmbed);\n",
       "    } else {\n",
       "      loadScript(\"vega\")\n",
       "        .then(() => loadScript(\"vega-lite\"))\n",
       "        .then(() => loadScript(\"vega-embed\"))\n",
       "        .catch(showError)\n",
       "        .then(() => displayChart(vegaEmbed));\n",
       "    }\n",
       "  })({\"config\": {\"title\": {\"fontSize\": 24.0, \"font\": [\"Lato\", \"Helvetica Neue\", \"Helvetica\", \"Arial\", \"Sans Serif\"], \"fontWeight\": \"normal\"}, \"axisX\": {\"labelFont\": [\"Lato\", \"Helvetica Neue\", \"Helvetica\", \"Arial\", \"Sans Serif\"], \"labelFontSize\": 16, \"titleFont\": [\"Lato\", \"Helvetica Neue\", \"Helvetica\", \"Arial\", \"Sans Serif\"], \"titleFontSize\": 16, \"titleFontWeight\": \"normal\", \"titlePadding\": 10}, \"axisY\": {\"labelFont\": [\"Lato\", \"Helvetica Neue\", \"Helvetica\", \"Arial\", \"Sans Serif\"], \"labelFontSize\": 16, \"titleFont\": [\"Lato\", \"Helvetica Neue\", \"Helvetica\", \"Arial\", \"Sans Serif\"], \"titleFontSize\": 16, \"titleFontWeight\": \"normal\", \"titlePadding\": 10}, \"legend\": {\"labelFont\": [\"Lato\", \"Helvetica Neue\", \"Helvetica\", \"Arial\", \"Sans Serif\"], \"labelFontSize\": 16, \"titleFont\": [\"Lato\", \"Helvetica Neue\", \"Helvetica\", \"Arial\", \"Sans Serif\"], \"titleFontSize\": 16, \"titleFontWeight\": \"normal\"}, \"text\": {\"font\": [\"Lato\", \"Helvetica Neue\", \"Helvetica\", \"Arial\", \"Sans Serif\"], \"fontSize\": 14.4}}, \"data\": {\"sequence\": {\"start\": -5, \"stop\": 5, \"step\": 0.1, \"as\": \"x\"}}, \"mark\": \"line\", \"encoding\": {\"x\": {\"type\": \"quantitative\", \"field\": \"x\"}, \"y\": {\"type\": \"quantitative\", \"field\": \"px\"}}, \"selection\": {\"selector004\": {\"type\": \"single\", \"bind\": {\"input\": \"range\", \"min\": 0.1, \"max\": 5, \"step\": 0.1, \"name\": \"Std\"}, \"init\": {\"value\": 1}}, \"selector003\": {\"type\": \"single\", \"bind\": {\"input\": \"range\", \"min\": -5, \"max\": 5, \"step\": 0.1, \"name\": \"Mean\"}, \"init\": {\"value\": 0}}}, \"transform\": [{\"calculate\": \"selector003.value\", \"as\": \"mean\"}, {\"calculate\": \"selector004.value\", \"as\": \"std\"}, {\"calculate\": \"densityNormal(datum.x, datum.mean, datum.std)\", \"as\": \"px\"}], \"$schema\": \"https://vega.github.io/schema/vega-lite/v4.8.1.json\"}, {\"actions\": false, \"mode\": \"vega-lite\"});\n",
       "</script>"
      ],
      "text/plain": [
       "alt.Chart(...)"
      ]
     },
     "execution_count": 4,
     "metadata": {},
     "output_type": "execute_result"
    }
   ],
   "source": [
    "# gaussian density\n",
    "distribution_chart(\n",
    "    pdf_transform_expression = 'densityNormal(datum.x, datum.mean, datum.std)',\n",
    "    xmin = -5,\n",
    "    xmax = 5,\n",
    "    xstep = .1,\n",
    "    mean = distribution_parameter(\n",
    "        min=-5,\n",
    "        max=5,\n",
    "        step=.1,\n",
    "        init_value=0,\n",
    "        name='Mean'\n",
    "    ),\n",
    "    std = distribution_parameter(\n",
    "        min=.1,\n",
    "        max=5,\n",
    "        step=.1,\n",
    "        init_value=1,\n",
    "        name='Std'\n",
    "    )\n",
    ")"
   ]
  },
  {
   "cell_type": "code",
   "execution_count": 5,
   "metadata": {},
   "outputs": [
    {
     "data": {
      "text/html": [
       "\n",
       "<div id=\"altair-viz-801de4c8106e46d191e879be8c2c3fc1\"></div>\n",
       "<script type=\"text/javascript\">\n",
       "  (function(spec, embedOpt){\n",
       "    let outputDiv = document.currentScript.previousElementSibling;\n",
       "    if (outputDiv.id !== \"altair-viz-801de4c8106e46d191e879be8c2c3fc1\") {\n",
       "      outputDiv = document.getElementById(\"altair-viz-801de4c8106e46d191e879be8c2c3fc1\");\n",
       "    }\n",
       "    const paths = {\n",
       "      \"vega\": \"https://cdn.jsdelivr.net/npm//vega@5?noext\",\n",
       "      \"vega-lib\": \"https://cdn.jsdelivr.net/npm//vega-lib?noext\",\n",
       "      \"vega-lite\": \"https://cdn.jsdelivr.net/npm//vega-lite@4.8.1?noext\",\n",
       "      \"vega-embed\": \"https://cdn.jsdelivr.net/npm//vega-embed@6?noext\",\n",
       "    };\n",
       "\n",
       "    function loadScript(lib) {\n",
       "      return new Promise(function(resolve, reject) {\n",
       "        var s = document.createElement('script');\n",
       "        s.src = paths[lib];\n",
       "        s.async = true;\n",
       "        s.onload = () => resolve(paths[lib]);\n",
       "        s.onerror = () => reject(`Error loading script: ${paths[lib]}`);\n",
       "        document.getElementsByTagName(\"head\")[0].appendChild(s);\n",
       "      });\n",
       "    }\n",
       "\n",
       "    function showError(err) {\n",
       "      outputDiv.innerHTML = `<div class=\"error\" style=\"color:red;\">${err}</div>`;\n",
       "      throw err;\n",
       "    }\n",
       "\n",
       "    function displayChart(vegaEmbed) {\n",
       "      vegaEmbed(outputDiv, spec, embedOpt)\n",
       "        .catch(err => showError(`Javascript Error: ${err.message}<br>This usually means there's a typo in your chart specification. See the javascript console for the full traceback.`));\n",
       "    }\n",
       "\n",
       "    if(typeof define === \"function\" && define.amd) {\n",
       "      requirejs.config({paths});\n",
       "      require([\"vega-embed\"], displayChart, err => showError(`Error loading script: ${err.message}`));\n",
       "    } else if (typeof vegaEmbed === \"function\") {\n",
       "      displayChart(vegaEmbed);\n",
       "    } else {\n",
       "      loadScript(\"vega\")\n",
       "        .then(() => loadScript(\"vega-lite\"))\n",
       "        .then(() => loadScript(\"vega-embed\"))\n",
       "        .catch(showError)\n",
       "        .then(() => displayChart(vegaEmbed));\n",
       "    }\n",
       "  })({\"config\": {\"title\": {\"fontSize\": 24.0, \"font\": [\"Lato\", \"Helvetica Neue\", \"Helvetica\", \"Arial\", \"Sans Serif\"], \"fontWeight\": \"normal\"}, \"axisX\": {\"labelFont\": [\"Lato\", \"Helvetica Neue\", \"Helvetica\", \"Arial\", \"Sans Serif\"], \"labelFontSize\": 16, \"titleFont\": [\"Lato\", \"Helvetica Neue\", \"Helvetica\", \"Arial\", \"Sans Serif\"], \"titleFontSize\": 16, \"titleFontWeight\": \"normal\", \"titlePadding\": 10}, \"axisY\": {\"labelFont\": [\"Lato\", \"Helvetica Neue\", \"Helvetica\", \"Arial\", \"Sans Serif\"], \"labelFontSize\": 16, \"titleFont\": [\"Lato\", \"Helvetica Neue\", \"Helvetica\", \"Arial\", \"Sans Serif\"], \"titleFontSize\": 16, \"titleFontWeight\": \"normal\", \"titlePadding\": 10}, \"legend\": {\"labelFont\": [\"Lato\", \"Helvetica Neue\", \"Helvetica\", \"Arial\", \"Sans Serif\"], \"labelFontSize\": 16, \"titleFont\": [\"Lato\", \"Helvetica Neue\", \"Helvetica\", \"Arial\", \"Sans Serif\"], \"titleFontSize\": 16, \"titleFontWeight\": \"normal\"}, \"text\": {\"font\": [\"Lato\", \"Helvetica Neue\", \"Helvetica\", \"Arial\", \"Sans Serif\"], \"fontSize\": 14.4}}, \"data\": {\"sequence\": {\"start\": 0, \"stop\": 100, \"step\": 0.1, \"as\": \"x\"}}, \"mark\": \"line\", \"encoding\": {\"x\": {\"type\": \"quantitative\", \"field\": \"x\"}, \"y\": {\"type\": \"quantitative\", \"field\": \"px\"}}, \"selection\": {\"selector006\": {\"type\": \"single\", \"bind\": {\"input\": \"range\", \"min\": 1.1, \"max\": 5, \"step\": 0.1, \"name\": \"Std\"}, \"init\": {\"value\": 2}}, \"selector005\": {\"type\": \"single\", \"bind\": {\"input\": \"range\", \"min\": 0.1, \"max\": 100, \"step\": 0.1, \"name\": \"Mean\"}, \"init\": {\"value\": 1}}}, \"transform\": [{\"calculate\": \"selector005.value\", \"as\": \"mean\"}, {\"calculate\": \"selector006.value\", \"as\": \"std\"}, {\"calculate\": \"densityNormal(log(datum.x), log(datum.mean), log(datum.std))\", \"as\": \"px\"}], \"$schema\": \"https://vega.github.io/schema/vega-lite/v4.8.1.json\"}, {\"actions\": false, \"mode\": \"vega-lite\"});\n",
       "</script>"
      ],
      "text/plain": [
       "alt.Chart(...)"
      ]
     },
     "execution_count": 5,
     "metadata": {},
     "output_type": "execute_result"
    }
   ],
   "source": [
    "# gaussian density\n",
    "distribution_chart(\n",
    "    pdf_transform_expression = 'densityNormal(log(datum.x), log(datum.mean), log(datum.std))',\n",
    "    xmin = 0,\n",
    "    xmax = 100,\n",
    "    xstep = .1,\n",
    "    mean = distribution_parameter(\n",
    "        min=0.1,\n",
    "        max=100,\n",
    "        step=.1,\n",
    "        init_value=1,\n",
    "        name='Mean'\n",
    "    ),\n",
    "    std = distribution_parameter(\n",
    "        min=1.1,\n",
    "        max=5,\n",
    "        step=.1,\n",
    "        init_value=2,\n",
    "        name='Std'\n",
    "    )\n",
    ")"
   ]
  },
  {
   "cell_type": "code",
   "execution_count": null,
   "metadata": {},
   "outputs": [],
   "source": []
  },
  {
   "cell_type": "markdown",
   "metadata": {
    "slideshow": {
     "slide_type": "slide"
    }
   },
   "source": [
    "## In the next session,\n",
    "\n",
    "we will take a deeper dive into…\n",
    "\n",
    "- Comparing two different statistical distributions \n",
    "- Statistical significance and p-values\n",
    "- Statistical power and effect sizes"
   ]
  },
  {
   "cell_type": "code",
   "execution_count": null,
   "metadata": {},
   "outputs": [],
   "source": []
  }
 ],
 "metadata": {
  "kernelspec": {
   "display_name": "Python 3",
   "language": "python",
   "name": "python3"
  },
  "language_info": {
   "codemirror_mode": {
    "name": "ipython",
    "version": 3
   },
   "file_extension": ".py",
   "mimetype": "text/x-python",
   "name": "python",
   "nbconvert_exporter": "python",
   "pygments_lexer": "ipython3",
   "version": "3.8.5"
  }
 },
 "nbformat": 4,
 "nbformat_minor": 4
}
