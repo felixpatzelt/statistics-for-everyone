{
 "cells": [
  {
   "cell_type": "code",
   "execution_count": 1,
   "metadata": {},
   "outputs": [],
   "source": [
    "#%matplotlib inline\n",
    "%config InlineBackend.figure_format = 'retina'\n",
    "#import matplotlib.pyplot as plt\n",
    "import numpy as np\n",
    "import random as rd"
   ]
  },
  {
   "cell_type": "code",
   "execution_count": 2,
   "metadata": {},
   "outputs": [
    {
     "data": {
      "text/html": [
       "<style>@import url(https://fonts.googleapis.com/css?family=Lato:400,700,400italic,700italic);</style>"
      ],
      "text/plain": [
       "<IPython.core.display.HTML object>"
      ]
     },
     "execution_count": 2,
     "metadata": {},
     "output_type": "execute_result"
    }
   ],
   "source": [
    "# setup\n",
    "from helpers.cards import *\n",
    "import helpers.plotting as pt\n",
    "pt.enable_slide_theme()\n",
    "pt.import_lato_font_in_notebook()"
   ]
  },
  {
   "cell_type": "markdown",
   "metadata": {},
   "source": [
    "# How make a decision, if the means of two samples are significantly different?"
   ]
  },
  {
   "cell_type": "markdown",
   "metadata": {},
   "source": [
    "## Generate a Population of 10,000,000 elements"
   ]
  },
  {
   "cell_type": "code",
   "execution_count": 72,
   "metadata": {},
   "outputs": [],
   "source": [
    "np.random.seed(123)\n",
    "df = pd.DataFrame({'pop_values': np.random.normal(100, 20, 100000)})"
   ]
  },
  {
   "cell_type": "code",
   "execution_count": 73,
   "metadata": {},
   "outputs": [],
   "source": [
    "data = pt.df_to_datasource(df)"
   ]
  },
  {
   "cell_type": "markdown",
   "metadata": {},
   "source": [
    "### Mean and standard deviation from the Population:"
   ]
  },
  {
   "cell_type": "code",
   "execution_count": 74,
   "metadata": {},
   "outputs": [
    {
     "data": {
      "text/plain": [
       "(100.02629640350295, 19.991403538854666)"
      ]
     },
     "execution_count": 74,
     "metadata": {},
     "output_type": "execute_result"
    }
   ],
   "source": [
    "pop_mean = np.mean(df['pop_values'])\n",
    "pop_sd = np.std(df['pop_values'])\n",
    "\n",
    "pop_mean, pop_sd"
   ]
  },
  {
   "cell_type": "code",
   "execution_count": 76,
   "metadata": {},
   "outputs": [
    {
     "data": {
      "application/vnd.vegalite.v4+json": {
       "$schema": "https://vega.github.io/schema/vega-lite/v4.8.1.json",
       "config": {
        "axisX": {
         "labelFont": [
          "Lato",
          "Helvetica Neue",
          "Helvetica",
          "Arial",
          "Sans Serif"
         ],
         "labelFontSize": 16,
         "titleFont": [
          "Lato",
          "Helvetica Neue",
          "Helvetica",
          "Arial",
          "Sans Serif"
         ],
         "titleFontSize": 16,
         "titleFontWeight": "normal",
         "titlePadding": 10
        },
        "axisY": {
         "labelFont": [
          "Lato",
          "Helvetica Neue",
          "Helvetica",
          "Arial",
          "Sans Serif"
         ],
         "labelFontSize": 16,
         "titleFont": [
          "Lato",
          "Helvetica Neue",
          "Helvetica",
          "Arial",
          "Sans Serif"
         ],
         "titleFontSize": 16,
         "titleFontWeight": "normal",
         "titlePadding": 10
        },
        "legend": {
         "labelFont": [
          "Lato",
          "Helvetica Neue",
          "Helvetica",
          "Arial",
          "Sans Serif"
         ],
         "labelFontSize": 16,
         "titleFont": [
          "Lato",
          "Helvetica Neue",
          "Helvetica",
          "Arial",
          "Sans Serif"
         ],
         "titleFontSize": 16,
         "titleFontWeight": "normal"
        },
        "text": {
         "font": [
          "Lato",
          "Helvetica Neue",
          "Helvetica",
          "Arial",
          "Sans Serif"
         ],
         "fontSize": 14.4
        },
        "title": {
         "font": [
          "Lato",
          "Helvetica Neue",
          "Helvetica",
          "Arial",
          "Sans Serif"
         ],
         "fontSize": 24,
         "fontWeight": "normal"
        }
       },
       "layer": [
        {
         "data": {
          "format": {
           "type": "csv"
          },
          "url": "altair-data-9006fb6b223cb4123d6e589f9f620d7f.csv"
         },
         "encoding": {
          "x": {
           "bin": {
            "maxbins": 100
           },
           "field": "pop_values",
           "type": "quantitative"
          },
          "y": {
           "aggregate": "count",
           "type": "quantitative"
          }
         },
         "mark": "bar",
         "transform": [
          {
           "joinaggregate": [
            {
             "as": "pop_m",
             "field": "pop_values",
             "op": "mean"
            },
            {
             "as": "pop_sd",
             "field": "pop_values",
             "op": "stdev"
            }
           ]
          },
          {
           "as": "pop_mean",
           "calculate": "datum.pop_m"
          },
          {
           "as": "pop_mean_m_sd",
           "calculate": "(datum.pop_m - datum.pop_sd)"
          },
          {
           "as": "pop_mean_p_sd",
           "calculate": "(datum.pop_m + datum.pop_sd)"
          }
         ]
        },
        {
         "data": {
          "format": {
           "type": "csv"
          },
          "url": "altair-data-0c9131ef19e6e96931591cd8384b3e83.csv"
         },
         "encoding": {
          "x": {
           "aggregate": "mean",
           "field": "pop_values",
           "type": "quantitative"
          }
         },
         "mark": {
          "color": "red",
          "type": "rule"
         }
        },
        {
         "data": {
          "format": {
           "type": "csv"
          },
          "url": "altair-data-9006fb6b223cb4123d6e589f9f620d7f.csv"
         },
         "encoding": {
          "x": {
           "field": "pop_mean_m_sd",
           "type": "quantitative"
          }
         },
         "mark": {
          "color": "red",
          "type": "rule"
         },
         "transform": [
          {
           "joinaggregate": [
            {
             "as": "pop_m",
             "field": "pop_values",
             "op": "mean"
            },
            {
             "as": "pop_sd",
             "field": "pop_values",
             "op": "stdev"
            }
           ]
          },
          {
           "as": "pop_mean",
           "calculate": "datum.pop_m"
          },
          {
           "as": "pop_mean_m_sd",
           "calculate": "(datum.pop_m - datum.pop_sd)"
          },
          {
           "as": "pop_mean_p_sd",
           "calculate": "(datum.pop_m + datum.pop_sd)"
          }
         ]
        },
        {
         "data": {
          "format": {
           "type": "csv"
          },
          "url": "altair-data-9006fb6b223cb4123d6e589f9f620d7f.csv"
         },
         "encoding": {
          "x": {
           "field": "pop_mean_p_sd",
           "type": "quantitative"
          }
         },
         "mark": {
          "color": "red",
          "type": "rule"
         },
         "transform": [
          {
           "joinaggregate": [
            {
             "as": "pop_m",
             "field": "pop_values",
             "op": "mean"
            },
            {
             "as": "pop_sd",
             "field": "pop_values",
             "op": "stdev"
            }
           ]
          },
          {
           "as": "pop_mean",
           "calculate": "datum.pop_m"
          },
          {
           "as": "pop_mean_m_sd",
           "calculate": "(datum.pop_m - datum.pop_sd)"
          },
          {
           "as": "pop_mean_p_sd",
           "calculate": "(datum.pop_m + datum.pop_sd)"
          }
         ]
        }
       ]
      },
      "image/png": "[encoded data removed]",
      "text/plain": [
       "<VegaLite 4 object>\n",
       "\n",
       "If you see this message, it means the renderer has not been properly enabled\n",
       "for the frontend that you are using. For more information, see\n",
       "https://altair-viz.github.io/user_guide/troubleshooting.html\n"
      ]
     },
     "execution_count": 76,
     "metadata": {},
     "output_type": "execute_result"
    }
   ],
   "source": [
    "p_data = alt.Chart(\n",
    "    data\n",
    ").transform_joinaggregate(\n",
    "    pop_m='mean(pop_values)',\n",
    "    pop_sd='stdev(pop_values)',\n",
    ").transform_calculate(\n",
    "    pop_mean='datum.pop_m',\n",
    "    pop_mean_m_sd='(datum.pop_m - datum.pop_sd)',\n",
    "    pop_mean_p_sd='(datum.pop_m + datum.pop_sd)'\n",
    ")\n",
    "\n",
    "p = p_data.mark_bar().encode(\n",
    "    alt.X('pop_values', bin=alt.Bin(maxbins=100)),\n",
    "    y='count()',\n",
    ")\n",
    "\n",
    "p_mean = p_data.mark_rule(color='red').encode(\n",
    "    x='pop_mean:Q'\n",
    ")\n",
    "\n",
    "pop_mean_m_sd = p_data.mark_rule(color='red').encode(\n",
    "    x='pop_mean_m_sd:Q'\n",
    ")\n",
    "\n",
    "pop_mean_p_sd = p_data.mark_rule(color='red').encode(\n",
    "    x='pop_mean_p_sd:Q'\n",
    ")\n",
    "\n",
    "p + p_m + pop_mean_m_sd + pop_mean_p_sd"
   ]
  },
  {
   "cell_type": "code",
   "execution_count": null,
   "metadata": {},
   "outputs": [],
   "source": [
    "plt.figure()\n",
    "plt.hist(pop, bins=100, density=True)\n",
    "plt.axvline(x=pop_mean, color=\"orange\")\n",
    "plt.axvline(x=pop_mean - pop_sd, color=\"red\")\n",
    "plt.axvline(x=pop_mean + pop_sd, color=\"red\")\n",
    "plt.xlim(-50, 250)\n",
    "plt.show()\n"
   ]
  },
  {
   "cell_type": "markdown",
   "metadata": {},
   "source": [
    "## Drawing two random samples of 10 elements"
   ]
  },
  {
   "cell_type": "code",
   "execution_count": null,
   "metadata": {},
   "outputs": [],
   "source": [
    "sample_n = 30\n",
    "x1 = rd.sample(pop, sample_n)\n",
    "x2 = rd.sample(pop, sample_n)"
   ]
  },
  {
   "cell_type": "markdown",
   "metadata": {},
   "source": [
    "### Mean and standard deviation from the samples:"
   ]
  },
  {
   "cell_type": "code",
   "execution_count": null,
   "metadata": {},
   "outputs": [],
   "source": [
    "x1_mean_hat = np.mean(x1)\n",
    "x1_sd_hat = np.std(x1, ddof=1)\n",
    "\n",
    "x1_mean_hat, x1_sd_hat"
   ]
  },
  {
   "cell_type": "code",
   "execution_count": null,
   "metadata": {},
   "outputs": [],
   "source": [
    "x2_mean_hat = np.mean(x2)\n",
    "x2_sd_hat = np.std(x2, ddof=1)\n",
    "\n",
    "x2_mean_hat, x2_sd_hat"
   ]
  },
  {
   "cell_type": "code",
   "execution_count": null,
   "metadata": {},
   "outputs": [],
   "source": [
    "plt.figure()\n",
    "plt.hist(x1, bins=100, density=True)\n",
    "plt.xlim(-50, 250)\n",
    "plt.axvline(x=x1_mean_hat, color=\"orange\")\n",
    "plt.axvline(x=x1_mean_hat - x1_sd_hat, color=\"red\")\n",
    "plt.axvline(x=x1_mean_hat + x1_sd_hat, color=\"red\")\n",
    "plt.show()"
   ]
  },
  {
   "cell_type": "code",
   "execution_count": null,
   "metadata": {},
   "outputs": [],
   "source": [
    "plt.figure()\n",
    "plt.hist(x2, bins=100, density=True)\n",
    "plt.xlim(-50, 250)\n",
    "plt.axvline(x=x2_mean_hat, color=\"orange\")\n",
    "plt.axvline(x=x2_mean_hat - x2_sd_hat, color=\"red\")\n",
    "plt.axvline(x=x2_mean_hat + x2_sd_hat, color=\"red\")\n",
    "plt.show()"
   ]
  },
  {
   "cell_type": "markdown",
   "metadata": {},
   "source": [
    "## Drawing 100 independent random samples from the population"
   ]
  },
  {
   "cell_type": "code",
   "execution_count": null,
   "metadata": {},
   "outputs": [],
   "source": [
    "n_samples = 1000\n",
    "xn_means =[np.mean(rd.sample(pop, sample_n)) for i in range(n_samples)]"
   ]
  },
  {
   "cell_type": "markdown",
   "metadata": {},
   "source": [
    "### Mean and standard deviation from the sample means"
   ]
  },
  {
   "cell_type": "code",
   "execution_count": null,
   "metadata": {},
   "outputs": [],
   "source": [
    "xn_means_mean_hat = np.mean(xn_means)\n",
    "xn_means_sd_hat = np.std(xn_means)\n",
    "\n",
    "xn_means_mean_hat, xn_means_sd_hat "
   ]
  },
  {
   "cell_type": "code",
   "execution_count": null,
   "metadata": {},
   "outputs": [],
   "source": [
    "plt.figure()\n",
    "plt.hist(xn_means, bins=100, density=True)\n",
    "plt.xlim(-50, 250)\n",
    "plt.axvline(x=xn_means_mean_hat, color=\"orange\")\n",
    "plt.axvline(x=xn_means_mean_hat - xn_means_sd_hat, color=\"red\")\n",
    "plt.axvline(x=xn_means_mean_hat + xn_means_sd_hat, color=\"red\")\n",
    "plt.show()"
   ]
  },
  {
   "cell_type": "markdown",
   "metadata": {},
   "source": [
    "## The standard deviation of the means can be derived differently and is generally called standard error!"
   ]
  },
  {
   "cell_type": "markdown",
   "metadata": {},
   "source": [
    "### True standard error"
   ]
  },
  {
   "cell_type": "code",
   "execution_count": null,
   "metadata": {},
   "outputs": [],
   "source": [
    "x_se = pop_sd / np.sqrt(sample_n)\n",
    "\n",
    "x_se"
   ]
  },
  {
   "cell_type": "markdown",
   "metadata": {},
   "source": [
    "### Estimated standard error purely from sample"
   ]
  },
  {
   "cell_type": "code",
   "execution_count": null,
   "metadata": {},
   "outputs": [],
   "source": [
    "x1_se_hat = x1_sd_hat / np.sqrt(sample_n-1) # one df\n",
    "x2_se_hat = x2_sd_hat / np.sqrt(sample_n-1)\n",
    "\n",
    "x1_se_hat, x2_se_hat"
   ]
  },
  {
   "cell_type": "code",
   "execution_count": null,
   "metadata": {},
   "outputs": [],
   "source": [
    "x_se, xn_means_sd_hat, x1_se_hat, x2_se_hat"
   ]
  },
  {
   "cell_type": "markdown",
   "metadata": {},
   "source": [
    "## We can derive from the sample itself the standard error and thereby the precision of the sample mean!"
   ]
  },
  {
   "cell_type": "code",
   "execution_count": null,
   "metadata": {},
   "outputs": [],
   "source": []
  }
 ],
 "metadata": {
  "kernelspec": {
   "display_name": "Python 3",
   "language": "python",
   "name": "python3"
  },
  "language_info": {
   "codemirror_mode": {
    "name": "ipython",
    "version": 3
   },
   "file_extension": ".py",
   "mimetype": "text/x-python",
   "name": "python",
   "nbconvert_exporter": "python",
   "pygments_lexer": "ipython3",
   "version": "3.7.7"
  }
 },
 "nbformat": 4,
 "nbformat_minor": 4
}
