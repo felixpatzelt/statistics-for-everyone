{
 "cells": [
  {
   "cell_type": "code",
   "execution_count": 1,
   "metadata": {},
   "outputs": [],
   "source": [
    "%matplotlib inline\n",
    "%config InlineBackend.figure_format = 'retina'\n",
    "import matplotlib.pyplot as plt\n",
    "import numpy as np\n",
    "import random as rd"
   ]
  },
  {
   "cell_type": "markdown",
   "metadata": {},
   "source": [
    "# How make a decision, if the means of two samples are significantly different?"
   ]
  },
  {
   "cell_type": "markdown",
   "metadata": {},
   "source": [
    "## Generate a Population of 10,000,000 elements"
   ]
  },
  {
   "cell_type": "code",
   "execution_count": 2,
   "metadata": {},
   "outputs": [],
   "source": [
    "np.random.seed(None)\n",
    "pop = list(np.random.normal(100, 20, 10000000))"
   ]
  },
  {
   "cell_type": "markdown",
   "metadata": {},
   "source": [
    "### Mean and standard deviation from the Population:"
   ]
  },
  {
   "cell_type": "code",
   "execution_count": 3,
   "metadata": {},
   "outputs": [
    {
     "data": {
      "text/plain": [
       "(99.9899433671507, 19.999733628535555)"
      ]
     },
     "execution_count": 3,
     "metadata": {},
     "output_type": "execute_result"
    }
   ],
   "source": [
    "pop_mean = np.mean(pop)\n",
    "pop_sd = np.std(pop)\n",
    "\n",
    "pop_mean, pop_sd"
   ]
  },
  {
   "cell_type": "code",
   "execution_count": null,
   "metadata": {},
   "outputs": [],
   "source": [
    "plt.figure()\n",
    "plt.hist(pop, bins=100, density=True)\n",
    "plt.axvline(x=pop_mean, color=\"orange\")\n",
    "plt.axvline(x=pop_mean - pop_sd, color=\"red\")\n",
    "plt.axvline(x=pop_mean + pop_sd, color=\"red\")\n",
    "plt.xlim(-50, 250)\n",
    "plt.show()\n"
   ]
  },
  {
   "cell_type": "code",
   "execution_count": null,
   "metadata": {},
   "outputs": [],
   "source": []
  },
  {
   "cell_type": "markdown",
   "metadata": {},
   "source": [
    "## Drawing two random samples of 10 elements"
   ]
  },
  {
   "cell_type": "code",
   "execution_count": null,
   "metadata": {},
   "outputs": [],
   "source": [
    "sample_n = 30\n",
    "x1 = rd.sample(pop, sample_n)\n",
    "x2 = rd.sample(pop, sample_n)"
   ]
  },
  {
   "cell_type": "markdown",
   "metadata": {},
   "source": [
    "### Mean and standard deviation from the samples:"
   ]
  },
  {
   "cell_type": "code",
   "execution_count": null,
   "metadata": {},
   "outputs": [],
   "source": [
    "x1_mean_hat = np.mean(x1)\n",
    "x1_sd_hat = np.std(x1, ddof=1)\n",
    "\n",
    "x1_mean_hat, x1_sd_hat"
   ]
  },
  {
   "cell_type": "code",
   "execution_count": null,
   "metadata": {},
   "outputs": [],
   "source": [
    "x2_mean_hat = np.mean(x2)\n",
    "x2_sd_hat = np.std(x2, ddof=1)\n",
    "\n",
    "x2_mean_hat, x2_sd_hat"
   ]
  },
  {
   "cell_type": "code",
   "execution_count": null,
   "metadata": {},
   "outputs": [],
   "source": [
    "plt.figure()\n",
    "plt.hist(x1, bins=100, density=True)\n",
    "plt.xlim(-50, 250)\n",
    "plt.axvline(x=x1_mean_hat, color=\"orange\")\n",
    "plt.axvline(x=x1_mean_hat - x1_sd_hat, color=\"red\")\n",
    "plt.axvline(x=x1_mean_hat + x1_sd_hat, color=\"red\")\n",
    "plt.show()"
   ]
  },
  {
   "cell_type": "code",
   "execution_count": null,
   "metadata": {},
   "outputs": [],
   "source": [
    "plt.figure()\n",
    "plt.hist(x2, bins=100, density=True)\n",
    "plt.xlim(-50, 250)\n",
    "plt.axvline(x=x2_mean_hat, color=\"orange\")\n",
    "plt.axvline(x=x2_mean_hat - x2_sd_hat, color=\"red\")\n",
    "plt.axvline(x=x2_mean_hat + x2_sd_hat, color=\"red\")\n",
    "plt.show()"
   ]
  },
  {
   "cell_type": "markdown",
   "metadata": {},
   "source": [
    "## Drawing 100 independent random samples from the population"
   ]
  },
  {
   "cell_type": "code",
   "execution_count": null,
   "metadata": {},
   "outputs": [],
   "source": [
    "n_samples = 1000\n",
    "xn_means =[np.mean(rd.sample(pop, sample_n)) for i in range(n_samples)]"
   ]
  },
  {
   "cell_type": "markdown",
   "metadata": {},
   "source": [
    "### Mean and standard deviation from the sample means"
   ]
  },
  {
   "cell_type": "code",
   "execution_count": null,
   "metadata": {},
   "outputs": [],
   "source": [
    "xn_means_mean_hat = np.mean(xn_means)\n",
    "xn_means_sd_hat = np.std(xn_means)\n",
    "\n",
    "xn_means_mean_hat, xn_means_sd_hat "
   ]
  },
  {
   "cell_type": "code",
   "execution_count": null,
   "metadata": {},
   "outputs": [],
   "source": [
    "plt.figure()\n",
    "plt.hist(xn_means, bins=100, density=True)\n",
    "plt.xlim(-50, 250)\n",
    "plt.axvline(x=xn_means_mean_hat, color=\"orange\")\n",
    "plt.axvline(x=xn_means_mean_hat - xn_means_sd_hat, color=\"red\")\n",
    "plt.axvline(x=xn_means_mean_hat + xn_means_sd_hat, color=\"red\")\n",
    "plt.show()"
   ]
  },
  {
   "cell_type": "markdown",
   "metadata": {},
   "source": [
    "## The standard deviation of the means can be derived differently and is generally called standard error!"
   ]
  },
  {
   "cell_type": "markdown",
   "metadata": {},
   "source": [
    "### True standard error"
   ]
  },
  {
   "cell_type": "code",
   "execution_count": null,
   "metadata": {},
   "outputs": [],
   "source": [
    "x_se = pop_sd / np.sqrt(sample_n)\n",
    "\n",
    "x_se"
   ]
  },
  {
   "cell_type": "markdown",
   "metadata": {},
   "source": [
    "### Estimated standard error purely from sample"
   ]
  },
  {
   "cell_type": "code",
   "execution_count": null,
   "metadata": {},
   "outputs": [],
   "source": [
    "x1_se_hat = x1_sd_hat / np.sqrt(sample_n-1) # one df\n",
    "x2_se_hat = x2_sd_hat / np.sqrt(sample_n-1)\n",
    "\n",
    "x1_se_hat, x2_se_hat"
   ]
  },
  {
   "cell_type": "code",
   "execution_count": null,
   "metadata": {},
   "outputs": [],
   "source": [
    "x_se, xn_means_sd_hat, x1_se_hat, x2_se_hat"
   ]
  },
  {
   "cell_type": "markdown",
   "metadata": {},
   "source": [
    "## We can derive from the sample itself the standard error and thereby the precision of the sample mean!"
   ]
  },
  {
   "cell_type": "code",
   "execution_count": null,
   "metadata": {},
   "outputs": [],
   "source": []
  }
 ],
 "metadata": {
  "kernelspec": {
   "display_name": "Python 3",
   "language": "python",
   "name": "python3"
  },
  "language_info": {
   "codemirror_mode": {
    "name": "ipython",
    "version": 3
   },
   "file_extension": ".py",
   "mimetype": "text/x-python",
   "name": "python",
   "nbconvert_exporter": "python",
   "pygments_lexer": "ipython3",
   "version": "3.8.2"
  }
 },
 "nbformat": 4,
 "nbformat_minor": 4
}
