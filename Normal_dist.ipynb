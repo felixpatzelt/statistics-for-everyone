{
 "cells": [
  {
   "cell_type": "code",
   "execution_count": 2,
   "metadata": {},
   "outputs": [
    {
     "data": {
      "text/html": [
       "<style>@import url(https://fonts.googleapis.com/css?family=Lato:400,700,400italic,700italic);</style>"
      ],
      "text/plain": [
       "<IPython.core.display.HTML object>"
      ]
     },
     "execution_count": 2,
     "metadata": {},
     "output_type": "execute_result"
    }
   ],
   "source": [
    "# setup\n",
    "from helpers.normal import *\n",
    "import helpers.plotting as pt\n",
    "import numpy as np\n",
    "import pandas as pd\n",
    "import scipy.stats as stats\n",
    "pt.enable_slide_theme()\n",
    "pt.import_lato_font_in_notebook()"
   ]
  },
  {
   "cell_type": "markdown",
   "metadata": {},
   "source": [
    "# How make a decision, if the means of two samples are significantly different?"
   ]
  },
  {
   "cell_type": "markdown",
   "metadata": {},
   "source": [
    "We collect observations for a normal distributed variable from a population. The population distribution parameter are in real experiments unknown, however, in our example we know the true mean of 100 and the true standard deviation of 20. This gives us the possibility to compare our sample estimates with the population parameters."
   ]
  },
  {
   "cell_type": "code",
   "execution_count": 3,
   "metadata": {},
   "outputs": [],
   "source": [
    "seed = np.random.seed(12321)"
   ]
  },
  {
   "cell_type": "markdown",
   "metadata": {},
   "source": [
    "For a variable of interest we collect 20 observations repeated in 30 experiments"
   ]
  },
  {
   "cell_type": "code",
   "execution_count": 4,
   "metadata": {},
   "outputs": [],
   "source": [
    "# population parameter \n",
    "## population 1\n",
    "means = [100, 110]\n",
    "std = 20 \n",
    "n_observations = 30\n",
    "n_samples = 100"
   ]
  },
  {
   "cell_type": "code",
   "execution_count": 5,
   "metadata": {},
   "outputs": [
    {
     "name": "stdout",
     "output_type": "stream",
     "text": [
      "   experiment  sample    variable\n",
      "0           1       1  110.280189\n",
      "1           1       1   89.033209\n",
      "2           1       1  134.947713\n",
      "3           1       1   88.336252\n",
      "4           1       1   66.665020\n"
     ]
    }
   ],
   "source": [
    "df = mormal_dist_df(means, std, n_observations, n_samples)\n",
    "data = pt.df_to_datasource(df)\n",
    "print(data.head())"
   ]
  },
  {
   "cell_type": "code",
   "execution_count": 105,
   "metadata": {},
   "outputs": [],
   "source": [
    "data_exp1 = data.loc[(data['experiment'] == 1)]\n",
    "data_exp1_semp1 = data_exp1.loc[(data_exp1['sample'] == 1)]\n",
    "\n",
    "data_exp2 = data.loc[(data['experiment'] == 2)]\n",
    "data_exp2_semp1 = data_exp2.loc[(data_exp2['sample'] == 1)]"
   ]
  },
  {
   "cell_type": "code",
   "execution_count": 106,
   "metadata": {},
   "outputs": [
    {
     "data": {
      "application/vnd.vegalite.v4+json": {
       "$schema": "https://vega.github.io/schema/vega-lite/v4.8.1.json",
       "config": {
        "axis": {
         "grid": false
        },
        "axisX": {
         "labelFont": [
          "Lato",
          "Helvetica Neue",
          "Helvetica",
          "Arial",
          "Sans Serif"
         ],
         "labelFontSize": 16,
         "titleFont": [
          "Lato",
          "Helvetica Neue",
          "Helvetica",
          "Arial",
          "Sans Serif"
         ],
         "titleFontSize": 16,
         "titleFontWeight": "normal",
         "titlePadding": 10
        },
        "axisY": {
         "labelFont": [
          "Lato",
          "Helvetica Neue",
          "Helvetica",
          "Arial",
          "Sans Serif"
         ],
         "labelFontSize": 16,
         "titleFont": [
          "Lato",
          "Helvetica Neue",
          "Helvetica",
          "Arial",
          "Sans Serif"
         ],
         "titleFontSize": 16,
         "titleFontWeight": "normal",
         "titlePadding": 10
        },
        "legend": {
         "labelFont": [
          "Lato",
          "Helvetica Neue",
          "Helvetica",
          "Arial",
          "Sans Serif"
         ],
         "labelFontSize": 16,
         "titleFont": [
          "Lato",
          "Helvetica Neue",
          "Helvetica",
          "Arial",
          "Sans Serif"
         ],
         "titleFontSize": 16,
         "titleFontWeight": "normal"
        },
        "text": {
         "font": [
          "Lato",
          "Helvetica Neue",
          "Helvetica",
          "Arial",
          "Sans Serif"
         ],
         "fontSize": 14.4
        },
        "title": {
         "font": [
          "Lato",
          "Helvetica Neue",
          "Helvetica",
          "Arial",
          "Sans Serif"
         ],
         "fontSize": 24,
         "fontWeight": "normal"
        },
        "view": {
         "strokeWidth": 0
        }
       },
       "data": {
        "format": {
         "type": "csv"
        },
        "url": "altair-data-fff7463ae2c4ad418ec9313e2f41b78e.csv"
       },
       "height": 250,
       "layer": [
        {
         "encoding": {
          "x": {
           "bin": {
            "maxbins": 50
           },
           "field": "variable",
           "title": "Variable",
           "type": "quantitative"
          },
          "y": {
           "aggregate": "count",
           "title": "Count",
           "type": "quantitative"
          }
         },
         "mark": "bar",
         "selection": {
          "selector004": {
           "bind": {
            "input": "range",
            "max": 2,
            "min": 1,
            "name": "Experiment: ",
            "step": 1
           },
           "init": {
            "experiment": 1
           },
           "type": "single"
          }
         },
         "transform": [
          {
           "joinaggregate": [
            {
             "as": "pop_m",
             "field": "variable",
             "op": "mean"
            },
            {
             "as": "pop_sd",
             "field": "variable",
             "op": "stdev"
            }
           ]
          },
          {
           "as": "pop_mean",
           "calculate": "datum.pop_m"
          },
          {
           "as": "pop_mean_m_sd",
           "calculate": "(datum.pop_m - datum.pop_sd)"
          },
          {
           "as": "pop_mean_p_sd",
           "calculate": "(datum.pop_m + datum.pop_sd)"
          }
         ]
        },
        {
         "encoding": {
          "x": {
           "field": "pop_mean",
           "type": "quantitative"
          }
         },
         "mark": {
          "color": "red",
          "type": "rule"
         },
         "transform": [
          {
           "joinaggregate": [
            {
             "as": "pop_m",
             "field": "variable",
             "op": "mean"
            },
            {
             "as": "pop_sd",
             "field": "variable",
             "op": "stdev"
            }
           ]
          },
          {
           "as": "pop_mean",
           "calculate": "datum.pop_m"
          },
          {
           "as": "pop_mean_m_sd",
           "calculate": "(datum.pop_m - datum.pop_sd)"
          },
          {
           "as": "pop_mean_p_sd",
           "calculate": "(datum.pop_m + datum.pop_sd)"
          }
         ]
        },
        {
         "encoding": {
          "x": {
           "field": "pop_mean_m_sd",
           "type": "quantitative"
          }
         },
         "mark": {
          "color": "orange",
          "type": "rule"
         },
         "transform": [
          {
           "joinaggregate": [
            {
             "as": "pop_m",
             "field": "variable",
             "op": "mean"
            },
            {
             "as": "pop_sd",
             "field": "variable",
             "op": "stdev"
            }
           ]
          },
          {
           "as": "pop_mean",
           "calculate": "datum.pop_m"
          },
          {
           "as": "pop_mean_m_sd",
           "calculate": "(datum.pop_m - datum.pop_sd)"
          },
          {
           "as": "pop_mean_p_sd",
           "calculate": "(datum.pop_m + datum.pop_sd)"
          }
         ]
        },
        {
         "encoding": {
          "x": {
           "field": "pop_mean_p_sd",
           "type": "quantitative"
          }
         },
         "mark": {
          "color": "orange",
          "type": "rule"
         },
         "transform": [
          {
           "joinaggregate": [
            {
             "as": "pop_m",
             "field": "variable",
             "op": "mean"
            },
            {
             "as": "pop_sd",
             "field": "variable",
             "op": "stdev"
            }
           ]
          },
          {
           "as": "pop_mean",
           "calculate": "datum.pop_m"
          },
          {
           "as": "pop_mean_m_sd",
           "calculate": "(datum.pop_m - datum.pop_sd)"
          },
          {
           "as": "pop_mean_p_sd",
           "calculate": "(datum.pop_m + datum.pop_sd)"
          }
         ]
        }
       ],
       "transform": [
        {
         "filter": "((datum.experiment - selector004.experiment) === 0)"
        }
       ],
       "width": 250
      },
      "image/png": "[encoded data removed]",
      "text/plain": [
       "<VegaLite 4 object>\n",
       "\n",
       "If you see this message, it means the renderer has not been properly enabled\n",
       "for the frontend that you are using. For more information, see\n",
       "https://altair-viz.github.io/user_guide/troubleshooting.html\n"
      ]
     },
     "metadata": {
      "application/vnd.vegalite.v4+json": {
       "embed_options": {
        "renderer": "svg"
       }
      }
     },
     "output_type": "display_data"
    }
   ],
   "source": [
    "plot_normal_experiment(data)"
   ]
  },
  {
   "cell_type": "code",
   "execution_count": 107,
   "metadata": {},
   "outputs": [
    {
     "data": {
      "application/vnd.vegalite.v4+json": {
       "$schema": "https://vega.github.io/schema/vega-lite/v4.8.1.json",
       "config": {
        "axis": {
         "grid": false
        },
        "axisX": {
         "labelFont": [
          "Lato",
          "Helvetica Neue",
          "Helvetica",
          "Arial",
          "Sans Serif"
         ],
         "labelFontSize": 16,
         "titleFont": [
          "Lato",
          "Helvetica Neue",
          "Helvetica",
          "Arial",
          "Sans Serif"
         ],
         "titleFontSize": 16,
         "titleFontWeight": "normal",
         "titlePadding": 10
        },
        "axisY": {
         "labelFont": [
          "Lato",
          "Helvetica Neue",
          "Helvetica",
          "Arial",
          "Sans Serif"
         ],
         "labelFontSize": 16,
         "titleFont": [
          "Lato",
          "Helvetica Neue",
          "Helvetica",
          "Arial",
          "Sans Serif"
         ],
         "titleFontSize": 16,
         "titleFontWeight": "normal",
         "titlePadding": 10
        },
        "legend": {
         "labelFont": [
          "Lato",
          "Helvetica Neue",
          "Helvetica",
          "Arial",
          "Sans Serif"
         ],
         "labelFontSize": 16,
         "titleFont": [
          "Lato",
          "Helvetica Neue",
          "Helvetica",
          "Arial",
          "Sans Serif"
         ],
         "titleFontSize": 16,
         "titleFontWeight": "normal"
        },
        "text": {
         "font": [
          "Lato",
          "Helvetica Neue",
          "Helvetica",
          "Arial",
          "Sans Serif"
         ],
         "fontSize": 14.4
        },
        "title": {
         "font": [
          "Lato",
          "Helvetica Neue",
          "Helvetica",
          "Arial",
          "Sans Serif"
         ],
         "fontSize": 24,
         "fontWeight": "normal"
        },
        "view": {
         "strokeWidth": 0
        }
       },
       "data": {
        "format": {
         "type": "csv"
        },
        "url": "altair-data-fff7463ae2c4ad418ec9313e2f41b78e.csv"
       },
       "height": 250,
       "layer": [
        {
         "encoding": {
          "x": {
           "bin": {
            "maxbins": 50
           },
           "field": "variable",
           "title": "Variable",
           "type": "quantitative"
          },
          "y": {
           "aggregate": "count",
           "title": "Count",
           "type": "quantitative"
          }
         },
         "mark": "bar",
         "selection": {
          "selector005": {
           "bind": {
            "input": "range",
            "max": 2,
            "min": 1,
            "name": "Experiment: ",
            "step": 1
           },
           "init": {
            "experiment": 1
           },
           "type": "single"
          },
          "selector006": {
           "bind": {
            "input": "range",
            "max": 100,
            "min": 1,
            "name": "Sample: ",
            "step": 1
           },
           "init": {
            "sample": 1
           },
           "type": "single"
          }
         },
         "transform": [
          {
           "joinaggregate": [
            {
             "as": "pop_m",
             "field": "variable",
             "op": "mean"
            },
            {
             "as": "pop_sd",
             "field": "variable",
             "op": "stdev"
            }
           ]
          },
          {
           "as": "pop_mean",
           "calculate": "datum.pop_m"
          },
          {
           "as": "pop_mean_m_sd",
           "calculate": "(datum.pop_m - datum.pop_sd)"
          },
          {
           "as": "pop_mean_p_sd",
           "calculate": "(datum.pop_m + datum.pop_sd)"
          }
         ]
        },
        {
         "encoding": {
          "x": {
           "field": "pop_mean",
           "type": "quantitative"
          }
         },
         "mark": {
          "color": "red",
          "type": "rule"
         },
         "transform": [
          {
           "joinaggregate": [
            {
             "as": "pop_m",
             "field": "variable",
             "op": "mean"
            },
            {
             "as": "pop_sd",
             "field": "variable",
             "op": "stdev"
            }
           ]
          },
          {
           "as": "pop_mean",
           "calculate": "datum.pop_m"
          },
          {
           "as": "pop_mean_m_sd",
           "calculate": "(datum.pop_m - datum.pop_sd)"
          },
          {
           "as": "pop_mean_p_sd",
           "calculate": "(datum.pop_m + datum.pop_sd)"
          }
         ]
        },
        {
         "encoding": {
          "x": {
           "field": "pop_mean_m_sd",
           "type": "quantitative"
          }
         },
         "mark": {
          "color": "orange",
          "type": "rule"
         },
         "transform": [
          {
           "joinaggregate": [
            {
             "as": "pop_m",
             "field": "variable",
             "op": "mean"
            },
            {
             "as": "pop_sd",
             "field": "variable",
             "op": "stdev"
            }
           ]
          },
          {
           "as": "pop_mean",
           "calculate": "datum.pop_m"
          },
          {
           "as": "pop_mean_m_sd",
           "calculate": "(datum.pop_m - datum.pop_sd)"
          },
          {
           "as": "pop_mean_p_sd",
           "calculate": "(datum.pop_m + datum.pop_sd)"
          }
         ]
        },
        {
         "encoding": {
          "x": {
           "field": "pop_mean_p_sd",
           "type": "quantitative"
          }
         },
         "mark": {
          "color": "orange",
          "type": "rule"
         },
         "transform": [
          {
           "joinaggregate": [
            {
             "as": "pop_m",
             "field": "variable",
             "op": "mean"
            },
            {
             "as": "pop_sd",
             "field": "variable",
             "op": "stdev"
            }
           ]
          },
          {
           "as": "pop_mean",
           "calculate": "datum.pop_m"
          },
          {
           "as": "pop_mean_m_sd",
           "calculate": "(datum.pop_m - datum.pop_sd)"
          },
          {
           "as": "pop_mean_p_sd",
           "calculate": "(datum.pop_m + datum.pop_sd)"
          }
         ]
        }
       ],
       "transform": [
        {
         "filter": "((datum.experiment - selector005.experiment) === 0)"
        },
        {
         "filter": "((datum.sample - selector006.sample) === 0)"
        }
       ],
       "width": 250
      },
      "image/png": "[encoded data removed]",
      "text/plain": [
       "<VegaLite 4 object>\n",
       "\n",
       "If you see this message, it means the renderer has not been properly enabled\n",
       "for the frontend that you are using. For more information, see\n",
       "https://altair-viz.github.io/user_guide/troubleshooting.html\n"
      ]
     },
     "metadata": {
      "application/vnd.vegalite.v4+json": {
       "embed_options": {
        "renderer": "svg"
       }
      }
     },
     "output_type": "display_data"
    }
   ],
   "source": [
    "plot_normal_sample(data)"
   ]
  },
  {
   "cell_type": "markdown",
   "metadata": {},
   "source": [
    "## Mean and variance for all experiments"
   ]
  },
  {
   "cell_type": "markdown",
   "metadata": {},
   "source": [
    "### Mean and standard deviation from the sample means"
   ]
  },
  {
   "cell_type": "code",
   "execution_count": 108,
   "metadata": {},
   "outputs": [
    {
     "data": {
      "text/plain": [
       "(100.17020767813209, 3.475954613428187)"
      ]
     },
     "execution_count": 108,
     "metadata": {},
     "output_type": "execute_result"
    }
   ],
   "source": [
    "exp1_samp_means = pd.DataFrame(data_exp1.groupby('sample')['variable'].mean())\n",
    "\n",
    "exp1_samp_means_mean_hat = exp1_samp_means['variable'].mean()\n",
    "exp1_samp_means_sd_hat = exp1_samp_means['variable'].std()\n",
    "\n",
    "exp1_samp_means_mean_hat, exp1_samp_means_sd_hat "
   ]
  },
  {
   "cell_type": "code",
   "execution_count": 109,
   "metadata": {},
   "outputs": [
    {
     "data": {
      "application/vnd.vegalite.v4+json": {
       "$schema": "https://vega.github.io/schema/vega-lite/v4.8.1.json",
       "config": {
        "axis": {
         "grid": false
        },
        "axisX": {
         "labelFont": [
          "Lato",
          "Helvetica Neue",
          "Helvetica",
          "Arial",
          "Sans Serif"
         ],
         "labelFontSize": 16,
         "titleFont": [
          "Lato",
          "Helvetica Neue",
          "Helvetica",
          "Arial",
          "Sans Serif"
         ],
         "titleFontSize": 16,
         "titleFontWeight": "normal",
         "titlePadding": 10
        },
        "axisY": {
         "labelFont": [
          "Lato",
          "Helvetica Neue",
          "Helvetica",
          "Arial",
          "Sans Serif"
         ],
         "labelFontSize": 16,
         "titleFont": [
          "Lato",
          "Helvetica Neue",
          "Helvetica",
          "Arial",
          "Sans Serif"
         ],
         "titleFontSize": 16,
         "titleFontWeight": "normal",
         "titlePadding": 10
        },
        "legend": {
         "labelFont": [
          "Lato",
          "Helvetica Neue",
          "Helvetica",
          "Arial",
          "Sans Serif"
         ],
         "labelFontSize": 16,
         "titleFont": [
          "Lato",
          "Helvetica Neue",
          "Helvetica",
          "Arial",
          "Sans Serif"
         ],
         "titleFontSize": 16,
         "titleFontWeight": "normal"
        },
        "text": {
         "font": [
          "Lato",
          "Helvetica Neue",
          "Helvetica",
          "Arial",
          "Sans Serif"
         ],
         "fontSize": 14.4
        },
        "title": {
         "font": [
          "Lato",
          "Helvetica Neue",
          "Helvetica",
          "Arial",
          "Sans Serif"
         ],
         "fontSize": 24,
         "fontWeight": "normal"
        },
        "view": {
         "strokeWidth": 0
        }
       },
       "data": {
        "format": {
         "type": "csv"
        },
        "url": "altair-data-4c8146c040da117f487cee56d1bef191.csv"
       },
       "height": 250,
       "layer": [
        {
         "encoding": {
          "x": {
           "bin": {
            "maxbins": 50
           },
           "field": "variable",
           "title": "Variable",
           "type": "quantitative"
          },
          "y": {
           "aggregate": "count",
           "title": "Count",
           "type": "quantitative"
          }
         },
         "mark": "bar",
         "transform": [
          {
           "joinaggregate": [
            {
             "as": "pop_m",
             "field": "variable",
             "op": "mean"
            },
            {
             "as": "pop_sd",
             "field": "variable",
             "op": "stdev"
            }
           ]
          },
          {
           "as": "pop_mean",
           "calculate": "datum.pop_m"
          },
          {
           "as": "pop_mean_m_sd",
           "calculate": "(datum.pop_m - datum.pop_sd)"
          },
          {
           "as": "pop_mean_p_sd",
           "calculate": "(datum.pop_m + datum.pop_sd)"
          }
         ]
        },
        {
         "encoding": {
          "x": {
           "field": "pop_mean",
           "type": "quantitative"
          }
         },
         "mark": {
          "color": "red",
          "type": "rule"
         },
         "transform": [
          {
           "joinaggregate": [
            {
             "as": "pop_m",
             "field": "variable",
             "op": "mean"
            },
            {
             "as": "pop_sd",
             "field": "variable",
             "op": "stdev"
            }
           ]
          },
          {
           "as": "pop_mean",
           "calculate": "datum.pop_m"
          },
          {
           "as": "pop_mean_m_sd",
           "calculate": "(datum.pop_m - datum.pop_sd)"
          },
          {
           "as": "pop_mean_p_sd",
           "calculate": "(datum.pop_m + datum.pop_sd)"
          }
         ]
        },
        {
         "encoding": {
          "x": {
           "field": "pop_mean_m_sd",
           "type": "quantitative"
          }
         },
         "mark": {
          "color": "orange",
          "type": "rule"
         },
         "transform": [
          {
           "joinaggregate": [
            {
             "as": "pop_m",
             "field": "variable",
             "op": "mean"
            },
            {
             "as": "pop_sd",
             "field": "variable",
             "op": "stdev"
            }
           ]
          },
          {
           "as": "pop_mean",
           "calculate": "datum.pop_m"
          },
          {
           "as": "pop_mean_m_sd",
           "calculate": "(datum.pop_m - datum.pop_sd)"
          },
          {
           "as": "pop_mean_p_sd",
           "calculate": "(datum.pop_m + datum.pop_sd)"
          }
         ]
        },
        {
         "encoding": {
          "x": {
           "field": "pop_mean_p_sd",
           "type": "quantitative"
          }
         },
         "mark": {
          "color": "orange",
          "type": "rule"
         },
         "transform": [
          {
           "joinaggregate": [
            {
             "as": "pop_m",
             "field": "variable",
             "op": "mean"
            },
            {
             "as": "pop_sd",
             "field": "variable",
             "op": "stdev"
            }
           ]
          },
          {
           "as": "pop_mean",
           "calculate": "datum.pop_m"
          },
          {
           "as": "pop_mean_m_sd",
           "calculate": "(datum.pop_m - datum.pop_sd)"
          },
          {
           "as": "pop_mean_p_sd",
           "calculate": "(datum.pop_m + datum.pop_sd)"
          }
         ]
        }
       ],
       "width": 250
      },
      "image/png": "[encoded data removed]",
      "text/plain": [
       "<VegaLite 4 object>\n",
       "\n",
       "If you see this message, it means the renderer has not been properly enabled\n",
       "for the frontend that you are using. For more information, see\n",
       "https://altair-viz.github.io/user_guide/troubleshooting.html\n"
      ]
     },
     "metadata": {
      "application/vnd.vegalite.v4+json": {
       "embed_options": {
        "renderer": "svg"
       }
      }
     },
     "output_type": "display_data"
    }
   ],
   "source": [
    "plot_normal(exp1_samp_means)"
   ]
  },
  {
   "cell_type": "markdown",
   "metadata": {},
   "source": [
    "## The standard deviation of the means can be derived differently and is generally called standard error!"
   ]
  },
  {
   "cell_type": "markdown",
   "metadata": {},
   "source": [
    "### True standard error"
   ]
  },
  {
   "cell_type": "code",
   "execution_count": 110,
   "metadata": {},
   "outputs": [
    {
     "data": {
      "text/plain": [
       "3.6514837167011076"
      ]
     },
     "execution_count": 110,
     "metadata": {},
     "output_type": "execute_result"
    }
   ],
   "source": [
    "se_n = std / np.sqrt(n_observations)\n",
    "\n",
    "se_n"
   ]
  },
  {
   "cell_type": "markdown",
   "metadata": {},
   "source": [
    "### Estimated standard error purely from sample"
   ]
  },
  {
   "cell_type": "code",
   "execution_count": 111,
   "metadata": {},
   "outputs": [
    {
     "data": {
      "text/plain": [
       "3.684904725791052"
      ]
     },
     "execution_count": 111,
     "metadata": {},
     "output_type": "execute_result"
    }
   ],
   "source": [
    "samp1_sd_hat = data_semp1['variable'].std()\n",
    "samp1_se_hat = samp1_sd_hat / np.sqrt(n_observations)\n",
    "\n",
    "samp1_se_hat"
   ]
  },
  {
   "cell_type": "code",
   "execution_count": 112,
   "metadata": {},
   "outputs": [
    {
     "data": {
      "text/plain": [
       "(3.6514837167011076, 3.475954613428187, 3.684904725791052)"
      ]
     },
     "execution_count": 112,
     "metadata": {},
     "output_type": "execute_result"
    }
   ],
   "source": [
    "se_n, exp1_samp_means_sd_hat, samp1_se_hat # 30 data points"
   ]
  },
  {
   "cell_type": "markdown",
   "metadata": {},
   "source": [
    "#### Standard errors can be used to for significance testing of the differnce of the means of tow samples"
   ]
  },
  {
   "cell_type": "markdown",
   "metadata": {},
   "source": [
    "# Significance testing (Z-Test)"
   ]
  },
  {
   "cell_type": "code",
   "execution_count": 113,
   "metadata": {},
   "outputs": [],
   "source": [
    "# diff sample means\n",
    "effect = data_exp2_semp1['variable'].mean() - data_exp1_semp1['variable'].mean() \n",
    "# se for 60 data points\n",
    "se = (data_exp1_semp1['variable'].std() + data_exp2_semp1['variable'].std()) / np.sqrt(n_observations + n_observations)"
   ]
  },
  {
   "cell_type": "code",
   "execution_count": 114,
   "metadata": {},
   "outputs": [
    {
     "data": {
      "text/plain": [
       "1.7283989440577574"
      ]
     },
     "execution_count": 114,
     "metadata": {},
     "output_type": "execute_result"
    }
   ],
   "source": [
    "z_score = effect / se\n",
    "z_score"
   ]
  },
  {
   "cell_type": "code",
   "execution_count": 115,
   "metadata": {},
   "outputs": [
    {
     "data": {
      "text/plain": [
       "0.08391672468479117"
      ]
     },
     "execution_count": 115,
     "metadata": {},
     "output_type": "execute_result"
    }
   ],
   "source": [
    "# tow sided z-test\n",
    "p_val = 2 * (1 - stats.norm.cdf(abs(z_score)))\n",
    "p_val"
   ]
  },
  {
   "cell_type": "code",
   "execution_count": null,
   "metadata": {},
   "outputs": [],
   "source": []
  }
 ],
 "metadata": {
  "kernelspec": {
   "display_name": "Python 3",
   "language": "python",
   "name": "python3"
  },
  "language_info": {
   "codemirror_mode": {
    "name": "ipython",
    "version": 3
   },
   "file_extension": ".py",
   "mimetype": "text/x-python",
   "name": "python",
   "nbconvert_exporter": "python",
   "pygments_lexer": "ipython3",
   "version": "3.7.7"
  }
 },
 "nbformat": 4,
 "nbformat_minor": 4
}
