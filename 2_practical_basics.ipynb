{
 "cells": [
  {
   "cell_type": "markdown",
   "metadata": {
    "slideshow": {
     "slide_type": "slide"
    }
   },
   "source": [
    "## Practical basics\n",
    "\n",
    "It is easy to calculate the quantities we encounter most often in statistics!"
   ]
  },
  {
   "cell_type": "code",
   "execution_count": 1,
   "metadata": {
    "slideshow": {
     "slide_type": "skip"
    }
   },
   "outputs": [
    {
     "data": {
      "text/html": [
       "<style>@import url(https://fonts.googleapis.com/css?family=Lato:400,700,400italic,700italic);</style>"
      ],
      "text/plain": [
       "<IPython.core.display.HTML object>"
      ]
     },
     "execution_count": 1,
     "metadata": {},
     "output_type": "execute_result"
    }
   ],
   "source": [
    "import pandas as pd\n",
    "import numpy as np\n",
    "import altair as alt\n",
    "import helpers.plotting as pt\n",
    "from helpers.svg_wrapper import SVGImg\n",
    "from helpers.pracical_basics import plot_population_vs_sample_mean, print_example_statistics\n",
    "pt.enable_slide_theme()\n",
    "pt.import_lato_font_in_notebook()"
   ]
  },
  {
   "cell_type": "markdown",
   "metadata": {
    "slideshow": {
     "slide_type": "slide"
    }
   },
   "source": [
    "### How to characterise a sample of quantitative observations?\n",
    "\n",
    "- **Central tendency**: where are the observed values?\n",
    "- **Dispersion**: how far apart are the observed values?"
   ]
  },
  {
   "cell_type": "markdown",
   "metadata": {
    "slideshow": {
     "slide_type": "slide"
    }
   },
   "source": [
    "### For example, imagine drawing coins from a pocket\n",
    "\n",
    "- How much is each new coin worth?\n",
    "- How certain are we about that value?\n",
    "\n",
    "Let's start with an example of 5 coins..."
   ]
  },
  {
   "cell_type": "markdown",
   "metadata": {
    "slideshow": {
     "slide_type": "slide"
    }
   },
   "source": [
    "### Measures of central tendency"
   ]
  },
  {
   "cell_type": "code",
   "execution_count": 2,
   "metadata": {},
   "outputs": [
    {
     "data": {
      "text/html": [
       "\n",
       "            <object type=\"image/svg+xml\" data=\"images/coins_central_tendency.svg\" style=\"width: 70%; height: 100%; margin: auto;\">\n",
       "                <img src=\"images/coins_central_tendency.svg\" width=\"70%\" height=\"100%\"></img>\n",
       "            </object>\n",
       "            "
      ],
      "text/plain": [
       "<helpers.svg_wrapper.SVGImg at 0x10e3809d0>"
      ]
     },
     "execution_count": 2,
     "metadata": {},
     "output_type": "execute_result"
    }
   ],
   "source": [
    "SVGImg('images/coins_central_tendency.svg', width='70%', output_dir='slides')"
   ]
  },
  {
   "cell_type": "markdown",
   "metadata": {
    "slideshow": {
     "slide_type": "subslide"
    }
   },
   "source": [
    "## *\n",
    "\n",
    "If there is an even number of observations in our sample, <br>the median is in between the two central ones:\n",
    "- median([5,5,**10**,20,20]) = **10**\n",
    "- median([5,5,**10**,**20**,20,20]) = (**10**+**20**) / 2 = 15\n",
    "\n",
    "See e.g. https://en.wikipedia.org/wiki/Central_tendency for details <br>on these and other measures of central tendency."
   ]
  },
  {
   "cell_type": "markdown",
   "metadata": {
    "slideshow": {
     "slide_type": "slide"
    }
   },
   "source": [
    "### Measures of dispersion"
   ]
  },
  {
   "cell_type": "code",
   "execution_count": 3,
   "metadata": {},
   "outputs": [
    {
     "data": {
      "text/html": [
       "\n",
       "            <object type=\"image/svg+xml\" data=\"images/coins_dispersion.svg\" style=\"width: 70%; height: 100%; margin: auto;\">\n",
       "                <img src=\"images/coins_dispersion.svg\" width=\"70%\" height=\"100%\"></img>\n",
       "            </object>\n",
       "            "
      ],
      "text/plain": [
       "<helpers.svg_wrapper.SVGImg at 0x10e380d90>"
      ]
     },
     "execution_count": 3,
     "metadata": {},
     "output_type": "execute_result"
    }
   ],
   "source": [
    "SVGImg('images/coins_dispersion.svg', width='70%', output_dir='slides')"
   ]
  },
  {
   "cell_type": "markdown",
   "metadata": {
    "slideshow": {
     "slide_type": "subslide"
    }
   },
   "source": [
    "See e.g. https://en.wikipedia.org/wiki/Statistical_dispersion for details <br>on these and other measures of dispersion."
   ]
  },
  {
   "cell_type": "markdown",
   "metadata": {
    "slideshow": {
     "slide_type": "slide"
    }
   },
   "source": [
    "### We usually have incomplete information about the world\n",
    "\n",
    "- We can know the values of all the coins in our pocket.\n",
    "- What about all the coins in a vault? We might not have the time to look at them all!\n",
    "- We can still estimate the true statistics of a **population** <br> (e.g. all coins in a vault, all cards in a stack, ...) <br>from a representative **sample** that we draw in an experiment."
   ]
  },
  {
   "cell_type": "markdown",
   "metadata": {
    "slideshow": {
     "slide_type": "slide"
    }
   },
   "source": [
    "### The sample estimate of the population mean<br> is just the sample mean!\n",
    "\n",
    "- The sample mean is the sum of values divided by number of samples.\n",
    "- This is exactly the mean that we calculated above for the values of the five coins!"
   ]
  },
  {
   "cell_type": "markdown",
   "metadata": {
    "slideshow": {
     "slide_type": "slide"
    }
   },
   "source": [
    "### The sample variance is a biased estimate of the population variance!"
   ]
  },
  {
   "cell_type": "code",
   "execution_count": 4,
   "metadata": {},
   "outputs": [
    {
     "data": {
      "text/html": [
       "\n",
       "            <object type=\"image/svg+xml\" data=\"images/population_vs_sample.svg\" style=\"width: 100%; height: 100%; margin: auto;\">\n",
       "                <img src=\"images/population_vs_sample.svg\" width=\"100%\" height=\"100%\"></img>\n",
       "            </object>\n",
       "            "
      ],
      "text/plain": [
       "<helpers.svg_wrapper.SVGImg at 0x10e380d60>"
      ]
     },
     "execution_count": 4,
     "metadata": {},
     "output_type": "execute_result"
    }
   ],
   "source": [
    "SVGImg('images/population_vs_sample.svg', width='100%', output_dir='slides')"
   ]
  },
  {
   "cell_type": "code",
   "execution_count": 5,
   "metadata": {
    "slideshow": {
     "slide_type": "slide"
    }
   },
   "outputs": [
    {
     "data": {
      "text/html": [
       "<script type=\"text/x-mathjax-config\">\n",
       "MathJax.Hub.Config({\n",
       "    \"HTML-CSS\" : {\n",
       "        mtextFontInherit: true,\n",
       "    }\n",
       "});\n",
       "</script>\n"
      ],
      "text/plain": [
       "<IPython.core.display.HTML object>"
      ]
     },
     "metadata": {},
     "output_type": "display_data"
    }
   ],
   "source": [
    "%%html\n",
    "<script type=\"text/x-mathjax-config\">\n",
    "MathJax.Hub.Config({\n",
    "    \"HTML-CSS\" : {\n",
    "        mtextFontInherit: true,\n",
    "    }\n",
    "});\n",
    "</script>"
   ]
  },
  {
   "cell_type": "markdown",
   "metadata": {},
   "source": [
    "### All estimates have errors\n",
    "\n",
    "We often want to estimate the populalation mean from a sample and how precise we expect it to be. This \"standard error\" is calculated as follows $^{*▾}$:\n",
    "\n",
    "$\\text{Standard Error} = \\sqrt{\\frac{\\text{Population Variance}}{\\text{Sample Size}}}$.\n",
    "\n",
    "With the estimated population variance of our 5 coins, we obtain:\n",
    "\n",
    "$\\text{Standard Error (coin example)} = \\sqrt{\\frac{\\text{45}}{\\text{5}}} = \\sqrt{\\text{9}} = \\text{3}$."
   ]
  },
  {
   "cell_type": "markdown",
   "metadata": {
    "slideshow": {
     "slide_type": "subslide"
    }
   },
   "source": [
    "### *The standard error is still only an approximation \n",
    "\n",
    "- It can also be written as population standard deviation divided by the square root of the number of observations.\n",
    "- In contrast to the variance, the [standard deviation still has a bias](https://en.wikipedia.org/wiki/Unbiased_estimation_of_standard_deviation) because the square root is a curved function.\n",
    "- There are specific corrections for a number of scenarios\n",
    "- Knowing approximately how precise your estimate of the mean is much better than knowing nothing about it!"
   ]
  },
  {
   "cell_type": "markdown",
   "metadata": {
    "slideshow": {
     "slide_type": "slide"
    }
   },
   "source": [
    "### We now can answer our initial question:\n",
    "\n",
    "**Mean ± Standard Error** is a common way to state an estimate and its uncertainty. \n",
    "\n",
    "- In the example with 5 coins, we can say we expect the value of taking one coin out of the pocket is 13 ± 3 cents.\n",
    "\n",
    "- Some applications require higher confidence levels. In these cases 2 or more standard errors are [reported](https://en.wikipedia.org/wiki/68–95–99.7_rule)."
   ]
  },
  {
   "cell_type": "markdown",
   "metadata": {
    "slideshow": {
     "slide_type": "slide"
    }
   },
   "source": [
    "### We often show one standard error (SE) as error bars\n",
    "\n",
    "- **1SE error bars show if the means from two samples are significantly different**.\n",
    "- If the bars don't overlap, the observed means are > 2SE apart\n",
    "- Because of this, 1SE is a very common size for error bars.\n",
    "- This is what we looked at in the the card experiment in [section one](http://localhost:8000/1_cards.slides.html)."
   ]
  },
  {
   "cell_type": "code",
   "execution_count": 6,
   "metadata": {},
   "outputs": [
    {
     "data": {
      "text/html": [
       "\n",
       "            <object type=\"image/svg+xml\" data=\"images/error_bars.svg\" style=\"width: 50%; height: 100%; margin: auto;\">\n",
       "                <img src=\"images/error_bars.svg\" width=\"50%\" height=\"100%\"></img>\n",
       "            </object>\n",
       "            "
      ],
      "text/plain": [
       "<helpers.svg_wrapper.SVGImg at 0x11e70a6d0>"
      ]
     },
     "execution_count": 6,
     "metadata": {},
     "output_type": "execute_result"
    }
   ],
   "source": [
    "SVGImg('images/error_bars.svg', width='50%', output_dir='slides')"
   ]
  },
  {
   "cell_type": "markdown",
   "metadata": {
    "slideshow": {
     "slide_type": "slide"
    }
   },
   "source": [
    "### Two standard errors are approximately equal to the 95% confidence interval\n",
    "\n",
    "- The 95% confidence interval (CI) contains the population mean with 95% probability.\n",
    "- Sometimes used as the size for error bars - always check the description of a figure!\n",
    "- Allows to test if a **mean is different from an exact number**."
   ]
  },
  {
   "cell_type": "code",
   "execution_count": 7,
   "metadata": {},
   "outputs": [
    {
     "data": {
      "text/html": [
       "\n",
       "            <object type=\"image/svg+xml\" data=\"images/error_bars_ci.svg\" style=\"width: 50%; height: 100%; margin: auto;\">\n",
       "                <img src=\"images/error_bars_ci.svg\" width=\"50%\" height=\"100%\"></img>\n",
       "            </object>\n",
       "            "
      ],
      "text/plain": [
       "<helpers.svg_wrapper.SVGImg at 0x11e70a9d0>"
      ]
     },
     "execution_count": 7,
     "metadata": {},
     "output_type": "execute_result"
    }
   ],
   "source": [
    "SVGImg('images/error_bars_ci.svg', width='50%', output_dir='slides')"
   ]
  },
  {
   "cell_type": "markdown",
   "metadata": {
    "slideshow": {
     "slide_type": "slide"
    }
   },
   "source": [
    "### Try it!"
   ]
  },
  {
   "cell_type": "code",
   "execution_count": 8,
   "metadata": {},
   "outputs": [
    {
     "data": {
      "text/html": [
       "\n",
       "<div id=\"altair-viz-9441ae25eaab4f5284979f259ffa1df3\"></div>\n",
       "<script type=\"text/javascript\">\n",
       "  (function(spec, embedOpt){\n",
       "    let outputDiv = document.currentScript.previousElementSibling;\n",
       "    if (outputDiv.id !== \"altair-viz-9441ae25eaab4f5284979f259ffa1df3\") {\n",
       "      outputDiv = document.getElementById(\"altair-viz-9441ae25eaab4f5284979f259ffa1df3\");\n",
       "    }\n",
       "    const paths = {\n",
       "      \"vega\": \"https://cdn.jsdelivr.net/npm//vega@5?noext\",\n",
       "      \"vega-lib\": \"https://cdn.jsdelivr.net/npm//vega-lib?noext\",\n",
       "      \"vega-lite\": \"https://cdn.jsdelivr.net/npm//vega-lite@4.8.1?noext\",\n",
       "      \"vega-embed\": \"https://cdn.jsdelivr.net/npm//vega-embed@6?noext\",\n",
       "    };\n",
       "\n",
       "    function loadScript(lib) {\n",
       "      return new Promise(function(resolve, reject) {\n",
       "        var s = document.createElement('script');\n",
       "        s.src = paths[lib];\n",
       "        s.async = true;\n",
       "        s.onload = () => resolve(paths[lib]);\n",
       "        s.onerror = () => reject(`Error loading script: ${paths[lib]}`);\n",
       "        document.getElementsByTagName(\"head\")[0].appendChild(s);\n",
       "      });\n",
       "    }\n",
       "\n",
       "    function showError(err) {\n",
       "      outputDiv.innerHTML = `<div class=\"error\" style=\"color:red;\">${err}</div>`;\n",
       "      throw err;\n",
       "    }\n",
       "\n",
       "    function displayChart(vegaEmbed) {\n",
       "      vegaEmbed(outputDiv, spec, embedOpt)\n",
       "        .catch(err => showError(`Javascript Error: ${err.message}<br>This usually means there's a typo in your chart specification. See the javascript console for the full traceback.`));\n",
       "    }\n",
       "\n",
       "    if(typeof define === \"function\" && define.amd) {\n",
       "      requirejs.config({paths});\n",
       "      require([\"vega-embed\"], displayChart, err => showError(`Error loading script: ${err.message}`));\n",
       "    } else if (typeof vegaEmbed === \"function\") {\n",
       "      displayChart(vegaEmbed);\n",
       "    } else {\n",
       "      loadScript(\"vega\")\n",
       "        .then(() => loadScript(\"vega-lite\"))\n",
       "        .then(() => loadScript(\"vega-embed\"))\n",
       "        .catch(showError)\n",
       "        .then(() => displayChart(vegaEmbed));\n",
       "    }\n",
       "  })({\"config\": {\"title\": {\"fontSize\": 24.0, \"font\": [\"Lato\", \"Helvetica Neue\", \"Helvetica\", \"Arial\", \"Sans Serif\"], \"fontWeight\": \"normal\"}, \"axisX\": {\"labelFont\": [\"Lato\", \"Helvetica Neue\", \"Helvetica\", \"Arial\", \"Sans Serif\"], \"labelFontSize\": 16, \"titleFont\": [\"Lato\", \"Helvetica Neue\", \"Helvetica\", \"Arial\", \"Sans Serif\"], \"titleFontSize\": 16, \"titleFontWeight\": \"normal\", \"titlePadding\": 10}, \"axisY\": {\"labelFont\": [\"Lato\", \"Helvetica Neue\", \"Helvetica\", \"Arial\", \"Sans Serif\"], \"labelFontSize\": 16, \"titleFont\": [\"Lato\", \"Helvetica Neue\", \"Helvetica\", \"Arial\", \"Sans Serif\"], \"titleFontSize\": 16, \"titleFontWeight\": \"normal\", \"titlePadding\": 10}, \"legend\": {\"labelFont\": [\"Lato\", \"Helvetica Neue\", \"Helvetica\", \"Arial\", \"Sans Serif\"], \"labelFontSize\": 16, \"titleFont\": [\"Lato\", \"Helvetica Neue\", \"Helvetica\", \"Arial\", \"Sans Serif\"], \"titleFontSize\": 16, \"titleFontWeight\": \"normal\"}, \"text\": {\"font\": [\"Lato\", \"Helvetica Neue\", \"Helvetica\", \"Arial\", \"Sans Serif\"], \"fontSize\": 14.4}}, \"vconcat\": [{\"layer\": [{\"mark\": {\"type\": \"errorbar\", \"color\": \"red\", \"rule\": {\"size\": 1.5}, \"ticks\": true}, \"encoding\": {\"x\": {\"type\": \"quantitative\", \"axis\": {\"domain\": false, \"labels\": false, \"orient\": \"top\", \"ticks\": false, \"title\": \"Population mean \\u00b1 expected uncertainty\"}, \"field\": \"xmin\"}, \"x2\": {\"field\": \"xmax\"}}, \"selection\": {\"selector003\": {\"type\": \"single\", \"bind\": {\"input\": \"range\", \"min\": 10, \"max\": 200, \"step\": 1, \"name\": \"Sample size\"}, \"init\": {\"samples\": 50}}, \"selector002\": {\"type\": \"single\", \"bind\": {\"input\": \"range\", \"min\": 0.1, \"max\": 5, \"step\": 0.1, \"name\": \"Pop. Std.\"}, \"init\": {\"std\": 1.5}}, \"selector001\": {\"type\": \"single\", \"bind\": {\"input\": \"range\", \"min\": -5, \"max\": 5, \"step\": 0.1, \"name\": \"Pop. mean\"}, \"init\": {\"mean\": 0}}}}, {\"mark\": {\"type\": \"point\", \"color\": \"red\", \"filled\": true, \"size\": 20, \"stroke\": null}, \"encoding\": {\"x\": {\"type\": \"quantitative\", \"axis\": {\"title\": \"\"}, \"field\": \"mean\", \"scale\": {\"domain\": [-10, 10]}}}}], \"data\": {\"name\": \"data-a34019366e793aa5e70591f9693d64a7\"}, \"transform\": [{\"calculate\": \"selector001['mean']\", \"as\": \"mean\"}, {\"calculate\": \"selector002['std']\", \"as\": \"std\"}, {\"calculate\": \"selector003['samples']\", \"as\": \"samples\"}, {\"calculate\": \"selector004['ses']\", \"as\": \"ses\"}, {\"calculate\": \"+datum.mean - datum.ses * datum.std / sqrt(+datum.samples)\", \"as\": \"xmin\"}, {\"calculate\": \"+datum.mean + datum.ses * datum.std / sqrt(+datum.samples)\", \"as\": \"xmax\"}], \"view\": {\"strokeWidth\": 0}, \"width\": 500}, {\"vconcat\": [{\"layer\": [{\"mark\": {\"type\": \"errorbar\", \"rule\": {\"size\": 1.5}, \"ticks\": true}, \"encoding\": {\"x\": {\"type\": \"quantitative\", \"axis\": {\"domain\": false, \"labels\": false, \"orient\": \"top\", \"ticks\": false, \"title\": \"Sample mean \\u00b1 sample uncertainty\"}, \"field\": \"bar_min\", \"scale\": {\"domain\": [-10, 10]}}, \"x2\": {\"field\": \"bar_max\"}}, \"selection\": {\"selector004\": {\"type\": \"single\", \"bind\": {\"input\": \"range\", \"min\": 1, \"max\": 3, \"step\": 1, \"name\": \"Show std. errors\"}, \"init\": {\"ses\": 1}}, \"selector003\": {\"type\": \"single\", \"bind\": {\"input\": \"range\", \"min\": 10, \"max\": 200, \"step\": 1, \"name\": \"Sample size\"}, \"init\": {\"samples\": 50}}, \"selector002\": {\"type\": \"single\", \"bind\": {\"input\": \"range\", \"min\": 0.1, \"max\": 5, \"step\": 0.1, \"name\": \"Pop. Std.\"}, \"init\": {\"std\": 1.5}}, \"selector001\": {\"type\": \"single\", \"bind\": {\"input\": \"range\", \"min\": -5, \"max\": 5, \"step\": 0.1, \"name\": \"Pop. mean\"}, \"init\": {\"mean\": 0}}}}, {\"mark\": {\"type\": \"point\", \"filled\": true, \"size\": 20, \"stroke\": null}, \"encoding\": {\"x\": {\"type\": \"quantitative\", \"field\": \"sample_mean\"}}}], \"transform\": [{\"aggregate\": [{\"op\": \"mean\", \"field\": \"x\", \"as\": \"sample_mean\"}, {\"op\": \"stderr\", \"field\": \"x\", \"as\": \"sample_err\"}]}, {\"calculate\": \"selector004['ses']\", \"as\": \"ses\"}, {\"calculate\": \"+datum.sample_mean - datum.ses * datum.sample_err\", \"as\": \"bar_min\"}, {\"calculate\": \"+datum.sample_mean + datum.ses * datum.sample_err\", \"as\": \"bar_max\"}], \"view\": {\"strokeWidth\": 0}, \"width\": 500}, {\"mark\": {\"type\": \"bar\", \"clip\": true}, \"encoding\": {\"x\": {\"type\": \"quantitative\", \"axis\": {\"domain\": false, \"labels\": false, \"orient\": \"top\", \"ticks\": false, \"title\": \"Sample Histogram\"}, \"bin\": {}, \"field\": \"x\", \"scale\": {\"domain\": [-10, 10]}}, \"y\": {\"type\": \"quantitative\", \"aggregate\": \"count\", \"title\": \"Count\"}}, \"height\": 100, \"selection\": {\"selector004\": {\"type\": \"single\", \"bind\": {\"input\": \"range\", \"min\": 1, \"max\": 3, \"step\": 1, \"name\": \"Show std. errors\"}, \"init\": {\"ses\": 1}}, \"selector003\": {\"type\": \"single\", \"bind\": {\"input\": \"range\", \"min\": 10, \"max\": 200, \"step\": 1, \"name\": \"Sample size\"}, \"init\": {\"samples\": 50}}, \"selector002\": {\"type\": \"single\", \"bind\": {\"input\": \"range\", \"min\": 0.1, \"max\": 5, \"step\": 0.1, \"name\": \"Pop. Std.\"}, \"init\": {\"std\": 1.5}}, \"selector001\": {\"type\": \"single\", \"bind\": {\"input\": \"range\", \"min\": -5, \"max\": 5, \"step\": 0.1, \"name\": \"Pop. mean\"}, \"init\": {\"mean\": 0}}}, \"width\": 500}, {\"mark\": {\"type\": \"tick\", \"clip\": true}, \"encoding\": {\"x\": {\"type\": \"quantitative\", \"axis\": {\"title\": \"Sample Values\"}, \"field\": \"x\", \"scale\": {\"domain\": [-10, 10]}}}, \"selection\": {\"selector004\": {\"type\": \"single\", \"bind\": {\"input\": \"range\", \"min\": 1, \"max\": 3, \"step\": 1, \"name\": \"Show std. errors\"}, \"init\": {\"ses\": 1}}, \"selector003\": {\"type\": \"single\", \"bind\": {\"input\": \"range\", \"min\": 10, \"max\": 200, \"step\": 1, \"name\": \"Sample size\"}, \"init\": {\"samples\": 50}}, \"selector002\": {\"type\": \"single\", \"bind\": {\"input\": \"range\", \"min\": 0.1, \"max\": 5, \"step\": 0.1, \"name\": \"Pop. Std.\"}, \"init\": {\"std\": 1.5}}, \"selector001\": {\"type\": \"single\", \"bind\": {\"input\": \"range\", \"min\": -5, \"max\": 5, \"step\": 0.1, \"name\": \"Pop. mean\"}, \"init\": {\"mean\": 0}}}, \"view\": {\"strokeWidth\": 0}, \"width\": 500}], \"data\": {\"sequence\": {\"start\": 0, \"stop\": 200, \"as\": \"t\"}}, \"transform\": [{\"filter\": \"(datum.t <= toNumber(selector003.samples))\"}, {\"calculate\": \"selector001['mean']\", \"as\": \"mean\"}, {\"calculate\": \"selector002['std']\", \"as\": \"std\"}, {\"calculate\": \"sampleNormal(+datum.mean,+datum.std)\", \"as\": \"x\"}]}], \"$schema\": \"https://vega.github.io/schema/vega-lite/v4.8.1.json\", \"datasets\": {\"data-a34019366e793aa5e70591f9693d64a7\": [{\"x\": 1}]}}, {\"actions\": false, \"renderer\": \"svg\", \"mode\": \"vega-lite\"});\n",
       "</script>"
      ],
      "text/plain": [
       "alt.VConcatChart(...)"
      ]
     },
     "metadata": {},
     "output_type": "display_data"
    }
   ],
   "source": [
    "# infinite population & random sample\n",
    "# ===================================    \n",
    "plot_population_vs_sample_mean()"
   ]
  },
  {
   "cell_type": "markdown",
   "metadata": {},
   "source": [
    "Each time you change the parameters, new samples are drawn from a normal distribution.<br>\n",
    "The latter is also called Gaussian or bell curve and we will hear more about it later."
   ]
  },
  {
   "cell_type": "markdown",
   "metadata": {
    "slideshow": {
     "slide_type": "slide"
    }
   },
   "source": [
    "### Notice that the...\n",
    "\n",
    "- **uncertainty goes up** proportionally to the **population standard deviation** (std.)\n",
    "- **uncertainty goes down** proportionally to the square root of the **sample size**: fast for small sample sizes and then slower and slower.\n",
    "- **error bars of population mean and sample mean** overlap for **95%** of the samples when they show **1 standard error**\n",
    "- **true population mean is inside the sample error bars** for **95%** of the samples when they show **2 standard errors**."
   ]
  },
  {
   "cell_type": "markdown",
   "metadata": {
    "slideshow": {
     "slide_type": "slide"
    }
   },
   "source": [
    "## In the next session,\n",
    "\n",
    "we will take a deeper dive into…\n",
    "\n",
    "- Comparing two different statistical populations \n",
    "- Statistical significance and p-values\n",
    "- Statistical power and effect sizes"
   ]
  },
  {
   "cell_type": "markdown",
   "metadata": {
    "slideshow": {
     "slide_type": "skip"
    }
   },
   "source": [
    "---"
   ]
  },
  {
   "cell_type": "markdown",
   "metadata": {
    "slideshow": {
     "slide_type": "slide"
    }
   },
   "source": [
    "## Exercises\n",
    "\n",
    "Complete the following exercises to become more familiar with the contents of this session."
   ]
  },
  {
   "cell_type": "code",
   "execution_count": 9,
   "metadata": {},
   "outputs": [],
   "source": [
    "# simple examples to calculate mostly mentally\n",
    "coin_example_samples = [\n",
    "    #[5, 10, 10, 20, 20], # we already did this one\n",
    "    [ 2, 10, 10, 10, 50, 50],\n",
    "    [ 1,  1, 2,  2, 10, 20,],\n",
    "]"
   ]
  },
  {
   "cell_type": "markdown",
   "metadata": {
    "slideshow": {
     "slide_type": "slide"
    }
   },
   "source": [
    "### 1. Drawing coins\n",
    "\n",
    "Calculate mean, median, standard deviation, and standard error for the following samples. You can do it just like it was explained above.\n",
    "\n",
    "Solutions are on the next slide. Feel free to use your calculator of favourite software!"
   ]
  },
  {
   "cell_type": "code",
   "execution_count": 105,
   "metadata": {},
   "outputs": [
    {
     "name": "stdout",
     "output_type": "stream",
     "text": [
      "Values in sample:           [2, 10, 10, 10, 50, 50]\n",
      "Values in sample:           [1, 1, 2, 2, 10, 20]\n"
     ]
    }
   ],
   "source": [
    "print_example_statistics(coin_example_samples, print_only_sample=True)"
   ]
  },
  {
   "cell_type": "markdown",
   "metadata": {
    "slideshow": {
     "slide_type": "slide"
    }
   },
   "source": [
    "### Solutions to Exercise 1"
   ]
  },
  {
   "cell_type": "code",
   "execution_count": 106,
   "metadata": {},
   "outputs": [
    {
     "name": "stdout",
     "output_type": "stream",
     "text": [
      "Values in sample:           [2, 10, 10, 10, 50, 50]\n",
      "Sum of values:              132\n",
      "Mean:                       22.0\n",
      "Median:                     10.0\n",
      "Sum of deviations:          2400.0\n",
      "Sample Variance:            400.0\n",
      "Sample Standard deviation:  20.0\n",
      "Population Variance:        480.0\n",
      "Pop. Standard deviation:    21.909\n",
      "Standard error:             8.944\n",
      "\n",
      "Values in sample:           [1, 1, 2, 2, 10, 20]\n",
      "Sum of values:              36\n",
      "Mean:                       6.0\n",
      "Median:                     2.0\n",
      "Sum of deviations:          294.0\n",
      "Sample Variance:            49.0\n",
      "Sample Standard deviation:  7.0\n",
      "Population Variance:        58.8\n",
      "Pop. Standard deviation:    7.668\n",
      "Standard error:             3.13\n",
      "\n"
     ]
    }
   ],
   "source": [
    "print_example_statistics(coin_example_samples)"
   ]
  },
  {
   "cell_type": "markdown",
   "metadata": {
    "slideshow": {
     "slide_type": "slide"
    }
   },
   "source": [
    "### 2. Drawing cards\n",
    "\n",
    "In section 1, we had an example where we drew cards. \n",
    "\n",
    "- When we drew 25 cards, we got 12 wins for the first stack and 15 for the second one.\n",
    "- When we drew 100 cards, we got 56 wins for the first stack and 40 for the second one.\n",
    "\n",
    "Calculate the winning probabilities and standard errors for both stacks for both 25 and 100 cards. \n",
    "\n",
    "- Write the results down in the notation mean ± standard error.\n",
    "- Can you remember when the difference was significant and why?\n",
    "- Try to round to [significant digits](https://en.wikipedia.org/wiki/Significant_figures). If your value is e.g. 0.12345 ± 0.05432, you only report 0.12 ± 0.05!\n",
    "\n",
    "The solution is on the next slide"
   ]
  },
  {
   "cell_type": "markdown",
   "metadata": {
    "slideshow": {
     "slide_type": "slide"
    }
   },
   "source": [
    "### 2. Solution to 2."
   ]
  },
  {
   "cell_type": "code",
   "execution_count": 111,
   "metadata": {
    "slideshow": {
     "slide_type": "skip"
    }
   },
   "outputs": [
    {
     "name": "stdout",
     "output_type": "stream",
     "text": [
      "Values in sample:           [1, 1, 1, 1, 1, 1, 1, 1, 1, 1, 1, 1, 0, 0, 0, 0, 0, 0, 0, 0, 0, 0, 0, 0, 0]\n",
      "Sum of values:              12\n",
      "Mean:                       0.48\n",
      "Median:                     0.0\n",
      "Sum of deviations:          6.240000000000001\n",
      "Sample Variance:            0.24960000000000004\n",
      "Sample Standard deviation:  0.5\n",
      "Population Variance:        0.26\n",
      "Pop. Standard deviation:    0.51\n",
      "Standard error:             0.102\n",
      "\n",
      "Values in sample:           [1, 1, 1, 1, 1, 1, 1, 1, 1, 1, 1, 1, 1, 1, 1, 0, 0, 0, 0, 0, 0, 0, 0, 0, 0]\n",
      "Sum of values:              15\n",
      "Mean:                       0.6\n",
      "Median:                     1.0\n",
      "Sum of deviations:          6.000000000000001\n",
      "Sample Variance:            0.24000000000000005\n",
      "Sample Standard deviation:  0.49\n",
      "Population Variance:        0.25\n",
      "Pop. Standard deviation:    0.5\n",
      "Standard error:             0.1\n",
      "\n"
     ]
    }
   ],
   "source": [
    "## you can use the same code as above if you like, e.g. like this\n",
    "card_samples = [\n",
    "    12 * [1] + (25 - 12) * [0],\n",
    "    15 * [1] + (25 - 15) * [0],\n",
    "]\n",
    "print_example_statistics(card_samples)"
   ]
  },
  {
   "cell_type": "code",
   "execution_count": 112,
   "metadata": {},
   "outputs": [
    {
     "name": "stdout",
     "output_type": "stream",
     "text": [
      "Stack 1 has 12 wins out of 25 cards\n",
      "Stack 2 has 15 wins out of 25 cards\n",
      "\n",
      "Stack 1 winning probabiltiy: 0.5 ± 0.1\n",
      "Stack 2 winning probabiltiy: 0.6 ± 0.1\n",
      "\n",
      "We can't decide which stack has a higher winning probability\n",
      "\n",
      "Stack 1 has 56 wins out of 100 cards\n",
      "Stack 2 has 40 wins out of 100 cards\n",
      "\n",
      "Stack 1 winning probabiltiy: 0.56 ± 0.05\n",
      "Stack 2 winning probabiltiy: 0.4 ± 0.05\n",
      "\n",
      "Stack 1 has a significantly higher winning probability than stack 2 (p < 5%)\n"
     ]
    }
   ],
   "source": [
    "# but this way might be more educational\n",
    "from math import sqrt\n",
    "\n",
    "def print_winning_probabilities_with_errors(\n",
    "        n_cards, stack_1_wins, stack_2_wins\n",
    "    ):\n",
    "    # do the calculations just like on the slide where we explained them\n",
    "    # of course it would be faster to use \n",
    "    stack_1_p_win = stack_1_wins / n_cards\n",
    "    stack_2_p_win = stack_2_wins / n_cards\n",
    "    stack_1_pop_var = (stack_1_wins * (1 - stack_1_p_win)**2 + (n_cards - stack_1_wins) * (0 - stack_1_p_win)**2) / (n_cards - 1)\n",
    "    stack_2_pop_var = (stack_2_wins * (1 - stack_2_p_win)**2 + (n_cards - stack_2_wins) * (0 - stack_2_p_win)**2) / (n_cards - 1)\n",
    "    stack_1_pop_std = sqrt(stack_1_pop_var)\n",
    "    stack_2_pop_std = sqrt(stack_2_pop_var)\n",
    "    stack_1_se = stack_1_pop_std / sqrt(n_cards)\n",
    "    stack_2_se = stack_2_pop_std / sqrt(n_cards)\n",
    "    n_significant_digits = -int(np.floor(np.log10(stack_1_se)))\n",
    "\n",
    "    print(f\"Stack 1 has {stack_1_wins} wins out of {n_cards} cards\")\n",
    "    print(f\"Stack 2 has {stack_2_wins} wins out of {n_cards} cards\")\n",
    "    print()\n",
    "    print(\"Stack 1 winning probabiltiy:\", round(stack_1_p_win, n_significant_digits), \"±\", round(stack_1_se, n_significant_digits))\n",
    "    print(\"Stack 2 winning probabiltiy:\", round(stack_2_p_win, n_significant_digits), \"±\", round(stack_2_se, n_significant_digits))\n",
    "    print()\n",
    "    if stack_1_p_win + stack_1_se <  stack_2_p_win - stack_2_se:\n",
    "        print(\"Stack 1 has a significantly higher winning probability than stack 2 (p < 5%)\")\n",
    "    elif stack_1_p_win - stack_1_se >  stack_2_p_win + stack_2_se:\n",
    "        print(\"Stack 1 has a significantly higher winning probability than stack 2 (p < 5%)\")\n",
    "    else:\n",
    "        print(\"We can't decide which stack has a higher winning probability\")\n",
    "\n",
    "n_cards = 25\n",
    "stack_1_wins = 12\n",
    "stack_2_wins = 15\n",
    "\n",
    "print_winning_probabilities_with_errors(25, 12, 15)\n",
    "\n",
    "print()\n",
    "print_winning_probabilities_with_errors(100, 56, 40)"
   ]
  },
  {
   "cell_type": "markdown",
   "metadata": {
    "slideshow": {
     "slide_type": "slide"
    }
   },
   "source": [
    "### 3. Explore your favourite software\n",
    "\n",
    "- Find out if the software you use for spreadsheets, Business Intelligence, or programming has these functions built in:\n",
    "    - Mean\n",
    "    - Median\n",
    "    - Standard Deviation\n",
    "    - Standard Error\n",
    "\n",
    "\n",
    "- Find out how to use your favourite plotting software to draw a bar chart with error bars"
   ]
  },
  {
   "cell_type": "markdown",
   "metadata": {
    "slideshow": {
     "slide_type": "slide"
    }
   },
   "source": [
    "### 4. Explore your favourite software\n",
    "\n",
    "- Find out if the software you use for spreadsheets, Business Intelligence, or programming has these functions built in:\n",
    "    - Mean\n",
    "    - Median\n",
    "    - Standard Deviation\n",
    "    - Standard Error\n",
    "\n",
    "\n",
    "- Find out how to use your favourite plotting software to draw a bar chart with error bars. Try searching for the solution online."
   ]
  },
  {
   "cell_type": "raw",
   "metadata": {
    "slideshow": {
     "slide_type": "skip"
    }
   },
   "source": [
    "- Written as an equation, the above line reads: $\\mu_{s} = \\frac{1}{N} \\sum x$\n",
    "- As a shorthand, wrote the sample mean as $\\mu_{s}$, the values as $x$ and the number of samples as $N$\n",
    "\n",
    "- As an equation: $\\sigma_s^2 = \\frac{1}{N} \\sum (x - \\mu_s)^2$\n",
    "\n",
    "- As an equation: $\\sigma^2 = \\frac{1}{N-1} \\sum (x - \\mu_s)^2$"
   ]
  },
  {
   "cell_type": "code",
   "execution_count": 15,
   "metadata": {},
   "outputs": [],
   "source": [
    "# Analyse any of the previous examples using software you are familiar with.\n",
    "# Create a figure with error bars"
   ]
  },
  {
   "cell_type": "raw",
   "metadata": {
    "slideshow": {
     "slide_type": "skip"
    }
   },
   "source": [
    "import numpy as np\n",
    "#from helpers.cards import draw_cards"
   ]
  },
  {
   "cell_type": "raw",
   "metadata": {
    "slideshow": {
     "slide_type": "skip"
    }
   },
   "source": [
    "stack1, stack2 = draw_cards(\n",
    "    p_win_1 = 0.5,\n",
    "    p_win_2 = 0.4,\n",
    "    n_cards = 25,\n",
    "    seed     = 0\n",
    ")"
   ]
  },
  {
   "cell_type": "raw",
   "metadata": {
    "slideshow": {
     "slide_type": "skip"
    }
   },
   "source": [
    "m1 = stack1.mean()\n",
    "m2 = stack2.mean()\n",
    "n  = len(stack1)\n",
    "np.sqrt(m1 * (1 - m1) / n), np.sqrt(m2 * (1 - m2) / n)"
   ]
  },
  {
   "cell_type": "raw",
   "metadata": {
    "slideshow": {
     "slide_type": "skip"
    }
   },
   "source": [
    "np.sqrt(.5 * (1 - .5) / n), np.sqrt(.6 * (1 - .6) / n)"
   ]
  },
  {
   "cell_type": "code",
   "execution_count": null,
   "metadata": {},
   "outputs": [],
   "source": []
  }
 ],
 "metadata": {
  "kernelspec": {
   "display_name": "Python 3",
   "language": "python",
   "name": "python3"
  },
  "language_info": {
   "codemirror_mode": {
    "name": "ipython",
    "version": 3
   },
   "file_extension": ".py",
   "mimetype": "text/x-python",
   "name": "python",
   "nbconvert_exporter": "python",
   "pygments_lexer": "ipython3",
   "version": "3.8.5"
  },
  "widgets": {
   "application/vnd.jupyter.widget-state+json": {
    "state": {},
    "version_major": 2,
    "version_minor": 0
   }
  }
 },
 "nbformat": 4,
 "nbformat_minor": 4
}
