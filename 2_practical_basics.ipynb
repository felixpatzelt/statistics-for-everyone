{
 "cells": [
  {
   "cell_type": "markdown",
   "metadata": {
    "slideshow": {
     "slide_type": "slide"
    }
   },
   "source": [
    "## Practical basics\n",
    "\n",
    "It is easy to calculate the quantities we encounter most often in statistics!"
   ]
  },
  {
   "cell_type": "markdown",
   "metadata": {
    "slideshow": {
     "slide_type": "skip"
    }
   },
   "source": [
    "# Very WIP!"
   ]
  },
  {
   "cell_type": "markdown",
   "metadata": {
    "slideshow": {
     "slide_type": "skip"
    }
   },
   "source": [
    "How to calculate these quantities\n",
    "- mean, median\n",
    "- standard deviation\n",
    "- standard error\n",
    "\n",
    "The latter requires moving from a population to a sample https://en.wikipedia.org/wiki/Variance#Population_variance_and_sample_variance\n",
    "Need to introduce the fact that we are typically doing estimations. Because otherwise there would be no error, we would know the truth! But in prectice we almost never do."
   ]
  },
  {
   "cell_type": "markdown",
   "metadata": {
    "slideshow": {
     "slide_type": "skip"
    }
   },
   "source": [
    "- How to calculate them with pen & paper for small examples\n",
    "- Some more easy to do examples including the cards example with solutions on following slide\n",
    "- Example with quantiles as extension of median, box plot\n",
    "- Appendix: how to calculate the standard quantities in Excel, Tableau, Python"
   ]
  },
  {
   "cell_type": "markdown",
   "metadata": {
    "slideshow": {
     "slide_type": "skip"
    }
   },
   "source": [
    "[no, not this mean](https://en.wikipedia.org/wiki/File:Taylor_Swift_-_Mean.png#/media/File:Taylor_Swift_-_Mean.png)\n",
    "\n",
    "if you fount this funny, you may like [this list.](https://www.isg.rhul.ac.uk/~sdg/mathsongs.html) You may also have issues."
   ]
  },
  {
   "cell_type": "code",
   "execution_count": 17,
   "metadata": {
    "slideshow": {
     "slide_type": "skip"
    }
   },
   "outputs": [
    {
     "data": {
      "text/html": [
       "<style>@import url(https://fonts.googleapis.com/css?family=Lato:400,700,400italic,700italic);</style>"
      ],
      "text/plain": [
       "<IPython.core.display.HTML object>"
      ]
     },
     "execution_count": 17,
     "metadata": {},
     "output_type": "execute_result"
    }
   ],
   "source": [
    "import pandas as pd\n",
    "import numpy as np\n",
    "import altair as alt\n",
    "import helpers.plotting as pt\n",
    "pt.enable_slide_theme()\n",
    "pt.import_lato_font_in_notebook()"
   ]
  },
  {
   "cell_type": "code",
   "execution_count": 18,
   "metadata": {
    "slideshow": {
     "slide_type": "skip"
    }
   },
   "outputs": [],
   "source": [
    "from helpers.svg_wrapper import SVGImg"
   ]
  },
  {
   "cell_type": "code",
   "execution_count": 19,
   "metadata": {
    "slideshow": {
     "slide_type": "skip"
    }
   },
   "outputs": [
    {
     "name": "stdout",
     "output_type": "stream",
     "text": [
      "Sum of coins:      65\n",
      "Mean:              13.0\n",
      "Median:            10.0\n",
      "Sum of deviations: 180.0\n",
      "Var:               36.0\n",
      "Std:               6.0\n"
     ]
    }
   ],
   "source": [
    "# test: simple example to calculate mentally\n",
    "\n",
    "coins_in_pocket = [5, 10, 10, 20, 20]\n",
    "\n",
    "# other easy to calculate examples\n",
    "#coins_in_pocket = [ 2, 10, 10, 10, 50, 50]\n",
    "#coins_in_pocket = [ 1  1  2  2 10 20]\n",
    "\n",
    "print(\"Sum of coins:     \", np.sum(coins_in_pocket))\n",
    "print(\"Mean:             \", np.mean(coins_in_pocket))\n",
    "print(\"Median:           \", np.median(coins_in_pocket))\n",
    "print(\"Sum of deviations:\", \n",
    "    np.sum(\n",
    "        (np.array(coins_in_pocket) - np.mean(coins_in_pocket))**2\n",
    "    )\n",
    ")\n",
    "print(\"Var:              \", np.var(coins_in_pocket))\n",
    "print(\"Std:              \", np.std(coins_in_pocket))"
   ]
  },
  {
   "cell_type": "markdown",
   "metadata": {
    "slideshow": {
     "slide_type": "slide"
    }
   },
   "source": [
    "### How to characterise a sample of quantitative observations?\n",
    "\n",
    "- **Central tendency**: where are the observed values?\n",
    "- **Dispersion**: how far apart are the observed values?"
   ]
  },
  {
   "cell_type": "markdown",
   "metadata": {
    "slideshow": {
     "slide_type": "slide"
    }
   },
   "source": [
    "### For example, imagine drawing coins from a pocket\n",
    "\n",
    "- How much is each new coin worth?\n",
    "- How certain are we about that value?\n",
    "\n",
    "Let's start with an example of 5 coins..."
   ]
  },
  {
   "cell_type": "markdown",
   "metadata": {
    "slideshow": {
     "slide_type": "slide"
    }
   },
   "source": [
    "### Measures of central tendency"
   ]
  },
  {
   "cell_type": "code",
   "execution_count": 20,
   "metadata": {},
   "outputs": [
    {
     "data": {
      "text/html": [
       "\n",
       "            <object type=\"image/svg+xml\" data=\"images/coins_central_tendency.svg\" style=\"width: 70%; height: 100%; margin: auto;\">\n",
       "                <img src=\"images/coins_central_tendency.svg\" width=\"70%\" height=\"100%\"></img>\n",
       "            </object>\n",
       "            "
      ],
      "text/plain": [
       "<helpers.svg_wrapper.SVGImg at 0x1198b2510>"
      ]
     },
     "execution_count": 20,
     "metadata": {},
     "output_type": "execute_result"
    }
   ],
   "source": [
    "SVGImg('images/coins_central_tendency.svg', width='70%', output_dir='slides')"
   ]
  },
  {
   "cell_type": "markdown",
   "metadata": {
    "slideshow": {
     "slide_type": "subslide"
    }
   },
   "source": [
    "## *\n",
    "\n",
    "If there is an even number of observations in our sample, <br>the median is in between the two central ones:\n",
    "- median([5,5,**10**,20,20]) = **10**\n",
    "- median([5,5,**10**,**20**,20,20]) = (**10**+**20**) / 2 = 15\n",
    "\n",
    "See e.g. https://en.wikipedia.org/wiki/Central_tendency for details <br>on these and other measures of central tendency."
   ]
  },
  {
   "cell_type": "markdown",
   "metadata": {
    "slideshow": {
     "slide_type": "slide"
    }
   },
   "source": [
    "### Measures of dispersion"
   ]
  },
  {
   "cell_type": "code",
   "execution_count": 21,
   "metadata": {},
   "outputs": [
    {
     "data": {
      "text/html": [
       "\n",
       "            <object type=\"image/svg+xml\" data=\"images/coins_dispersion.svg\" style=\"width: 70%; height: 100%; margin: auto;\">\n",
       "                <img src=\"images/coins_dispersion.svg\" width=\"70%\" height=\"100%\"></img>\n",
       "            </object>\n",
       "            "
      ],
      "text/plain": [
       "<helpers.svg_wrapper.SVGImg at 0x1198b2d50>"
      ]
     },
     "execution_count": 21,
     "metadata": {},
     "output_type": "execute_result"
    }
   ],
   "source": [
    "SVGImg('images/coins_dispersion.svg', width='70%', output_dir='slides')"
   ]
  },
  {
   "cell_type": "markdown",
   "metadata": {
    "slideshow": {
     "slide_type": "subslide"
    }
   },
   "source": [
    "See e.g. https://en.wikipedia.org/wiki/Statistical_dispersion for details <br>on these and other measures of dispersion."
   ]
  },
  {
   "cell_type": "markdown",
   "metadata": {
    "slideshow": {
     "slide_type": "slide"
    }
   },
   "source": [
    "### We usually have incomplete information about the world\n",
    "\n",
    "- We can know the values of all the coins in our pocket.\n",
    "- What about all the coins in a vault? We might not have the time to look at them all!\n",
    "- We can still estimate the true statistics of a **population** <br> (e.g. all coins in a vault, all cards in a stack, ...) <br>from a representative **sample** that we draw in an experiment."
   ]
  },
  {
   "cell_type": "markdown",
   "metadata": {
    "slideshow": {
     "slide_type": "slide"
    }
   },
   "source": [
    "### The sample estimate of the population mean<br> is just the sample mean!\n",
    "\n",
    "- The sample mean is the sum of values divided by number of samples.\n",
    "- This is exactly the mean that we calculated above for the values of the five coins!"
   ]
  },
  {
   "cell_type": "markdown",
   "metadata": {
    "slideshow": {
     "slide_type": "slide"
    }
   },
   "source": [
    "### The sample variance is a biased estimate of the population variance!"
   ]
  },
  {
   "cell_type": "code",
   "execution_count": 41,
   "metadata": {},
   "outputs": [
    {
     "data": {
      "text/html": [
       "\n",
       "            <object type=\"image/svg+xml\" data=\"images/population_vs_sample.svg\" style=\"width: 100%; height: 100%; margin: auto;\">\n",
       "                <img src=\"images/population_vs_sample.svg\" width=\"100%\" height=\"100%\"></img>\n",
       "            </object>\n",
       "            "
      ],
      "text/plain": [
       "<helpers.svg_wrapper.SVGImg at 0x11a63d410>"
      ]
     },
     "execution_count": 41,
     "metadata": {},
     "output_type": "execute_result"
    }
   ],
   "source": [
    "SVGImg('images/population_vs_sample.svg', width='100%', output_dir='slides')"
   ]
  },
  {
   "cell_type": "code",
   "execution_count": null,
   "metadata": {},
   "outputs": [],
   "source": []
  },
  {
   "cell_type": "raw",
   "metadata": {
    "slideshow": {
     "slide_type": "skip"
    }
   },
   "source": [
    "- Written as an equation, the above line reads: $\\mu_{s} = \\frac{1}{N} \\sum x$\n",
    "- As a shorthand, wrote the sample mean as $\\mu_{s}$, the values as $x$ and the number of samples as $N$\n",
    "\n",
    "- As an equation: $\\sigma_s^2 = \\frac{1}{N} \\sum (x - \\mu_s)^2$\n",
    "\n",
    "- As an equation: $\\sigma^2 = \\frac{1}{N-1} \\sum (x - \\mu_s)^2$"
   ]
  },
  {
   "cell_type": "markdown",
   "metadata": {
    "slideshow": {
     "slide_type": "slide"
    }
   },
   "source": [
    "### Try it!"
   ]
  },
  {
   "cell_type": "code",
   "execution_count": 33,
   "metadata": {},
   "outputs": [
    {
     "data": {
      "text/html": [
       "\n",
       "<div id=\"altair-viz-5d86373d34554874b7c374f5f31e8d25\"></div>\n",
       "<script type=\"text/javascript\">\n",
       "  (function(spec, embedOpt){\n",
       "    let outputDiv = document.currentScript.previousElementSibling;\n",
       "    if (outputDiv.id !== \"altair-viz-5d86373d34554874b7c374f5f31e8d25\") {\n",
       "      outputDiv = document.getElementById(\"altair-viz-5d86373d34554874b7c374f5f31e8d25\");\n",
       "    }\n",
       "    const paths = {\n",
       "      \"vega\": \"https://cdn.jsdelivr.net/npm//vega@5?noext\",\n",
       "      \"vega-lib\": \"https://cdn.jsdelivr.net/npm//vega-lib?noext\",\n",
       "      \"vega-lite\": \"https://cdn.jsdelivr.net/npm//vega-lite@4.8.1?noext\",\n",
       "      \"vega-embed\": \"https://cdn.jsdelivr.net/npm//vega-embed@6?noext\",\n",
       "    };\n",
       "\n",
       "    function loadScript(lib) {\n",
       "      return new Promise(function(resolve, reject) {\n",
       "        var s = document.createElement('script');\n",
       "        s.src = paths[lib];\n",
       "        s.async = true;\n",
       "        s.onload = () => resolve(paths[lib]);\n",
       "        s.onerror = () => reject(`Error loading script: ${paths[lib]}`);\n",
       "        document.getElementsByTagName(\"head\")[0].appendChild(s);\n",
       "      });\n",
       "    }\n",
       "\n",
       "    function showError(err) {\n",
       "      outputDiv.innerHTML = `<div class=\"error\" style=\"color:red;\">${err}</div>`;\n",
       "      throw err;\n",
       "    }\n",
       "\n",
       "    function displayChart(vegaEmbed) {\n",
       "      vegaEmbed(outputDiv, spec, embedOpt)\n",
       "        .catch(err => showError(`Javascript Error: ${err.message}<br>This usually means there's a typo in your chart specification. See the javascript console for the full traceback.`));\n",
       "    }\n",
       "\n",
       "    if(typeof define === \"function\" && define.amd) {\n",
       "      requirejs.config({paths});\n",
       "      require([\"vega-embed\"], displayChart, err => showError(`Error loading script: ${err.message}`));\n",
       "    } else if (typeof vegaEmbed === \"function\") {\n",
       "      displayChart(vegaEmbed);\n",
       "    } else {\n",
       "      loadScript(\"vega\")\n",
       "        .then(() => loadScript(\"vega-lite\"))\n",
       "        .then(() => loadScript(\"vega-embed\"))\n",
       "        .catch(showError)\n",
       "        .then(() => displayChart(vegaEmbed));\n",
       "    }\n",
       "  })({\"config\": {\"title\": {\"fontSize\": 24.0, \"font\": [\"Lato\", \"Helvetica Neue\", \"Helvetica\", \"Arial\", \"Sans Serif\"], \"fontWeight\": \"normal\"}, \"axisX\": {\"labelFont\": [\"Lato\", \"Helvetica Neue\", \"Helvetica\", \"Arial\", \"Sans Serif\"], \"labelFontSize\": 16, \"titleFont\": [\"Lato\", \"Helvetica Neue\", \"Helvetica\", \"Arial\", \"Sans Serif\"], \"titleFontSize\": 16, \"titleFontWeight\": \"normal\", \"titlePadding\": 10}, \"axisY\": {\"labelFont\": [\"Lato\", \"Helvetica Neue\", \"Helvetica\", \"Arial\", \"Sans Serif\"], \"labelFontSize\": 16, \"titleFont\": [\"Lato\", \"Helvetica Neue\", \"Helvetica\", \"Arial\", \"Sans Serif\"], \"titleFontSize\": 16, \"titleFontWeight\": \"normal\", \"titlePadding\": 10}, \"legend\": {\"labelFont\": [\"Lato\", \"Helvetica Neue\", \"Helvetica\", \"Arial\", \"Sans Serif\"], \"labelFontSize\": 16, \"titleFont\": [\"Lato\", \"Helvetica Neue\", \"Helvetica\", \"Arial\", \"Sans Serif\"], \"titleFontSize\": 16, \"titleFontWeight\": \"normal\"}, \"text\": {\"font\": [\"Lato\", \"Helvetica Neue\", \"Helvetica\", \"Arial\", \"Sans Serif\"], \"fontSize\": 14.4}}, \"vconcat\": [{\"mark\": \"bar\", \"encoding\": {\"x\": {\"type\": \"quantitative\", \"axis\": null, \"bin\": {\"maxbins\": 7}, \"field\": \"x\", \"scale\": {\"domain\": [-10, 10]}}, \"y\": {\"type\": \"quantitative\", \"aggregate\": \"count\"}}, \"selection\": {\"selector068\": {\"type\": \"interval\", \"bind\": \"scales\"}, \"selector067\": {\"type\": \"single\", \"bind\": {\"input\": \"range\", \"min\": 10, \"max\": 200, \"step\": 1, \"name\": \"samples\"}, \"init\": {\"samples\": 50}}, \"selector066\": {\"type\": \"single\", \"bind\": {\"input\": \"range\", \"min\": 0.1, \"max\": 5, \"step\": 0.1, \"name\": \"std\"}, \"init\": {\"std\": 1}}, \"selector065\": {\"type\": \"single\", \"bind\": {\"input\": \"range\", \"min\": -5, \"max\": 5, \"step\": 0.1, \"name\": \"mean\"}, \"init\": {\"mean\": 0}}}, \"transform\": [{\"filter\": \"(datum.t <= toNumber(selector067.samples))\"}, {\"calculate\": \"selector065['mean']\", \"as\": \"mean\"}, {\"calculate\": \"selector066['std']\", \"as\": \"std\"}, {\"calculate\": \"sampleNormal(+datum.mean,+datum.std)\", \"as\": \"x\"}], \"width\": 500}, {\"mark\": \"tick\", \"encoding\": {\"x\": {\"type\": \"quantitative\", \"field\": \"x\", \"scale\": {\"domain\": [-10, 10]}}}, \"selection\": {\"selector068\": {\"type\": \"interval\", \"bind\": \"scales\"}, \"selector067\": {\"type\": \"single\", \"bind\": {\"input\": \"range\", \"min\": 10, \"max\": 200, \"step\": 1, \"name\": \"samples\"}, \"init\": {\"samples\": 50}}, \"selector066\": {\"type\": \"single\", \"bind\": {\"input\": \"range\", \"min\": 0.1, \"max\": 5, \"step\": 0.1, \"name\": \"std\"}, \"init\": {\"std\": 1}}, \"selector065\": {\"type\": \"single\", \"bind\": {\"input\": \"range\", \"min\": -5, \"max\": 5, \"step\": 0.1, \"name\": \"mean\"}, \"init\": {\"mean\": 0}}}, \"transform\": [{\"filter\": \"(datum.t <= toNumber(selector067.samples))\"}, {\"calculate\": \"selector065['mean']\", \"as\": \"mean\"}, {\"calculate\": \"selector066['std']\", \"as\": \"std\"}, {\"calculate\": \"sampleNormal(+datum.mean,+datum.std)\", \"as\": \"x\"}], \"view\": {\"strokeWidth\": 0}, \"width\": 500}], \"data\": {\"sequence\": {\"start\": 0, \"stop\": 200, \"as\": \"t\"}}, \"$schema\": \"https://vega.github.io/schema/vega-lite/v4.8.1.json\"}, {\"actions\": false, \"mode\": \"vega-lite\"});\n",
       "</script>"
      ],
      "text/plain": [
       "alt.VConcatChart(...)"
      ]
     },
     "execution_count": 33,
     "metadata": {},
     "output_type": "execute_result"
    }
   ],
   "source": [
    "# test: interactive distribution parameters\n",
    "plot_width  = 500\n",
    "max_samples = 200\n",
    "input_mean = alt.binding(\n",
    "    input='range',\n",
    "    min=-5,\n",
    "    max=5,\n",
    "    step=.1,\n",
    "    name='mean'\n",
    ")\n",
    "input_std = alt.binding(\n",
    "    input='range',\n",
    "    min=0.1,\n",
    "    max=5,\n",
    "    step=.1,\n",
    "    name='std'\n",
    ")\n",
    "input_samples = alt.binding(\n",
    "    input='range',\n",
    "    min=10,\n",
    "    max=max_samples,\n",
    "    step=1,\n",
    "    name='samples'\n",
    ")\n",
    "mean_selection = alt.selection_single(\n",
    "    bind=input_mean,\n",
    "    init={'mean': 0}\n",
    ")\n",
    "std_selection = alt.selection_single(\n",
    "    bind=input_std,\n",
    "    init={'std': 1}\n",
    ")\n",
    "samples_selection = alt.selection_single(\n",
    "    bind=input_samples,\n",
    "    init={'samples': 50}\n",
    ")\n",
    "scales = alt.selection_interval(bind='scales')\n",
    "                                \n",
    "data = alt.sequence(0, max_samples, as_='t')\n",
    "chart = alt.Chart(data).add_selection(\n",
    "    scales, samples_selection, std_selection, mean_selection\n",
    ").transform_filter(\n",
    "    alt.datum.t <= alt.expr.toNumber(samples_selection.samples)    \n",
    ").transform_calculate(\n",
    "  mean = mean_selection['mean'],\n",
    "  std  = std_selection['std'],\n",
    ").transform_calculate(\n",
    "    x='sampleNormal(+datum.mean,+datum.std)', # the plus casts to number\n",
    ")\n",
    "scale = alt.Scale(domain=[-10,10])\n",
    "hist = chart.mark_bar().encode(\n",
    "    alt.X(\"x:Q\", bin=alt.Bin(maxbins=7), scale=scale, axis=None),\n",
    "    y='count()',\n",
    ").properties(\n",
    "    width=plot_width\n",
    ")\n",
    "ticks = chart.mark_tick().encode(\n",
    "    x=alt.X('x:Q', scale=scale)\n",
    ").properties(\n",
    "    view=alt.ViewConfig(strokeWidth=0), width=plot_width)\n",
    "\n",
    "#normal = chart.\n",
    "\n",
    "(hist & ticks)"
   ]
  },
  {
   "cell_type": "markdown",
   "metadata": {},
   "source": [
    "Each time you change the parameters, new samples are drawn from a normal distribution.<br>\n",
    "The latter is also called Gaussian or bell curve and we will discuss it depth later."
   ]
  },
  {
   "cell_type": "code",
   "execution_count": 7,
   "metadata": {
    "slideshow": {
     "slide_type": "slide"
    }
   },
   "outputs": [],
   "source": [
    "import numpy as np\n",
    "#from helpers.cards import draw_cards"
   ]
  },
  {
   "cell_type": "raw",
   "metadata": {},
   "source": [
    "stack1, stack2 = draw_cards(\n",
    "    p_win_1 = 0.5,\n",
    "    p_win_2 = 0.4,\n",
    "    n_cards = 25,\n",
    "    seed     = 0\n",
    ")"
   ]
  },
  {
   "cell_type": "raw",
   "metadata": {},
   "source": [
    "m1 = stack1.mean()\n",
    "m2 = stack2.mean()\n",
    "n  = len(stack1)\n",
    "np.sqrt(m1 * (1 - m1) / n), np.sqrt(m2 * (1 - m2) / n)"
   ]
  },
  {
   "cell_type": "raw",
   "metadata": {},
   "source": [
    "np.sqrt(.5 * (1 - .5) / n), np.sqrt(.6 * (1 - .6) / n)"
   ]
  },
  {
   "cell_type": "code",
   "execution_count": null,
   "metadata": {},
   "outputs": [],
   "source": []
  }
 ],
 "metadata": {
  "kernelspec": {
   "display_name": "Python 3",
   "language": "python",
   "name": "python3"
  },
  "language_info": {
   "codemirror_mode": {
    "name": "ipython",
    "version": 3
   },
   "file_extension": ".py",
   "mimetype": "text/x-python",
   "name": "python",
   "nbconvert_exporter": "python",
   "pygments_lexer": "ipython3",
   "version": "3.7.7"
  },
  "widgets": {
   "application/vnd.jupyter.widget-state+json": {
    "state": {},
    "version_major": 2,
    "version_minor": 0
   }
  }
 },
 "nbformat": 4,
 "nbformat_minor": 4
}
