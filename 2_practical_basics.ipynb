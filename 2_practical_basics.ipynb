{
 "cells": [
  {
   "cell_type": "markdown",
   "metadata": {},
   "source": [
    "Basic statistics - practical skills\n",
    "- What is actually a...\n",
    "    - mean, median, mode\n",
    "    - standard deviation, standard error\n",
    "    - median and quantile\n",
    "- How to calculate them with pen & pape for small examples\n",
    "- Appendix: how to calculate the standard quantities in Excel, Tableau, Python"
   ]
  },
  {
   "cell_type": "markdown",
   "metadata": {},
   "source": [
    "How to calculate these quantities\n",
    "- mean\n",
    "- standard deviation\n",
    "- standard error"
   ]
  },
  {
   "cell_type": "code",
   "execution_count": 12,
   "metadata": {},
   "outputs": [],
   "source": [
    "import numpy as np\n",
    "from cards_code import draw_cards"
   ]
  },
  {
   "cell_type": "code",
   "execution_count": 13,
   "metadata": {},
   "outputs": [],
   "source": [
    "stack1, stack2 = draw_cards(\n",
    "    p_win_1 = 0.5,\n",
    "    p_win_2 = 0.4,\n",
    "    n_cards = 25,\n",
    "    seed     = 0\n",
    ")"
   ]
  },
  {
   "cell_type": "code",
   "execution_count": 14,
   "metadata": {},
   "outputs": [
    {
     "data": {
      "text/plain": [
       "(0.09991996797437437, 0.09797958971132711)"
      ]
     },
     "execution_count": 14,
     "metadata": {},
     "output_type": "execute_result"
    }
   ],
   "source": [
    "m1 = stack1.mean()\n",
    "m2 = stack2.mean()\n",
    "n  = len(stack1)\n",
    "np.sqrt(m1 * (1 - m1) / n), np.sqrt(m2 * (1 - m2) / n)"
   ]
  },
  {
   "cell_type": "code",
   "execution_count": 15,
   "metadata": {},
   "outputs": [
    {
     "data": {
      "text/plain": [
       "(0.1, 0.09797958971132711)"
      ]
     },
     "execution_count": 15,
     "metadata": {},
     "output_type": "execute_result"
    }
   ],
   "source": [
    "np.sqrt(.5 * (1 - .5) / n), np.sqrt(.6 * (1 - .6) / n)"
   ]
  },
  {
   "cell_type": "code",
   "execution_count": null,
   "metadata": {},
   "outputs": [],
   "source": []
  }
 ],
 "metadata": {
  "kernelspec": {
   "display_name": "Python 3",
   "language": "python",
   "name": "python3"
  },
  "language_info": {
   "codemirror_mode": {
    "name": "ipython",
    "version": 3
   },
   "file_extension": ".py",
   "mimetype": "text/x-python",
   "name": "python",
   "nbconvert_exporter": "python",
   "pygments_lexer": "ipython3",
   "version": "3.7.7"
  }
 },
 "nbformat": 4,
 "nbformat_minor": 4
}
