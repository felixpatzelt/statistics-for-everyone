{
 "cells": [
  {
   "cell_type": "markdown",
   "metadata": {},
   "source": [
    "# Very WIP!"
   ]
  },
  {
   "cell_type": "markdown",
   "metadata": {},
   "source": [
    "Basic statistics - practical skills\n",
    "- Maybe start with counting and summing?\n",
    "- For the card experiment, how to calculate...\n",
    "    - mean #wins, standard deviation, standard error\n",
    "    - sample size vs error?\n",
    "- More general, how to characterise a sample (distribution)\n",
    "    - mean, median, mode\n",
    "    - standard deviation, standard error\n",
    "    - quantiles and box plots\n",
    "- How to calculate them with pen & pape for small examples?!?\n",
    "- Appendix: how to calculate the standard quantities in Excel, Tableau, Python"
   ]
  },
  {
   "cell_type": "markdown",
   "metadata": {},
   "source": [
    "How to calculate these quantities\n",
    "- mean\n",
    "- standard deviation\n",
    "- standard error"
   ]
  },
  {
   "cell_type": "markdown",
   "metadata": {},
   "source": [
    "[no, not this mean](https://en.wikipedia.org/wiki/File:Taylor_Swift_-_Mean.png#/media/File:Taylor_Swift_-_Mean.png)\n",
    "\n",
    "if you fount this funny, you may like [this list.](https://www.isg.rhul.ac.uk/~sdg/mathsongs.html) You may also have issues."
   ]
  },
  {
   "cell_type": "code",
   "execution_count": 1,
   "metadata": {},
   "outputs": [
    {
     "data": {
      "text/html": [
       "<style>@import url(https://fonts.googleapis.com/css?family=Lato:400,700,400italic,700italic);</style>"
      ],
      "text/plain": [
       "<IPython.core.display.HTML object>"
      ]
     },
     "execution_count": 1,
     "metadata": {},
     "output_type": "execute_result"
    }
   ],
   "source": [
    "import altair as alt\n",
    "import helpers.plotting as pt\n",
    "pt.enable_slide_theme()\n",
    "pt.import_lato_font_in_notebook()"
   ]
  },
  {
   "cell_type": "code",
   "execution_count": 2,
   "metadata": {},
   "outputs": [],
   "source": [
    "# Simple example for statistical measures:\n",
    "# drawing coins from a pocket"
   ]
  },
  {
   "cell_type": "code",
   "execution_count": 3,
   "metadata": {},
   "outputs": [],
   "source": [
    "import pandas as pd\n",
    "import numpy as np"
   ]
  },
  {
   "cell_type": "code",
   "execution_count": 4,
   "metadata": {},
   "outputs": [],
   "source": [
    "from helpers.svg_wrapper import SVGImg"
   ]
  },
  {
   "cell_type": "code",
   "execution_count": 106,
   "metadata": {},
   "outputs": [],
   "source": [
    "# test: simple example to calculate mentally\n",
    "#coins_in_pocket = [1,2,2,5,20]\n",
    "#coins_in_pocket = [1,1,1,2,5,5,20]\n",
    "coins_in_pocket = [1,1,1,1,2,5,5,20]\n",
    "#coins_in_pocket = [5,5,10,20,50]\n",
    "observations = pd.DataFrame(\n",
    "    coins_in_pocket,\n",
    "    columns = ['value'],\n",
    "    index = pd.Index(range(1,len(coins_in_pocket)+1), name='draw')\n",
    ")"
   ]
  },
  {
   "cell_type": "code",
   "execution_count": 113,
   "metadata": {},
   "outputs": [
    {
     "data": {
      "text/plain": [
       "36"
      ]
     },
     "execution_count": 113,
     "metadata": {},
     "output_type": "execute_result"
    }
   ],
   "source": [
    "sum(coins_in_pocket)"
   ]
  },
  {
   "cell_type": "code",
   "execution_count": 114,
   "metadata": {},
   "outputs": [
    {
     "data": {
      "text/plain": [
       "36"
      ]
     },
     "execution_count": 114,
     "metadata": {},
     "output_type": "execute_result"
    }
   ],
   "source": [
    "9*4"
   ]
  },
  {
   "cell_type": "code",
   "execution_count": 115,
   "metadata": {},
   "outputs": [
    {
     "data": {
      "text/plain": [
       "(value    2.299068\n",
       " dtype: float64,\n",
       " value    42.285714\n",
       " dtype: float64)"
      ]
     },
     "execution_count": 115,
     "metadata": {},
     "output_type": "execute_result"
    }
   ],
   "source": [
    "observations.std() / np.sqrt(len(observations)), observations.var()"
   ]
  },
  {
   "cell_type": "markdown",
   "metadata": {
    "slideshow": {
     "slide_type": "slide"
    }
   },
   "source": [
    "observations"
   ]
  },
  {
   "cell_type": "code",
   "execution_count": 116,
   "metadata": {},
   "outputs": [
    {
     "data": {
      "text/html": [
       "<div>\n",
       "<style scoped>\n",
       "    .dataframe tbody tr th:only-of-type {\n",
       "        vertical-align: middle;\n",
       "    }\n",
       "\n",
       "    .dataframe tbody tr th {\n",
       "        vertical-align: top;\n",
       "    }\n",
       "\n",
       "    .dataframe thead th {\n",
       "        text-align: right;\n",
       "    }\n",
       "</style>\n",
       "<table border=\"1\" class=\"dataframe\">\n",
       "  <thead>\n",
       "    <tr style=\"text-align: right;\">\n",
       "      <th></th>\n",
       "      <th>value</th>\n",
       "    </tr>\n",
       "  </thead>\n",
       "  <tbody>\n",
       "    <tr>\n",
       "      <th>count</th>\n",
       "      <td>8.000000</td>\n",
       "    </tr>\n",
       "    <tr>\n",
       "      <th>mean</th>\n",
       "      <td>4.500000</td>\n",
       "    </tr>\n",
       "    <tr>\n",
       "      <th>std</th>\n",
       "      <td>6.502747</td>\n",
       "    </tr>\n",
       "    <tr>\n",
       "      <th>min</th>\n",
       "      <td>1.000000</td>\n",
       "    </tr>\n",
       "    <tr>\n",
       "      <th>25%</th>\n",
       "      <td>1.000000</td>\n",
       "    </tr>\n",
       "    <tr>\n",
       "      <th>50%</th>\n",
       "      <td>1.500000</td>\n",
       "    </tr>\n",
       "    <tr>\n",
       "      <th>75%</th>\n",
       "      <td>5.000000</td>\n",
       "    </tr>\n",
       "    <tr>\n",
       "      <th>max</th>\n",
       "      <td>20.000000</td>\n",
       "    </tr>\n",
       "  </tbody>\n",
       "</table>\n",
       "</div>"
      ],
      "text/plain": [
       "           value\n",
       "count   8.000000\n",
       "mean    4.500000\n",
       "std     6.502747\n",
       "min     1.000000\n",
       "25%     1.000000\n",
       "50%     1.500000\n",
       "75%     5.000000\n",
       "max    20.000000"
      ]
     },
     "execution_count": 116,
     "metadata": {},
     "output_type": "execute_result"
    }
   ],
   "source": [
    "observations.describe()"
   ]
  },
  {
   "cell_type": "code",
   "execution_count": 117,
   "metadata": {},
   "outputs": [
    {
     "data": {
      "text/plain": [
       "(value    36\n",
       " dtype: int64,\n",
       " value    2.299068\n",
       " dtype: float64)"
      ]
     },
     "execution_count": 117,
     "metadata": {},
     "output_type": "execute_result"
    }
   ],
   "source": [
    "observations.sum(), observations.std() / np.sqrt(len(observations))"
   ]
  },
  {
   "cell_type": "code",
   "execution_count": 68,
   "metadata": {},
   "outputs": [
    {
     "data": {
      "text/html": [
       "\n",
       "            <object type=\"image/svg+xml\" data=\"images/coins.svg\" style=\"width: 40%; height: 100%; margin: auto;\">\n",
       "                <img src=\"images/coins.svg\" width=\"40%\" height=\"100%\"></img>\n",
       "            </object>\n",
       "            "
      ],
      "text/plain": [
       "<helpers.svg_wrapper.SVGImg at 0x11f127f10>"
      ]
     },
     "execution_count": 68,
     "metadata": {},
     "output_type": "execute_result"
    }
   ],
   "source": [
    "SVGImg('images/coins.svg', width='40%', output_dir='slides')"
   ]
  },
  {
   "cell_type": "code",
   "execution_count": 24,
   "metadata": {
    "slideshow": {
     "slide_type": "slide"
    }
   },
   "outputs": [
    {
     "data": {
      "text/html": [
       "\n",
       "<div id=\"altair-viz-969cc59fd6f4455281cba2cb8686eaa2\"></div>\n",
       "<script type=\"text/javascript\">\n",
       "  (function(spec, embedOpt){\n",
       "    let outputDiv = document.currentScript.previousElementSibling;\n",
       "    if (outputDiv.id !== \"altair-viz-969cc59fd6f4455281cba2cb8686eaa2\") {\n",
       "      outputDiv = document.getElementById(\"altair-viz-969cc59fd6f4455281cba2cb8686eaa2\");\n",
       "    }\n",
       "    const paths = {\n",
       "      \"vega\": \"https://cdn.jsdelivr.net/npm//vega@5?noext\",\n",
       "      \"vega-lib\": \"https://cdn.jsdelivr.net/npm//vega-lib?noext\",\n",
       "      \"vega-lite\": \"https://cdn.jsdelivr.net/npm//vega-lite@4.8.1?noext\",\n",
       "      \"vega-embed\": \"https://cdn.jsdelivr.net/npm//vega-embed@6?noext\",\n",
       "    };\n",
       "\n",
       "    function loadScript(lib) {\n",
       "      return new Promise(function(resolve, reject) {\n",
       "        var s = document.createElement('script');\n",
       "        s.src = paths[lib];\n",
       "        s.async = true;\n",
       "        s.onload = () => resolve(paths[lib]);\n",
       "        s.onerror = () => reject(`Error loading script: ${paths[lib]}`);\n",
       "        document.getElementsByTagName(\"head\")[0].appendChild(s);\n",
       "      });\n",
       "    }\n",
       "\n",
       "    function showError(err) {\n",
       "      outputDiv.innerHTML = `<div class=\"error\" style=\"color:red;\">${err}</div>`;\n",
       "      throw err;\n",
       "    }\n",
       "\n",
       "    function displayChart(vegaEmbed) {\n",
       "      vegaEmbed(outputDiv, spec, embedOpt)\n",
       "        .catch(err => showError(`Javascript Error: ${err.message}<br>This usually means there's a typo in your chart specification. See the javascript console for the full traceback.`));\n",
       "    }\n",
       "\n",
       "    if(typeof define === \"function\" && define.amd) {\n",
       "      requirejs.config({paths});\n",
       "      require([\"vega-embed\"], displayChart, err => showError(`Error loading script: ${err.message}`));\n",
       "    } else if (typeof vegaEmbed === \"function\") {\n",
       "      displayChart(vegaEmbed);\n",
       "    } else {\n",
       "      loadScript(\"vega\")\n",
       "        .then(() => loadScript(\"vega-lite\"))\n",
       "        .then(() => loadScript(\"vega-embed\"))\n",
       "        .catch(showError)\n",
       "        .then(() => displayChart(vegaEmbed));\n",
       "    }\n",
       "  })({\"config\": {\"title\": {\"fontSize\": 24.0, \"font\": [\"Lato\", \"Helvetica Neue\", \"Helvetica\", \"Arial\", \"Sans Serif\"], \"fontWeight\": \"normal\"}, \"axisX\": {\"labelFont\": [\"Lato\", \"Helvetica Neue\", \"Helvetica\", \"Arial\", \"Sans Serif\"], \"labelFontSize\": 16, \"titleFont\": [\"Lato\", \"Helvetica Neue\", \"Helvetica\", \"Arial\", \"Sans Serif\"], \"titleFontSize\": 16, \"titleFontWeight\": \"normal\", \"titlePadding\": 10}, \"axisY\": {\"labelFont\": [\"Lato\", \"Helvetica Neue\", \"Helvetica\", \"Arial\", \"Sans Serif\"], \"labelFontSize\": 16, \"titleFont\": [\"Lato\", \"Helvetica Neue\", \"Helvetica\", \"Arial\", \"Sans Serif\"], \"titleFontSize\": 16, \"titleFontWeight\": \"normal\", \"titlePadding\": 10}, \"legend\": {\"labelFont\": [\"Lato\", \"Helvetica Neue\", \"Helvetica\", \"Arial\", \"Sans Serif\"], \"labelFontSize\": 16, \"titleFont\": [\"Lato\", \"Helvetica Neue\", \"Helvetica\", \"Arial\", \"Sans Serif\"], \"titleFontSize\": 16, \"titleFontWeight\": \"normal\"}, \"text\": {\"font\": [\"Lato\", \"Helvetica Neue\", \"Helvetica\", \"Arial\", \"Sans Serif\"], \"fontSize\": 14.4}}, \"vconcat\": [{\"mark\": \"bar\", \"encoding\": {\"x\": {\"type\": \"quantitative\", \"axis\": null, \"bin\": true, \"field\": \"x\", \"scale\": {\"domain\": [-10, 10]}}, \"y\": {\"type\": \"quantitative\", \"aggregate\": \"count\"}}, \"selection\": {\"selector006\": {\"type\": \"interval\", \"bind\": \"scales\"}, \"selector005\": {\"type\": \"single\", \"bind\": {\"input\": \"range\", \"min\": 0.1, \"max\": 5, \"step\": 0.1, \"name\": \"std\"}, \"init\": {\"std\": 1}}, \"selector004\": {\"type\": \"single\", \"bind\": {\"input\": \"range\", \"min\": -10, \"max\": 10, \"step\": 0.1, \"name\": \"mean\"}, \"init\": {\"mean\": 0}}}, \"transform\": [{\"calculate\": \"selector004['mean']\", \"as\": \"mean\"}, {\"calculate\": \"selector005['std']\", \"as\": \"std\"}, {\"calculate\": \"datum.t\", \"as\": \"t\"}, {\"calculate\": \"sampleNormal(+datum.mean,+datum.std)\", \"as\": \"x\"}], \"width\": 400}, {\"mark\": \"tick\", \"encoding\": {\"x\": {\"type\": \"quantitative\", \"field\": \"x\", \"scale\": {\"domain\": [-10, 10]}}}, \"selection\": {\"selector006\": {\"type\": \"interval\", \"bind\": \"scales\"}, \"selector005\": {\"type\": \"single\", \"bind\": {\"input\": \"range\", \"min\": 0.1, \"max\": 5, \"step\": 0.1, \"name\": \"std\"}, \"init\": {\"std\": 1}}, \"selector004\": {\"type\": \"single\", \"bind\": {\"input\": \"range\", \"min\": -10, \"max\": 10, \"step\": 0.1, \"name\": \"mean\"}, \"init\": {\"mean\": 0}}}, \"transform\": [{\"calculate\": \"selector004['mean']\", \"as\": \"mean\"}, {\"calculate\": \"selector005['std']\", \"as\": \"std\"}, {\"calculate\": \"datum.t\", \"as\": \"t\"}, {\"calculate\": \"sampleNormal(+datum.mean,+datum.std)\", \"as\": \"x\"}], \"view\": {\"strokeWidth\": 0}, \"width\": 400}], \"data\": {\"sequence\": {\"start\": 0, \"stop\": 100, \"as\": \"t\"}}, \"$schema\": \"https://vega.github.io/schema/vega-lite/v4.8.1.json\"}, {\"actions\": false, \"mode\": \"vega-lite\"});\n",
       "</script>"
      ],
      "text/plain": [
       "alt.VConcatChart(...)"
      ]
     },
     "execution_count": 24,
     "metadata": {},
     "output_type": "execute_result"
    }
   ],
   "source": [
    "# test: interactive distribution parameters\n",
    "plot_width=400\n",
    "\n",
    "input_mean = alt.binding(\n",
    "    input='range',\n",
    "    min=-10,\n",
    "    max=10,\n",
    "    step=.1,\n",
    "    name='mean'\n",
    ")\n",
    "input_std = alt.binding(\n",
    "    input='range',\n",
    "    min=0.1,\n",
    "    max=5,\n",
    "    step=.1,\n",
    "    name='std'\n",
    ")\n",
    "mean_selection = alt.selection_single(\n",
    "    bind=input_mean,\n",
    "    init={'mean': 0}\n",
    ")\n",
    "std_selection = alt.selection_single(\n",
    "    bind=input_std,\n",
    "    init={'std': 1}\n",
    ")\n",
    "scales = alt.selection_interval(bind='scales')\n",
    "                                \n",
    "data = alt.sequence(0, 100, as_='t')\n",
    "chart = alt.Chart(data).add_selection(\n",
    "    scales, std_selection, mean_selection\n",
    ").transform_calculate(\n",
    "  mean = mean_selection['mean'],\n",
    "  std  = std_selection['std'],\n",
    ").transform_calculate(\n",
    "    t='datum.t',\n",
    "    x='sampleNormal(+datum.mean,+datum.std)', # the plus casts to number\n",
    ")\n",
    "scale = alt.Scale(domain=[-10,10])\n",
    "hist = chart.mark_bar().encode(\n",
    "    alt.X(\"x:Q\", bin=True, scale=scale, axis=None),\n",
    "    y='count()',\n",
    ").properties(\n",
    "    width=plot_width\n",
    ")\n",
    "ticks = chart.mark_tick().encode(\n",
    "    x=alt.X('x:Q', scale=scale)\n",
    ").properties(\n",
    "    view=alt.ViewConfig(strokeWidth=0), width=plot_width)\n",
    "\n",
    "(hist & ticks)"
   ]
  },
  {
   "cell_type": "code",
   "execution_count": 12,
   "metadata": {
    "slideshow": {
     "slide_type": "slide"
    }
   },
   "outputs": [],
   "source": [
    "import numpy as np\n",
    "#from helpers.cards import draw_cards"
   ]
  },
  {
   "cell_type": "raw",
   "metadata": {},
   "source": [
    "stack1, stack2 = draw_cards(\n",
    "    p_win_1 = 0.5,\n",
    "    p_win_2 = 0.4,\n",
    "    n_cards = 25,\n",
    "    seed     = 0\n",
    ")"
   ]
  },
  {
   "cell_type": "raw",
   "metadata": {},
   "source": [
    "m1 = stack1.mean()\n",
    "m2 = stack2.mean()\n",
    "n  = len(stack1)\n",
    "np.sqrt(m1 * (1 - m1) / n), np.sqrt(m2 * (1 - m2) / n)"
   ]
  },
  {
   "cell_type": "raw",
   "metadata": {},
   "source": [
    "np.sqrt(.5 * (1 - .5) / n), np.sqrt(.6 * (1 - .6) / n)"
   ]
  },
  {
   "cell_type": "code",
   "execution_count": null,
   "metadata": {},
   "outputs": [],
   "source": []
  }
 ],
 "metadata": {
  "kernelspec": {
   "display_name": "Python 3",
   "language": "python",
   "name": "python3"
  },
  "language_info": {
   "codemirror_mode": {
    "name": "ipython",
    "version": 3
   },
   "file_extension": ".py",
   "mimetype": "text/x-python",
   "name": "python",
   "nbconvert_exporter": "python",
   "pygments_lexer": "ipython3",
   "version": "3.7.7"
  },
  "widgets": {
   "application/vnd.jupyter.widget-state+json": {
    "state": {},
    "version_major": 2,
    "version_minor": 0
   }
  }
 },
 "nbformat": 4,
 "nbformat_minor": 4
}
