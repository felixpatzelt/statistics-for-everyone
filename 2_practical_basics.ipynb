{
 "cells": [
  {
   "cell_type": "markdown",
   "metadata": {
    "slideshow": {
     "slide_type": "slide"
    }
   },
   "source": [
    "## Practical basics\n",
    "\n",
    "It is easy to calculate the quantities we encounter most often in statistics!"
   ]
  },
  {
   "cell_type": "markdown",
   "metadata": {
    "slideshow": {
     "slide_type": "skip"
    }
   },
   "source": [
    "# Very WIP!"
   ]
  },
  {
   "cell_type": "markdown",
   "metadata": {
    "slideshow": {
     "slide_type": "skip"
    }
   },
   "source": [
    "Basic statistics - practical skills\n",
    "- Maybe start with counting and summing?\n",
    "- For the card experiment, how to calculate...\n",
    "    - mean #wins, standard deviation, standard error\n",
    "    - sample size vs error?\n",
    "- More general, how to characterise a sample (distribution)\n",
    "    - mean, median, mode\n",
    "    - standard deviation, standard error\n",
    "    - quantiles and box plots\n",
    "- How to calculate them with pen & pape for small examples?!?\n",
    "- Appendix: how to calculate the standard quantities in Excel, Tableau, Python"
   ]
  },
  {
   "cell_type": "markdown",
   "metadata": {
    "slideshow": {
     "slide_type": "skip"
    }
   },
   "source": [
    "How to calculate these quantities\n",
    "- mean\n",
    "- standard deviation\n",
    "- standard error"
   ]
  },
  {
   "cell_type": "markdown",
   "metadata": {
    "slideshow": {
     "slide_type": "skip"
    }
   },
   "source": [
    "[no, not this mean](https://en.wikipedia.org/wiki/File:Taylor_Swift_-_Mean.png#/media/File:Taylor_Swift_-_Mean.png)\n",
    "\n",
    "if you fount this funny, you may like [this list.](https://www.isg.rhul.ac.uk/~sdg/mathsongs.html) You may also have issues."
   ]
  },
  {
   "cell_type": "code",
   "execution_count": 1,
   "metadata": {
    "slideshow": {
     "slide_type": "skip"
    }
   },
   "outputs": [
    {
     "data": {
      "text/html": [
       "<style>@import url(https://fonts.googleapis.com/css?family=Lato:400,700,400italic,700italic);</style>"
      ],
      "text/plain": [
       "<IPython.core.display.HTML object>"
      ]
     },
     "execution_count": 1,
     "metadata": {},
     "output_type": "execute_result"
    }
   ],
   "source": [
    "import altair as alt\n",
    "import helpers.plotting as pt\n",
    "pt.enable_slide_theme()\n",
    "pt.import_lato_font_in_notebook()"
   ]
  },
  {
   "cell_type": "code",
   "execution_count": 2,
   "metadata": {
    "slideshow": {
     "slide_type": "skip"
    }
   },
   "outputs": [],
   "source": [
    "# Simple example for statistical measures:\n",
    "# drawing coins from a pocket"
   ]
  },
  {
   "cell_type": "code",
   "execution_count": 3,
   "metadata": {
    "slideshow": {
     "slide_type": "skip"
    }
   },
   "outputs": [],
   "source": [
    "import pandas as pd\n",
    "import numpy as np"
   ]
  },
  {
   "cell_type": "code",
   "execution_count": 4,
   "metadata": {
    "slideshow": {
     "slide_type": "skip"
    }
   },
   "outputs": [],
   "source": [
    "from helpers.svg_wrapper import SVGImg"
   ]
  },
  {
   "cell_type": "code",
   "execution_count": 141,
   "metadata": {},
   "outputs": [],
   "source": [
    "from scipy.stats import mode"
   ]
  },
  {
   "cell_type": "code",
   "execution_count": 126,
   "metadata": {
    "slideshow": {
     "slide_type": "skip"
    }
   },
   "outputs": [
    {
     "name": "stdout",
     "output_type": "stream",
     "text": [
      "Sum of coins: 65\n"
     ]
    },
    {
     "data": {
      "text/html": [
       "<div>\n",
       "<style scoped>\n",
       "    .dataframe tbody tr th:only-of-type {\n",
       "        vertical-align: middle;\n",
       "    }\n",
       "\n",
       "    .dataframe tbody tr th {\n",
       "        vertical-align: top;\n",
       "    }\n",
       "\n",
       "    .dataframe thead th {\n",
       "        text-align: right;\n",
       "    }\n",
       "</style>\n",
       "<table border=\"1\" class=\"dataframe\">\n",
       "  <thead>\n",
       "    <tr style=\"text-align: right;\">\n",
       "      <th></th>\n",
       "      <th>value</th>\n",
       "    </tr>\n",
       "  </thead>\n",
       "  <tbody>\n",
       "    <tr>\n",
       "      <th>count</th>\n",
       "      <td>5.000000</td>\n",
       "    </tr>\n",
       "    <tr>\n",
       "      <th>mean</th>\n",
       "      <td>13.000000</td>\n",
       "    </tr>\n",
       "    <tr>\n",
       "      <th>std</th>\n",
       "      <td>6.708204</td>\n",
       "    </tr>\n",
       "    <tr>\n",
       "      <th>min</th>\n",
       "      <td>5.000000</td>\n",
       "    </tr>\n",
       "    <tr>\n",
       "      <th>25%</th>\n",
       "      <td>10.000000</td>\n",
       "    </tr>\n",
       "    <tr>\n",
       "      <th>50%</th>\n",
       "      <td>10.000000</td>\n",
       "    </tr>\n",
       "    <tr>\n",
       "      <th>75%</th>\n",
       "      <td>20.000000</td>\n",
       "    </tr>\n",
       "    <tr>\n",
       "      <th>max</th>\n",
       "      <td>20.000000</td>\n",
       "    </tr>\n",
       "  </tbody>\n",
       "</table>\n",
       "</div>"
      ],
      "text/plain": [
       "           value\n",
       "count   5.000000\n",
       "mean   13.000000\n",
       "std     6.708204\n",
       "min     5.000000\n",
       "25%    10.000000\n",
       "50%    10.000000\n",
       "75%    20.000000\n",
       "max    20.000000"
      ]
     },
     "execution_count": 126,
     "metadata": {},
     "output_type": "execute_result"
    }
   ],
   "source": [
    "# test: simple example to calculate mentally\n",
    "\n",
    "#coins_in_pocket = [1,2,2,5,20]\n",
    "#coins_in_pocket = [1,1,1,2,5,5,20] # we go with this one\n",
    "#coins_in_pocket = [1,1,2,2,2,5,5,10,20]\n",
    "#coins_in_pocket = [1,1,1,2,2,5,10,20]\n",
    "#coins_in_pocket = [5,5,10,20,50]\n",
    "coins_in_pocket = [5, 10, 10, 20, 20]\n",
    "#coins_in_pocket = [ 2, 10, 10, 10, 50, 50]\n",
    "\n",
    "print(\"Sum of coins:\", sum(coins_in_pocket))\n",
    "\n",
    "observations = pd.DataFrame(\n",
    "    coins_in_pocket,\n",
    "    columns = ['value'],\n",
    "    index = pd.Index(range(1,len(coins_in_pocket)+1), name='draw')\n",
    ")\n",
    "\n",
    "observations.describe()"
   ]
  },
  {
   "cell_type": "code",
   "execution_count": 150,
   "metadata": {},
   "outputs": [
    {
     "data": {
      "text/plain": [
       "(1025, 169.0)"
      ]
     },
     "execution_count": 150,
     "metadata": {},
     "output_type": "execute_result"
    }
   ],
   "source": [
    "np.sum(observations.values**2), np.mean(observations.values)**2"
   ]
  },
  {
   "cell_type": "code",
   "execution_count": 151,
   "metadata": {},
   "outputs": [
    {
     "data": {
      "text/plain": [
       "(205.0,\n",
       " value    169.0\n",
       " dtype: float64)"
      ]
     },
     "execution_count": 151,
     "metadata": {},
     "output_type": "execute_result"
    }
   ],
   "source": [
    "np.mean(observations.values**2),  np.mean(observations)**2"
   ]
  },
  {
   "cell_type": "code",
   "execution_count": 152,
   "metadata": {},
   "outputs": [
    {
     "data": {
      "text/plain": [
       "(36.0, 6.0)"
      ]
     },
     "execution_count": 152,
     "metadata": {},
     "output_type": "execute_result"
    }
   ],
   "source": [
    "np.var(observations.values), np.std(observations.values)#*len(observations)"
   ]
  },
  {
   "cell_type": "code",
   "execution_count": 168,
   "metadata": {},
   "outputs": [
    {
     "data": {
      "text/plain": [
       "[64.0, 9.0, 9.0, 49.0, 49.0]"
      ]
     },
     "execution_count": 168,
     "metadata": {},
     "output_type": "execute_result"
    }
   ],
   "source": [
    "[(c - np.mean(coins_in_pocket))**2 for c in coins_in_pocket]"
   ]
  },
  {
   "cell_type": "code",
   "execution_count": 153,
   "metadata": {},
   "outputs": [
    {
     "data": {
      "text/plain": [
       "36.0"
      ]
     },
     "execution_count": 153,
     "metadata": {},
     "output_type": "execute_result"
    }
   ],
   "source": [
    "np.mean((np.array(coins_in_pocket) - np.mean(coins_in_pocket))**2 )"
   ]
  },
  {
   "cell_type": "code",
   "execution_count": 154,
   "metadata": {},
   "outputs": [
    {
     "data": {
      "text/plain": [
       "value    36.0\n",
       "dtype: float64"
      ]
     },
     "execution_count": 154,
     "metadata": {},
     "output_type": "execute_result"
    }
   ],
   "source": [
    "((observations - observations.mean())**2).mean()"
   ]
  },
  {
   "cell_type": "code",
   "execution_count": 155,
   "metadata": {},
   "outputs": [
    {
     "data": {
      "text/plain": [
       "(value    36.0\n",
       " dtype: float64,\n",
       " value    45.0\n",
       " dtype: float64)"
      ]
     },
     "execution_count": 155,
     "metadata": {},
     "output_type": "execute_result"
    }
   ],
   "source": [
    "np.var(observations), observations.var()"
   ]
  },
  {
   "cell_type": "code",
   "execution_count": 170,
   "metadata": {},
   "outputs": [
    {
     "data": {
      "text/plain": [
       "2.23606797749979"
      ]
     },
     "execution_count": 170,
     "metadata": {},
     "output_type": "execute_result"
    }
   ],
   "source": [
    "np.sqrt(len(observations))"
   ]
  },
  {
   "cell_type": "code",
   "execution_count": 180,
   "metadata": {},
   "outputs": [
    {
     "data": {
      "text/plain": [
       "7.2"
      ]
     },
     "execution_count": 180,
     "metadata": {},
     "output_type": "execute_result"
    }
   ],
   "source": [
    "np.var(coins_in_pocket)/ len(coins_in_pocket)"
   ]
  },
  {
   "cell_type": "code",
   "execution_count": 185,
   "metadata": {},
   "outputs": [
    {
     "data": {
      "text/plain": [
       "6.708203932499369"
      ]
     },
     "execution_count": 185,
     "metadata": {},
     "output_type": "execute_result"
    }
   ],
   "source": [
    "np.var(coins_in_pocket, ddof=1)"
   ]
  },
  {
   "cell_type": "code",
   "execution_count": 181,
   "metadata": {},
   "outputs": [
    {
     "data": {
      "text/plain": [
       "value    9.0\n",
       "dtype: float64"
      ]
     },
     "execution_count": 181,
     "metadata": {},
     "output_type": "execute_result"
    }
   ],
   "source": [
    "observations.var() / len(observations)"
   ]
  },
  {
   "cell_type": "code",
   "execution_count": 158,
   "metadata": {
    "slideshow": {
     "slide_type": "skip"
    }
   },
   "outputs": [
    {
     "name": "stdout",
     "output_type": "stream",
     "text": [
      "Standard error: 3.0\n"
     ]
    }
   ],
   "source": [
    "print('Standard error:', float(observations.std() / np.sqrt(len(observations))))"
   ]
  },
  {
   "cell_type": "code",
   "execution_count": 203,
   "metadata": {},
   "outputs": [
    {
     "data": {
      "text/plain": [
       "20.0"
      ]
     },
     "execution_count": 203,
     "metadata": {},
     "output_type": "execute_result"
    }
   ],
   "source": [
    "np.quantile(coins_in_pocket, .75)"
   ]
  },
  {
   "cell_type": "markdown",
   "metadata": {
    "slideshow": {
     "slide_type": "slide"
    }
   },
   "source": [
    "## How to characterise a sample of quantitative observations?\n",
    "\n",
    "- **Central tendency**: where are the observed values?\n",
    "- **Dispersion**: how far apart are the observed values?"
   ]
  },
  {
   "cell_type": "markdown",
   "metadata": {
    "slideshow": {
     "slide_type": "slide"
    }
   },
   "source": [
    "### For example, imagine drawing coins from a pocket\n",
    "\n",
    "- How much is each new coin worth?\n",
    "- How certain are we about that value?\n",
    "\n",
    "Let's start with an example of 5 coins..."
   ]
  },
  {
   "cell_type": "markdown",
   "metadata": {
    "slideshow": {
     "slide_type": "slide"
    }
   },
   "source": [
    "### Measures of central tendency"
   ]
  },
  {
   "cell_type": "code",
   "execution_count": 159,
   "metadata": {},
   "outputs": [
    {
     "data": {
      "text/html": [
       "\n",
       "            <object type=\"image/svg+xml\" data=\"images/coins_central_tendency.svg\" style=\"width: 70%; height: 100%; margin: auto;\">\n",
       "                <img src=\"images/coins_central_tendency.svg\" width=\"70%\" height=\"100%\"></img>\n",
       "            </object>\n",
       "            "
      ],
      "text/plain": [
       "<helpers.svg_wrapper.SVGImg at 0x115a50110>"
      ]
     },
     "execution_count": 159,
     "metadata": {},
     "output_type": "execute_result"
    }
   ],
   "source": [
    "SVGImg('images/coins_central_tendency.svg', width='70%', output_dir='slides')"
   ]
  },
  {
   "cell_type": "markdown",
   "metadata": {
    "slideshow": {
     "slide_type": "subslide"
    }
   },
   "source": [
    "## *\n",
    "\n",
    "If there is an even number of observations in our sample, <br>the median is in between the two central ones:\n",
    "- median([5,5,**10**,20,20]) = **10**\n",
    "- median([5,5,**10**,**20**,20,20]) = (**10**+**20**) / 2 = 15\n",
    "\n",
    "See e.g. https://en.wikipedia.org/wiki/Central_tendency for details <br>on these and other measures of central tendency."
   ]
  },
  {
   "cell_type": "markdown",
   "metadata": {
    "slideshow": {
     "slide_type": "slide"
    }
   },
   "source": [
    "### Measures of dispersion"
   ]
  },
  {
   "cell_type": "code",
   "execution_count": 205,
   "metadata": {},
   "outputs": [
    {
     "data": {
      "text/html": [
       "\n",
       "            <object type=\"image/svg+xml\" data=\"images/coins_dispersion.svg\" style=\"width: 70%; height: 100%; margin: auto;\">\n",
       "                <img src=\"images/coins_dispersion.svg\" width=\"70%\" height=\"100%\"></img>\n",
       "            </object>\n",
       "            "
      ],
      "text/plain": [
       "<helpers.svg_wrapper.SVGImg at 0x122ca3d90>"
      ]
     },
     "execution_count": 205,
     "metadata": {},
     "output_type": "execute_result"
    }
   ],
   "source": [
    "SVGImg('images/coins_dispersion.svg', width='70%', output_dir='slides')"
   ]
  },
  {
   "cell_type": "markdown",
   "metadata": {
    "slideshow": {
     "slide_type": "subslide"
    }
   },
   "source": [
    "See e.g. https://en.wikipedia.org/wiki/Statistical_dispersion for details <br>on these and other measures of dispersion."
   ]
  },
  {
   "cell_type": "markdown",
   "metadata": {
    "slideshow": {
     "slide_type": "slide"
    }
   },
   "source": [
    "### Try it!"
   ]
  },
  {
   "cell_type": "code",
   "execution_count": 230,
   "metadata": {},
   "outputs": [
    {
     "data": {
      "text/html": [
       "\n",
       "<div id=\"altair-viz-34e599cca005451b80c9d43d9c24cd73\"></div>\n",
       "<script type=\"text/javascript\">\n",
       "  (function(spec, embedOpt){\n",
       "    let outputDiv = document.currentScript.previousElementSibling;\n",
       "    if (outputDiv.id !== \"altair-viz-34e599cca005451b80c9d43d9c24cd73\") {\n",
       "      outputDiv = document.getElementById(\"altair-viz-34e599cca005451b80c9d43d9c24cd73\");\n",
       "    }\n",
       "    const paths = {\n",
       "      \"vega\": \"https://cdn.jsdelivr.net/npm//vega@5?noext\",\n",
       "      \"vega-lib\": \"https://cdn.jsdelivr.net/npm//vega-lib?noext\",\n",
       "      \"vega-lite\": \"https://cdn.jsdelivr.net/npm//vega-lite@4.8.1?noext\",\n",
       "      \"vega-embed\": \"https://cdn.jsdelivr.net/npm//vega-embed@6?noext\",\n",
       "    };\n",
       "\n",
       "    function loadScript(lib) {\n",
       "      return new Promise(function(resolve, reject) {\n",
       "        var s = document.createElement('script');\n",
       "        s.src = paths[lib];\n",
       "        s.async = true;\n",
       "        s.onload = () => resolve(paths[lib]);\n",
       "        s.onerror = () => reject(`Error loading script: ${paths[lib]}`);\n",
       "        document.getElementsByTagName(\"head\")[0].appendChild(s);\n",
       "      });\n",
       "    }\n",
       "\n",
       "    function showError(err) {\n",
       "      outputDiv.innerHTML = `<div class=\"error\" style=\"color:red;\">${err}</div>`;\n",
       "      throw err;\n",
       "    }\n",
       "\n",
       "    function displayChart(vegaEmbed) {\n",
       "      vegaEmbed(outputDiv, spec, embedOpt)\n",
       "        .catch(err => showError(`Javascript Error: ${err.message}<br>This usually means there's a typo in your chart specification. See the javascript console for the full traceback.`));\n",
       "    }\n",
       "\n",
       "    if(typeof define === \"function\" && define.amd) {\n",
       "      requirejs.config({paths});\n",
       "      require([\"vega-embed\"], displayChart, err => showError(`Error loading script: ${err.message}`));\n",
       "    } else if (typeof vegaEmbed === \"function\") {\n",
       "      displayChart(vegaEmbed);\n",
       "    } else {\n",
       "      loadScript(\"vega\")\n",
       "        .then(() => loadScript(\"vega-lite\"))\n",
       "        .then(() => loadScript(\"vega-embed\"))\n",
       "        .catch(showError)\n",
       "        .then(() => displayChart(vegaEmbed));\n",
       "    }\n",
       "  })({\"config\": {\"title\": {\"fontSize\": 24.0, \"font\": [\"Lato\", \"Helvetica Neue\", \"Helvetica\", \"Arial\", \"Sans Serif\"], \"fontWeight\": \"normal\"}, \"axisX\": {\"labelFont\": [\"Lato\", \"Helvetica Neue\", \"Helvetica\", \"Arial\", \"Sans Serif\"], \"labelFontSize\": 16, \"titleFont\": [\"Lato\", \"Helvetica Neue\", \"Helvetica\", \"Arial\", \"Sans Serif\"], \"titleFontSize\": 16, \"titleFontWeight\": \"normal\", \"titlePadding\": 10}, \"axisY\": {\"labelFont\": [\"Lato\", \"Helvetica Neue\", \"Helvetica\", \"Arial\", \"Sans Serif\"], \"labelFontSize\": 16, \"titleFont\": [\"Lato\", \"Helvetica Neue\", \"Helvetica\", \"Arial\", \"Sans Serif\"], \"titleFontSize\": 16, \"titleFontWeight\": \"normal\", \"titlePadding\": 10}, \"legend\": {\"labelFont\": [\"Lato\", \"Helvetica Neue\", \"Helvetica\", \"Arial\", \"Sans Serif\"], \"labelFontSize\": 16, \"titleFont\": [\"Lato\", \"Helvetica Neue\", \"Helvetica\", \"Arial\", \"Sans Serif\"], \"titleFontSize\": 16, \"titleFontWeight\": \"normal\"}, \"text\": {\"font\": [\"Lato\", \"Helvetica Neue\", \"Helvetica\", \"Arial\", \"Sans Serif\"], \"fontSize\": 14.4}}, \"vconcat\": [{\"mark\": \"bar\", \"encoding\": {\"x\": {\"type\": \"quantitative\", \"axis\": null, \"bin\": {\"maxbins\": 7}, \"field\": \"x\", \"scale\": {\"domain\": [-10, 10]}}, \"y\": {\"type\": \"quantitative\", \"aggregate\": \"count\"}}, \"selection\": {\"selector088\": {\"type\": \"interval\", \"bind\": \"scales\"}, \"selector087\": {\"type\": \"single\", \"bind\": {\"input\": \"range\", \"min\": 10, \"max\": 200, \"step\": 1, \"name\": \"samples\"}, \"init\": {\"samples\": 50}}, \"selector086\": {\"type\": \"single\", \"bind\": {\"input\": \"range\", \"min\": 0.1, \"max\": 5, \"step\": 0.1, \"name\": \"std\"}, \"init\": {\"std\": 1}}, \"selector085\": {\"type\": \"single\", \"bind\": {\"input\": \"range\", \"min\": -5, \"max\": 5, \"step\": 0.1, \"name\": \"mean\"}, \"init\": {\"mean\": 0}}}, \"transform\": [{\"filter\": \"(datum.t <= toNumber(selector087.samples))\"}, {\"calculate\": \"selector085['mean']\", \"as\": \"mean\"}, {\"calculate\": \"selector086['std']\", \"as\": \"std\"}, {\"calculate\": \"datum.t\", \"as\": \"t\"}, {\"calculate\": \"sampleNormal(+datum.mean,+datum.std)\", \"as\": \"x\"}], \"width\": 500}, {\"mark\": \"tick\", \"encoding\": {\"x\": {\"type\": \"quantitative\", \"field\": \"x\", \"scale\": {\"domain\": [-10, 10]}}}, \"selection\": {\"selector088\": {\"type\": \"interval\", \"bind\": \"scales\"}, \"selector087\": {\"type\": \"single\", \"bind\": {\"input\": \"range\", \"min\": 10, \"max\": 200, \"step\": 1, \"name\": \"samples\"}, \"init\": {\"samples\": 50}}, \"selector086\": {\"type\": \"single\", \"bind\": {\"input\": \"range\", \"min\": 0.1, \"max\": 5, \"step\": 0.1, \"name\": \"std\"}, \"init\": {\"std\": 1}}, \"selector085\": {\"type\": \"single\", \"bind\": {\"input\": \"range\", \"min\": -5, \"max\": 5, \"step\": 0.1, \"name\": \"mean\"}, \"init\": {\"mean\": 0}}}, \"transform\": [{\"filter\": \"(datum.t <= toNumber(selector087.samples))\"}, {\"calculate\": \"selector085['mean']\", \"as\": \"mean\"}, {\"calculate\": \"selector086['std']\", \"as\": \"std\"}, {\"calculate\": \"datum.t\", \"as\": \"t\"}, {\"calculate\": \"sampleNormal(+datum.mean,+datum.std)\", \"as\": \"x\"}], \"view\": {\"strokeWidth\": 0}, \"width\": 500}], \"data\": {\"sequence\": {\"start\": 0, \"stop\": 200, \"as\": \"t\"}}, \"$schema\": \"https://vega.github.io/schema/vega-lite/v4.8.1.json\"}, {\"actions\": false, \"mode\": \"vega-lite\"});\n",
       "</script>"
      ],
      "text/plain": [
       "alt.VConcatChart(...)"
      ]
     },
     "execution_count": 230,
     "metadata": {},
     "output_type": "execute_result"
    }
   ],
   "source": [
    "# test: interactive distribution parameters\n",
    "plot_width  = 500\n",
    "max_samples = 200\n",
    "input_mean = alt.binding(\n",
    "    input='range',\n",
    "    min=-5,\n",
    "    max=5,\n",
    "    step=.1,\n",
    "    name='mean'\n",
    ")\n",
    "input_std = alt.binding(\n",
    "    input='range',\n",
    "    min=0.1,\n",
    "    max=5,\n",
    "    step=.1,\n",
    "    name='std'\n",
    ")\n",
    "input_samples = alt.binding(\n",
    "    input='range',\n",
    "    min=10,\n",
    "    max=max_samples,\n",
    "    step=1,\n",
    "    name='samples'\n",
    ")\n",
    "mean_selection = alt.selection_single(\n",
    "    bind=input_mean,\n",
    "    init={'mean': 0}\n",
    ")\n",
    "std_selection = alt.selection_single(\n",
    "    bind=input_std,\n",
    "    init={'std': 1}\n",
    ")\n",
    "samples_selection = alt.selection_single(\n",
    "    bind=input_samples,\n",
    "    init={'samples': 50}\n",
    ")\n",
    "scales = alt.selection_interval(bind='scales')\n",
    "                                \n",
    "data = alt.sequence(0, max_samples, as_='t')\n",
    "chart = alt.Chart(data).add_selection(\n",
    "    scales, samples_selection, std_selection, mean_selection\n",
    ").transform_filter(\n",
    "    alt.datum.t <= alt.expr.toNumber(samples_selection.samples)    \n",
    ").transform_calculate(\n",
    "  mean = mean_selection['mean'],\n",
    "  std  = std_selection['std'],\n",
    ").transform_calculate(\n",
    "    t='datum.t',\n",
    "    x='sampleNormal(+datum.mean,+datum.std)', # the plus casts to number\n",
    ")\n",
    "scale = alt.Scale(domain=[-10,10])\n",
    "hist = chart.mark_bar().encode(\n",
    "    alt.X(\"x:Q\", bin=alt.Bin(maxbins=7), scale=scale, axis=None),\n",
    "    y='count()',\n",
    ").properties(\n",
    "    width=plot_width\n",
    ")\n",
    "ticks = chart.mark_tick().encode(\n",
    "    x=alt.X('x:Q', scale=scale)\n",
    ").properties(\n",
    "    view=alt.ViewConfig(strokeWidth=0), width=plot_width)\n",
    "\n",
    "(hist & ticks)"
   ]
  },
  {
   "cell_type": "markdown",
   "metadata": {},
   "source": [
    "Each time you change the parameters, new samples are drawn from a normal distribution.<br>\n",
    "The latter is also called Gaussian or bell curve and we will discuss it depth later."
   ]
  },
  {
   "cell_type": "code",
   "execution_count": 9,
   "metadata": {
    "slideshow": {
     "slide_type": "slide"
    }
   },
   "outputs": [],
   "source": [
    "import numpy as np\n",
    "#from helpers.cards import draw_cards"
   ]
  },
  {
   "cell_type": "raw",
   "metadata": {},
   "source": [
    "stack1, stack2 = draw_cards(\n",
    "    p_win_1 = 0.5,\n",
    "    p_win_2 = 0.4,\n",
    "    n_cards = 25,\n",
    "    seed     = 0\n",
    ")"
   ]
  },
  {
   "cell_type": "raw",
   "metadata": {},
   "source": [
    "m1 = stack1.mean()\n",
    "m2 = stack2.mean()\n",
    "n  = len(stack1)\n",
    "np.sqrt(m1 * (1 - m1) / n), np.sqrt(m2 * (1 - m2) / n)"
   ]
  },
  {
   "cell_type": "raw",
   "metadata": {},
   "source": [
    "np.sqrt(.5 * (1 - .5) / n), np.sqrt(.6 * (1 - .6) / n)"
   ]
  },
  {
   "cell_type": "code",
   "execution_count": null,
   "metadata": {},
   "outputs": [],
   "source": []
  }
 ],
 "metadata": {
  "kernelspec": {
   "display_name": "Python 3",
   "language": "python",
   "name": "python3"
  },
  "language_info": {
   "codemirror_mode": {
    "name": "ipython",
    "version": 3
   },
   "file_extension": ".py",
   "mimetype": "text/x-python",
   "name": "python",
   "nbconvert_exporter": "python",
   "pygments_lexer": "ipython3",
   "version": "3.7.7"
  },
  "widgets": {
   "application/vnd.jupyter.widget-state+json": {
    "state": {},
    "version_major": 2,
    "version_minor": 0
   }
  }
 },
 "nbformat": 4,
 "nbformat_minor": 4
}
