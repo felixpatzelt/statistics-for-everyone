{
 "cells": [
  {
   "cell_type": "markdown",
   "metadata": {
    "slideshow": {
     "slide_type": "slide"
    }
   },
   "source": [
    "## Practical basics\n",
    "\n",
    "It is easy to calculate the quantities we encounter most often in statistics!"
   ]
  },
  {
   "cell_type": "code",
   "execution_count": 22,
   "metadata": {
    "slideshow": {
     "slide_type": "skip"
    }
   },
   "outputs": [
    {
     "data": {
      "text/html": [
       "<style>@import url(https://fonts.googleapis.com/css?family=Lato:400,700,400italic,700italic);</style>"
      ],
      "text/plain": [
       "<IPython.core.display.HTML object>"
      ]
     },
     "execution_count": 22,
     "metadata": {},
     "output_type": "execute_result"
    }
   ],
   "source": [
    "import pandas as pd\n",
    "import numpy as np\n",
    "import altair as alt\n",
    "import helpers.plotting as pt\n",
    "from helpers.svg_wrapper import SVGImg\n",
    "from helpers.pracical_basics import plot_population_vs_sample_mean, print_example_statistics\n",
    "pt.enable_slide_theme()\n",
    "pt.import_lato_font_in_notebook()"
   ]
  },
  {
   "cell_type": "code",
   "execution_count": 20,
   "metadata": {},
   "outputs": [
    {
     "data": {
      "text/html": [
       "<script type=\"text/x-mathjax-config\">\n",
       "MathJax.Hub.Config({\n",
       "    \"HTML-CSS\" : {\n",
       "        mtextFontInherit: true,\n",
       "    }\n",
       "});\n",
       "</script>\n"
      ],
      "text/plain": [
       "<IPython.core.display.HTML object>"
      ]
     },
     "metadata": {},
     "output_type": "display_data"
    }
   ],
   "source": [
    "%%html\n",
    "<script type=\"text/x-mathjax-config\">\n",
    "MathJax.Hub.Config({\n",
    "    \"HTML-CSS\" : {\n",
    "        mtextFontInherit: true,\n",
    "    }\n",
    "});\n",
    "</script>"
   ]
  },
  {
   "cell_type": "code",
   "execution_count": 3,
   "metadata": {},
   "outputs": [],
   "source": [
    "# for the exercises only\n",
    "from helpers.cards import draw_cards\n",
    "from IPython.display import Markdown as md"
   ]
  },
  {
   "cell_type": "markdown",
   "metadata": {
    "slideshow": {
     "slide_type": "slide"
    }
   },
   "source": [
    "### How to characterise a sample of quantitative observations?\n",
    "\n",
    "- **Central tendency**: where are the observed values?\n",
    "- **Dispersion**: how far apart are the observed values?"
   ]
  },
  {
   "cell_type": "markdown",
   "metadata": {
    "slideshow": {
     "slide_type": "slide"
    }
   },
   "source": [
    "### For example, imagine drawing coins from a pocket\n",
    "\n",
    "- How much is each new coin worth?\n",
    "- How certain are we about that value?\n",
    "\n",
    "Let's start with an example of 5 coins..."
   ]
  },
  {
   "cell_type": "markdown",
   "metadata": {
    "slideshow": {
     "slide_type": "slide"
    }
   },
   "source": [
    "### Measures of central tendency"
   ]
  },
  {
   "cell_type": "code",
   "execution_count": 4,
   "metadata": {},
   "outputs": [
    {
     "data": {
      "text/html": [
       "\n",
       "            <object type=\"image/svg+xml\" data=\"images/coins_central_tendency.svg\" style=\"width: 70%; height: 100%; margin: auto;\">\n",
       "                <img src=\"images/coins_central_tendency.svg\" width=\"70%\" height=\"100%\"></img>\n",
       "            </object>\n",
       "            "
      ],
      "text/plain": [
       "<helpers.svg_wrapper.SVGImg at 0x11ff812b0>"
      ]
     },
     "execution_count": 4,
     "metadata": {},
     "output_type": "execute_result"
    }
   ],
   "source": [
    "SVGImg('images/coins_central_tendency.svg', width='70%', output_dir='slides')"
   ]
  },
  {
   "cell_type": "markdown",
   "metadata": {
    "slideshow": {
     "slide_type": "subslide"
    }
   },
   "source": [
    "## *\n",
    "\n",
    "If there is an even number of observations in our sample, <br>the median is in between the two central ones:\n",
    "- median([5,5,**10**,20,20]) = **10**\n",
    "- median([5,5,**10**,**20**,20,20]) = (**10**+**20**) / 2 = 15\n",
    "\n",
    "See e.g. https://en.wikipedia.org/wiki/Central_tendency for details <br>on these and other measures of central tendency."
   ]
  },
  {
   "cell_type": "markdown",
   "metadata": {
    "slideshow": {
     "slide_type": "slide"
    }
   },
   "source": [
    "### Measures of dispersion"
   ]
  },
  {
   "cell_type": "code",
   "execution_count": 5,
   "metadata": {},
   "outputs": [
    {
     "data": {
      "text/html": [
       "\n",
       "            <object type=\"image/svg+xml\" data=\"images/coins_dispersion.svg\" style=\"width: 70%; height: 100%; margin: auto;\">\n",
       "                <img src=\"images/coins_dispersion.svg\" width=\"70%\" height=\"100%\"></img>\n",
       "            </object>\n",
       "            "
      ],
      "text/plain": [
       "<helpers.svg_wrapper.SVGImg at 0x11ff81880>"
      ]
     },
     "execution_count": 5,
     "metadata": {},
     "output_type": "execute_result"
    }
   ],
   "source": [
    "SVGImg('images/coins_dispersion.svg', width='70%', output_dir='slides')"
   ]
  },
  {
   "cell_type": "markdown",
   "metadata": {
    "slideshow": {
     "slide_type": "subslide"
    }
   },
   "source": [
    "See e.g. https://en.wikipedia.org/wiki/Statistical_dispersion for details <br>on these and other measures of dispersion."
   ]
  },
  {
   "cell_type": "markdown",
   "metadata": {
    "slideshow": {
     "slide_type": "slide"
    }
   },
   "source": [
    "### We usually have incomplete information about the world\n",
    "\n",
    "- We can know the values of all the coins in our pocket.\n",
    "- What about all the coins in a vault? We might not have the time to look at them all!\n",
    "- We can still estimate the true statistics of a **population** <br> (e.g. all coins in a vault, all cards in a stack, ...) <br>from a representative **sample** that we draw in an experiment."
   ]
  },
  {
   "cell_type": "markdown",
   "metadata": {
    "slideshow": {
     "slide_type": "slide"
    }
   },
   "source": [
    "### The sample estimate of the population mean<br> is just the sample mean!\n",
    "\n",
    "- The sample mean is the sum of values divided by number of samples.\n",
    "- This is exactly the mean that we calculated above for the values of the five coins!"
   ]
  },
  {
   "cell_type": "markdown",
   "metadata": {
    "slideshow": {
     "slide_type": "slide"
    }
   },
   "source": [
    "### The sample variance is a biased estimate of the population variance!"
   ]
  },
  {
   "cell_type": "code",
   "execution_count": 6,
   "metadata": {},
   "outputs": [
    {
     "data": {
      "text/html": [
       "\n",
       "            <object type=\"image/svg+xml\" data=\"images/population_vs_sample.svg\" style=\"width: 100%; height: 100%; margin: auto;\">\n",
       "                <img src=\"images/population_vs_sample.svg\" width=\"100%\" height=\"100%\"></img>\n",
       "            </object>\n",
       "            "
      ],
      "text/plain": [
       "<helpers.svg_wrapper.SVGImg at 0x11ff81820>"
      ]
     },
     "execution_count": 6,
     "metadata": {},
     "output_type": "execute_result"
    }
   ],
   "source": [
    "SVGImg('images/population_vs_sample.svg', width='100%', output_dir='slides')"
   ]
  },
  {
   "cell_type": "markdown",
   "metadata": {
    "slideshow": {
     "slide_type": "slide"
    }
   },
   "source": [
    "### All estimates have errors\n",
    "\n",
    "We often estimate the population mean from a sample. The uncertainty of this estimate is quantified by the \"standard error\" and calculated as follows $^{*▾}$:\n",
    "\n",
    "$\\text{Standard Error} = \\sqrt{\\frac{\\text{Population Variance}}{\\text{Sample Size}}}$.\n",
    "\n",
    "With the estimated population variance of our 5 coins, we obtain:\n",
    "\n",
    "$\\text{Standard Error (coin example)} = \\sqrt{\\frac{\\text{45}}{\\text{5}}} = \\sqrt{\\text{9}} = \\text{3}$."
   ]
  },
  {
   "cell_type": "markdown",
   "metadata": {
    "slideshow": {
     "slide_type": "subslide"
    }
   },
   "source": [
    "### *The standard error is still only an approximation \n",
    "\n",
    "- It can also be written as population standard deviation divided by the square root of the number of observations.\n",
    "- In contrast to the variance, the [standard deviation still has a bias](https://en.wikipedia.org/wiki/Unbiased_estimation_of_standard_deviation) because the square root is a curved function.\n",
    "- There are specific corrections for a number of scenarios\n",
    "- Knowing approximately how precise your estimate of the mean is much better than knowing nothing about it!"
   ]
  },
  {
   "cell_type": "markdown",
   "metadata": {
    "slideshow": {
     "slide_type": "slide"
    }
   },
   "source": [
    "### We now can answer our initial question:\n",
    "\n",
    "**Mean ± 2 Standard Errors** is a common way to state an estimate and its uncertainty. \n",
    "\n",
    "- In the example with 5 coins, we can say we expect the value of taking one coin out of the pocket is 13 ± 6 cents.\n",
    "\n",
    "- Lower or higher confidence levels are used for some applications. In these cases 1, 3, or more standard errors are [reported](https://en.wikipedia.org/wiki/68–95–99.7_rule)."
   ]
  },
  {
   "cell_type": "markdown",
   "metadata": {
    "slideshow": {
     "slide_type": "slide"
    }
   },
   "source": [
    "### Two standard errors are approximately equal to the 95% confidence interval\n",
    "\n",
    "- The 95% confidence interval (CI) contains the population mean with 95% probability.\n",
    "- Often used as the size for error bars - but always check the description of a figure!\n",
    "- Allows to test if a **mean is different from an exact number** with a **5 error rate**.\n",
    "- This can be useful to test if an effect is significantly different from 0."
   ]
  },
  {
   "cell_type": "code",
   "execution_count": 7,
   "metadata": {},
   "outputs": [
    {
     "data": {
      "text/html": [
       "\n",
       "            <object type=\"image/svg+xml\" data=\"images/error_bars_ci.svg\" style=\"width: 50%; height: 100%; margin: auto;\">\n",
       "                <img src=\"images/error_bars_ci.svg\" width=\"50%\" height=\"100%\"></img>\n",
       "            </object>\n",
       "            "
      ],
      "text/plain": [
       "<helpers.svg_wrapper.SVGImg at 0x11ff81fd0>"
      ]
     },
     "execution_count": 7,
     "metadata": {},
     "output_type": "execute_result"
    }
   ],
   "source": [
    "SVGImg('images/error_bars_ci.svg', width='50%', output_dir='slides')"
   ]
  },
  {
   "cell_type": "markdown",
   "metadata": {
    "slideshow": {
     "slide_type": "slide"
    }
   },
   "source": [
    "### We often use confidence intervals as error bars\n",
    "\n",
    "- The 95% confidence interval is approximately 2 standard errors (or 1.96).\n",
    "- If the bars don't overlap, we assume that the observed means different with <br>a 1% error rate.\n",
    "- This is what we looked at in the the card experiment in [section one](1_introductory_card_experiment.slides.html).\n",
    "- Smaller or bigger error bars can be useful [depending on the use case](https://www.ncbi.nlm.nih.gov/pmc/articles/PMC2064100/)\n",
    "- There are other tests for significance that we will discuss in a followup"
   ]
  },
  {
   "cell_type": "code",
   "execution_count": 8,
   "metadata": {},
   "outputs": [
    {
     "data": {
      "text/html": [
       "\n",
       "            <object type=\"image/svg+xml\" data=\"images/error_bars.svg\" style=\"width: 50%; height: 100%; margin: auto;\">\n",
       "                <img src=\"images/error_bars.svg\" width=\"50%\" height=\"100%\"></img>\n",
       "            </object>\n",
       "            "
      ],
      "text/plain": [
       "<helpers.svg_wrapper.SVGImg at 0x11ff814f0>"
      ]
     },
     "execution_count": 8,
     "metadata": {},
     "output_type": "execute_result"
    }
   ],
   "source": [
    "SVGImg('images/error_bars.svg', width='50%', output_dir='slides')"
   ]
  },
  {
   "cell_type": "markdown",
   "metadata": {
    "slideshow": {
     "slide_type": "slide"
    }
   },
   "source": [
    "### Try it!"
   ]
  },
  {
   "cell_type": "code",
   "execution_count": 9,
   "metadata": {},
   "outputs": [
    {
     "data": {
      "text/html": [
       "\n",
       "<div id=\"altair-viz-e6a1839e5ef640ea86407863a5b025e4\"></div>\n",
       "<script type=\"text/javascript\">\n",
       "  (function(spec, embedOpt){\n",
       "    let outputDiv = document.currentScript.previousElementSibling;\n",
       "    if (outputDiv.id !== \"altair-viz-e6a1839e5ef640ea86407863a5b025e4\") {\n",
       "      outputDiv = document.getElementById(\"altair-viz-e6a1839e5ef640ea86407863a5b025e4\");\n",
       "    }\n",
       "    const paths = {\n",
       "      \"vega\": \"https://cdn.jsdelivr.net/npm//vega@5?noext\",\n",
       "      \"vega-lib\": \"https://cdn.jsdelivr.net/npm//vega-lib?noext\",\n",
       "      \"vega-lite\": \"https://cdn.jsdelivr.net/npm//vega-lite@4.8.1?noext\",\n",
       "      \"vega-embed\": \"https://cdn.jsdelivr.net/npm//vega-embed@6?noext\",\n",
       "    };\n",
       "\n",
       "    function loadScript(lib) {\n",
       "      return new Promise(function(resolve, reject) {\n",
       "        var s = document.createElement('script');\n",
       "        s.src = paths[lib];\n",
       "        s.async = true;\n",
       "        s.onload = () => resolve(paths[lib]);\n",
       "        s.onerror = () => reject(`Error loading script: ${paths[lib]}`);\n",
       "        document.getElementsByTagName(\"head\")[0].appendChild(s);\n",
       "      });\n",
       "    }\n",
       "\n",
       "    function showError(err) {\n",
       "      outputDiv.innerHTML = `<div class=\"error\" style=\"color:red;\">${err}</div>`;\n",
       "      throw err;\n",
       "    }\n",
       "\n",
       "    function displayChart(vegaEmbed) {\n",
       "      vegaEmbed(outputDiv, spec, embedOpt)\n",
       "        .catch(err => showError(`Javascript Error: ${err.message}<br>This usually means there's a typo in your chart specification. See the javascript console for the full traceback.`));\n",
       "    }\n",
       "\n",
       "    if(typeof define === \"function\" && define.amd) {\n",
       "      requirejs.config({paths});\n",
       "      require([\"vega-embed\"], displayChart, err => showError(`Error loading script: ${err.message}`));\n",
       "    } else if (typeof vegaEmbed === \"function\") {\n",
       "      displayChart(vegaEmbed);\n",
       "    } else {\n",
       "      loadScript(\"vega\")\n",
       "        .then(() => loadScript(\"vega-lite\"))\n",
       "        .then(() => loadScript(\"vega-embed\"))\n",
       "        .catch(showError)\n",
       "        .then(() => displayChart(vegaEmbed));\n",
       "    }\n",
       "  })({\"config\": {\"title\": {\"fontSize\": 24.0, \"font\": [\"Lato\", \"Helvetica Neue\", \"Helvetica\", \"Arial\", \"Sans Serif\"], \"fontWeight\": \"normal\"}, \"axisX\": {\"labelFont\": [\"Lato\", \"Helvetica Neue\", \"Helvetica\", \"Arial\", \"Sans Serif\"], \"labelFontSize\": 16, \"titleFont\": [\"Lato\", \"Helvetica Neue\", \"Helvetica\", \"Arial\", \"Sans Serif\"], \"titleFontSize\": 16, \"titleFontWeight\": \"normal\", \"titlePadding\": 10}, \"axisY\": {\"labelFont\": [\"Lato\", \"Helvetica Neue\", \"Helvetica\", \"Arial\", \"Sans Serif\"], \"labelFontSize\": 16, \"titleFont\": [\"Lato\", \"Helvetica Neue\", \"Helvetica\", \"Arial\", \"Sans Serif\"], \"titleFontSize\": 16, \"titleFontWeight\": \"normal\", \"titlePadding\": 10}, \"legend\": {\"labelFont\": [\"Lato\", \"Helvetica Neue\", \"Helvetica\", \"Arial\", \"Sans Serif\"], \"labelFontSize\": 16, \"titleFont\": [\"Lato\", \"Helvetica Neue\", \"Helvetica\", \"Arial\", \"Sans Serif\"], \"titleFontSize\": 16, \"titleFontWeight\": \"normal\"}, \"text\": {\"font\": [\"Lato\", \"Helvetica Neue\", \"Helvetica\", \"Arial\", \"Sans Serif\"], \"fontSize\": 14.4}}, \"vconcat\": [{\"layer\": [{\"mark\": {\"type\": \"errorbar\", \"color\": \"red\", \"rule\": {\"size\": 1.5}, \"ticks\": true}, \"encoding\": {\"x\": {\"type\": \"quantitative\", \"axis\": {\"domain\": false, \"labels\": false, \"orient\": \"top\", \"ticks\": false, \"title\": \"Population mean \\u00b1 expected sample uncertainty\"}, \"field\": \"xmin\"}, \"x2\": {\"field\": \"xmax\"}}, \"selection\": {\"selector003\": {\"type\": \"single\", \"bind\": {\"input\": \"range\", \"min\": 10, \"max\": 200, \"step\": 1, \"name\": \"Sample size\"}, \"init\": {\"samples\": 50}}, \"selector002\": {\"type\": \"single\", \"bind\": {\"input\": \"range\", \"min\": 0.1, \"max\": 5, \"step\": 0.1, \"name\": \"Pop. Std.\"}, \"init\": {\"std\": 1.5}}, \"selector001\": {\"type\": \"single\", \"bind\": {\"input\": \"range\", \"min\": -5, \"max\": 5, \"step\": 0.1, \"name\": \"Pop. mean\"}, \"init\": {\"mean\": 0}}}}, {\"mark\": {\"type\": \"point\", \"color\": \"red\", \"filled\": true, \"size\": 20, \"stroke\": null}, \"encoding\": {\"x\": {\"type\": \"quantitative\", \"axis\": {\"title\": \"\"}, \"field\": \"mean\", \"scale\": {\"domain\": [-10, 10]}}}}], \"data\": {\"name\": \"data-a34019366e793aa5e70591f9693d64a7\"}, \"transform\": [{\"calculate\": \"selector001['mean']\", \"as\": \"mean\"}, {\"calculate\": \"selector002['std']\", \"as\": \"std\"}, {\"calculate\": \"selector003['samples']\", \"as\": \"samples\"}, {\"calculate\": \"selector004['ses']\", \"as\": \"ses\"}, {\"calculate\": \"+datum.mean - datum.ses * datum.std / sqrt(+datum.samples)\", \"as\": \"xmin\"}, {\"calculate\": \"+datum.mean + datum.ses * datum.std / sqrt(+datum.samples)\", \"as\": \"xmax\"}], \"view\": {\"strokeWidth\": 0}, \"width\": 500}, {\"vconcat\": [{\"layer\": [{\"mark\": {\"type\": \"errorbar\", \"rule\": {\"size\": 1.5}, \"ticks\": true}, \"encoding\": {\"x\": {\"type\": \"quantitative\", \"axis\": {\"domain\": false, \"labels\": false, \"orient\": \"top\", \"ticks\": false, \"title\": \"Sample mean \\u00b1 sample uncertainty\"}, \"field\": \"bar_min\", \"scale\": {\"domain\": [-10, 10]}}, \"x2\": {\"field\": \"bar_max\"}}, \"selection\": {\"selector004\": {\"type\": \"single\", \"bind\": {\"input\": \"range\", \"min\": 1, \"max\": 3, \"step\": 1, \"name\": \"Show std. errors\"}, \"init\": {\"ses\": 2}}, \"selector003\": {\"type\": \"single\", \"bind\": {\"input\": \"range\", \"min\": 10, \"max\": 200, \"step\": 1, \"name\": \"Sample size\"}, \"init\": {\"samples\": 50}}, \"selector002\": {\"type\": \"single\", \"bind\": {\"input\": \"range\", \"min\": 0.1, \"max\": 5, \"step\": 0.1, \"name\": \"Pop. Std.\"}, \"init\": {\"std\": 1.5}}, \"selector001\": {\"type\": \"single\", \"bind\": {\"input\": \"range\", \"min\": -5, \"max\": 5, \"step\": 0.1, \"name\": \"Pop. mean\"}, \"init\": {\"mean\": 0}}}}, {\"mark\": {\"type\": \"point\", \"filled\": true, \"size\": 20, \"stroke\": null}, \"encoding\": {\"x\": {\"type\": \"quantitative\", \"field\": \"sample_mean\"}}}], \"transform\": [{\"aggregate\": [{\"op\": \"mean\", \"field\": \"x\", \"as\": \"sample_mean\"}, {\"op\": \"stderr\", \"field\": \"x\", \"as\": \"sample_err\"}]}, {\"calculate\": \"selector004['ses']\", \"as\": \"ses\"}, {\"calculate\": \"+datum.sample_mean - datum.ses * datum.sample_err\", \"as\": \"bar_min\"}, {\"calculate\": \"+datum.sample_mean + datum.ses * datum.sample_err\", \"as\": \"bar_max\"}], \"view\": {\"strokeWidth\": 0}, \"width\": 500}, {\"mark\": {\"type\": \"bar\", \"clip\": true}, \"encoding\": {\"x\": {\"type\": \"quantitative\", \"axis\": {\"domain\": false, \"labels\": false, \"orient\": \"top\", \"ticks\": false, \"title\": \"Sample Histogram\"}, \"bin\": {}, \"field\": \"x\", \"scale\": {\"domain\": [-10, 10]}}, \"y\": {\"type\": \"quantitative\", \"aggregate\": \"count\", \"title\": \"Count\"}}, \"height\": 100, \"selection\": {\"selector004\": {\"type\": \"single\", \"bind\": {\"input\": \"range\", \"min\": 1, \"max\": 3, \"step\": 1, \"name\": \"Show std. errors\"}, \"init\": {\"ses\": 2}}, \"selector003\": {\"type\": \"single\", \"bind\": {\"input\": \"range\", \"min\": 10, \"max\": 200, \"step\": 1, \"name\": \"Sample size\"}, \"init\": {\"samples\": 50}}, \"selector002\": {\"type\": \"single\", \"bind\": {\"input\": \"range\", \"min\": 0.1, \"max\": 5, \"step\": 0.1, \"name\": \"Pop. Std.\"}, \"init\": {\"std\": 1.5}}, \"selector001\": {\"type\": \"single\", \"bind\": {\"input\": \"range\", \"min\": -5, \"max\": 5, \"step\": 0.1, \"name\": \"Pop. mean\"}, \"init\": {\"mean\": 0}}}, \"width\": 500}, {\"mark\": {\"type\": \"tick\", \"clip\": true}, \"encoding\": {\"x\": {\"type\": \"quantitative\", \"axis\": {\"title\": \"Sample Values\"}, \"field\": \"x\", \"scale\": {\"domain\": [-10, 10]}}}, \"selection\": {\"selector004\": {\"type\": \"single\", \"bind\": {\"input\": \"range\", \"min\": 1, \"max\": 3, \"step\": 1, \"name\": \"Show std. errors\"}, \"init\": {\"ses\": 2}}, \"selector003\": {\"type\": \"single\", \"bind\": {\"input\": \"range\", \"min\": 10, \"max\": 200, \"step\": 1, \"name\": \"Sample size\"}, \"init\": {\"samples\": 50}}, \"selector002\": {\"type\": \"single\", \"bind\": {\"input\": \"range\", \"min\": 0.1, \"max\": 5, \"step\": 0.1, \"name\": \"Pop. Std.\"}, \"init\": {\"std\": 1.5}}, \"selector001\": {\"type\": \"single\", \"bind\": {\"input\": \"range\", \"min\": -5, \"max\": 5, \"step\": 0.1, \"name\": \"Pop. mean\"}, \"init\": {\"mean\": 0}}}, \"view\": {\"strokeWidth\": 0}, \"width\": 500}], \"data\": {\"sequence\": {\"start\": 0, \"stop\": 200, \"as\": \"t\"}}, \"transform\": [{\"filter\": \"(datum.t <= toNumber(selector003.samples))\"}, {\"calculate\": \"selector001['mean']\", \"as\": \"mean\"}, {\"calculate\": \"selector002['std']\", \"as\": \"std\"}, {\"calculate\": \"sampleNormal(+datum.mean,+datum.std)\", \"as\": \"x\"}]}], \"$schema\": \"https://vega.github.io/schema/vega-lite/v4.8.1.json\", \"datasets\": {\"data-a34019366e793aa5e70591f9693d64a7\": [{\"x\": 1}]}}, {\"actions\": false, \"renderer\": \"svg\", \"mode\": \"vega-lite\"});\n",
       "</script>"
      ],
      "text/plain": [
       "alt.VConcatChart(...)"
      ]
     },
     "metadata": {},
     "output_type": "display_data"
    }
   ],
   "source": [
    "# infinite population & random sample\n",
    "# ===================================    \n",
    "plot_population_vs_sample_mean()"
   ]
  },
  {
   "cell_type": "markdown",
   "metadata": {},
   "source": [
    "Each time you change the parameters, new samples are drawn from a normal distribution.<br>\n",
    "The latter is also called Gaussian or bell curve and we will hear more about it later."
   ]
  },
  {
   "cell_type": "markdown",
   "metadata": {
    "slideshow": {
     "slide_type": "slide"
    }
   },
   "source": [
    "### Notice that the...\n",
    "\n",
    "- **uncertainty goes up** proportionally to the **population standard deviation** (std.)\n",
    "- **uncertainty goes down** proportionally to the square root of the **sample size**: fast for small sample sizes and then slower and slower.\n",
    "- **error bars of sample mean and population mean** overlap for **99%** of the samples when they show **2 standard errors**\n",
    "- **true population mean is inside the sample error bars** for **95%** of the samples when they show **2 standard errors**."
   ]
  },
  {
   "cell_type": "markdown",
   "metadata": {
    "slideshow": {
     "slide_type": "slide"
    }
   },
   "source": [
    "## In the next session, we will discover...\n",
    "\n",
    "- distributions, which describe the probabilities of all possible results in a sample or population. \n",
    "- why the normal (or Gaussian) distribution is so important.\n",
    "\n",
    "Go to [next session](3_distributions.slides.html) or continue for some exercises on the following slides."
   ]
  },
  {
   "cell_type": "markdown",
   "metadata": {
    "slideshow": {
     "slide_type": "skip"
    }
   },
   "source": [
    "---"
   ]
  },
  {
   "cell_type": "markdown",
   "metadata": {
    "slideshow": {
     "slide_type": "slide"
    }
   },
   "source": [
    "## Exercises\n",
    "\n",
    "Complete the following exercises to become more familiar with the contents of this session."
   ]
  },
  {
   "cell_type": "code",
   "execution_count": 10,
   "metadata": {},
   "outputs": [],
   "source": [
    "# simple examples to calculate mostly mentally\n",
    "coin_example_samples = [\n",
    "    #[5, 10, 10, 20, 20], # we already did this one\n",
    "    [ 2, 10, 10, 10, 50, 50],\n",
    "    [ 1,  1, 2,  2, 10, 20,],\n",
    "]"
   ]
  },
  {
   "cell_type": "markdown",
   "metadata": {
    "slideshow": {
     "slide_type": "slide"
    }
   },
   "source": [
    "### 1. Drawing coins\n",
    "\n",
    "Calculate mean, median, standard deviation, and standard error for the following samples. You can do it just like it was explained above."
   ]
  },
  {
   "cell_type": "code",
   "execution_count": 11,
   "metadata": {},
   "outputs": [
    {
     "name": "stdout",
     "output_type": "stream",
     "text": [
      "Values in sample:           [2, 10, 10, 10, 50, 50]\n",
      "Values in sample:           [1, 1, 2, 2, 10, 20]\n"
     ]
    }
   ],
   "source": [
    "print_example_statistics(coin_example_samples, print_only_sample=True)"
   ]
  },
  {
   "cell_type": "markdown",
   "metadata": {},
   "source": [
    "Solutions are on the next slide. Feel free to use your calculator or favourite software!"
   ]
  },
  {
   "cell_type": "markdown",
   "metadata": {
    "slideshow": {
     "slide_type": "slide"
    }
   },
   "source": [
    "### Solutions to exercise 1"
   ]
  },
  {
   "cell_type": "code",
   "execution_count": 12,
   "metadata": {},
   "outputs": [
    {
     "name": "stdout",
     "output_type": "stream",
     "text": [
      "Values in sample:           [2, 10, 10, 10, 50, 50]\n",
      "Sum of values:              132\n",
      "Mean:                       22.0\n",
      "Median:                     10.0\n",
      "Sum of deviations:          2400.0\n",
      "Sample Variance:            400.0\n",
      "Sample Standard deviation:  20.0\n",
      "Population Variance:        480.0\n",
      "Pop. Standard deviation:    21.909\n",
      "Standard error:             8.944\n",
      "\n",
      "Values in sample:           [1, 1, 2, 2, 10, 20]\n",
      "Sum of values:              36\n",
      "Mean:                       6.0\n",
      "Median:                     2.0\n",
      "Sum of deviations:          294.0\n",
      "Sample Variance:            49.0\n",
      "Sample Standard deviation:  7.0\n",
      "Population Variance:        58.8\n",
      "Pop. Standard deviation:    7.668\n",
      "Standard error:             3.13\n",
      "\n"
     ]
    }
   ],
   "source": [
    "print_example_statistics(coin_example_samples)"
   ]
  },
  {
   "cell_type": "markdown",
   "metadata": {
    "slideshow": {
     "slide_type": "slide"
    }
   },
   "source": [
    "### 2. Drawing cards\n",
    "\n",
    "In section 1, we had an example where we drew cards. "
   ]
  },
  {
   "cell_type": "code",
   "execution_count": 13,
   "metadata": {},
   "outputs": [],
   "source": [
    "stack_1_cards, stack_2_cards = draw_cards(\n",
    "    p_win_1 = 0.5,\n",
    "    p_win_2 = 0.38,\n",
    "    n_cards = 100,\n",
    "    seed    = 0\n",
    ")\n",
    "n_cards_small_experiment = 15\n",
    "n_cards_bigger_experiment = 100"
   ]
  },
  {
   "cell_type": "code",
   "execution_count": 14,
   "metadata": {},
   "outputs": [
    {
     "data": {
      "text/markdown": [
       "- We drew 15 cards and we got 8 wins for the first stack and 10 for the second one.\n",
       "- We drew 100 cards and we got 56 wins for the first stack and 34 for the second one."
      ],
      "text/plain": [
       "<IPython.core.display.Markdown object>"
      ]
     },
     "execution_count": 14,
     "metadata": {},
     "output_type": "execute_result"
    }
   ],
   "source": [
    "md(\n",
    "    f\"- We drew {len(stack_1_cards[:n_cards_small_experiment])} cards \"\n",
    "    f\"and we got {sum(stack_1_cards[:n_cards_small_experiment])} wins for the first stack \"\n",
    "    f\"and {sum(stack_2_cards[:n_cards_small_experiment])} for the second one.\\n\"\n",
    "    f\"- We drew {len(stack_1_cards)} cards and we got {sum(stack_1_cards)} wins \"\n",
    "    f\"for the first stack and {sum(stack_2_cards)} for the second one.\"\n",
    ")"
   ]
  },
  {
   "cell_type": "markdown",
   "metadata": {},
   "source": [
    "Calculate the winning probabilities and standard errors for both stacks for both experiments. \n",
    "\n",
    "- Write the results down in the notation mean ±2 standard errors.\n",
    "- Can you remember when the difference was significant and why?\n",
    "- Try to round to [significant digits](https://en.wikipedia.org/wiki/Significant_figures). If your value is e.g. 0.12345 ± 0.05432, you only report 0.12 ± 0.05!\n",
    "\n",
    "The solution is on the next slide"
   ]
  },
  {
   "cell_type": "markdown",
   "metadata": {
    "slideshow": {
     "slide_type": "slide"
    }
   },
   "source": [
    "### Solution to exercise 2"
   ]
  },
  {
   "cell_type": "code",
   "execution_count": 15,
   "metadata": {
    "slideshow": {
     "slide_type": "skip"
    }
   },
   "outputs": [
    {
     "name": "stdout",
     "output_type": "stream",
     "text": [
      "Values in sample:           [1 1 0 0 1 1 1 0 0 1 1 0 0 0 1]\n",
      "Sum of values:              8\n",
      "Mean:                       0.5333333333333333\n",
      "Median:                     1.0\n",
      "Sum of deviations:          3.733333333333333\n",
      "Sample Variance:            0.249\n",
      "Sample Standard deviation:  0.499\n",
      "Population Variance:        0.267\n",
      "Pop. Standard deviation:    0.516\n",
      "Standard error:             0.133\n",
      "\n",
      "Values in sample:           [1 0 1 1 0 0 1 0 1 1 1 1 1 1 0]\n",
      "Sum of values:              10\n",
      "Mean:                       0.6666666666666666\n",
      "Median:                     1.0\n",
      "Sum of deviations:          3.333333333333334\n",
      "Sample Variance:            0.222\n",
      "Sample Standard deviation:  0.471\n",
      "Population Variance:        0.238\n",
      "Pop. Standard deviation:    0.488\n",
      "Standard error:             0.126\n",
      "\n"
     ]
    }
   ],
   "source": [
    "## you can use the same code as above if you like, e.g. like this\n",
    "print_example_statistics(\n",
    "    [stack_1_cards[:n_cards_small_experiment], \n",
    "     stack_2_cards[:n_cards_small_experiment]]\n",
    ")"
   ]
  },
  {
   "cell_type": "code",
   "execution_count": 16,
   "metadata": {},
   "outputs": [],
   "source": [
    "# but this way might be more educational\n",
    "from math import sqrt\n",
    "\n",
    "def report_winning_probabilities_with_errors(\n",
    "        n_cards, stack_1_wins, stack_2_wins\n",
    "    ):\n",
    "    \"\"\"Return results for a card experiment including significant digits of mean ± standard error as markdown\"\"\"\n",
    "    # check this code - we do the calculations just like on the slide where we explained them\n",
    "    # of course it would be faster and more concise to use e.g. the mean and std functions from numpy\n",
    "    \n",
    "    # winning probabilities - same as taking a mean\n",
    "    stack_1_p_win = stack_1_wins / n_cards\n",
    "    stack_2_p_win = stack_2_wins / n_cards\n",
    "    \n",
    "    # the educational way to calculate the variance\n",
    "    stack_1_pop_var = (stack_1_wins * (1 - stack_1_p_win)**2 + (n_cards - stack_1_wins) * (0 - stack_1_p_win)**2) / (n_cards - 1)\n",
    "    stack_2_pop_var = (stack_2_wins * (1 - stack_2_p_win)**2 + (n_cards - stack_2_wins) * (0 - stack_2_p_win)**2) / (n_cards - 1)\n",
    "    \n",
    "    stack_1_pop_std = sqrt(stack_1_pop_var)\n",
    "    stack_2_pop_std = sqrt(stack_2_pop_var)\n",
    "    \n",
    "    stack_1_se = stack_1_pop_std / sqrt(n_cards)\n",
    "    stack_2_se = stack_2_pop_std / sqrt(n_cards)\n",
    "    \n",
    "    n_significant_digits = -int(np.floor(np.log10(stack_1_se)))\n",
    "\n",
    "    if stack_1_p_win + 1.96 * stack_1_se <  stack_2_p_win - 2 * stack_2_se:\n",
    "        conclusion = \"Stack 1 has a significantly higher winning probability than stack 2 (p < 5%)\"\n",
    "    elif stack_1_p_win - 196 * stack_1_se >  stack_2_p_win + 2 * stack_2_se:\n",
    "        conclusion = \"Stack 1 has a significantly higher winning probability than stack 2 (p < 5%)\"\n",
    "    else:\n",
    "        conclusion = \"We can't decide which stack has a higher winning probability\"\n",
    "    \n",
    "    return md(\n",
    "        f\"Drawing {n_cards} cards:\\n\"\n",
    "        f\"- Stack 1 has {stack_1_wins} wins\\n\"\n",
    "        f\"- Stack 2 has {stack_2_wins} wins\\n\"\n",
    "        f\"- Stack 1 winning probabiltiy: {round(stack_1_p_win, n_significant_digits)} ± {round(2 * stack_1_se, n_significant_digits)}\\n\"\n",
    "        f\"- Stack 2 winning probabiltiy: {round(stack_2_p_win, n_significant_digits)} ± {round(2 * stack_2_se, n_significant_digits)}\\n\"\n",
    "        \"- \"\n",
    "        + conclusion\n",
    "     )"
   ]
  },
  {
   "cell_type": "code",
   "execution_count": 17,
   "metadata": {},
   "outputs": [
    {
     "data": {
      "text/markdown": [
       "Drawing 15 cards:\n",
       "- Stack 1 has 8 wins\n",
       "- Stack 2 has 10 wins\n",
       "- Stack 1 winning probabiltiy: 0.5 ± 0.3\n",
       "- Stack 2 winning probabiltiy: 0.7 ± 0.3\n",
       "- We can't decide which stack has a higher winning probability"
      ],
      "text/plain": [
       "<IPython.core.display.Markdown object>"
      ]
     },
     "execution_count": 17,
     "metadata": {},
     "output_type": "execute_result"
    }
   ],
   "source": [
    "n_cards = 15\n",
    "stack_1_wins = sum(stack_1_cards[:n_cards])\n",
    "stack_2_wins = sum(stack_2_cards[:n_cards])\n",
    "\n",
    "report_winning_probabilities_with_errors(n_cards, stack_1_wins, stack_2_wins)"
   ]
  },
  {
   "cell_type": "code",
   "execution_count": 18,
   "metadata": {},
   "outputs": [
    {
     "data": {
      "text/markdown": [
       "Drawing 100 cards:\n",
       "- Stack 1 has 56 wins\n",
       "- Stack 2 has 34 wins\n",
       "- Stack 1 winning probabiltiy: 0.56 ± 0.1\n",
       "- Stack 2 winning probabiltiy: 0.34 ± 0.1\n",
       "- We can't decide which stack has a higher winning probability"
      ],
      "text/plain": [
       "<IPython.core.display.Markdown object>"
      ]
     },
     "execution_count": 18,
     "metadata": {},
     "output_type": "execute_result"
    }
   ],
   "source": [
    "n_cards = 100\n",
    "stack_1_wins = sum(stack_1_cards[:n_cards])\n",
    "stack_2_wins = sum(stack_2_cards[:n_cards])\n",
    "\n",
    "report_winning_probabilities_with_errors(n_cards, stack_1_wins, stack_2_wins)"
   ]
  },
  {
   "cell_type": "markdown",
   "metadata": {
    "slideshow": {
     "slide_type": "slide"
    }
   },
   "source": [
    "### 3. Explore your favourite software\n",
    "\n",
    "- Find out if the software you use for spreadsheets, Business Intelligence, or programming has these functions built in:\n",
    "    - Mean\n",
    "    - Median\n",
    "    - Standard Deviation\n",
    "    - Standard Error\n",
    "\n",
    "\n",
    "- Find out how to use your favourite plotting software to draw a bar chart with error bars"
   ]
  },
  {
   "cell_type": "markdown",
   "metadata": {
    "slideshow": {
     "slide_type": "slide"
    }
   },
   "source": [
    "### 5. Use mathematical notation for the same calculations.\n",
    "\n",
    "We often use the symbol $\\mu$ for the mean. Consider a sample $s$ with $n$ values $x_1, x_2, \\dots, x_n$. We can call its mean $\\mu_s$. We can write the calculation using the [symbol](https://www.youtube.com/watch?v=5jwXThH6fg4) $\\sum$ for [summation](https://en.wikipedia.org/wiki/Summation): \n",
    "\n",
    "$$\\mu_{s} = \\frac{1}{n} \\sum_{i = 1}^{n} x_i = \\frac{x_1 + x_2 + \\dots + x_n}{n}$$\n",
    "\n",
    "A common symbol for the standard deviation is $\\sigma$. The variance is $\\sigma^2$. Its calculation was described above, but as an equation it is much more concise:\n",
    "\n",
    "$$\\sigma_s^2 = \\frac{1}{n-1} \\sum_{i = 1}^{n} (x_i - \\mu_s)^2$$\n",
    "    \n",
    "If we know the mean $\\mu_p$ of a population $p$, the variance becomes \n",
    "\n",
    "$$\\sigma_{s,p}^2 = \\frac{1}{n} \\sum_{i = 1}^{n} (x_i - \\mu_p)^2$$\n",
    "\n",
    "Finally the standard error of the mean of the sample is\n",
    "\n",
    "$$\\sigma_{\\mu_{s}} = \\frac{\\sigma_s}{\\sqrt{n}}$$\n",
    "\n",
    "$ $\n"
   ]
  },
  {
   "cell_type": "code",
   "execution_count": null,
   "metadata": {},
   "outputs": [],
   "source": []
  }
 ],
 "metadata": {
  "kernelspec": {
   "display_name": "Python 3",
   "language": "python",
   "name": "python3"
  },
  "language_info": {
   "codemirror_mode": {
    "name": "ipython",
    "version": 3
   },
   "file_extension": ".py",
   "mimetype": "text/x-python",
   "name": "python",
   "nbconvert_exporter": "python",
   "pygments_lexer": "ipython3",
   "version": "3.8.5"
  },
  "widgets": {
   "application/vnd.jupyter.widget-state+json": {
    "state": {},
    "version_major": 2,
    "version_minor": 0
   }
  }
 },
 "nbformat": 4,
 "nbformat_minor": 4
}
