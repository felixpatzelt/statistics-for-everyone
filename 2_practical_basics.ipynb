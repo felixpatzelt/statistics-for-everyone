{
 "cells": [
  {
   "cell_type": "markdown",
   "metadata": {
    "slideshow": {
     "slide_type": "slide"
    }
   },
   "source": [
    "## Practical basics\n",
    "\n",
    "It is easy to calculate the quantities we encounter most often in statistics!"
   ]
  },
  {
   "cell_type": "code",
   "execution_count": 1,
   "metadata": {
    "slideshow": {
     "slide_type": "skip"
    }
   },
   "outputs": [
    {
     "data": {
      "text/html": [
       "<style>@import url(https://fonts.googleapis.com/css?family=Lato:400,700,400italic,700italic);</style>"
      ],
      "text/plain": [
       "<IPython.core.display.HTML object>"
      ]
     },
     "execution_count": 1,
     "metadata": {},
     "output_type": "execute_result"
    }
   ],
   "source": [
    "import pandas as pd\n",
    "import numpy as np\n",
    "import altair as alt\n",
    "import helpers.plotting as pt\n",
    "pt.enable_slide_theme()\n",
    "pt.import_lato_font_in_notebook()"
   ]
  },
  {
   "cell_type": "code",
   "execution_count": 2,
   "metadata": {
    "slideshow": {
     "slide_type": "skip"
    }
   },
   "outputs": [],
   "source": [
    "from helpers.svg_wrapper import SVGImg"
   ]
  },
  {
   "cell_type": "code",
   "execution_count": 3,
   "metadata": {
    "slideshow": {
     "slide_type": "skip"
    }
   },
   "outputs": [
    {
     "name": "stdout",
     "output_type": "stream",
     "text": [
      "Sum of coins:      65\n",
      "Mean:              13.0\n",
      "Median:            10.0\n",
      "Sum of deviations: 180.0\n",
      "Var:               36.0\n",
      "Std:               6.0\n"
     ]
    }
   ],
   "source": [
    "# test: simple example to calculate mentally\n",
    "\n",
    "coins_in_pocket = [5, 10, 10, 20, 20]\n",
    "\n",
    "# other easy to calculate examples\n",
    "#coins_in_pocket = [ 2, 10, 10, 10, 50, 50]\n",
    "#coins_in_pocket = [ 1  1  2  2 10 20]\n",
    "\n",
    "print(\"Sum of coins:     \", np.sum(coins_in_pocket))\n",
    "print(\"Mean:             \", np.mean(coins_in_pocket))\n",
    "print(\"Median:           \", np.median(coins_in_pocket))\n",
    "print(\"Sum of deviations:\", \n",
    "    np.sum(\n",
    "        (np.array(coins_in_pocket) - np.mean(coins_in_pocket))**2\n",
    "    )\n",
    ")\n",
    "print(\"Var:              \", np.var(coins_in_pocket))\n",
    "print(\"Std:              \", np.std(coins_in_pocket))"
   ]
  },
  {
   "cell_type": "markdown",
   "metadata": {
    "slideshow": {
     "slide_type": "slide"
    }
   },
   "source": [
    "### How to characterise a sample of quantitative observations?\n",
    "\n",
    "- **Central tendency**: where are the observed values?\n",
    "- **Dispersion**: how far apart are the observed values?"
   ]
  },
  {
   "cell_type": "markdown",
   "metadata": {
    "slideshow": {
     "slide_type": "slide"
    }
   },
   "source": [
    "### For example, imagine drawing coins from a pocket\n",
    "\n",
    "- How much is each new coin worth?\n",
    "- How certain are we about that value?\n",
    "\n",
    "Let's start with an example of 5 coins..."
   ]
  },
  {
   "cell_type": "markdown",
   "metadata": {
    "slideshow": {
     "slide_type": "slide"
    }
   },
   "source": [
    "### Measures of central tendency"
   ]
  },
  {
   "cell_type": "code",
   "execution_count": 4,
   "metadata": {},
   "outputs": [
    {
     "data": {
      "text/html": [
       "\n",
       "            <object type=\"image/svg+xml\" data=\"images/coins_central_tendency.svg\" style=\"width: 70%; height: 100%; margin: auto;\">\n",
       "                <img src=\"images/coins_central_tendency.svg\" width=\"70%\" height=\"100%\"></img>\n",
       "            </object>\n",
       "            "
      ],
      "text/plain": [
       "<helpers.svg_wrapper.SVGImg at 0x1065c0820>"
      ]
     },
     "execution_count": 4,
     "metadata": {},
     "output_type": "execute_result"
    }
   ],
   "source": [
    "SVGImg('images/coins_central_tendency.svg', width='70%', output_dir='slides')"
   ]
  },
  {
   "cell_type": "markdown",
   "metadata": {
    "slideshow": {
     "slide_type": "subslide"
    }
   },
   "source": [
    "## *\n",
    "\n",
    "If there is an even number of observations in our sample, <br>the median is in between the two central ones:\n",
    "- median([5,5,**10**,20,20]) = **10**\n",
    "- median([5,5,**10**,**20**,20,20]) = (**10**+**20**) / 2 = 15\n",
    "\n",
    "See e.g. https://en.wikipedia.org/wiki/Central_tendency for details <br>on these and other measures of central tendency."
   ]
  },
  {
   "cell_type": "markdown",
   "metadata": {
    "slideshow": {
     "slide_type": "slide"
    }
   },
   "source": [
    "### Measures of dispersion"
   ]
  },
  {
   "cell_type": "code",
   "execution_count": 5,
   "metadata": {},
   "outputs": [
    {
     "data": {
      "text/html": [
       "\n",
       "            <object type=\"image/svg+xml\" data=\"images/coins_dispersion.svg\" style=\"width: 70%; height: 100%; margin: auto;\">\n",
       "                <img src=\"images/coins_dispersion.svg\" width=\"70%\" height=\"100%\"></img>\n",
       "            </object>\n",
       "            "
      ],
      "text/plain": [
       "<helpers.svg_wrapper.SVGImg at 0x116865d90>"
      ]
     },
     "execution_count": 5,
     "metadata": {},
     "output_type": "execute_result"
    }
   ],
   "source": [
    "SVGImg('images/coins_dispersion.svg', width='70%', output_dir='slides')"
   ]
  },
  {
   "cell_type": "markdown",
   "metadata": {
    "slideshow": {
     "slide_type": "subslide"
    }
   },
   "source": [
    "See e.g. https://en.wikipedia.org/wiki/Statistical_dispersion for details <br>on these and other measures of dispersion."
   ]
  },
  {
   "cell_type": "markdown",
   "metadata": {
    "slideshow": {
     "slide_type": "slide"
    }
   },
   "source": [
    "### We usually have incomplete information about the world\n",
    "\n",
    "- We can know the values of all the coins in our pocket.\n",
    "- What about all the coins in a vault? We might not have the time to look at them all!\n",
    "- We can still estimate the true statistics of a **population** <br> (e.g. all coins in a vault, all cards in a stack, ...) <br>from a representative **sample** that we draw in an experiment."
   ]
  },
  {
   "cell_type": "markdown",
   "metadata": {
    "slideshow": {
     "slide_type": "slide"
    }
   },
   "source": [
    "### The sample estimate of the population mean<br> is just the sample mean!\n",
    "\n",
    "- The sample mean is the sum of values divided by number of samples.\n",
    "- This is exactly the mean that we calculated above for the values of the five coins!"
   ]
  },
  {
   "cell_type": "markdown",
   "metadata": {
    "slideshow": {
     "slide_type": "slide"
    }
   },
   "source": [
    "### The sample variance is a biased estimate of the population variance!"
   ]
  },
  {
   "cell_type": "code",
   "execution_count": 6,
   "metadata": {},
   "outputs": [
    {
     "data": {
      "text/html": [
       "\n",
       "            <object type=\"image/svg+xml\" data=\"images/population_vs_sample.svg\" style=\"width: 100%; height: 100%; margin: auto;\">\n",
       "                <img src=\"images/population_vs_sample.svg\" width=\"100%\" height=\"100%\"></img>\n",
       "            </object>\n",
       "            "
      ],
      "text/plain": [
       "<helpers.svg_wrapper.SVGImg at 0x116865e20>"
      ]
     },
     "execution_count": 6,
     "metadata": {},
     "output_type": "execute_result"
    }
   ],
   "source": [
    "SVGImg('images/population_vs_sample.svg', width='100%', output_dir='slides')"
   ]
  },
  {
   "cell_type": "code",
   "execution_count": 7,
   "metadata": {
    "slideshow": {
     "slide_type": "slide"
    }
   },
   "outputs": [
    {
     "data": {
      "text/html": [
       "<script type=\"text/x-mathjax-config\">\n",
       "MathJax.Hub.Config({\n",
       "    \"HTML-CSS\" : {\n",
       "        mtextFontInherit: true,\n",
       "    }\n",
       "});\n",
       "</script>\n"
      ],
      "text/plain": [
       "<IPython.core.display.HTML object>"
      ]
     },
     "metadata": {},
     "output_type": "display_data"
    }
   ],
   "source": [
    "%%html\n",
    "<script type=\"text/x-mathjax-config\">\n",
    "MathJax.Hub.Config({\n",
    "    \"HTML-CSS\" : {\n",
    "        mtextFontInherit: true,\n",
    "    }\n",
    "});\n",
    "</script>"
   ]
  },
  {
   "cell_type": "markdown",
   "metadata": {},
   "source": [
    "### All estimates have errors\n",
    "\n",
    "We often want to estimate the populalation mean from a sample and how precise we expect it to be. This \"standard error\" is calculated as follows $^{*▾}$:\n",
    "\n",
    "$\\text{Standard Error} = \\sqrt{\\frac{\\text{Population Variance}}{\\text{Sample Size}}}$.\n",
    "\n",
    "With the estimated population variance of our 5 coins, we obtain:\n",
    "\n",
    "$\\text{Standard Error (coin example)} = \\sqrt{\\frac{\\text{45}}{\\text{5}}} = \\sqrt{\\text{9}} = \\text{3}$."
   ]
  },
  {
   "cell_type": "markdown",
   "metadata": {
    "slideshow": {
     "slide_type": "subslide"
    }
   },
   "source": [
    "### *The standard error is still only an approximation \n",
    "\n",
    "- It can also be written as population standard deviation divided by the square root of the number of observations.\n",
    "- In contrast to the variance, the [standard deviation still has a bias](https://en.wikipedia.org/wiki/Unbiased_estimation_of_standard_deviation) because the square root is a curved function.\n",
    "- There are specific corrections for a number of scenarios\n",
    "- Knowing approximately how precise your estimate of the mean is much better than knowing nothing about it!"
   ]
  },
  {
   "cell_type": "markdown",
   "metadata": {
    "slideshow": {
     "slide_type": "slide"
    }
   },
   "source": [
    "### We now can answer our initial question:\n",
    "\n",
    "**Mean ± Standard Error** is a common way to state an estimate and its uncertainty. \n",
    "\n",
    "- In the example with 5 coins, we can say we expect the value of taking one coin out of the pocket is 13 ± 3 cents.\n",
    "\n",
    "- Some applications require higher confidence levels. In these cases 2 or more standard errors are [reported](https://en.wikipedia.org/wiki/68–95–99.7_rule)."
   ]
  },
  {
   "cell_type": "markdown",
   "metadata": {
    "slideshow": {
     "slide_type": "slide"
    }
   },
   "source": [
    "### We often show one standard error (SE) as error bars\n",
    "\n",
    "- **1SE error bars show if the means from two samples are significantly different**.\n",
    "- If the bars don't overlap, the observed means are > 2SE apart\n",
    "- Because of this, 1SE is a very common size for error bars.\n",
    "- This is what we looked at in the the card experiment in [section one](http://localhost:8000/1_cards.slides.html)."
   ]
  },
  {
   "cell_type": "code",
   "execution_count": 8,
   "metadata": {},
   "outputs": [
    {
     "data": {
      "text/html": [
       "\n",
       "            <object type=\"image/svg+xml\" data=\"images/error_bars.svg\" style=\"width: 50%; height: 100%; margin: auto;\">\n",
       "                <img src=\"images/error_bars.svg\" width=\"50%\" height=\"100%\"></img>\n",
       "            </object>\n",
       "            "
      ],
      "text/plain": [
       "<helpers.svg_wrapper.SVGImg at 0x1168888b0>"
      ]
     },
     "execution_count": 8,
     "metadata": {},
     "output_type": "execute_result"
    }
   ],
   "source": [
    "SVGImg('images/error_bars.svg', width='50%', output_dir='slides')"
   ]
  },
  {
   "cell_type": "markdown",
   "metadata": {
    "slideshow": {
     "slide_type": "slide"
    }
   },
   "source": [
    "### Two standard errors are approximately equal to the 95% confidence interval\n",
    "\n",
    "- The 95% confidence interval (CI) contains the population mean with 95% probability.\n",
    "- Sometimes used as the size for error bars - always check the description of a figure!\n",
    "- Allows to test if a **mean is different from an exact number**."
   ]
  },
  {
   "cell_type": "code",
   "execution_count": 9,
   "metadata": {},
   "outputs": [
    {
     "data": {
      "text/html": [
       "\n",
       "            <object type=\"image/svg+xml\" data=\"images/error_bars_ci.svg\" style=\"width: 50%; height: 100%; margin: auto;\">\n",
       "                <img src=\"images/error_bars_ci.svg\" width=\"50%\" height=\"100%\"></img>\n",
       "            </object>\n",
       "            "
      ],
      "text/plain": [
       "<helpers.svg_wrapper.SVGImg at 0x116888430>"
      ]
     },
     "execution_count": 9,
     "metadata": {},
     "output_type": "execute_result"
    }
   ],
   "source": [
    "SVGImg('images/error_bars_ci.svg', width='50%', output_dir='slides')"
   ]
  },
  {
   "cell_type": "markdown",
   "metadata": {
    "slideshow": {
     "slide_type": "slide"
    }
   },
   "source": [
    "### Try it!"
   ]
  },
  {
   "cell_type": "code",
   "execution_count": 19,
   "metadata": {},
   "outputs": [
    {
     "data": {
      "text/html": [
       "\n",
       "<div id=\"altair-viz-5dd712588efd4342bd81386d85e83fe5\"></div>\n",
       "<script type=\"text/javascript\">\n",
       "  (function(spec, embedOpt){\n",
       "    let outputDiv = document.currentScript.previousElementSibling;\n",
       "    if (outputDiv.id !== \"altair-viz-5dd712588efd4342bd81386d85e83fe5\") {\n",
       "      outputDiv = document.getElementById(\"altair-viz-5dd712588efd4342bd81386d85e83fe5\");\n",
       "    }\n",
       "    const paths = {\n",
       "      \"vega\": \"https://cdn.jsdelivr.net/npm//vega@5?noext\",\n",
       "      \"vega-lib\": \"https://cdn.jsdelivr.net/npm//vega-lib?noext\",\n",
       "      \"vega-lite\": \"https://cdn.jsdelivr.net/npm//vega-lite@4.8.1?noext\",\n",
       "      \"vega-embed\": \"https://cdn.jsdelivr.net/npm//vega-embed@6?noext\",\n",
       "    };\n",
       "\n",
       "    function loadScript(lib) {\n",
       "      return new Promise(function(resolve, reject) {\n",
       "        var s = document.createElement('script');\n",
       "        s.src = paths[lib];\n",
       "        s.async = true;\n",
       "        s.onload = () => resolve(paths[lib]);\n",
       "        s.onerror = () => reject(`Error loading script: ${paths[lib]}`);\n",
       "        document.getElementsByTagName(\"head\")[0].appendChild(s);\n",
       "      });\n",
       "    }\n",
       "\n",
       "    function showError(err) {\n",
       "      outputDiv.innerHTML = `<div class=\"error\" style=\"color:red;\">${err}</div>`;\n",
       "      throw err;\n",
       "    }\n",
       "\n",
       "    function displayChart(vegaEmbed) {\n",
       "      vegaEmbed(outputDiv, spec, embedOpt)\n",
       "        .catch(err => showError(`Javascript Error: ${err.message}<br>This usually means there's a typo in your chart specification. See the javascript console for the full traceback.`));\n",
       "    }\n",
       "\n",
       "    if(typeof define === \"function\" && define.amd) {\n",
       "      requirejs.config({paths});\n",
       "      require([\"vega-embed\"], displayChart, err => showError(`Error loading script: ${err.message}`));\n",
       "    } else if (typeof vegaEmbed === \"function\") {\n",
       "      displayChart(vegaEmbed);\n",
       "    } else {\n",
       "      loadScript(\"vega\")\n",
       "        .then(() => loadScript(\"vega-lite\"))\n",
       "        .then(() => loadScript(\"vega-embed\"))\n",
       "        .catch(showError)\n",
       "        .then(() => displayChart(vegaEmbed));\n",
       "    }\n",
       "  })({\"config\": {\"title\": {\"fontSize\": 24.0, \"font\": [\"Lato\", \"Helvetica Neue\", \"Helvetica\", \"Arial\", \"Sans Serif\"], \"fontWeight\": \"normal\"}, \"axisX\": {\"labelFont\": [\"Lato\", \"Helvetica Neue\", \"Helvetica\", \"Arial\", \"Sans Serif\"], \"labelFontSize\": 16, \"titleFont\": [\"Lato\", \"Helvetica Neue\", \"Helvetica\", \"Arial\", \"Sans Serif\"], \"titleFontSize\": 16, \"titleFontWeight\": \"normal\", \"titlePadding\": 10}, \"axisY\": {\"labelFont\": [\"Lato\", \"Helvetica Neue\", \"Helvetica\", \"Arial\", \"Sans Serif\"], \"labelFontSize\": 16, \"titleFont\": [\"Lato\", \"Helvetica Neue\", \"Helvetica\", \"Arial\", \"Sans Serif\"], \"titleFontSize\": 16, \"titleFontWeight\": \"normal\", \"titlePadding\": 10}, \"legend\": {\"labelFont\": [\"Lato\", \"Helvetica Neue\", \"Helvetica\", \"Arial\", \"Sans Serif\"], \"labelFontSize\": 16, \"titleFont\": [\"Lato\", \"Helvetica Neue\", \"Helvetica\", \"Arial\", \"Sans Serif\"], \"titleFontSize\": 16, \"titleFontWeight\": \"normal\"}, \"text\": {\"font\": [\"Lato\", \"Helvetica Neue\", \"Helvetica\", \"Arial\", \"Sans Serif\"], \"fontSize\": 14.4}}, \"vconcat\": [{\"layer\": [{\"mark\": {\"type\": \"errorbar\", \"color\": \"red\", \"rule\": {\"size\": 1.5}, \"ticks\": true}, \"encoding\": {\"x\": {\"type\": \"quantitative\", \"axis\": {\"domain\": false, \"labels\": false, \"orient\": \"top\", \"ticks\": false, \"title\": \"Population mean \\u00b1 expected uncertainty\"}, \"field\": \"xmin\"}, \"x2\": {\"field\": \"xmax\"}}, \"selection\": {\"selector035\": {\"type\": \"single\", \"bind\": {\"input\": \"range\", \"min\": 10, \"max\": 200, \"step\": 1, \"name\": \"Sample size\"}, \"init\": {\"samples\": 50}}, \"selector034\": {\"type\": \"single\", \"bind\": {\"input\": \"range\", \"min\": 0.1, \"max\": 5, \"step\": 0.1, \"name\": \"Pop. Std.\"}, \"init\": {\"std\": 1.5}}, \"selector033\": {\"type\": \"single\", \"bind\": {\"input\": \"range\", \"min\": -5, \"max\": 5, \"step\": 0.1, \"name\": \"Pop. mean\"}, \"init\": {\"mean\": 0}}}}, {\"mark\": {\"type\": \"point\", \"color\": \"red\", \"filled\": true, \"size\": 20, \"stroke\": null}, \"encoding\": {\"x\": {\"type\": \"quantitative\", \"axis\": {\"title\": \"\"}, \"field\": \"mean\", \"scale\": {\"domain\": [-10, 10]}}}}], \"data\": {\"name\": \"data-a34019366e793aa5e70591f9693d64a7\"}, \"transform\": [{\"calculate\": \"selector033['mean']\", \"as\": \"mean\"}, {\"calculate\": \"selector034['std']\", \"as\": \"std\"}, {\"calculate\": \"selector035['samples']\", \"as\": \"samples\"}, {\"calculate\": \"selector036['ses']\", \"as\": \"ses\"}, {\"calculate\": \"+datum.mean - datum.ses * datum.std / sqrt(+datum.samples)\", \"as\": \"xmin\"}, {\"calculate\": \"+datum.mean + datum.ses * datum.std / sqrt(+datum.samples)\", \"as\": \"xmax\"}], \"view\": {\"strokeWidth\": 0}, \"width\": 500}, {\"vconcat\": [{\"layer\": [{\"mark\": {\"type\": \"errorbar\", \"rule\": {\"size\": 1.5}, \"ticks\": true}, \"encoding\": {\"x\": {\"type\": \"quantitative\", \"axis\": {\"domain\": false, \"labels\": false, \"orient\": \"top\", \"ticks\": false, \"title\": \"Sample mean \\u00b1 sample uncertainty\"}, \"field\": \"bar_min\", \"scale\": {\"domain\": [-10, 10]}}, \"x2\": {\"field\": \"bar_max\"}}, \"selection\": {\"selector036\": {\"type\": \"single\", \"bind\": {\"input\": \"range\", \"min\": 1, \"max\": 3, \"step\": 1, \"name\": \"Show std. errors\"}, \"init\": {\"ses\": 1}}, \"selector035\": {\"type\": \"single\", \"bind\": {\"input\": \"range\", \"min\": 10, \"max\": 200, \"step\": 1, \"name\": \"Sample size\"}, \"init\": {\"samples\": 50}}, \"selector034\": {\"type\": \"single\", \"bind\": {\"input\": \"range\", \"min\": 0.1, \"max\": 5, \"step\": 0.1, \"name\": \"Pop. Std.\"}, \"init\": {\"std\": 1.5}}, \"selector033\": {\"type\": \"single\", \"bind\": {\"input\": \"range\", \"min\": -5, \"max\": 5, \"step\": 0.1, \"name\": \"Pop. mean\"}, \"init\": {\"mean\": 0}}}}, {\"mark\": {\"type\": \"point\", \"filled\": true, \"size\": 20, \"stroke\": null}, \"encoding\": {\"x\": {\"type\": \"quantitative\", \"field\": \"sample_mean\"}}}], \"transform\": [{\"aggregate\": [{\"op\": \"mean\", \"field\": \"x\", \"as\": \"sample_mean\"}, {\"op\": \"stderr\", \"field\": \"x\", \"as\": \"sample_err\"}]}, {\"calculate\": \"selector036['ses']\", \"as\": \"ses\"}, {\"calculate\": \"+datum.sample_mean - datum.ses * datum.sample_err\", \"as\": \"bar_min\"}, {\"calculate\": \"+datum.sample_mean + datum.ses * datum.sample_err\", \"as\": \"bar_max\"}], \"view\": {\"strokeWidth\": 0}, \"width\": 500}, {\"mark\": {\"type\": \"bar\", \"clip\": true}, \"encoding\": {\"x\": {\"type\": \"quantitative\", \"axis\": {\"domain\": false, \"labels\": false, \"orient\": \"top\", \"ticks\": false, \"title\": \"Sample Histogram\"}, \"bin\": {}, \"field\": \"x\", \"scale\": {\"domain\": [-10, 10]}}, \"y\": {\"type\": \"quantitative\", \"aggregate\": \"count\", \"title\": \"Count\"}}, \"height\": 100, \"selection\": {\"selector036\": {\"type\": \"single\", \"bind\": {\"input\": \"range\", \"min\": 1, \"max\": 3, \"step\": 1, \"name\": \"Show std. errors\"}, \"init\": {\"ses\": 1}}, \"selector035\": {\"type\": \"single\", \"bind\": {\"input\": \"range\", \"min\": 10, \"max\": 200, \"step\": 1, \"name\": \"Sample size\"}, \"init\": {\"samples\": 50}}, \"selector034\": {\"type\": \"single\", \"bind\": {\"input\": \"range\", \"min\": 0.1, \"max\": 5, \"step\": 0.1, \"name\": \"Pop. Std.\"}, \"init\": {\"std\": 1.5}}, \"selector033\": {\"type\": \"single\", \"bind\": {\"input\": \"range\", \"min\": -5, \"max\": 5, \"step\": 0.1, \"name\": \"Pop. mean\"}, \"init\": {\"mean\": 0}}}, \"width\": 500}, {\"mark\": {\"type\": \"tick\", \"clip\": true}, \"encoding\": {\"x\": {\"type\": \"quantitative\", \"axis\": {\"title\": \"Sample Values\"}, \"field\": \"x\", \"scale\": {\"domain\": [-10, 10]}}}, \"selection\": {\"selector036\": {\"type\": \"single\", \"bind\": {\"input\": \"range\", \"min\": 1, \"max\": 3, \"step\": 1, \"name\": \"Show std. errors\"}, \"init\": {\"ses\": 1}}, \"selector035\": {\"type\": \"single\", \"bind\": {\"input\": \"range\", \"min\": 10, \"max\": 200, \"step\": 1, \"name\": \"Sample size\"}, \"init\": {\"samples\": 50}}, \"selector034\": {\"type\": \"single\", \"bind\": {\"input\": \"range\", \"min\": 0.1, \"max\": 5, \"step\": 0.1, \"name\": \"Pop. Std.\"}, \"init\": {\"std\": 1.5}}, \"selector033\": {\"type\": \"single\", \"bind\": {\"input\": \"range\", \"min\": -5, \"max\": 5, \"step\": 0.1, \"name\": \"Pop. mean\"}, \"init\": {\"mean\": 0}}}, \"view\": {\"strokeWidth\": 0}, \"width\": 500}], \"data\": {\"sequence\": {\"start\": 0, \"stop\": 200, \"as\": \"t\"}}, \"transform\": [{\"filter\": \"(datum.t <= toNumber(selector035.samples))\"}, {\"calculate\": \"selector033['mean']\", \"as\": \"mean\"}, {\"calculate\": \"selector034['std']\", \"as\": \"std\"}, {\"calculate\": \"sampleNormal(+datum.mean,+datum.std)\", \"as\": \"x\"}]}], \"$schema\": \"https://vega.github.io/schema/vega-lite/v4.8.1.json\", \"datasets\": {\"data-a34019366e793aa5e70591f9693d64a7\": [{\"x\": 1}]}}, {\"actions\": false, \"renderer\": \"svg\", \"mode\": \"vega-lite\"});\n",
       "</script>"
      ],
      "text/plain": [
       "alt.VConcatChart(...)"
      ]
     },
     "metadata": {},
     "output_type": "display_data"
    }
   ],
   "source": [
    "# infinite population & random sample\n",
    "# ===================================\n",
    "\n",
    "# inputs\n",
    "plot_width  = 500\n",
    "max_samples = 200\n",
    "input_mean = alt.binding(\n",
    "    input='range',\n",
    "    min=-5,\n",
    "    max=5,\n",
    "    step=.1,\n",
    "    name='Pop. mean'\n",
    ")\n",
    "input_std = alt.binding(\n",
    "    input='range',\n",
    "    min=0.1,\n",
    "    max=5,\n",
    "    step=.1,\n",
    "    name='Pop. Std.'\n",
    ")\n",
    "input_samples = alt.binding(\n",
    "    input='range',\n",
    "    min=10,\n",
    "    max=max_samples,\n",
    "    step=1,\n",
    "    name='Sample size'\n",
    ")\n",
    "input_uncertainty = alt.binding(\n",
    "    input='range',\n",
    "    min=1,\n",
    "    max=3,\n",
    "    step=1,\n",
    "    name='Show std. errors'\n",
    ")\n",
    "mean_selection = alt.selection_single(\n",
    "    bind=input_mean,\n",
    "    init={'mean': 0}\n",
    ")\n",
    "std_selection = alt.selection_single(\n",
    "    bind=input_std,\n",
    "    init={'std': 1.5}\n",
    ")\n",
    "samples_selection = alt.selection_single(\n",
    "    bind=input_samples,\n",
    "    init={'samples': 50}\n",
    ")\n",
    "uncertainty_selection = alt.selection_single(\n",
    "    bind=input_uncertainty,\n",
    "    init={'ses': 1}\n",
    ")\n",
    "\n",
    "\n",
    "scale = alt.Scale(domain=[-10,10])\n",
    "\n",
    "# simple plot with population mean + population error\n",
    "pop_mean_chart = alt.Chart(\n",
    "    data=pd.DataFrame({'x': [1]})\n",
    ")\n",
    "title_only_ax_kwargs = dict(\n",
    "    ticks=False,\n",
    "    labels=False,\n",
    "    #grid=False,\n",
    "    domain=False,\n",
    "    orient='top'\n",
    ")\n",
    "pop_mean = (\n",
    "    pop_mean_chart.mark_errorbar(color='red', rule=alt.MarkConfig(size=1.5), ticks=True).encode(\n",
    "        x=alt.X(\n",
    "            \"xmin:Q\", \n",
    "            axis=alt.Axis(\n",
    "                title=\"Population mean ± expected uncertainty\", **title_only_ax_kwargs\n",
    "            )\n",
    "        ),\n",
    "        x2=\"xmax:Q\",\n",
    "    ) + pop_mean_chart.mark_point(color='red', size=20, filled=True, stroke=None).encode(\n",
    "        x=alt.X(\"mean:Q\", scale=scale, axis=alt.Axis(title=\"\"))\n",
    "    )\n",
    ").add_selection(\n",
    "    samples_selection, std_selection, mean_selection, \n",
    ").transform_calculate(\n",
    "  mean = mean_selection['mean'],\n",
    "  std  = std_selection['std'],\n",
    "  samples = samples_selection['samples'],\n",
    "  ses = uncertainty_selection['ses']\n",
    ").transform_calculate(\n",
    "    xmin='+datum.mean - datum.ses * datum.std / sqrt(+datum.samples)',\n",
    "    xmax='+datum.mean + datum.ses * datum.std / sqrt(+datum.samples)',\n",
    ").properties(\n",
    "    view=alt.ViewConfig(strokeWidth=0), width=plot_width\n",
    ")\n",
    "\n",
    "# combined chart with different ways to represent sample \n",
    "data = alt.sequence(0, max_samples, as_='t')\n",
    "sample_chart = alt.Chart(data)\n",
    "\n",
    "samp_mean = (\n",
    "    sample_chart.mark_errorbar(rule=alt.MarkConfig(size=1.5), ticks=True).encode(\n",
    "        x=alt.X(\n",
    "            \"bar_min:Q\", \n",
    "            scale=scale, \n",
    "            axis=alt.Axis(\n",
    "                title=\"Sample mean ± sample uncertainty\", **title_only_ax_kwargs\n",
    "            )\n",
    "        ),\n",
    "        x2='bar_max:Q'\n",
    "    ) + sample_chart.mark_point(size=20, filled=True, stroke=None).encode(\n",
    "        x='sample_mean:Q'\n",
    "    )\n",
    ").transform_aggregate(\n",
    "        sample_mean = 'mean(x)',\n",
    "        sample_err = 'stderr(x)',\n",
    ").transform_calculate(\n",
    "    ses = uncertainty_selection['ses'],\n",
    "    bar_min = '+datum.sample_mean - datum.ses * datum.sample_err',\n",
    "    bar_max = '+datum.sample_mean + datum.ses * datum.sample_err'\n",
    ").properties(\n",
    "    view=alt.ViewConfig(strokeWidth=0), width=plot_width\n",
    ")\n",
    "\n",
    "hist = sample_chart.mark_bar(clip=True).encode(\n",
    "    alt.X(\"x:Q\", bin=alt.Bin(), scale=scale, axis=alt.Axis(title='Sample Histogram', **title_only_ax_kwargs)),\n",
    "    y=alt.Y('count()', title='Count'),\n",
    ").properties(\n",
    "    width=plot_width,\n",
    "    height=100\n",
    ")\n",
    "\n",
    "ticks = sample_chart.mark_tick(clip=True).encode(\n",
    "    x=alt.X('x:Q', scale=scale, axis=alt.Axis(title='Sample Values'))\n",
    ").properties(\n",
    "    view=alt.ViewConfig(strokeWidth=0), width=plot_width\n",
    ")\n",
    "\n",
    "combined_sample = (\n",
    "    samp_mean & hist & ticks\n",
    ").add_selection(\n",
    "    uncertainty_selection, samples_selection, std_selection, mean_selection\n",
    ").transform_filter(\n",
    "    alt.datum.t <= alt.expr.toNumber(samples_selection.samples),\n",
    ").transform_calculate(\n",
    "    mean = mean_selection['mean'],\n",
    "    std  = std_selection['std'],\n",
    "    x='sampleNormal(+datum.mean,+datum.std)', # the plus casts to number\n",
    ")\n",
    "\n",
    "(pop_mean & combined_sample).display(renderer='svg')"
   ]
  },
  {
   "cell_type": "markdown",
   "metadata": {},
   "source": [
    "Each time you change the parameters, new samples are drawn from a normal distribution.<br>\n",
    "The latter is also called Gaussian or bell curve and we will hear more about it later."
   ]
  },
  {
   "cell_type": "markdown",
   "metadata": {
    "slideshow": {
     "slide_type": "slide"
    }
   },
   "source": [
    "## In the next session,\n",
    "\n",
    "we will take a deeper dive into…\n",
    "\n",
    "- Comparing two different statistical populations \n",
    "- Statistical significance and p-values\n",
    "- Statistical power and effect sizes"
   ]
  },
  {
   "cell_type": "markdown",
   "metadata": {
    "slideshow": {
     "slide_type": "skip"
    }
   },
   "source": [
    "---"
   ]
  },
  {
   "cell_type": "markdown",
   "metadata": {
    "slideshow": {
     "slide_type": "slide"
    }
   },
   "source": [
    "## Exercises"
   ]
  },
  {
   "cell_type": "raw",
   "metadata": {
    "slideshow": {
     "slide_type": "skip"
    }
   },
   "source": [
    "- Written as an equation, the above line reads: $\\mu_{s} = \\frac{1}{N} \\sum x$\n",
    "- As a shorthand, wrote the sample mean as $\\mu_{s}$, the values as $x$ and the number of samples as $N$\n",
    "\n",
    "- As an equation: $\\sigma_s^2 = \\frac{1}{N} \\sum (x - \\mu_s)^2$\n",
    "\n",
    "- As an equation: $\\sigma^2 = \\frac{1}{N-1} \\sum (x - \\mu_s)^2$"
   ]
  },
  {
   "cell_type": "code",
   "execution_count": 20,
   "metadata": {},
   "outputs": [],
   "source": [
    "# Analyse any of the previous examples using software you are familiar with.\n",
    "# Create a figure with error bars"
   ]
  },
  {
   "cell_type": "raw",
   "metadata": {
    "slideshow": {
     "slide_type": "skip"
    }
   },
   "source": [
    "import numpy as np\n",
    "#from helpers.cards import draw_cards"
   ]
  },
  {
   "cell_type": "raw",
   "metadata": {
    "slideshow": {
     "slide_type": "skip"
    }
   },
   "source": [
    "stack1, stack2 = draw_cards(\n",
    "    p_win_1 = 0.5,\n",
    "    p_win_2 = 0.4,\n",
    "    n_cards = 25,\n",
    "    seed     = 0\n",
    ")"
   ]
  },
  {
   "cell_type": "raw",
   "metadata": {
    "slideshow": {
     "slide_type": "skip"
    }
   },
   "source": [
    "m1 = stack1.mean()\n",
    "m2 = stack2.mean()\n",
    "n  = len(stack1)\n",
    "np.sqrt(m1 * (1 - m1) / n), np.sqrt(m2 * (1 - m2) / n)"
   ]
  },
  {
   "cell_type": "raw",
   "metadata": {
    "slideshow": {
     "slide_type": "skip"
    }
   },
   "source": [
    "np.sqrt(.5 * (1 - .5) / n), np.sqrt(.6 * (1 - .6) / n)"
   ]
  },
  {
   "cell_type": "code",
   "execution_count": null,
   "metadata": {},
   "outputs": [],
   "source": []
  }
 ],
 "metadata": {
  "kernelspec": {
   "display_name": "Python 3",
   "language": "python",
   "name": "python3"
  },
  "language_info": {
   "codemirror_mode": {
    "name": "ipython",
    "version": 3
   },
   "file_extension": ".py",
   "mimetype": "text/x-python",
   "name": "python",
   "nbconvert_exporter": "python",
   "pygments_lexer": "ipython3",
   "version": "3.8.5"
  },
  "widgets": {
   "application/vnd.jupyter.widget-state+json": {
    "state": {},
    "version_major": 2,
    "version_minor": 0
   }
  }
 },
 "nbformat": 4,
 "nbformat_minor": 4
}
