{
 "cells": [
  {
   "cell_type": "markdown",
   "metadata": {},
   "source": [
    "# Very WIP!"
   ]
  },
  {
   "cell_type": "markdown",
   "metadata": {},
   "source": [
    "Basic statistics - practical skills\n",
    "- Maybe start with counting and summing?\n",
    "- What is actually a...\n",
    "    - mean, median, mode\n",
    "    - standard deviation, standard error\n",
    "    - median and quantile\n",
    "- How to calculate them with pen & pape for small examples\n",
    "- Appendix: how to calculate the standard quantities in Excel, Tableau, Python"
   ]
  },
  {
   "cell_type": "markdown",
   "metadata": {},
   "source": [
    "How to calculate these quantities\n",
    "- mean\n",
    "- standard deviation\n",
    "- standard error"
   ]
  },
  {
   "cell_type": "markdown",
   "metadata": {},
   "source": [
    "[no, not this mean](https://en.wikipedia.org/wiki/File:Taylor_Swift_-_Mean.png#/media/File:Taylor_Swift_-_Mean.png)\n",
    "\n",
    "if you fount this funny, you may like [this list.](https://www.isg.rhul.ac.uk/~sdg/mathsongs.html) You may also have issues."
   ]
  },
  {
   "cell_type": "code",
   "execution_count": 1,
   "metadata": {},
   "outputs": [
    {
     "data": {
      "text/html": [
       "<style>@import url(https://fonts.googleapis.com/css?family=Lato:400,700,400italic,700italic);</style>"
      ],
      "text/plain": [
       "<IPython.core.display.HTML object>"
      ]
     },
     "execution_count": 1,
     "metadata": {},
     "output_type": "execute_result"
    }
   ],
   "source": [
    "import altair as alt\n",
    "import helpers.plotting as pt\n",
    "pt.enable_slide_theme()\n",
    "pt.import_lato_font_in_notebook()"
   ]
  },
  {
   "cell_type": "code",
   "execution_count": 285,
   "metadata": {},
   "outputs": [
    {
     "data": {
      "text/html": [
       "\n",
       "<div id=\"altair-viz-2e0ba318b05446f7ad8e9c0c9450ef62\"></div>\n",
       "<script type=\"text/javascript\">\n",
       "  (function(spec, embedOpt){\n",
       "    let outputDiv = document.currentScript.previousElementSibling;\n",
       "    if (outputDiv.id !== \"altair-viz-2e0ba318b05446f7ad8e9c0c9450ef62\") {\n",
       "      outputDiv = document.getElementById(\"altair-viz-2e0ba318b05446f7ad8e9c0c9450ef62\");\n",
       "    }\n",
       "    const paths = {\n",
       "      \"vega\": \"https://cdn.jsdelivr.net/npm//vega@5?noext\",\n",
       "      \"vega-lib\": \"https://cdn.jsdelivr.net/npm//vega-lib?noext\",\n",
       "      \"vega-lite\": \"https://cdn.jsdelivr.net/npm//vega-lite@4.8.1?noext\",\n",
       "      \"vega-embed\": \"https://cdn.jsdelivr.net/npm//vega-embed@6?noext\",\n",
       "    };\n",
       "\n",
       "    function loadScript(lib) {\n",
       "      return new Promise(function(resolve, reject) {\n",
       "        var s = document.createElement('script');\n",
       "        s.src = paths[lib];\n",
       "        s.async = true;\n",
       "        s.onload = () => resolve(paths[lib]);\n",
       "        s.onerror = () => reject(`Error loading script: ${paths[lib]}`);\n",
       "        document.getElementsByTagName(\"head\")[0].appendChild(s);\n",
       "      });\n",
       "    }\n",
       "\n",
       "    function showError(err) {\n",
       "      outputDiv.innerHTML = `<div class=\"error\" style=\"color:red;\">${err}</div>`;\n",
       "      throw err;\n",
       "    }\n",
       "\n",
       "    function displayChart(vegaEmbed) {\n",
       "      vegaEmbed(outputDiv, spec, embedOpt)\n",
       "        .catch(err => showError(`Javascript Error: ${err.message}<br>This usually means there's a typo in your chart specification. See the javascript console for the full traceback.`));\n",
       "    }\n",
       "\n",
       "    if(typeof define === \"function\" && define.amd) {\n",
       "      requirejs.config({paths});\n",
       "      require([\"vega-embed\"], displayChart, err => showError(`Error loading script: ${err.message}`));\n",
       "    } else if (typeof vegaEmbed === \"function\") {\n",
       "      displayChart(vegaEmbed);\n",
       "    } else {\n",
       "      loadScript(\"vega\")\n",
       "        .then(() => loadScript(\"vega-lite\"))\n",
       "        .then(() => loadScript(\"vega-embed\"))\n",
       "        .catch(showError)\n",
       "        .then(() => displayChart(vegaEmbed));\n",
       "    }\n",
       "  })({\"config\": {\"title\": {\"fontSize\": 24.0, \"font\": [\"Lato\", \"Helvetica Neue\", \"Helvetica\", \"Arial\", \"Sans Serif\"], \"fontWeight\": \"normal\"}, \"axisX\": {\"labelFont\": [\"Lato\", \"Helvetica Neue\", \"Helvetica\", \"Arial\", \"Sans Serif\"], \"labelFontSize\": 16, \"titleFont\": [\"Lato\", \"Helvetica Neue\", \"Helvetica\", \"Arial\", \"Sans Serif\"], \"titleFontSize\": 16, \"titleFontWeight\": \"normal\", \"titlePadding\": 10}, \"axisY\": {\"labelFont\": [\"Lato\", \"Helvetica Neue\", \"Helvetica\", \"Arial\", \"Sans Serif\"], \"labelFontSize\": 16, \"titleFont\": [\"Lato\", \"Helvetica Neue\", \"Helvetica\", \"Arial\", \"Sans Serif\"], \"titleFontSize\": 16, \"titleFontWeight\": \"normal\", \"titlePadding\": 10}, \"legend\": {\"labelFont\": [\"Lato\", \"Helvetica Neue\", \"Helvetica\", \"Arial\", \"Sans Serif\"], \"labelFontSize\": 16, \"titleFont\": [\"Lato\", \"Helvetica Neue\", \"Helvetica\", \"Arial\", \"Sans Serif\"], \"titleFontSize\": 16, \"titleFontWeight\": \"normal\"}, \"text\": {\"font\": [\"Lato\", \"Helvetica Neue\", \"Helvetica\", \"Arial\", \"Sans Serif\"], \"fontSize\": 14.4}}, \"vconcat\": [{\"mark\": \"bar\", \"encoding\": {\"x\": {\"type\": \"quantitative\", \"axis\": null, \"bin\": true, \"field\": \"x\", \"scale\": {\"domain\": [-10, 10]}}, \"y\": {\"type\": \"quantitative\", \"aggregate\": \"count\"}}, \"selection\": {\"selector282\": {\"type\": \"interval\", \"bind\": \"scales\"}, \"selector281\": {\"type\": \"single\", \"bind\": {\"input\": \"range\", \"min\": 0.1, \"max\": 5, \"step\": 0.1, \"name\": \"std\"}, \"init\": {\"std\": 1}}, \"selector280\": {\"type\": \"single\", \"bind\": {\"input\": \"range\", \"min\": -10, \"max\": 10, \"step\": 0.1, \"name\": \"mean\"}, \"init\": {\"mean\": 0}}}, \"transform\": [{\"calculate\": \"selector280['mean']\", \"as\": \"mean\"}, {\"calculate\": \"selector281['std']\", \"as\": \"std\"}, {\"calculate\": \"datum.t\", \"as\": \"t\"}, {\"calculate\": \"sampleNormal(+datum.mean,+datum.std)\", \"as\": \"x\"}], \"width\": 400}, {\"mark\": \"tick\", \"encoding\": {\"x\": {\"type\": \"quantitative\", \"field\": \"x\", \"scale\": {\"domain\": [-10, 10]}}}, \"selection\": {\"selector282\": {\"type\": \"interval\", \"bind\": \"scales\"}, \"selector281\": {\"type\": \"single\", \"bind\": {\"input\": \"range\", \"min\": 0.1, \"max\": 5, \"step\": 0.1, \"name\": \"std\"}, \"init\": {\"std\": 1}}, \"selector280\": {\"type\": \"single\", \"bind\": {\"input\": \"range\", \"min\": -10, \"max\": 10, \"step\": 0.1, \"name\": \"mean\"}, \"init\": {\"mean\": 0}}}, \"transform\": [{\"calculate\": \"selector280['mean']\", \"as\": \"mean\"}, {\"calculate\": \"selector281['std']\", \"as\": \"std\"}, {\"calculate\": \"datum.t\", \"as\": \"t\"}, {\"calculate\": \"sampleNormal(+datum.mean,+datum.std)\", \"as\": \"x\"}], \"view\": {\"strokeWidth\": 0}, \"width\": 400}], \"data\": {\"sequence\": {\"start\": 0, \"stop\": 100, \"as\": \"t\"}}, \"$schema\": \"https://vega.github.io/schema/vega-lite/v4.8.1.json\"}, {\"actions\": false, \"mode\": \"vega-lite\"});\n",
       "</script>"
      ],
      "text/plain": [
       "alt.VConcatChart(...)"
      ]
     },
     "execution_count": 285,
     "metadata": {},
     "output_type": "execute_result"
    }
   ],
   "source": [
    "# test: interactive distribution parameters\n",
    "plot_width=400\n",
    "\n",
    "input_mean = alt.binding(\n",
    "    input='range',\n",
    "    min=-10,\n",
    "    max=10,\n",
    "    step=.1,\n",
    "    name='mean'\n",
    ")\n",
    "input_std = alt.binding(\n",
    "    input='range',\n",
    "    min=0.1,\n",
    "    max=5,\n",
    "    step=.1,\n",
    "    name='std'\n",
    ")\n",
    "mean_selection = alt.selection_single(\n",
    "    bind=input_mean,\n",
    "    init={'mean': 0}\n",
    ")\n",
    "std_selection = alt.selection_single(\n",
    "    bind=input_std,\n",
    "    init={'std': 1}\n",
    ")\n",
    "scales = alt.selection_interval(bind='scales')\n",
    "                                \n",
    "data = alt.sequence(0, 100, as_='t')\n",
    "chart = alt.Chart(data).add_selection(\n",
    "    scales, std_selection, mean_selection\n",
    ").transform_calculate(\n",
    "  mean = mean_selection['mean'],\n",
    "  std  = std_selection['std'],\n",
    ").transform_calculate(\n",
    "    t='datum.t',\n",
    "    x='sampleNormal(+datum.mean,+datum.std)', # the plus casts to number\n",
    ")\n",
    "scale = alt.Scale(domain=[-10,10])\n",
    "hist = chart.mark_bar().encode(\n",
    "    alt.X(\"x:Q\", bin=True, scale=scale, axis=None),\n",
    "    y='count()',\n",
    ").properties(\n",
    "    width=plot_width\n",
    ")\n",
    "ticks = chart.mark_tick().encode(\n",
    "    x=alt.X('x:Q', scale=scale)\n",
    ").properties(\n",
    "    view=alt.ViewConfig(strokeWidth=0), width=plot_width)\n",
    "\n",
    "(hist & ticks)"
   ]
  },
  {
   "cell_type": "code",
   "execution_count": 1,
   "metadata": {},
   "outputs": [],
   "source": [
    "import numpy as np\n",
    "#from helpers.cards import draw_cards"
   ]
  },
  {
   "cell_type": "code",
   "execution_count": 2,
   "metadata": {},
   "outputs": [],
   "source": [
    "stack1, stack2 = draw_cards(\n",
    "    p_win_1 = 0.5,\n",
    "    p_win_2 = 0.4,\n",
    "    n_cards = 25,\n",
    "    seed     = 0\n",
    ")"
   ]
  },
  {
   "cell_type": "code",
   "execution_count": 3,
   "metadata": {},
   "outputs": [
    {
     "data": {
      "text/plain": [
       "(0.09991996797437437, 0.09797958971132711)"
      ]
     },
     "execution_count": 3,
     "metadata": {},
     "output_type": "execute_result"
    }
   ],
   "source": [
    "m1 = stack1.mean()\n",
    "m2 = stack2.mean()\n",
    "n  = len(stack1)\n",
    "np.sqrt(m1 * (1 - m1) / n), np.sqrt(m2 * (1 - m2) / n)"
   ]
  },
  {
   "cell_type": "code",
   "execution_count": 4,
   "metadata": {},
   "outputs": [
    {
     "data": {
      "text/plain": [
       "(0.1, 0.09797958971132711)"
      ]
     },
     "execution_count": 4,
     "metadata": {},
     "output_type": "execute_result"
    }
   ],
   "source": [
    "np.sqrt(.5 * (1 - .5) / n), np.sqrt(.6 * (1 - .6) / n)"
   ]
  },
  {
   "cell_type": "code",
   "execution_count": null,
   "metadata": {},
   "outputs": [],
   "source": []
  }
 ],
 "metadata": {
  "kernelspec": {
   "display_name": "Python 3",
   "language": "python",
   "name": "python3"
  },
  "language_info": {
   "codemirror_mode": {
    "name": "ipython",
    "version": 3
   },
   "file_extension": ".py",
   "mimetype": "text/x-python",
   "name": "python",
   "nbconvert_exporter": "python",
   "pygments_lexer": "ipython3",
   "version": "3.7.7"
  },
  "widgets": {
   "application/vnd.jupyter.widget-state+json": {
    "state": {},
    "version_major": 2,
    "version_minor": 0
   }
  }
 },
 "nbformat": 4,
 "nbformat_minor": 4
}
