{
 "cells": [
  {
   "cell_type": "markdown",
   "metadata": {
    "slideshow": {
     "slide_type": "slide"
    }
   },
   "source": [
    "## Introductory experiment: drawing cards from two stacks\n",
    "\n",
    "- Imagine a game with **two big stacks of cards**\n",
    "- Each stack contains **winning cards** and **blanks** in random order.\n",
    "- Each turn, draw one card from each stack.\n",
    "- How many pairs of cards do you have to draw to decide **which stack has more wins**?"
   ]
  },
  {
   "cell_type": "code",
   "execution_count": 1,
   "metadata": {},
   "outputs": [],
   "source": [
    "# setup\n",
    "from helpers.cards import *\n",
    "import helpers.plotting as pt\n",
    "pt.enable_slide_theme()"
   ]
  },
  {
   "cell_type": "code",
   "execution_count": 2,
   "metadata": {
    "slideshow": {
     "slide_type": "skip"
    }
   },
   "outputs": [
    {
     "data": {
      "text/html": [
       "<style>@import url(https://fonts.googleapis.com/css?family=Lato:400,700,400italic,700italic);</style>"
      ],
      "text/plain": [
       "<IPython.core.display.HTML object>"
      ]
     },
     "execution_count": 2,
     "metadata": {},
     "output_type": "execute_result"
    }
   ],
   "source": [
    "pt.import_lato_font_in_notebook()"
   ]
  },
  {
   "cell_type": "code",
   "execution_count": 3,
   "metadata": {
    "slideshow": {
     "slide_type": "skip"
    }
   },
   "outputs": [
    {
     "data": {
      "text/html": [
       "<div>\n",
       "<style scoped>\n",
       "    .dataframe tbody tr th:only-of-type {\n",
       "        vertical-align: middle;\n",
       "    }\n",
       "\n",
       "    .dataframe tbody tr th {\n",
       "        vertical-align: top;\n",
       "    }\n",
       "\n",
       "    .dataframe thead th {\n",
       "        text-align: right;\n",
       "    }\n",
       "</style>\n",
       "<table border=\"1\" class=\"dataframe\">\n",
       "  <thead>\n",
       "    <tr style=\"text-align: right;\">\n",
       "      <th></th>\n",
       "      <th>experiment</th>\n",
       "      <th>stack</th>\n",
       "      <th>card_pair</th>\n",
       "      <th>win</th>\n",
       "    </tr>\n",
       "  </thead>\n",
       "  <tbody>\n",
       "    <tr>\n",
       "      <th>0</th>\n",
       "      <td>1</td>\n",
       "      <td>1</td>\n",
       "      <td>1</td>\n",
       "      <td>1</td>\n",
       "    </tr>\n",
       "    <tr>\n",
       "      <th>1</th>\n",
       "      <td>1</td>\n",
       "      <td>1</td>\n",
       "      <td>2</td>\n",
       "      <td>1</td>\n",
       "    </tr>\n",
       "    <tr>\n",
       "      <th>2</th>\n",
       "      <td>1</td>\n",
       "      <td>1</td>\n",
       "      <td>3</td>\n",
       "      <td>0</td>\n",
       "    </tr>\n",
       "    <tr>\n",
       "      <th>3</th>\n",
       "      <td>1</td>\n",
       "      <td>1</td>\n",
       "      <td>4</td>\n",
       "      <td>0</td>\n",
       "    </tr>\n",
       "    <tr>\n",
       "      <th>4</th>\n",
       "      <td>1</td>\n",
       "      <td>1</td>\n",
       "      <td>5</td>\n",
       "      <td>1</td>\n",
       "    </tr>\n",
       "  </tbody>\n",
       "</table>\n",
       "</div>"
      ],
      "text/plain": [
       "   experiment  stack  card_pair  win\n",
       "0           1      1          1    1\n",
       "1           1      1          2    1\n",
       "2           1      1          3    0\n",
       "3           1      1          4    0\n",
       "4           1      1          5    1"
      ]
     },
     "execution_count": 3,
     "metadata": {},
     "output_type": "execute_result"
    }
   ],
   "source": [
    "# create data for virtual experiments\n",
    "p_win_1       = 0.5\n",
    "p_win_2       = 0.4\n",
    "n_card_pairs  = 100\n",
    "n_repeats      = 50\n",
    "\n",
    "df = repeated_experiments_df(\n",
    "    p_win_1,\n",
    "    p_win_2,\n",
    "    n_card_pairs,\n",
    "    n_repeats\n",
    ")\n",
    "df.head()"
   ]
  },
  {
   "cell_type": "code",
   "execution_count": 4,
   "metadata": {},
   "outputs": [],
   "source": [
    "# transparently export data if needed\n",
    "# if you have issues viewing the plots, try embedding the data\n",
    "# this will increase the file size!\n",
    "data = pt.df_to_datasource(df)"
   ]
  },
  {
   "cell_type": "markdown",
   "metadata": {
    "slideshow": {
     "slide_type": "slide"
    }
   },
   "source": [
    "### Draw cards from two different stacks - one at a time from each stack\n",
    "- What can we know after drawing a certain number of cards?\n",
    "- When have we drawn enough cards to be certain?"
   ]
  },
  {
   "cell_type": "markdown",
   "metadata": {
    "slideshow": {
     "slide_type": "skip"
    }
   },
   "source": [
    "The next three figures are interactive! Unfortunately they won't work on GitHub, in that case please keep on scrolling."
   ]
  },
  {
   "cell_type": "code",
   "execution_count": 5,
   "metadata": {},
   "outputs": [
    {
     "data": {
      "application/vnd.vegalite.v4+json": {
       "$schema": "https://vega.github.io/schema/vega-lite/v4.8.1.json",
       "config": {
        "axis": {
         "grid": false
        },
        "axisX": {
         "labelFont": [
          "Lato",
          "Helvetica Neue",
          "Helvetica",
          "Arial",
          "Sans Serif"
         ],
         "labelFontSize": 16,
         "titleFont": [
          "Lato",
          "Helvetica Neue",
          "Helvetica",
          "Arial",
          "Sans Serif"
         ],
         "titleFontSize": 16,
         "titleFontWeight": "normal",
         "titlePadding": 10
        },
        "axisY": {
         "labelFont": [
          "Lato",
          "Helvetica Neue",
          "Helvetica",
          "Arial",
          "Sans Serif"
         ],
         "labelFontSize": 16,
         "titleFont": [
          "Lato",
          "Helvetica Neue",
          "Helvetica",
          "Arial",
          "Sans Serif"
         ],
         "titleFontSize": 16,
         "titleFontWeight": "normal",
         "titlePadding": 10
        },
        "legend": {
         "labelFont": [
          "Lato",
          "Helvetica Neue",
          "Helvetica",
          "Arial",
          "Sans Serif"
         ],
         "labelFontSize": 16,
         "titleFont": [
          "Lato",
          "Helvetica Neue",
          "Helvetica",
          "Arial",
          "Sans Serif"
         ],
         "titleFontSize": 16,
         "titleFontWeight": "normal"
        },
        "text": {
         "font": [
          "Lato",
          "Helvetica Neue",
          "Helvetica",
          "Arial",
          "Sans Serif"
         ],
         "fontSize": 14.4
        },
        "title": {
         "font": [
          "Lato",
          "Helvetica Neue",
          "Helvetica",
          "Arial",
          "Sans Serif"
         ],
         "fontSize": 24,
         "fontWeight": "normal"
        },
        "view": {
         "strokeWidth": 0
        }
       },
       "data": {
        "format": {
         "type": "csv"
        },
        "url": "altair-data-4082451b90bec143a380c7fb8fa80ffe.csv"
       },
       "encoding": {
        "color": {
         "field": "stack",
         "legend": null,
         "type": "nominal"
        },
        "x": {
         "field": "stack",
         "title": "Card Stack",
         "type": "nominal"
        },
        "y": {
         "aggregate": "sum",
         "axis": {
          "tickMinStep": 1,
          "title": "Number of Wins"
         },
         "field": "win",
         "type": "quantitative"
        }
       },
       "height": 250,
       "mark": "bar",
       "selection": {
        "selector001": {
         "bind": {
          "input": "range",
          "max": 40,
          "min": 1,
          "name": "Draw Card Pairs: ",
          "step": 1
         },
         "init": {
          "card_pair": 1
         },
         "type": "single"
        }
       },
       "transform": [
        {
         "filter": "datum.experiment == 1"
        },
        {
         "filter": "(datum.card_pair <= toNumber(selector001.card_pair))"
        }
       ],
       "width": 250
      },
      "image/png": "[encoded data removed]",
      "text/plain": [
       "<VegaLite 4 object>\n",
       "\n",
       "If you see this message, it means the renderer has not been properly enabled\n",
       "for the frontend that you are using. For more information, see\n",
       "https://altair-viz.github.io/user_guide/troubleshooting.html\n"
      ]
     },
     "metadata": {
      "application/vnd.vegalite.v4+json": {
       "embed_options": {
        "renderer": "svg"
       }
      }
     },
     "output_type": "display_data"
    }
   ],
   "source": [
    "plot_first_experiment_bars(data=data, n_card_pairs=min(n_card_pairs, 40))"
   ]
  },
  {
   "cell_type": "markdown",
   "metadata": {
    "slideshow": {
     "slide_type": "skip"
    }
   },
   "source": [
    ".\n",
    "\n",
    ".\n",
    "\n",
    "**Spoilers below!**\n",
    "\n",
    ".\n",
    "\n",
    ".\n",
    "\n",
    ".\n",
    "\n",
    "Scroll down when you are finished drawing cards\n",
    "\n",
    ".\n",
    "\n",
    ".\n",
    "\n",
    ".\n",
    "\n",
    ".\n",
    "\n",
    ".\n",
    "\n",
    ".\n",
    "\n",
    ".\n",
    "\n",
    ".\n",
    "\n",
    ".\n",
    "\n",
    ".\n",
    "\n",
    ".\n",
    "\n",
    ".\n",
    "\n",
    ".\n",
    "\n"
   ]
  },
  {
   "cell_type": "markdown",
   "metadata": {
    "slideshow": {
     "slide_type": "slide"
    }
   },
   "source": [
    "### It can take a while to see which stack is better!"
   ]
  },
  {
   "cell_type": "code",
   "execution_count": 6,
   "metadata": {},
   "outputs": [
    {
     "data": {
      "application/vnd.vegalite.v4+json": {
       "$schema": "https://vega.github.io/schema/vega-lite/v4.8.1.json",
       "config": {
        "axisX": {
         "labelFont": [
          "Lato",
          "Helvetica Neue",
          "Helvetica",
          "Arial",
          "Sans Serif"
         ],
         "labelFontSize": 16,
         "titleFont": [
          "Lato",
          "Helvetica Neue",
          "Helvetica",
          "Arial",
          "Sans Serif"
         ],
         "titleFontSize": 16,
         "titleFontWeight": "normal",
         "titlePadding": 10
        },
        "axisY": {
         "labelFont": [
          "Lato",
          "Helvetica Neue",
          "Helvetica",
          "Arial",
          "Sans Serif"
         ],
         "labelFontSize": 16,
         "titleFont": [
          "Lato",
          "Helvetica Neue",
          "Helvetica",
          "Arial",
          "Sans Serif"
         ],
         "titleFontSize": 16,
         "titleFontWeight": "normal",
         "titlePadding": 10
        },
        "legend": {
         "labelFont": [
          "Lato",
          "Helvetica Neue",
          "Helvetica",
          "Arial",
          "Sans Serif"
         ],
         "labelFontSize": 16,
         "titleFont": [
          "Lato",
          "Helvetica Neue",
          "Helvetica",
          "Arial",
          "Sans Serif"
         ],
         "titleFontSize": 16,
         "titleFontWeight": "normal"
        },
        "text": {
         "font": [
          "Lato",
          "Helvetica Neue",
          "Helvetica",
          "Arial",
          "Sans Serif"
         ],
         "fontSize": 14.4
        },
        "title": {
         "font": [
          "Lato",
          "Helvetica Neue",
          "Helvetica",
          "Arial",
          "Sans Serif"
         ],
         "fontSize": 24,
         "fontWeight": "normal"
        }
       },
       "data": {
        "format": {
         "type": "csv"
        },
        "url": "altair-data-4082451b90bec143a380c7fb8fa80ffe.csv"
       },
       "vconcat": [
        {
         "encoding": {
          "color": {
           "field": "stack",
           "title": "Stack",
           "type": "nominal"
          },
          "x": {
           "axis": {
            "grid": false,
            "labels": false,
            "orient": "top",
            "ticks": false,
            "title": "Wins"
           },
           "field": "card_pair",
           "title": "Cards drawn per stack",
           "type": "quantitative"
          },
          "y": {
           "axis": null,
           "field": "stack",
           "scale": {
            "domain": [
             2,
             0
            ]
           },
           "title": "Stack",
           "type": "quantitative"
          }
         },
         "height": 35,
         "mark": {
          "thickness": 1.5,
          "type": "tick"
         },
         "transform": [
          {
           "filter": "(datum.experiment == 1) & (datum.win > 0)"
          }
         ],
         "view": {
          "strokeWidth": 0
         },
         "width": 500
        },
        {
         "encoding": {
          "color": {
           "field": "stack",
           "title": "Stack",
           "type": "nominal"
          },
          "x": {
           "field": "card_pair",
           "title": "Cards drawn per stack",
           "type": "quantitative"
          },
          "y": {
           "field": "cumulative_wins",
           "title": "Number of wins",
           "type": "quantitative"
          }
         },
         "height": 265,
         "mark": "line",
         "transform": [
          {
           "frame": [
            null,
            0
           ],
           "groupby": [
            "experiment",
            "stack"
           ],
           "window": [
            {
             "as": "cumulative_wins",
             "field": "win",
             "op": "sum"
            }
           ]
          },
          {
           "filter": "datum.experiment == 1"
          }
         ],
         "width": 500
        }
       ]
      },
      "image/png": "[encoded data removed]",
      "text/plain": [
       "<VegaLite 4 object>\n",
       "\n",
       "If you see this message, it means the renderer has not been properly enabled\n",
       "for the frontend that you are using. For more information, see\n",
       "https://altair-viz.github.io/user_guide/troubleshooting.html\n"
      ]
     },
     "metadata": {
      "application/vnd.vegalite.v4+json": {
       "embed_options": {
        "renderer": "svg"
       }
      }
     },
     "output_type": "display_data"
    }
   ],
   "source": [
    "plot_first_experiment_lines(data=data)"
   ]
  },
  {
   "cell_type": "markdown",
   "metadata": {
    "slideshow": {
     "slide_type": "slide"
    }
   },
   "source": [
    "### If we shuffle the cards and repeat the experiment,<br> will we get a different answer?"
   ]
  },
  {
   "cell_type": "markdown",
   "metadata": {
    "slideshow": {
     "slide_type": "slide"
    }
   },
   "source": [
    "### Repeat the experiment\n",
    "- Draw a fixed number of cards from each stack.\n",
    "- Calculate each stack's winning probability = number of wins / number of cards.\n",
    "- Shuffle the cards back into the stacks they came from.\n",
    "- Repeat the experiment 50 times."
   ]
  },
  {
   "cell_type": "markdown",
   "metadata": {
    "slideshow": {
     "slide_type": "slide"
    }
   },
   "source": [
    "### Each repetition yields a different winning probability for each stack. "
   ]
  },
  {
   "cell_type": "code",
   "execution_count": 7,
   "metadata": {},
   "outputs": [
    {
     "data": {
      "application/vnd.vegalite.v4+json": {
       "$schema": "https://vega.github.io/schema/vega-lite/v4.8.1.json",
       "concat": [
        {
         "encoding": {
          "color": {
           "field": "stack",
           "type": "nominal"
          },
          "x": {
           "field": "experiment",
           "title": "Experiment",
           "type": "quantitative"
          },
          "y": {
           "axis": {
            "grid": true,
            "values": [
             0,
             0.2,
             0.4,
             0.6000000000000001,
             0.8,
             1
            ]
           },
           "field": "p_win",
           "scale": {
            "domain": [
             -0.1,
             1.1
            ]
           },
           "title": "Winning probability",
           "type": "quantitative"
          }
         },
         "height": 225,
         "mark": "point",
         "selection": {
          "selector002": {
           "bind": {
            "input": "range",
            "max": 100,
            "min": 1,
            "name": "Card pairs per Experiment: ",
            "step": 1
           },
           "init": {
            "card_pair": 25
           },
           "type": "single"
          }
         },
         "transform": [
          {
           "filter": "(datum.card_pair <= toNumber(selector002.card_pair))"
          },
          {
           "aggregate": [
            {
             "as": "p_win",
             "field": "win",
             "op": "mean"
            }
           ],
           "groupby": [
            "stack",
            "experiment"
           ]
          }
         ],
         "width": 400
        }
       ],
       "config": {
        "axis": {
         "grid": false
        },
        "axisX": {
         "labelFont": [
          "Lato",
          "Helvetica Neue",
          "Helvetica",
          "Arial",
          "Sans Serif"
         ],
         "labelFontSize": 16,
         "titleFont": [
          "Lato",
          "Helvetica Neue",
          "Helvetica",
          "Arial",
          "Sans Serif"
         ],
         "titleFontSize": 16,
         "titleFontWeight": "normal",
         "titlePadding": 10
        },
        "axisY": {
         "labelFont": [
          "Lato",
          "Helvetica Neue",
          "Helvetica",
          "Arial",
          "Sans Serif"
         ],
         "labelFontSize": 16,
         "titleFont": [
          "Lato",
          "Helvetica Neue",
          "Helvetica",
          "Arial",
          "Sans Serif"
         ],
         "titleFontSize": 16,
         "titleFontWeight": "normal",
         "titlePadding": 10
        },
        "legend": {
         "labelFont": [
          "Lato",
          "Helvetica Neue",
          "Helvetica",
          "Arial",
          "Sans Serif"
         ],
         "labelFontSize": 16,
         "titleFont": [
          "Lato",
          "Helvetica Neue",
          "Helvetica",
          "Arial",
          "Sans Serif"
         ],
         "titleFontSize": 16,
         "titleFontWeight": "normal"
        },
        "text": {
         "font": [
          "Lato",
          "Helvetica Neue",
          "Helvetica",
          "Arial",
          "Sans Serif"
         ],
         "fontSize": 14.4
        },
        "title": {
         "font": [
          "Lato",
          "Helvetica Neue",
          "Helvetica",
          "Arial",
          "Sans Serif"
         ],
         "fontSize": 24,
         "fontWeight": "normal"
        },
        "view": {
         "strokeWidth": 0
        }
       },
       "data": {
        "format": {
         "type": "csv"
        },
        "url": "altair-data-4082451b90bec143a380c7fb8fa80ffe.csv"
       }
      },
      "image/png": "[encoded data removed]",
      "text/plain": [
       "<VegaLite 4 object>\n",
       "\n",
       "If you see this message, it means the renderer has not been properly enabled\n",
       "for the frontend that you are using. For more information, see\n",
       "https://altair-viz.github.io/user_guide/troubleshooting.html\n"
      ]
     },
     "metadata": {
      "application/vnd.vegalite.v4+json": {
       "embed_options": {
        "renderer": "svg"
       }
      }
     },
     "output_type": "display_data"
    }
   ],
   "source": [
    "plot_repeated_experiments(data=data, n_card_pairs=n_card_pairs, show='Experiments')"
   ]
  },
  {
   "cell_type": "markdown",
   "metadata": {},
   "source": [
    "- The more cards we draw per experiment, the more similar the outcomes (circles)<br> of the different experiments become."
   ]
  },
  {
   "cell_type": "markdown",
   "metadata": {
    "slideshow": {
     "slide_type": "slide"
    }
   },
   "source": [
    "### We can count how often the outcome falls in a certain range"
   ]
  },
  {
   "cell_type": "code",
   "execution_count": 8,
   "metadata": {},
   "outputs": [
    {
     "data": {
      "application/vnd.vegalite.v4+json": {
       "$schema": "https://vega.github.io/schema/vega-lite/v4.8.1.json",
       "concat": [
        {
         "encoding": {
          "color": {
           "field": "stack",
           "type": "nominal"
          },
          "x": {
           "field": "experiment",
           "title": "Experiment",
           "type": "quantitative"
          },
          "y": {
           "axis": {
            "grid": true,
            "values": [
             0,
             0.2,
             0.4,
             0.6000000000000001,
             0.8,
             1
            ]
           },
           "field": "p_win",
           "scale": {
            "domain": [
             -0.1,
             1.1
            ]
           },
           "title": "Winning probability",
           "type": "quantitative"
          }
         },
         "height": 225,
         "mark": "point",
         "selection": {
          "selector003": {
           "bind": {
            "input": "range",
            "max": 100,
            "min": 1,
            "name": "Card pairs per Experiment: ",
            "step": 1
           },
           "init": {
            "card_pair": 25
           },
           "type": "single"
          }
         },
         "transform": [
          {
           "filter": "(datum.card_pair <= toNumber(selector003.card_pair))"
          },
          {
           "aggregate": [
            {
             "as": "p_win",
             "field": "win",
             "op": "mean"
            }
           ],
           "groupby": [
            "stack",
            "experiment"
           ]
          }
         ],
         "width": 400
        },
        {
         "encoding": {
          "color": {
           "field": "stack",
           "legend": {
            "title": "Stack"
           },
           "type": "nominal"
          },
          "order": {
           "field": "stack",
           "type": "quantitative"
          },
          "stroke": {
           "field": "stack",
           "legend": null,
           "type": "nominal"
          },
          "x": {
           "aggregate": "count",
           "field": "experiment",
           "stack": null,
           "title": "Number of experiments",
           "type": "quantitative"
          },
          "y": {
           "axis": {
            "grid": true,
            "labels": false,
            "title": null,
            "values": [
             0,
             0.2,
             0.4,
             0.6000000000000001,
             0.8,
             1
            ]
           },
           "bin": {
            "extent": [
             0,
             1
            ],
            "step": 0.1
           },
           "field": "p_win",
           "scale": {
            "domain": [
             -0.1,
             1.1
            ]
           },
           "type": "quantitative"
          }
         },
         "height": 225,
         "mark": {
          "binSpacing": 1,
          "cornerRadius": 2,
          "fillOpacity": 0.33,
          "strokeOpacity": 0.66,
          "strokeWidth": 2,
          "type": "bar"
         },
         "selection": {
          "selector003": {
           "bind": {
            "input": "range",
            "max": 100,
            "min": 1,
            "name": "Card pairs per Experiment: ",
            "step": 1
           },
           "init": {
            "card_pair": 25
           },
           "type": "single"
          }
         },
         "transform": [
          {
           "filter": "(datum.card_pair <= toNumber(selector003.card_pair))"
          },
          {
           "aggregate": [
            {
             "as": "p_win",
             "field": "win",
             "op": "mean"
            }
           ],
           "groupby": [
            "stack",
            "experiment"
           ]
          }
         ],
         "width": 150
        }
       ],
       "config": {
        "axis": {
         "grid": false
        },
        "axisX": {
         "labelFont": [
          "Lato",
          "Helvetica Neue",
          "Helvetica",
          "Arial",
          "Sans Serif"
         ],
         "labelFontSize": 16,
         "titleFont": [
          "Lato",
          "Helvetica Neue",
          "Helvetica",
          "Arial",
          "Sans Serif"
         ],
         "titleFontSize": 16,
         "titleFontWeight": "normal",
         "titlePadding": 10
        },
        "axisY": {
         "labelFont": [
          "Lato",
          "Helvetica Neue",
          "Helvetica",
          "Arial",
          "Sans Serif"
         ],
         "labelFontSize": 16,
         "titleFont": [
          "Lato",
          "Helvetica Neue",
          "Helvetica",
          "Arial",
          "Sans Serif"
         ],
         "titleFontSize": 16,
         "titleFontWeight": "normal",
         "titlePadding": 10
        },
        "legend": {
         "labelFont": [
          "Lato",
          "Helvetica Neue",
          "Helvetica",
          "Arial",
          "Sans Serif"
         ],
         "labelFontSize": 16,
         "titleFont": [
          "Lato",
          "Helvetica Neue",
          "Helvetica",
          "Arial",
          "Sans Serif"
         ],
         "titleFontSize": 16,
         "titleFontWeight": "normal"
        },
        "text": {
         "font": [
          "Lato",
          "Helvetica Neue",
          "Helvetica",
          "Arial",
          "Sans Serif"
         ],
         "fontSize": 14.4
        },
        "title": {
         "font": [
          "Lato",
          "Helvetica Neue",
          "Helvetica",
          "Arial",
          "Sans Serif"
         ],
         "fontSize": 24,
         "fontWeight": "normal"
        },
        "view": {
         "strokeWidth": 0
        }
       },
       "data": {
        "format": {
         "type": "csv"
        },
        "url": "altair-data-4082451b90bec143a380c7fb8fa80ffe.csv"
       }
      },
      "image/png": "[encoded data removed]",
      "text/plain": [
       "<VegaLite 4 object>\n",
       "\n",
       "If you see this message, it means the renderer has not been properly enabled\n",
       "for the frontend that you are using. For more information, see\n",
       "https://altair-viz.github.io/user_guide/troubleshooting.html\n"
      ]
     },
     "metadata": {
      "application/vnd.vegalite.v4+json": {
       "embed_options": {
        "renderer": "svg"
       }
      }
     },
     "output_type": "display_data"
    }
   ],
   "source": [
    "plot_repeated_experiments(data=data, n_card_pairs=n_card_pairs, show='Experiments, Histogram')"
   ]
  },
  {
   "cell_type": "markdown",
   "metadata": {},
   "source": [
    "- A **histogram** shows how many experiments had a certain outcome (bar chart, right).\n",
    "- It visualises the **distribution** of possible outcomes."
   ]
  },
  {
   "cell_type": "markdown",
   "metadata": {
    "slideshow": {
     "slide_type": "slide"
    }
   },
   "source": [
    "### The **standard deviation (std.)** measures the spread of the outcomes"
   ]
  },
  {
   "cell_type": "code",
   "execution_count": 9,
   "metadata": {},
   "outputs": [
    {
     "data": {
      "application/vnd.vegalite.v4+json": {
       "$schema": "https://vega.github.io/schema/vega-lite/v4.8.1.json",
       "concat": [
        {
         "data": {
          "format": {
           "type": "csv"
          },
          "url": "altair-data-4082451b90bec143a380c7fb8fa80ffe.csv"
         },
         "encoding": {
          "color": {
           "field": "stack",
           "type": "nominal"
          },
          "x": {
           "field": "experiment",
           "title": "Experiment",
           "type": "quantitative"
          },
          "y": {
           "axis": {
            "grid": true,
            "values": [
             0,
             0.2,
             0.4,
             0.6000000000000001,
             0.8,
             1
            ]
           },
           "field": "p_win",
           "scale": {
            "domain": [
             -0.1,
             1.1
            ]
           },
           "title": "Winning probability",
           "type": "quantitative"
          }
         },
         "height": 225,
         "mark": "point",
         "selection": {
          "selector004": {
           "bind": {
            "input": "range",
            "max": 100,
            "min": 1,
            "name": "Card pairs per Experiment: ",
            "step": 1
           },
           "init": {
            "card_pair": 25
           },
           "type": "single"
          }
         },
         "transform": [
          {
           "filter": "(datum.card_pair <= toNumber(selector004.card_pair))"
          },
          {
           "aggregate": [
            {
             "as": "p_win",
             "field": "win",
             "op": "mean"
            }
           ],
           "groupby": [
            "stack",
            "experiment"
           ]
          }
         ],
         "width": 400
        },
        {
         "data": {
          "format": {
           "type": "csv"
          },
          "url": "altair-data-4082451b90bec143a380c7fb8fa80ffe.csv"
         },
         "encoding": {
          "color": {
           "field": "stack",
           "legend": {
            "title": "Stack"
           },
           "type": "nominal"
          },
          "order": {
           "field": "stack",
           "type": "quantitative"
          },
          "stroke": {
           "field": "stack",
           "legend": null,
           "type": "nominal"
          },
          "x": {
           "aggregate": "count",
           "field": "experiment",
           "stack": null,
           "title": "Number of experiments",
           "type": "quantitative"
          },
          "y": {
           "axis": {
            "grid": true,
            "labels": false,
            "title": null,
            "values": [
             0,
             0.2,
             0.4,
             0.6000000000000001,
             0.8,
             1
            ]
           },
           "bin": {
            "extent": [
             0,
             1
            ],
            "step": 0.1
           },
           "field": "p_win",
           "scale": {
            "domain": [
             -0.1,
             1.1
            ]
           },
           "type": "quantitative"
          }
         },
         "height": 225,
         "mark": {
          "binSpacing": 1,
          "cornerRadius": 2,
          "fillOpacity": 0.33,
          "strokeOpacity": 0.66,
          "strokeWidth": 2,
          "type": "bar"
         },
         "selection": {
          "selector004": {
           "bind": {
            "input": "range",
            "max": 100,
            "min": 1,
            "name": "Card pairs per Experiment: ",
            "step": 1
           },
           "init": {
            "card_pair": 25
           },
           "type": "single"
          }
         },
         "transform": [
          {
           "filter": "(datum.card_pair <= toNumber(selector004.card_pair))"
          },
          {
           "aggregate": [
            {
             "as": "p_win",
             "field": "win",
             "op": "mean"
            }
           ],
           "groupby": [
            "stack",
            "experiment"
           ]
          }
         ],
         "width": 150
        },
        {
         "height": 225,
         "layer": [
          {
           "data": {
            "format": {
             "type": "csv"
            },
            "url": "altair-data-4082451b90bec143a380c7fb8fa80ffe.csv"
           },
           "encoding": {
            "color": {
             "field": "stack",
             "type": "nominal"
            },
            "x": {
             "axis": null,
             "field": "stack",
             "type": "quantitative"
            },
            "y": {
             "axis": null,
             "field": "p_win",
             "scale": {
              "domain": [
               -0.1,
               1.1
              ]
             },
             "type": "quantitative"
            }
           },
           "mark": {
            "extent": "stdev",
            "rule": {
             "size": 2
            },
            "type": "errorbar"
           },
           "selection": {
            "selector004": {
             "bind": {
              "input": "range",
              "max": 100,
              "min": 1,
              "name": "Card pairs per Experiment: ",
              "step": 1
             },
             "init": {
              "card_pair": 25
             },
             "type": "single"
            }
           },
           "transform": [
            {
             "filter": "(datum.card_pair <= toNumber(selector004.card_pair))"
            },
            {
             "aggregate": [
              {
               "as": "p_win",
               "field": "win",
               "op": "mean"
              }
             ],
             "groupby": [
              "stack",
              "experiment"
             ]
            }
           ]
          },
          {
           "data": {
            "format": {
             "type": "csv"
            },
            "url": "altair-data-4082451b90bec143a380c7fb8fa80ffe.csv"
           },
           "encoding": {
            "x": {
             "field": "stack",
             "scale": {
              "domain": [
               1,
               4
              ]
             },
             "type": "quantitative"
            },
            "y": {
             "aggregate": "mean",
             "field": "p_win",
             "scale": {
              "domain": [
               -0.1,
               1.1
              ]
             },
             "type": "quantitative"
            }
           },
           "mark": {
            "size": 0,
            "type": "point"
           },
           "selection": {
            "selector004": {
             "bind": {
              "input": "range",
              "max": 100,
              "min": 1,
              "name": "Card pairs per Experiment: ",
              "step": 1
             },
             "init": {
              "card_pair": 25
             },
             "type": "single"
            }
           },
           "transform": [
            {
             "filter": "(datum.card_pair <= toNumber(selector004.card_pair))"
            },
            {
             "aggregate": [
              {
               "as": "p_win",
               "field": "win",
               "op": "mean"
              }
             ],
             "groupby": [
              "stack",
              "experiment"
             ]
            }
           ]
          },
          {
           "data": {
            "format": {
             "type": "csv"
            },
            "url": "altair-data-1f3d3f2392953d38b8b7ec5ca3128f8a.csv"
           },
           "encoding": {
            "text": {
             "field": "text",
             "type": "nominal"
            },
            "x": {
             "field": "x",
             "type": "quantitative"
            },
            "y": {
             "field": "y",
             "type": "quantitative"
            }
           },
           "mark": {
            "angle": 90,
            "baseline": "middle",
            "type": "text"
           }
          }
         ],
         "view": {
          "strokeWidth": 0
         },
         "width": 25
        }
       ],
       "config": {
        "axis": {
         "grid": false
        },
        "axisX": {
         "labelFont": [
          "Lato",
          "Helvetica Neue",
          "Helvetica",
          "Arial",
          "Sans Serif"
         ],
         "labelFontSize": 16,
         "titleFont": [
          "Lato",
          "Helvetica Neue",
          "Helvetica",
          "Arial",
          "Sans Serif"
         ],
         "titleFontSize": 16,
         "titleFontWeight": "normal",
         "titlePadding": 10
        },
        "axisY": {
         "labelFont": [
          "Lato",
          "Helvetica Neue",
          "Helvetica",
          "Arial",
          "Sans Serif"
         ],
         "labelFontSize": 16,
         "titleFont": [
          "Lato",
          "Helvetica Neue",
          "Helvetica",
          "Arial",
          "Sans Serif"
         ],
         "titleFontSize": 16,
         "titleFontWeight": "normal",
         "titlePadding": 10
        },
        "legend": {
         "labelFont": [
          "Lato",
          "Helvetica Neue",
          "Helvetica",
          "Arial",
          "Sans Serif"
         ],
         "labelFontSize": 16,
         "titleFont": [
          "Lato",
          "Helvetica Neue",
          "Helvetica",
          "Arial",
          "Sans Serif"
         ],
         "titleFontSize": 16,
         "titleFontWeight": "normal"
        },
        "text": {
         "font": [
          "Lato",
          "Helvetica Neue",
          "Helvetica",
          "Arial",
          "Sans Serif"
         ],
         "fontSize": 14.4
        },
        "title": {
         "font": [
          "Lato",
          "Helvetica Neue",
          "Helvetica",
          "Arial",
          "Sans Serif"
         ],
         "fontSize": 24,
         "fontWeight": "normal"
        },
        "view": {
         "strokeWidth": 0
        }
       }
      },
      "image/png": "[encoded data removed]",
      "text/plain": [
       "<VegaLite 4 object>\n",
       "\n",
       "If you see this message, it means the renderer has not been properly enabled\n",
       "for the frontend that you are using. For more information, see\n",
       "https://altair-viz.github.io/user_guide/troubleshooting.html\n"
      ]
     },
     "metadata": {
      "application/vnd.vegalite.v4+json": {
       "embed_options": {
        "renderer": "svg"
       }
      }
     },
     "output_type": "display_data"
    }
   ],
   "source": [
    "plot_repeated_experiments(data=data, n_card_pairs=n_card_pairs, show='Experiments, Histogram, Std')"
   ]
  },
  {
   "cell_type": "markdown",
   "metadata": {},
   "source": [
    "- The standard deviation over many experiments corresponds to the **standard error** for a **single experiment**.$^{*▾}$\n",
    "- That is, the uncertainty we'd have about the true winning probabilites after performing one experiment."
   ]
  },
  {
   "cell_type": "markdown",
   "metadata": {
    "slideshow": {
     "slide_type": "subslide"
    }
   },
   "source": [
    "### *The standard error of the mean...\n",
    "\n",
    "- ...is calculated by dividing the standard deviation<br>by the square root of the number of samples\n",
    "- ...will be discussed further in a followup \n",
    "\n",
    "See also: https://en.wikipedia.org/wiki/Standard_error"
   ]
  },
  {
   "cell_type": "markdown",
   "metadata": {
    "slideshow": {
     "slide_type": "slide"
    }
   },
   "source": [
    "### A single small experiment (25 cards)\n",
    "\n",
    "- **Error bars** show the **standard error** of a single experiment\n",
    "- Here they **overlap** - the difference betwen the stacks is smaller than the uncertainty\n",
    "- **We can't decide** which stack is better $^{*▾}$"
   ]
  },
  {
   "cell_type": "code",
   "execution_count": 10,
   "metadata": {},
   "outputs": [
    {
     "data": {
      "application/vnd.vegalite.v4+json": {
       "$schema": "https://vega.github.io/schema/vega-lite/v4.8.1.json",
       "config": {
        "axis": {
         "grid": false
        },
        "axisX": {
         "labelFont": [
          "Lato",
          "Helvetica Neue",
          "Helvetica",
          "Arial",
          "Sans Serif"
         ],
         "labelFontSize": 16,
         "titleFont": [
          "Lato",
          "Helvetica Neue",
          "Helvetica",
          "Arial",
          "Sans Serif"
         ],
         "titleFontSize": 16,
         "titleFontWeight": "normal",
         "titlePadding": 10
        },
        "axisY": {
         "labelFont": [
          "Lato",
          "Helvetica Neue",
          "Helvetica",
          "Arial",
          "Sans Serif"
         ],
         "labelFontSize": 16,
         "titleFont": [
          "Lato",
          "Helvetica Neue",
          "Helvetica",
          "Arial",
          "Sans Serif"
         ],
         "titleFontSize": 16,
         "titleFontWeight": "normal",
         "titlePadding": 10
        },
        "legend": {
         "labelFont": [
          "Lato",
          "Helvetica Neue",
          "Helvetica",
          "Arial",
          "Sans Serif"
         ],
         "labelFontSize": 16,
         "titleFont": [
          "Lato",
          "Helvetica Neue",
          "Helvetica",
          "Arial",
          "Sans Serif"
         ],
         "titleFontSize": 16,
         "titleFontWeight": "normal"
        },
        "text": {
         "font": [
          "Lato",
          "Helvetica Neue",
          "Helvetica",
          "Arial",
          "Sans Serif"
         ],
         "fontSize": 14.4
        },
        "title": {
         "font": [
          "Lato",
          "Helvetica Neue",
          "Helvetica",
          "Arial",
          "Sans Serif"
         ],
         "fontSize": 24,
         "fontWeight": "normal"
        },
        "view": {
         "strokeWidth": 0
        }
       },
       "data": {
        "format": {
         "type": "csv"
        },
        "url": "altair-data-4082451b90bec143a380c7fb8fa80ffe.csv"
       },
       "height": 250,
       "layer": [
        {
         "encoding": {
          "color": {
           "field": "stack",
           "legend": null,
           "type": "nominal"
          },
          "x": {
           "field": "stack",
           "type": "nominal"
          },
          "y": {
           "aggregate": "mean",
           "field": "win",
           "type": "quantitative"
          }
         },
         "mark": "bar",
         "selection": {
          "selector005": {
           "bind": {
            "input": "range",
            "max": 100,
            "min": 1,
            "name": "Card pairs per experiment: ",
            "step": 1
           },
           "init": {
            "card_pair": 25
           },
           "type": "single"
          },
          "selector006": {
           "bind": {
            "input": "range",
            "max": 50,
            "min": 1,
            "name": "Select one experiment: ",
            "step": 1
           },
           "init": {
            "experiment": 1
           },
           "type": "single"
          }
         },
         "transform": [
          {
           "filter": "((toNumber(datum.card_pair) <= toNumber(selector005.card_pair)) && (toNumber(datum.experiment) === toNumber(selector006.experiment)))"
          }
         ]
        },
        {
         "encoding": {
          "x": {
           "field": "stack",
           "title": "Card Stack",
           "type": "nominal"
          },
          "y": {
           "field": "win",
           "title": "Winning probability",
           "type": "quantitative"
          }
         },
         "mark": {
          "extent": "stderr",
          "rule": {
           "size": 2
          },
          "type": "errorbar"
         },
         "selection": {
          "selector005": {
           "bind": {
            "input": "range",
            "max": 100,
            "min": 1,
            "name": "Card pairs per experiment: ",
            "step": 1
           },
           "init": {
            "card_pair": 25
           },
           "type": "single"
          },
          "selector006": {
           "bind": {
            "input": "range",
            "max": 50,
            "min": 1,
            "name": "Select one experiment: ",
            "step": 1
           },
           "init": {
            "experiment": 1
           },
           "type": "single"
          }
         },
         "transform": [
          {
           "filter": "((toNumber(datum.card_pair) <= toNumber(selector005.card_pair)) && (toNumber(datum.experiment) === toNumber(selector006.experiment)))"
          }
         ]
        }
       ],
       "width": 250
      },
      "image/png": "[encoded data removed]",
      "text/plain": [
       "<VegaLite 4 object>\n",
       "\n",
       "If you see this message, it means the renderer has not been properly enabled\n",
       "for the frontend that you are using. For more information, see\n",
       "https://altair-viz.github.io/user_guide/troubleshooting.html\n"
      ]
     },
     "metadata": {
      "application/vnd.vegalite.v4+json": {
       "embed_options": {
        "renderer": "svg"
       }
      }
     },
     "output_type": "display_data"
    }
   ],
   "source": [
    "plot_experiment_bars_with_errors(data=data, n_card_pairs=n_card_pairs, n_card_pairs_init=25, n_repeats=n_repeats)"
   ]
  },
  {
   "cell_type": "markdown",
   "metadata": {
    "slideshow": {
     "slide_type": "subslide"
    }
   },
   "source": [
    "### *Error bars commonly represent standard errors\n",
    "\n",
    "For \"well behaved\" distributions, which we will explain in a followup,\n",
    "- they show the uncertainty of the `mean` value of an observable,\n",
    "- they represent the range in which ~68% of the observations fall.\n",
    "- If they don't overlap, the corresponding `means` are different with ~97.5% probability.\n",
    "- Therefore, false positives can still occur. To lower their probability, we can require several standard errors of difference.\n",
    "- Sometimes error bars can show other related measures, which should be noted near the figure.\n"
   ]
  },
  {
   "cell_type": "markdown",
   "metadata": {
    "slideshow": {
     "slide_type": "slide"
    }
   },
   "source": [
    "### An bigger experiment (100 cards)\n",
    "\n",
    "- The **error bars don't overlap**.\n",
    "- We can say the difference is **statistically significant**.\n",
    "- We can be very certain that stack 1 has more wins."
   ]
  },
  {
   "cell_type": "code",
   "execution_count": 11,
   "metadata": {},
   "outputs": [
    {
     "data": {
      "application/vnd.vegalite.v4+json": {
       "$schema": "https://vega.github.io/schema/vega-lite/v4.8.1.json",
       "config": {
        "axis": {
         "grid": false
        },
        "axisX": {
         "labelFont": [
          "Lato",
          "Helvetica Neue",
          "Helvetica",
          "Arial",
          "Sans Serif"
         ],
         "labelFontSize": 16,
         "titleFont": [
          "Lato",
          "Helvetica Neue",
          "Helvetica",
          "Arial",
          "Sans Serif"
         ],
         "titleFontSize": 16,
         "titleFontWeight": "normal",
         "titlePadding": 10
        },
        "axisY": {
         "labelFont": [
          "Lato",
          "Helvetica Neue",
          "Helvetica",
          "Arial",
          "Sans Serif"
         ],
         "labelFontSize": 16,
         "titleFont": [
          "Lato",
          "Helvetica Neue",
          "Helvetica",
          "Arial",
          "Sans Serif"
         ],
         "titleFontSize": 16,
         "titleFontWeight": "normal",
         "titlePadding": 10
        },
        "legend": {
         "labelFont": [
          "Lato",
          "Helvetica Neue",
          "Helvetica",
          "Arial",
          "Sans Serif"
         ],
         "labelFontSize": 16,
         "titleFont": [
          "Lato",
          "Helvetica Neue",
          "Helvetica",
          "Arial",
          "Sans Serif"
         ],
         "titleFontSize": 16,
         "titleFontWeight": "normal"
        },
        "text": {
         "font": [
          "Lato",
          "Helvetica Neue",
          "Helvetica",
          "Arial",
          "Sans Serif"
         ],
         "fontSize": 14.4
        },
        "title": {
         "font": [
          "Lato",
          "Helvetica Neue",
          "Helvetica",
          "Arial",
          "Sans Serif"
         ],
         "fontSize": 24,
         "fontWeight": "normal"
        },
        "view": {
         "strokeWidth": 0
        }
       },
       "data": {
        "format": {
         "type": "csv"
        },
        "url": "altair-data-4082451b90bec143a380c7fb8fa80ffe.csv"
       },
       "height": 250,
       "layer": [
        {
         "encoding": {
          "color": {
           "field": "stack",
           "legend": null,
           "type": "nominal"
          },
          "x": {
           "field": "stack",
           "type": "nominal"
          },
          "y": {
           "aggregate": "mean",
           "field": "win",
           "type": "quantitative"
          }
         },
         "mark": "bar",
         "selection": {
          "selector007": {
           "bind": {
            "input": "range",
            "max": 100,
            "min": 1,
            "name": "Card pairs per experiment: ",
            "step": 1
           },
           "init": {
            "card_pair": 100
           },
           "type": "single"
          },
          "selector008": {
           "bind": {
            "input": "range",
            "max": 50,
            "min": 1,
            "name": "Select one experiment: ",
            "step": 1
           },
           "init": {
            "experiment": 1
           },
           "type": "single"
          }
         },
         "transform": [
          {
           "filter": "((toNumber(datum.card_pair) <= toNumber(selector007.card_pair)) && (toNumber(datum.experiment) === toNumber(selector008.experiment)))"
          }
         ]
        },
        {
         "encoding": {
          "x": {
           "field": "stack",
           "title": "Card Stack",
           "type": "nominal"
          },
          "y": {
           "field": "win",
           "title": "Winning probability",
           "type": "quantitative"
          }
         },
         "mark": {
          "extent": "stderr",
          "rule": {
           "size": 2
          },
          "type": "errorbar"
         },
         "selection": {
          "selector007": {
           "bind": {
            "input": "range",
            "max": 100,
            "min": 1,
            "name": "Card pairs per experiment: ",
            "step": 1
           },
           "init": {
            "card_pair": 100
           },
           "type": "single"
          },
          "selector008": {
           "bind": {
            "input": "range",
            "max": 50,
            "min": 1,
            "name": "Select one experiment: ",
            "step": 1
           },
           "init": {
            "experiment": 1
           },
           "type": "single"
          }
         },
         "transform": [
          {
           "filter": "((toNumber(datum.card_pair) <= toNumber(selector007.card_pair)) && (toNumber(datum.experiment) === toNumber(selector008.experiment)))"
          }
         ]
        }
       ],
       "width": 250
      },
      "image/png": "[encoded data removed]",
      "text/plain": [
       "<VegaLite 4 object>\n",
       "\n",
       "If you see this message, it means the renderer has not been properly enabled\n",
       "for the frontend that you are using. For more information, see\n",
       "https://altair-viz.github.io/user_guide/troubleshooting.html\n"
      ]
     },
     "metadata": {
      "application/vnd.vegalite.v4+json": {
       "embed_options": {
        "renderer": "svg"
       }
      }
     },
     "output_type": "display_data"
    }
   ],
   "source": [
    "plot_experiment_bars_with_errors(data=data, n_card_pairs=n_card_pairs, n_card_pairs_init=100, n_repeats=n_repeats)"
   ]
  },
  {
   "cell_type": "markdown",
   "metadata": {
    "slideshow": {
     "slide_type": "slide"
    }
   },
   "source": [
    "## Conclusion: observations have uncertainty\n",
    "\n",
    "### Always ask about the uncertainty to…\n",
    "- **avoid overconfidence**: you know what you don't know\n",
    "- **avoid missing significant effects**: you know when you probably know something"
   ]
  },
  {
   "cell_type": "markdown",
   "metadata": {
    "slideshow": {
     "slide_type": "slide"
    }
   },
   "source": [
    "## How to calculate these quantities yourself? \n",
    "See next section [practical basics](2_practical_basics.slides.html)!"
   ]
  },
  {
   "cell_type": "code",
   "execution_count": 12,
   "metadata": {
    "slideshow": {
     "slide_type": "skip"
    }
   },
   "outputs": [],
   "source": [
    "# todo: think about links that work in both notebooks and slides"
   ]
  },
  {
   "cell_type": "code",
   "execution_count": null,
   "metadata": {},
   "outputs": [],
   "source": []
  }
 ],
 "metadata": {
  "kernelspec": {
   "display_name": "Python 3",
   "language": "python",
   "name": "python3"
  },
  "language_info": {
   "codemirror_mode": {
    "name": "ipython",
    "version": 3
   },
   "file_extension": ".py",
   "mimetype": "text/x-python",
   "name": "python",
   "nbconvert_exporter": "python",
   "pygments_lexer": "ipython3",
   "version": "3.8.5"
  },
  "widgets": {
   "application/vnd.jupyter.widget-state+json": {
    "state": {},
    "version_major": 2,
    "version_minor": 0
   }
  }
 },
 "nbformat": 4,
 "nbformat_minor": 4
}
