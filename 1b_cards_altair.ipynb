{
 "cells": [
  {
   "cell_type": "markdown",
   "metadata": {
    "slideshow": {
     "slide_type": "slide"
    }
   },
   "source": [
    "## Introductory experiment: drawing cards from two stacks\n",
    "\n",
    "- Imagine a game with **two big stacks of cards**\n",
    "- Each stack contains **winning cards** and **blanks**.\n",
    "- You have to decide **which stack has more wins**\n",
    "- How often do you have to draw pairs of cards (one from each stack)?"
   ]
  },
  {
   "cell_type": "code",
   "execution_count": 11,
   "metadata": {},
   "outputs": [],
   "source": [
    "# setup notebook\n",
    "from cards_code_altair import *"
   ]
  },
  {
   "cell_type": "code",
   "execution_count": 12,
   "metadata": {
    "slideshow": {
     "slide_type": "skip"
    }
   },
   "outputs": [
    {
     "ename": "KeyboardInterrupt",
     "evalue": "",
     "output_type": "error",
     "traceback": [
      "\u001b[0;31m---------------------------------------------------------------------------\u001b[0m",
      "\u001b[0;31mKeyboardInterrupt\u001b[0m                         Traceback (most recent call last)",
      "\u001b[0;32m<ipython-input-12-e3292eb2b718>\u001b[0m in \u001b[0;36m<module>\u001b[0;34m\u001b[0m\n\u001b[1;32m      4\u001b[0m     \u001b[0mp_win_2\u001b[0m   \u001b[0;34m=\u001b[0m \u001b[0;36m0.4\u001b[0m\u001b[0;34m,\u001b[0m\u001b[0;34m\u001b[0m\u001b[0;34m\u001b[0m\u001b[0m\n\u001b[1;32m      5\u001b[0m     \u001b[0mn_cards\u001b[0m   \u001b[0;34m=\u001b[0m \u001b[0;36m100\u001b[0m\u001b[0;34m,\u001b[0m\u001b[0;34m\u001b[0m\u001b[0;34m\u001b[0m\u001b[0m\n\u001b[0;32m----> 6\u001b[0;31m     \u001b[0mn_repeats\u001b[0m \u001b[0;34m=\u001b[0m \u001b[0;36m50\u001b[0m\u001b[0;34m,\u001b[0m\u001b[0;34m\u001b[0m\u001b[0;34m\u001b[0m\u001b[0m\n\u001b[0m\u001b[1;32m      7\u001b[0m )\n\u001b[1;32m      8\u001b[0m \u001b[0mdf\u001b[0m\u001b[0;34m.\u001b[0m\u001b[0mhead\u001b[0m\u001b[0;34m(\u001b[0m\u001b[0;34m)\u001b[0m\u001b[0;34m\u001b[0m\u001b[0;34m\u001b[0m\u001b[0m\n",
      "\u001b[0;32m~/Documents/projects/statistics_for_everyone/cards_code_altair.py\u001b[0m in \u001b[0;36mrepeated_experiments_df\u001b[0;34m(p_win_1, p_win_2, n_cards, n_repeats, seed)\u001b[0m\n\u001b[1;32m     15\u001b[0m                 \u001b[0;34m'stack'\u001b[0m\u001b[0;34m:\u001b[0m      \u001b[0;34m[\u001b[0m\u001b[0;36m1\u001b[0m\u001b[0;34m]\u001b[0m \u001b[0;34m*\u001b[0m \u001b[0mn_cards\u001b[0m \u001b[0;34m+\u001b[0m \u001b[0;34m[\u001b[0m\u001b[0;36m2\u001b[0m\u001b[0;34m]\u001b[0m \u001b[0;34m*\u001b[0m \u001b[0mn_cards\u001b[0m\u001b[0;34m,\u001b[0m\u001b[0;34m\u001b[0m\u001b[0;34m\u001b[0m\u001b[0m\n\u001b[1;32m     16\u001b[0m                 \u001b[0;34m'card_pair'\u001b[0m\u001b[0;34m:\u001b[0m  \u001b[0mnp\u001b[0m\u001b[0;34m.\u001b[0m\u001b[0mtile\u001b[0m\u001b[0;34m(\u001b[0m\u001b[0mnp\u001b[0m\u001b[0;34m.\u001b[0m\u001b[0marange\u001b[0m\u001b[0;34m(\u001b[0m\u001b[0;36m1\u001b[0m\u001b[0;34m,\u001b[0m \u001b[0mn_cards\u001b[0m\u001b[0;34m+\u001b[0m\u001b[0;36m1\u001b[0m\u001b[0;34m)\u001b[0m\u001b[0;34m,\u001b[0m \u001b[0;36m2\u001b[0m\u001b[0;34m)\u001b[0m\u001b[0;34m,\u001b[0m\u001b[0;34m\u001b[0m\u001b[0;34m\u001b[0m\u001b[0m\n\u001b[0;32m---> 17\u001b[0;31m                 \u001b[0;34m'win'\u001b[0m\u001b[0;34m:\u001b[0m        \u001b[0mnp\u001b[0m\u001b[0;34m.\u001b[0m\u001b[0mconcatenate\u001b[0m\u001b[0;34m(\u001b[0m\u001b[0mwins\u001b[0m\u001b[0;34m)\u001b[0m\u001b[0;34m\u001b[0m\u001b[0;34m\u001b[0m\u001b[0m\n\u001b[0m\u001b[1;32m     18\u001b[0m             })\n\u001b[1;32m     19\u001b[0m         )\n",
      "\u001b[0;32m~/Documents/projects/pyenvs/jl37/lib/python3.7/site-packages/pandas/core/frame.py\u001b[0m in \u001b[0;36m__init__\u001b[0;34m(self, data, index, columns, dtype, copy)\u001b[0m\n\u001b[1;32m    433\u001b[0m             )\n\u001b[1;32m    434\u001b[0m         \u001b[0;32melif\u001b[0m \u001b[0misinstance\u001b[0m\u001b[0;34m(\u001b[0m\u001b[0mdata\u001b[0m\u001b[0;34m,\u001b[0m \u001b[0mdict\u001b[0m\u001b[0;34m)\u001b[0m\u001b[0;34m:\u001b[0m\u001b[0;34m\u001b[0m\u001b[0;34m\u001b[0m\u001b[0m\n\u001b[0;32m--> 435\u001b[0;31m             \u001b[0mmgr\u001b[0m \u001b[0;34m=\u001b[0m \u001b[0minit_dict\u001b[0m\u001b[0;34m(\u001b[0m\u001b[0mdata\u001b[0m\u001b[0;34m,\u001b[0m \u001b[0mindex\u001b[0m\u001b[0;34m,\u001b[0m \u001b[0mcolumns\u001b[0m\u001b[0;34m,\u001b[0m \u001b[0mdtype\u001b[0m\u001b[0;34m=\u001b[0m\u001b[0mdtype\u001b[0m\u001b[0;34m)\u001b[0m\u001b[0;34m\u001b[0m\u001b[0;34m\u001b[0m\u001b[0m\n\u001b[0m\u001b[1;32m    436\u001b[0m         \u001b[0;32melif\u001b[0m \u001b[0misinstance\u001b[0m\u001b[0;34m(\u001b[0m\u001b[0mdata\u001b[0m\u001b[0;34m,\u001b[0m \u001b[0mma\u001b[0m\u001b[0;34m.\u001b[0m\u001b[0mMaskedArray\u001b[0m\u001b[0;34m)\u001b[0m\u001b[0;34m:\u001b[0m\u001b[0;34m\u001b[0m\u001b[0;34m\u001b[0m\u001b[0m\n\u001b[1;32m    437\u001b[0m             \u001b[0;32mimport\u001b[0m \u001b[0mnumpy\u001b[0m\u001b[0;34m.\u001b[0m\u001b[0mma\u001b[0m\u001b[0;34m.\u001b[0m\u001b[0mmrecords\u001b[0m \u001b[0;32mas\u001b[0m \u001b[0mmrecords\u001b[0m\u001b[0;34m\u001b[0m\u001b[0;34m\u001b[0m\u001b[0m\n",
      "\u001b[0;32m~/Documents/projects/pyenvs/jl37/lib/python3.7/site-packages/pandas/core/internals/construction.py\u001b[0m in \u001b[0;36minit_dict\u001b[0;34m(data, index, columns, dtype)\u001b[0m\n\u001b[1;32m    252\u001b[0m             \u001b[0marr\u001b[0m \u001b[0;32mif\u001b[0m \u001b[0;32mnot\u001b[0m \u001b[0mis_datetime64tz_dtype\u001b[0m\u001b[0;34m(\u001b[0m\u001b[0marr\u001b[0m\u001b[0;34m)\u001b[0m \u001b[0;32melse\u001b[0m \u001b[0marr\u001b[0m\u001b[0;34m.\u001b[0m\u001b[0mcopy\u001b[0m\u001b[0;34m(\u001b[0m\u001b[0;34m)\u001b[0m \u001b[0;32mfor\u001b[0m \u001b[0marr\u001b[0m \u001b[0;32min\u001b[0m \u001b[0marrays\u001b[0m\u001b[0;34m\u001b[0m\u001b[0;34m\u001b[0m\u001b[0m\n\u001b[1;32m    253\u001b[0m         ]\n\u001b[0;32m--> 254\u001b[0;31m     \u001b[0;32mreturn\u001b[0m \u001b[0marrays_to_mgr\u001b[0m\u001b[0;34m(\u001b[0m\u001b[0marrays\u001b[0m\u001b[0;34m,\u001b[0m \u001b[0mdata_names\u001b[0m\u001b[0;34m,\u001b[0m \u001b[0mindex\u001b[0m\u001b[0;34m,\u001b[0m \u001b[0mcolumns\u001b[0m\u001b[0;34m,\u001b[0m \u001b[0mdtype\u001b[0m\u001b[0;34m=\u001b[0m\u001b[0mdtype\u001b[0m\u001b[0;34m)\u001b[0m\u001b[0;34m\u001b[0m\u001b[0;34m\u001b[0m\u001b[0m\n\u001b[0m\u001b[1;32m    255\u001b[0m \u001b[0;34m\u001b[0m\u001b[0m\n\u001b[1;32m    256\u001b[0m \u001b[0;34m\u001b[0m\u001b[0m\n",
      "\u001b[0;32m~/Documents/projects/pyenvs/jl37/lib/python3.7/site-packages/pandas/core/internals/construction.py\u001b[0m in \u001b[0;36marrays_to_mgr\u001b[0;34m(arrays, arr_names, index, columns, dtype)\u001b[0m\n\u001b[1;32m     72\u001b[0m     \u001b[0maxes\u001b[0m \u001b[0;34m=\u001b[0m \u001b[0;34m[\u001b[0m\u001b[0mensure_index\u001b[0m\u001b[0;34m(\u001b[0m\u001b[0mcolumns\u001b[0m\u001b[0;34m)\u001b[0m\u001b[0;34m,\u001b[0m \u001b[0mindex\u001b[0m\u001b[0;34m]\u001b[0m\u001b[0;34m\u001b[0m\u001b[0;34m\u001b[0m\u001b[0m\n\u001b[1;32m     73\u001b[0m \u001b[0;34m\u001b[0m\u001b[0m\n\u001b[0;32m---> 74\u001b[0;31m     \u001b[0;32mreturn\u001b[0m \u001b[0mcreate_block_manager_from_arrays\u001b[0m\u001b[0;34m(\u001b[0m\u001b[0marrays\u001b[0m\u001b[0;34m,\u001b[0m \u001b[0marr_names\u001b[0m\u001b[0;34m,\u001b[0m \u001b[0maxes\u001b[0m\u001b[0;34m)\u001b[0m\u001b[0;34m\u001b[0m\u001b[0;34m\u001b[0m\u001b[0m\n\u001b[0m\u001b[1;32m     75\u001b[0m \u001b[0;34m\u001b[0m\u001b[0m\n\u001b[1;32m     76\u001b[0m \u001b[0;34m\u001b[0m\u001b[0m\n",
      "\u001b[0;32m~/Documents/projects/pyenvs/jl37/lib/python3.7/site-packages/pandas/core/internals/managers.py\u001b[0m in \u001b[0;36mcreate_block_manager_from_arrays\u001b[0;34m(arrays, names, axes)\u001b[0m\n\u001b[1;32m   1669\u001b[0m     \u001b[0;32mtry\u001b[0m\u001b[0;34m:\u001b[0m\u001b[0;34m\u001b[0m\u001b[0;34m\u001b[0m\u001b[0m\n\u001b[1;32m   1670\u001b[0m         \u001b[0mblocks\u001b[0m \u001b[0;34m=\u001b[0m \u001b[0mform_blocks\u001b[0m\u001b[0;34m(\u001b[0m\u001b[0marrays\u001b[0m\u001b[0;34m,\u001b[0m \u001b[0mnames\u001b[0m\u001b[0;34m,\u001b[0m \u001b[0maxes\u001b[0m\u001b[0;34m)\u001b[0m\u001b[0;34m\u001b[0m\u001b[0;34m\u001b[0m\u001b[0m\n\u001b[0;32m-> 1671\u001b[0;31m         \u001b[0mmgr\u001b[0m \u001b[0;34m=\u001b[0m \u001b[0mBlockManager\u001b[0m\u001b[0;34m(\u001b[0m\u001b[0mblocks\u001b[0m\u001b[0;34m,\u001b[0m \u001b[0maxes\u001b[0m\u001b[0;34m)\u001b[0m\u001b[0;34m\u001b[0m\u001b[0;34m\u001b[0m\u001b[0m\n\u001b[0m\u001b[1;32m   1672\u001b[0m         \u001b[0mmgr\u001b[0m\u001b[0;34m.\u001b[0m\u001b[0m_consolidate_inplace\u001b[0m\u001b[0;34m(\u001b[0m\u001b[0;34m)\u001b[0m\u001b[0;34m\u001b[0m\u001b[0;34m\u001b[0m\u001b[0m\n\u001b[1;32m   1673\u001b[0m         \u001b[0;32mreturn\u001b[0m \u001b[0mmgr\u001b[0m\u001b[0;34m\u001b[0m\u001b[0;34m\u001b[0m\u001b[0m\n",
      "\u001b[0;32m~/Documents/projects/pyenvs/jl37/lib/python3.7/site-packages/pandas/core/internals/managers.py\u001b[0m in \u001b[0;36m__init__\u001b[0;34m(self, blocks, axes, do_integrity_check)\u001b[0m\n\u001b[1;32m    141\u001b[0m         \u001b[0mself\u001b[0m\u001b[0;34m.\u001b[0m\u001b[0m_consolidate_check\u001b[0m\u001b[0;34m(\u001b[0m\u001b[0;34m)\u001b[0m\u001b[0;34m\u001b[0m\u001b[0;34m\u001b[0m\u001b[0m\n\u001b[1;32m    142\u001b[0m \u001b[0;34m\u001b[0m\u001b[0m\n\u001b[0;32m--> 143\u001b[0;31m         \u001b[0mself\u001b[0m\u001b[0;34m.\u001b[0m\u001b[0m_rebuild_blknos_and_blklocs\u001b[0m\u001b[0;34m(\u001b[0m\u001b[0;34m)\u001b[0m\u001b[0;34m\u001b[0m\u001b[0;34m\u001b[0m\u001b[0m\n\u001b[0m\u001b[1;32m    144\u001b[0m \u001b[0;34m\u001b[0m\u001b[0m\n\u001b[1;32m    145\u001b[0m     \u001b[0;32mdef\u001b[0m \u001b[0mmake_empty\u001b[0m\u001b[0;34m(\u001b[0m\u001b[0mself\u001b[0m\u001b[0;34m,\u001b[0m \u001b[0maxes\u001b[0m\u001b[0;34m=\u001b[0m\u001b[0;32mNone\u001b[0m\u001b[0;34m)\u001b[0m\u001b[0;34m:\u001b[0m\u001b[0;34m\u001b[0m\u001b[0;34m\u001b[0m\u001b[0m\n",
      "\u001b[0;32m~/Documents/projects/pyenvs/jl37/lib/python3.7/site-packages/pandas/core/internals/managers.py\u001b[0m in \u001b[0;36m_rebuild_blknos_and_blklocs\u001b[0;34m(self)\u001b[0m\n\u001b[1;32m    222\u001b[0m             \u001b[0mrl\u001b[0m \u001b[0;34m=\u001b[0m \u001b[0mblk\u001b[0m\u001b[0;34m.\u001b[0m\u001b[0mmgr_locs\u001b[0m\u001b[0;34m\u001b[0m\u001b[0;34m\u001b[0m\u001b[0m\n\u001b[1;32m    223\u001b[0m             \u001b[0mnew_blknos\u001b[0m\u001b[0;34m[\u001b[0m\u001b[0mrl\u001b[0m\u001b[0;34m.\u001b[0m\u001b[0mindexer\u001b[0m\u001b[0;34m]\u001b[0m \u001b[0;34m=\u001b[0m \u001b[0mblkno\u001b[0m\u001b[0;34m\u001b[0m\u001b[0;34m\u001b[0m\u001b[0m\n\u001b[0;32m--> 224\u001b[0;31m             \u001b[0mnew_blklocs\u001b[0m\u001b[0;34m[\u001b[0m\u001b[0mrl\u001b[0m\u001b[0;34m.\u001b[0m\u001b[0mindexer\u001b[0m\u001b[0;34m]\u001b[0m \u001b[0;34m=\u001b[0m \u001b[0mnp\u001b[0m\u001b[0;34m.\u001b[0m\u001b[0marange\u001b[0m\u001b[0;34m(\u001b[0m\u001b[0mlen\u001b[0m\u001b[0;34m(\u001b[0m\u001b[0mrl\u001b[0m\u001b[0;34m)\u001b[0m\u001b[0;34m)\u001b[0m\u001b[0;34m\u001b[0m\u001b[0;34m\u001b[0m\u001b[0m\n\u001b[0m\u001b[1;32m    225\u001b[0m \u001b[0;34m\u001b[0m\u001b[0m\n\u001b[1;32m    226\u001b[0m         \u001b[0;32mif\u001b[0m \u001b[0;34m(\u001b[0m\u001b[0mnew_blknos\u001b[0m \u001b[0;34m==\u001b[0m \u001b[0;34m-\u001b[0m\u001b[0;36m1\u001b[0m\u001b[0;34m)\u001b[0m\u001b[0;34m.\u001b[0m\u001b[0many\u001b[0m\u001b[0;34m(\u001b[0m\u001b[0;34m)\u001b[0m\u001b[0;34m:\u001b[0m\u001b[0;34m\u001b[0m\u001b[0;34m\u001b[0m\u001b[0m\n",
      "\u001b[0;31mKeyboardInterrupt\u001b[0m: "
     ]
    }
   ],
   "source": [
    "# create data for virtual experiments\n",
    "df = repeated_experiments_df(\n",
    "    p_win_1   = 0.5,\n",
    "    p_win_2   = 0.4,\n",
    "    n_cards   = 100,\n",
    "    n_repeats = 50,\n",
    ")\n",
    "df.head()"
   ]
  },
  {
   "cell_type": "code",
   "execution_count": null,
   "metadata": {},
   "outputs": [],
   "source": [
    "# transparently export data if needed\n",
    "# if you have issues viewing the plots, try embedding the data\n",
    "# this will increase the file size!\n",
    "data = df_to_datasource(\n",
    "    df, embed_in_notebook=True, embed_in_slides=False\n",
    ")"
   ]
  },
  {
   "cell_type": "markdown",
   "metadata": {
    "slideshow": {
     "slide_type": "slide"
    }
   },
   "source": [
    "### Draw cards from two different stacks, one from each stack at a time\n",
    "- What can we know after drawing a certain number of cards?\n",
    "- When have we drawn enough cards to be certain?"
   ]
  },
  {
   "cell_type": "markdown",
   "metadata": {
    "slideshow": {
     "slide_type": "skip"
    }
   },
   "source": [
    "The next three figures are interactive! Unfortunately they won't work on GitHub, in that case please keep on scrolling."
   ]
  },
  {
   "cell_type": "code",
   "execution_count": null,
   "metadata": {
    "slideshow": {
     "slide_type": "skip"
    }
   },
   "outputs": [],
   "source": [
    "# Have \"Lato\", the font used by the \"simple\" reveal.js theme, available in notebook\n",
    "from IPython.core.display import HTML\n",
    "HTML(\"\"\"<style>@import url(https://fonts.googleapis.com/css?family=Lato:400,700,400italic,700italic);</style>\"\"\")"
   ]
  },
  {
   "cell_type": "code",
   "execution_count": null,
   "metadata": {},
   "outputs": [],
   "source": [
    "#https://towardsdatascience.com/consistently-beautiful-visualizations-with-altair-themes-c7f9f889602\n",
    "def slide_theme():\n",
    "    # Typography\n",
    "    font = [\"Lato\",  \"Helvetica Neue\", \"Helvetica\", \"Arial\", \"Sans Serif\"]\n",
    "    # At Urban it's the same font for all text but it's good to keep them separate in case you want to change one later.\n",
    "    labelFont = font\n",
    "    sourceFont = font\n",
    "    base_font_size = 16\n",
    "    # Axes\n",
    "    #axisColor = \"#000000\"\n",
    "    #gridColor = \"#DEDDDD\"\n",
    "    # Colors\n",
    "    #main_palette = [\"#1696d2\", \n",
    "    #                \"#d2d2d2\",\n",
    "    #                \"#000000\", \n",
    "    #                \"#fdbf11\", \n",
    "    #                \"#ec008b\", \n",
    "    #                \"#55b748\", \n",
    "    #                \"#5c5859\", \n",
    "    #                \"#db2b27\", \n",
    "    #               ]\n",
    "    #sequential_palette = [\"#cfe8f3\", \n",
    "    #                      \"#a2d4ec\", \n",
    "    #                      \"#73bfe2\", \n",
    "    #                      \"#46abdb\", \n",
    "    #                      \"#1696d2\", \n",
    "    #                      \"#12719e\", \n",
    "    #                     ]\n",
    "    #axisColor = 'black'\n",
    "    #markColor = 'black'\n",
    "    return {\n",
    "        # width and height are configured outside the config dict because they are Chart configurations/properties not chart-elements' configurations/properties.\n",
    "        #\"width\": 685, # from the guide\n",
    "        #\"height\": 380, # not in the guide\n",
    "        \"config\": {\n",
    "            \"title\": {\n",
    "                \"fontSize\": base_font_size * 1.5,\n",
    "                \"font\": font,\n",
    "                \"fontWeight\": 'normal',\n",
    "               #\"anchor\": \"start\", # equivalent of left-aligned.\n",
    "                #\"fontColor\": \"#000000\"\n",
    "            },\n",
    "            \"axisX\": {\n",
    "               # \"domain\": True,\n",
    "               # \"domainColor\": axisColor,\n",
    "                #\"domainWidth\": 2,\n",
    "               # \"grid\": False,\n",
    "                \"labelFont\": labelFont,\n",
    "                \"labelFontSize\": base_font_size,\n",
    "                #\"labelAngle\": 0, \n",
    "                #\"tickColor\": axisColor,\n",
    "                #\"tickSize\": 5, # default, including it just to show you can change it\n",
    "                #\"tickWidth\": 2,\n",
    "                \"titleFont\": font,\n",
    "                \"titleFontSize\": base_font_size,\n",
    "                \"titleFontWeight\": 'normal',\n",
    "                \"titlePadding\": 10, # guessing, not specified in styleguide\n",
    "                #\"title\": \"X Axis Title (units)\", \n",
    "            },\n",
    "            \"axisY\": {\n",
    "                #\"domain\": False,\n",
    "                #\"domainWidth\": 2,\n",
    "                #\"grid\": True,\n",
    "                #\"gridColor\": gridColor,\n",
    "                #\"gridWidth\": 1,\n",
    "                \"labelFont\": labelFont,\n",
    "                \"labelFontSize\": base_font_size,\n",
    "                #\"labelAngle\": 0, \n",
    "                #\"ticks\": False, # even if you don't have a \"domain\" you need to turn these off.\n",
    "                #\"tickWidth\": 2,\n",
    "                \"titleFont\": font,\n",
    "                \"titleFontSize\": base_font_size,\n",
    "                 \"titleFontWeight\": 'normal',\n",
    "               \"titlePadding\": 10, # guessing, not specified in styleguide\n",
    "                #\"title\": \"Y Axis Title (units)\", \n",
    "                ## titles are by default vertical left of axis so we need to hack this \n",
    "                #\"titleAngle\": 0, # horizontal\n",
    "                #\"titleY\": -10, # move it up\n",
    "                #\"titleX\": 18, # move it to the right so it aligns with the labels \n",
    "            },\n",
    "            #\"range\": {\n",
    "            #    \"category\": main_palette,\n",
    "            #    \"diverging\": sequential_palette,\n",
    "            #},\n",
    "            \"legend\": {\n",
    "                \"labelFont\": labelFont,\n",
    "                \"labelFontSize\": base_font_size,\n",
    "                #\"symbolType\": \"square\", # just 'cause\n",
    "                #\"symbolSize\": 100, # default\n",
    "                \"titleFont\": font,\n",
    "                \"titleFontSize\": base_font_size,\n",
    "                \"titleFontWeight\": 'normal',\n",
    "                #\"title\": \"\", # set it to no-title by default\n",
    "                #\"orient\": \"top-left\", # so it's right next to the y-axis\n",
    "                #\"offset\": 0, # literally right next to the y-axis.\n",
    "            },\n",
    "            #\"view\": {\n",
    "            #    \"stroke\": \"transparent\", # altair uses gridlines to box the area where the data is visualized. This takes that off.\n",
    "            #},\n",
    "            #\"background\": {\n",
    "            #    \"color\": \"#FFFFFF\", # white rather than transparent\n",
    "            #},\n",
    "            ### MARKS CONFIGURATIONS ###\n",
    "            #\"area\": {\n",
    "            #   \"fill\": markColor,\n",
    "            #},\n",
    "            #\"line\": {\n",
    "            #   \"color\": markColor,\n",
    "            #   \"stroke\": markColor,\n",
    "            #   \"strokeWidth\": 5,\n",
    "            #},\n",
    "            #\"trail\": {\n",
    "            #   \"color\": markColor,\n",
    "            #   \"stroke\": markColor,\n",
    "            #   \"strokeWidth\": 0,\n",
    "            #   \"size\": 1,\n",
    "            #},\n",
    "            #\"path\": {\n",
    "            #   \"stroke\": markColor,\n",
    "            #   \"strokeWidth\": 0.5,\n",
    "            #},\n",
    "            #\"point\": {\n",
    "            #   \"filled\": True,\n",
    "            #},\n",
    "            \"text\": {\n",
    "               \"font\": sourceFont,\n",
    "               #\"color\": markColor,\n",
    "               \"fontSize\": base_font_size * .9,\n",
    "               #\"align\": \"right\",\n",
    "               #\"fontWeight\": 400,\n",
    "               #\"size\": 11,\n",
    "            }, \n",
    "            #\"bar\": {\n",
    "            #    \"size\": 40,\n",
    "            #    \"binSpacing\": 1,\n",
    "            #    \"continuousBandSize\": 30,\n",
    "            #    \"discreteBandSize\": 30,\n",
    "            #    \"fill\": markColor,\n",
    "            #    \"stroke\": False,\n",
    "         \n",
    "            #}\n",
    "        }\n",
    "    }\n",
    "alt.themes.register(\"statistics_slide_theme\", slide_theme)\n",
    "alt.themes.enable(\"statistics_slide_theme\");\n",
    "\n",
    "# the three dots menu is useful but a bit distracting in slides\n",
    "alt.renderers.set_embed_options(actions=False);"
   ]
  },
  {
   "cell_type": "code",
   "execution_count": null,
   "metadata": {},
   "outputs": [],
   "source": [
    "# define input selection\n",
    "input_n_cards = alt.binding(\n",
    "    input='range',\n",
    "    min=1,\n",
    "    max=min(df.card_pair.max(), 40), \n",
    "    step=1, \n",
    "    name='Draw Card Pairs: '\n",
    ")\n",
    "selection = alt.selection_single(\n",
    "    bind=input_n_cards,\n",
    "    init={'card_pair': 1}\n",
    ")\n",
    "\n",
    "# filter data & plot bar chart\n",
    "alt.Chart(data).mark_bar().encode(\n",
    "    alt.X('stack:N', title='Card Stack'),\n",
    "    alt.Y('sum(win):Q', axis=alt.Axis(title='Number of Wins', tickMinStep=1)),\n",
    "    color=alt.Color('stack:N', legend=None)\n",
    ").transform_filter(\n",
    "    \"datum.experiment == 1\"\n",
    ").add_selection(\n",
    "    selection\n",
    ").transform_filter(\n",
    "    (alt.datum.card_pair<=selection.card_pair)\n",
    ").properties(\n",
    "    width=200,\n",
    "    height = 250\n",
    ").configure_axis(\n",
    "    grid=False\n",
    ").configure_view(\n",
    "    strokeWidth=0\n",
    ").display(renderer='svg')"
   ]
  },
  {
   "cell_type": "markdown",
   "metadata": {
    "slideshow": {
     "slide_type": "skip"
    }
   },
   "source": [
    ".\n",
    "\n",
    ".\n",
    "\n",
    "**Spoilers below!**\n",
    "\n",
    ".\n",
    "\n",
    ".\n",
    "\n",
    ".\n",
    "\n",
    "Scroll down when you are finished drawing cards\n",
    "\n",
    ".\n",
    "\n",
    ".\n",
    "\n",
    ".\n",
    "\n",
    ".\n",
    "\n",
    ".\n",
    "\n",
    ".\n",
    "\n",
    ".\n",
    "\n",
    ".\n",
    "\n",
    ".\n",
    "\n",
    ".\n",
    "\n",
    ".\n",
    "\n",
    ".\n",
    "\n",
    ".\n",
    "\n"
   ]
  },
  {
   "cell_type": "markdown",
   "metadata": {
    "slideshow": {
     "slide_type": "slide"
    }
   },
   "source": [
    "### It can take a while to see which stack is better!"
   ]
  },
  {
   "cell_type": "code",
   "execution_count": null,
   "metadata": {},
   "outputs": [],
   "source": [
    "# plot ticks for each win per stack\n",
    "plot_width = 500\n",
    "ticks = alt.Chart(data).mark_tick(thickness=1.5).transform_filter(\n",
    "    \"(datum.experiment == 1) & (datum.win > 0)\" \n",
    ").encode(\n",
    "    alt.X(\n",
    "        'card_pair:Q', \n",
    "        title='Cards drawn per stack', \n",
    "        axis=alt.Axis(ticks=False, grid=False, labels=False, title='Wins', orient='top')\n",
    "    ),\n",
    "    alt.Y(\n",
    "        'stack:Q', \n",
    "        title='Stack', \n",
    "        scale=alt.Scale(domain=[2,0]),\n",
    "        axis=None\n",
    "    ),\n",
    "    color=alt.Color('stack:N', title='Stack'),\n",
    ").properties(\n",
    "    width  = plot_width,\n",
    "    height = 35,\n",
    "    view=alt.ViewConfig(strokeWidth=0)\n",
    ")\n",
    "\n",
    "# plot cumulative wins per stack\n",
    "lines = alt.Chart(data).mark_line().transform_window(\n",
    "    cumulative_wins='sum(win)',\n",
    "    frame=[None, 0],\n",
    "    groupby=['experiment','stack']\n",
    ").transform_filter(\n",
    "    \"datum.experiment == 1\" \n",
    ").encode(\n",
    "    alt.X('card_pair:Q', title='Cards drawn per stack'),\n",
    "    alt.Y('cumulative_wins:Q', title='Number of wins'),\n",
    "    color=alt.Color('stack:N', title='Stack')\n",
    ").properties(\n",
    "    width  = plot_width,\n",
    "    height = 265\n",
    ")\n",
    "\n",
    "# combine & show plots\n",
    "alt.vconcat(ticks, lines).display(renderer='svg')"
   ]
  },
  {
   "cell_type": "markdown",
   "metadata": {
    "slideshow": {
     "slide_type": "slide"
    }
   },
   "source": [
    "### Repeat the experiment\n",
    "- Draw a fixed number of from each stack\n",
    "- Calculate each stack's winning probability = number of wins / number of cards\n",
    "- Repeat 50 times"
   ]
  },
  {
   "cell_type": "markdown",
   "metadata": {
    "slideshow": {
     "slide_type": "slide"
    }
   },
   "source": [
    "### Each repetition yields a different winning probability for each stack. "
   ]
  },
  {
   "cell_type": "code",
   "execution_count": null,
   "metadata": {},
   "outputs": [],
   "source": [
    "plot_height = 225\n",
    "\n",
    "# define input selection\n",
    "input_n_cards = alt.binding(\n",
    "    input='range',\n",
    "    min=1,\n",
    "    max=df.card_pair.max().astype(int), \n",
    "    step=1, \n",
    "    name='Card pairs per Experiment: '\n",
    ")\n",
    "selection = alt.selection_single(\n",
    "    bind=input_n_cards,\n",
    "    init={'card_pair': 25}\n",
    ")\n",
    "\n",
    "# filter data\n",
    "base = alt.Chart(data).add_selection(\n",
    "    selection\n",
    ").transform_filter(\n",
    "    (alt.datum.card_pair<=selection.card_pair)\n",
    ").transform_aggregate(\n",
    "    p_win='mean(win):Q',\n",
    "    groupby=[\"stack\",\"experiment\"]\n",
    ")\n",
    "scale = alt.Scale(domain=[-.1,1.1])\n",
    "\n",
    "# plot individual experiments\n",
    "dots = base.mark_point().encode(\n",
    "    x=alt.X('experiment:Q', title='Experiment'),\n",
    "    y=alt.Y(\n",
    "        'p_win:Q', \n",
    "        scale=scale, \n",
    "        axis=alt.Axis(\n",
    "            values=np.arange(0,1.1,.2),\n",
    "            grid=True\n",
    "        ), \n",
    "        title='Winning probability'\n",
    "    ),\n",
    "    color='stack:N'\n",
    ").properties(\n",
    "    width=400,\n",
    "    height=plot_height\n",
    ")\n",
    "\n",
    "# plot histogram over experiment results\n",
    "hist = base.mark_bar(opacity=.7).encode(\n",
    "    y=alt.X(\n",
    "        'p_win:Q', \n",
    "        bin=alt.Bin(extent=[0,1], step=.1),\n",
    "        scale=scale, \n",
    "        axis=alt.Axis(\n",
    "            values=np.arange(0,1.1,.2), \n",
    "            title=None, \n",
    "            labels=False,\n",
    "            grid=True\n",
    "        ), \n",
    "    ),\n",
    "    x=alt.X(\n",
    "        'count(experiment):Q', \n",
    "        stack=None, # no stacked bar chart\n",
    "        title='Number of experiments'\n",
    "    ),\n",
    "    color=alt.Color('stack:N', legend=alt.Legend(title='Stack')),\n",
    "    order='stack:Q'\n",
    ").properties(\n",
    "    width=150,\n",
    "    height=plot_height\n",
    ")\n",
    "\n",
    "# define custom label for standard deviation bars\n",
    "std_text = alt.Chart(\n",
    "    pd.DataFrame({'x':[4], 'y':[df.win.mean()], 'text':['Mean ± Standard Deviation']})\n",
    ").mark_text(\n",
    "    angle=90, baseline='middle'\n",
    ").encode(\n",
    "    x='x', y='y', text='text'\n",
    ")\n",
    "\n",
    "# plot standard deviation bars\n",
    "errorbars = alt.layer(\n",
    "    base.mark_errorbar(extent='stdev', rule=alt.MarkConfig(size=2)).encode(\n",
    "        y=alt.Y('p_win:Q',\n",
    "            axis=None,#alt.Axis(orient='right', ticks=False, labels=False, grid=False, style=None), \n",
    "            scale=scale,\n",
    "        ),\n",
    "        x=alt.X('stack:Q', axis=None),\n",
    "        color='stack:N',\n",
    "    ),\n",
    "    base.mark_point(size=0).encode(\n",
    "        y=alt.Y('p_win:Q', aggregate='mean', scale=scale),\n",
    "        x=alt.X('stack:Q', scale=alt.Scale(domain=[1,4])),\n",
    "    ),\n",
    "    std_text,\n",
    "    view=alt.ViewConfig(strokeWidth=0),\n",
    ").properties(\n",
    "    width=25,\n",
    "    height=plot_height\n",
    ")\n",
    "\n",
    "# combine & show\n",
    "alt.concat(dots, hist, errorbars).configure_axis(\n",
    "    grid=False\n",
    ").configure_view(\n",
    "    strokeWidth=0\n",
    ").display(renderer='svg')"
   ]
  },
  {
   "cell_type": "markdown",
   "metadata": {},
   "source": [
    "- A **histogram** quantifies how often we observed a certain outcome\n",
    "- The **standard deviation (std.)** over the repetitions measures uncertainty\n",
    "- It corresponds to the **standard error** of the mean for a single experiment."
   ]
  },
  {
   "cell_type": "code",
   "execution_count": null,
   "metadata": {
    "slideshow": {
     "slide_type": "skip"
    }
   },
   "outputs": [],
   "source": [
    "# export to slideshow AFTER saving the notebook\n",
    "#! export CONVERT=TRUE; jupyter nbconvert --execute 1b_cards_altair.ipynb --to slides --no-input"
   ]
  },
  {
   "cell_type": "code",
   "execution_count": null,
   "metadata": {},
   "outputs": [],
   "source": [
    "# view the slides\n",
    "#! python -m http.server"
   ]
  },
  {
   "cell_type": "markdown",
   "metadata": {
    "slideshow": {
     "slide_type": "skip"
    }
   },
   "source": [
    "### Some explanations \n",
    "If you pass Altair a DataFrame, all the data will be embedded in the plot. This can blow up the file size quite quickly. Therefore, it has a default limit of 5000 rows, then it throws an error. You can switch that off using `alt.data_transformers.disable_max_rows()` but you will have to live with the consequences!\n",
    "\n",
    "A better way is to load data from an url. The only issue is, that then you have to pass a url that you can access via the Jupyter server. You can find that by right clicking on the file in the Jupyter file browser and opening it in a new browser tab. However, if you intend to export the notebook as slides, then this url ends up in your slides. In that case you have specify a url where you will host the file and where it will be accessible for viewers of the slides.html. Referencing local files doesn't work even when opening it locally (without a web server) because that is a security features of modern browsers. So the best thing would be to check in the file to github (or upload it somewhere else) first and then put that url as the source for your chart.\n",
    "\n",
    "A convenient way for working in the notebook is to use the altair data transformer which does all that saving and referencing transparently for you. That's really nice for exploring larger datasets but it won't help with distributing your notebooks.\n",
    "\n",
    "Finally, you could just pre-aggregate everything before plotting, and just use the default embedding behaviour. That works, but it might not allow for certain kinds of interactivity."
   ]
  }
 ],
 "metadata": {
  "kernelspec": {
   "display_name": "Python 3",
   "language": "python",
   "name": "python3"
  },
  "language_info": {
   "codemirror_mode": {
    "name": "ipython",
    "version": 3
   },
   "file_extension": ".py",
   "mimetype": "text/x-python",
   "name": "python",
   "nbconvert_exporter": "python",
   "pygments_lexer": "ipython3",
   "version": "3.7.7"
  },
  "widgets": {
   "application/vnd.jupyter.widget-state+json": {
    "state": {},
    "version_major": 2,
    "version_minor": 0
   }
  }
 },
 "nbformat": 4,
 "nbformat_minor": 4
}
