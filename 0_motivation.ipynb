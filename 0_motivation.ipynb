{
 "cells": [
  {
   "cell_type": "markdown",
   "metadata": {
    "slideshow": {
     "slide_type": "slide"
    }
   },
   "source": [
    "# Statistics for everyone\n",
    "\n",
    "How to use statistics to make better decisions"
   ]
  },
  {
   "cell_type": "code",
   "execution_count": 1,
   "metadata": {
    "slideshow": {
     "slide_type": "skip"
    }
   },
   "outputs": [
    {
     "data": {
      "text/html": [
       "<link rel=\"stylesheet\" type=\"text/css\" href=\"./reveal.js/dist/theme/fonts/source-sans-pro/source-sans-pro.css\">"
      ],
      "text/plain": [
       "<IPython.core.display.HTML object>"
      ]
     },
     "execution_count": 1,
     "metadata": {},
     "output_type": "execute_result"
    }
   ],
   "source": [
    "import numpy as np\n",
    "import pandas as pd\n",
    "import altair as alt\n",
    "from helpers.svg_wrapper import SVGImg\n",
    "import helpers.plotting as pt\n",
    "pt.enable_slide_theme()\n",
    "pt.import_slide_theme_font_in_notebook()"
   ]
  },
  {
   "cell_type": "markdown",
   "metadata": {
    "slideshow": {
     "slide_type": "slide"
    },
    "tags": []
   },
   "source": [
    "## Intuitive decision making can lead you astray"
   ]
  },
  {
   "cell_type": "markdown",
   "metadata": {
    "tags": [
     "flex_layout",
     "unroll_lists"
    ]
   },
   "source": [
    "- B. F. Skinner [showed](https://www.youtube.com/watch?v=TtfQlkGwE2U) that rewards reinforce behaviours.\n",
    "- Hence, animals can be [trained](https://www.ncbi.nlm.nih.gov/pmc/articles/PMC1473025/) to do \n",
    "  [many tasks](https://www.theatlantic.com/technology/archive/2013/06/skinner-marketing-were-the-rats-and-facebook-likes-are-the-reward/276613/)\n",
    "- Randomly rewarding [pigeons](https://www.all-about-psychology.com/support-files/superstition-in-the-pigeon.pdf) \n",
    "  [reinforced](https://www.ncbi.nlm.nih.gov/pmc/articles/PMC2615824/)<br> apparently random behaviours \n",
    "  (\"[superstitions](https://www.psychologicalscience.org/observer/the-many-lives-of-superstition)\")."
   ]
  },
  {
   "cell_type": "code",
   "execution_count": 2,
   "metadata": {
    "tags": [
     "flex_layout"
    ]
   },
   "outputs": [
    {
     "data": {
      "text/html": [
       "<img src=\"images/pigeon.svg\" width=\"100%\" height=\"100%\"></img>"
      ],
      "text/plain": [
       "<helpers.svg_wrapper.SVGImg at 0x111c7dbe0>"
      ]
     },
     "execution_count": 2,
     "metadata": {},
     "output_type": "execute_result"
    }
   ],
   "source": [
    "SVGImg('images/pigeon.svg', width='100%', center=False, output_dir='slides')"
   ]
  },
  {
   "cell_type": "markdown",
   "metadata": {
    "slideshow": {
     "slide_type": "slide"
    }
   },
   "source": [
    "## Reasoning and discussing isn't always enough\n",
    "\n",
    "- Participants in the TV show [Trick or Treat (S2/E6)](https://en.wikipedia.org/wiki/Trick_or_Treat_%28TV_series%29) had to find out how to score points.\n",
    "- They developed complex ideas on how using various available objects scored points"
   ]
  },
  {
   "cell_type": "code",
   "execution_count": 3,
   "metadata": {},
   "outputs": [
    {
     "data": {
      "text/html": [
       "<img src=\"images/experiment.svg\" width=\"50%\" height=\"100%\"></img>"
      ],
      "text/plain": [
       "<helpers.svg_wrapper.SVGImg at 0x121bff580>"
      ]
     },
     "execution_count": 3,
     "metadata": {},
     "output_type": "execute_result"
    }
   ],
   "source": [
    "SVGImg('images/experiment.svg', width='50%', output_dir='slides')"
   ]
  },
  {
   "cell_type": "markdown",
   "metadata": {
    "slideshow": {
     "slide_type": "slide"
    }
   },
   "source": [
    "## Humans detect patterns where there are none\n",
    "\n",
    "In the show, points increased every time a fish swam across an aquarium"
   ]
  },
  {
   "cell_type": "code",
   "execution_count": 4,
   "metadata": {},
   "outputs": [
    {
     "data": {
      "text/html": [
       "<img src=\"images/fish.svg\" width=\"45%\" height=\"100%\"></img>"
      ],
      "text/plain": [
       "<helpers.svg_wrapper.SVGImg at 0x121bffaf0>"
      ]
     },
     "execution_count": 4,
     "metadata": {},
     "output_type": "execute_result"
    }
   ],
   "source": [
    "SVGImg('images/fish.svg', width='45%', output_dir='slides')"
   ]
  },
  {
   "cell_type": "markdown",
   "metadata": {},
   "source": [
    "\"We got to a hundred points, so we obviously did it right.\" - A participant."
   ]
  },
  {
   "cell_type": "markdown",
   "metadata": {
    "slideshow": {
     "slide_type": "slide"
    }
   },
   "source": [
    "## Focusing on spurious signals can be costly\n",
    "\n",
    "- Participants missed actual hints that would have allowed them<br> to win more money more easily \n",
    "- See [part 1](https://www.youtube.com/watch?v=IDi2NlsA4nI) and [part 2](https://www.youtube.com/watch?v=yzXSSPp4Epg)"
   ]
  },
  {
   "cell_type": "code",
   "execution_count": 5,
   "metadata": {},
   "outputs": [
    {
     "data": {
      "text/html": [
       "<img src=\"images/sign.svg\" width=\"70%\" height=\"100%\"></img>"
      ],
      "text/plain": [
       "<helpers.svg_wrapper.SVGImg at 0x121bffcd0>"
      ]
     },
     "execution_count": 5,
     "metadata": {},
     "output_type": "execute_result"
    }
   ],
   "source": [
    "SVGImg('images/sign.svg', width='70%', output_dir='slides')"
   ]
  },
  {
   "cell_type": "markdown",
   "metadata": {
    "slideshow": {
     "slide_type": "slide"
    }
   },
   "source": [
    "## Even quantitative data can mislead without proper analysis"
   ]
  },
  {
   "cell_type": "code",
   "execution_count": 6,
   "metadata": {},
   "outputs": [
    {
     "data": {
      "text/html": [
       "<img src=\"images/spurious_correlations.svg\" width=\"90%\" height=\"100%\"></img>"
      ],
      "text/plain": [
       "<helpers.svg_wrapper.SVGImg at 0x121bff8e0>"
      ]
     },
     "execution_count": 6,
     "metadata": {},
     "output_type": "execute_result"
    }
   ],
   "source": [
    "SVGImg('images/spurious_correlations.svg', width='90%', output_dir='slides')"
   ]
  },
  {
   "cell_type": "markdown",
   "metadata": {},
   "source": [
    "See also: [Spurious correlations](http://www.tylervigen.com/spurious-correlations), [Why not to use two axes](https://blog.datawrapper.de/dualaxis)"
   ]
  },
  {
   "cell_type": "markdown",
   "metadata": {
    "slideshow": {
     "slide_type": "slide"
    }
   },
   "source": [
    "## Algorithms can make similar mistakes\n",
    "\n",
    "- One common problem in machine learning is [over- or underfitting](https://en.wikipedia.org/wiki/Overfitting) variations in training data.\n",
    "- The resulting models don't generalise well to future observations."
   ]
  },
  {
   "cell_type": "code",
   "execution_count": 7,
   "metadata": {},
   "outputs": [
    {
     "data": {
      "text/html": [
       "\n",
       "<div id=\"altair-viz-d10bb48ccb5248ec9a7cc051d1bccdab\"></div>\n",
       "<script type=\"text/javascript\">\n",
       "  (function(spec, embedOpt){\n",
       "    let outputDiv = document.currentScript.previousElementSibling;\n",
       "    if (outputDiv.id !== \"altair-viz-d10bb48ccb5248ec9a7cc051d1bccdab\") {\n",
       "      outputDiv = document.getElementById(\"altair-viz-d10bb48ccb5248ec9a7cc051d1bccdab\");\n",
       "    }\n",
       "    const paths = {\n",
       "      \"vega\": \"https://cdn.jsdelivr.net/npm//vega@5?noext\",\n",
       "      \"vega-lib\": \"https://cdn.jsdelivr.net/npm//vega-lib?noext\",\n",
       "      \"vega-lite\": \"https://cdn.jsdelivr.net/npm//vega-lite@4.8.1?noext\",\n",
       "      \"vega-embed\": \"https://cdn.jsdelivr.net/npm//vega-embed@6?noext\",\n",
       "    };\n",
       "\n",
       "    function loadScript(lib) {\n",
       "      return new Promise(function(resolve, reject) {\n",
       "        var s = document.createElement('script');\n",
       "        s.src = paths[lib];\n",
       "        s.async = true;\n",
       "        s.onload = () => resolve(paths[lib]);\n",
       "        s.onerror = () => reject(`Error loading script: ${paths[lib]}`);\n",
       "        document.getElementsByTagName(\"head\")[0].appendChild(s);\n",
       "      });\n",
       "    }\n",
       "\n",
       "    function showError(err) {\n",
       "      outputDiv.innerHTML = `<div class=\"error\" style=\"color:red;\">${err}</div>`;\n",
       "      throw err;\n",
       "    }\n",
       "\n",
       "    function displayChart(vegaEmbed) {\n",
       "      vegaEmbed(outputDiv, spec, embedOpt)\n",
       "        .catch(err => showError(`Javascript Error: ${err.message}<br>This usually means there's a typo in your chart specification. See the javascript console for the full traceback.`));\n",
       "    }\n",
       "\n",
       "    if(typeof define === \"function\" && define.amd) {\n",
       "      requirejs.config({paths});\n",
       "      require([\"vega-embed\"], displayChart, err => showError(`Error loading script: ${err.message}`));\n",
       "    } else if (typeof vegaEmbed === \"function\") {\n",
       "      displayChart(vegaEmbed);\n",
       "    } else {\n",
       "      loadScript(\"vega\")\n",
       "        .then(() => loadScript(\"vega-lite\"))\n",
       "        .then(() => loadScript(\"vega-embed\"))\n",
       "        .catch(showError)\n",
       "        .then(() => displayChart(vegaEmbed));\n",
       "    }\n",
       "  })({\"config\": {\"title\": {\"fontSize\": 20.0, \"font\": [\"Source Sans Pro\", \"Helvetica Neue\", \"Helvetica\", \"Arial\", \"sans-serif\"], \"fontWeight\": \"normal\", \"orient\": \"bottom\"}, \"axisX\": {\"labelFont\": [\"Source Sans Pro\", \"Helvetica Neue\", \"Helvetica\", \"Arial\", \"sans-serif\"], \"labelFontSize\": 16, \"titleFont\": [\"Source Sans Pro\", \"Helvetica Neue\", \"Helvetica\", \"Arial\", \"sans-serif\"], \"titleFontSize\": 16, \"titleFontWeight\": \"normal\", \"titlePadding\": 10}, \"axisY\": {\"labelFont\": [\"Source Sans Pro\", \"Helvetica Neue\", \"Helvetica\", \"Arial\", \"sans-serif\"], \"labelFontSize\": 16, \"titleFont\": [\"Source Sans Pro\", \"Helvetica Neue\", \"Helvetica\", \"Arial\", \"sans-serif\"], \"titleFontSize\": 16, \"titleFontWeight\": \"normal\", \"titlePadding\": 10}, \"legend\": {\"labelFont\": [\"Source Sans Pro\", \"Helvetica Neue\", \"Helvetica\", \"Arial\", \"sans-serif\"], \"labelFontSize\": 16, \"titleFont\": [\"Source Sans Pro\", \"Helvetica Neue\", \"Helvetica\", \"Arial\", \"sans-serif\"], \"titleFontSize\": 16, \"titleFontWeight\": \"normal\"}, \"text\": {\"font\": [\"Source Sans Pro\", \"Helvetica Neue\", \"Helvetica\", \"Arial\", \"sans-serif\"], \"fontSize\": 14.4}, \"view\": {\"strokeWidth\": 0}}, \"hconcat\": [{\"layer\": [{\"mark\": {\"type\": \"circle\", \"color\": \"black\"}, \"encoding\": {\"x\": {\"type\": \"quantitative\", \"axis\": null, \"field\": \"x\", \"scale\": {\"padding\": 1}}, \"y\": {\"type\": \"quantitative\", \"axis\": null, \"field\": \"y\", \"scale\": {\"domain\": [-3.587565463633676, 1.3467033986438701]}}}}, {\"mark\": \"line\", \"encoding\": {\"x\": {\"type\": \"quantitative\", \"axis\": null, \"field\": \"x\", \"scale\": {\"padding\": 1}}, \"y\": {\"type\": \"quantitative\", \"axis\": null, \"field\": \"y\", \"scale\": {\"domain\": [-3.587565463633676, 1.3467033986438701]}}}, \"height\": 100, \"title\": \"Underfit\", \"transform\": [{\"on\": \"x\", \"regression\": \"y\", \"method\": \"poly\", \"order\": 1}], \"width\": 150}]}, {\"layer\": [{\"mark\": {\"type\": \"circle\", \"color\": \"black\"}, \"encoding\": {\"x\": {\"type\": \"quantitative\", \"axis\": null, \"field\": \"x\", \"scale\": {\"padding\": 1}}, \"y\": {\"type\": \"quantitative\", \"axis\": null, \"field\": \"y\", \"scale\": {\"domain\": [-3.587565463633676, 1.3467033986438701]}}}}, {\"mark\": \"line\", \"encoding\": {\"x\": {\"type\": \"quantitative\", \"axis\": null, \"field\": \"x\", \"scale\": {\"padding\": 1}}, \"y\": {\"type\": \"quantitative\", \"axis\": null, \"field\": \"y\", \"scale\": {\"domain\": [-3.587565463633676, 1.3467033986438701]}}}, \"height\": 100, \"title\": \"Good Fit\", \"transform\": [{\"on\": \"x\", \"regression\": \"y\", \"method\": \"poly\", \"order\": 2}], \"width\": 150}]}, {\"layer\": [{\"mark\": {\"type\": \"circle\", \"color\": \"black\"}, \"encoding\": {\"x\": {\"type\": \"quantitative\", \"axis\": null, \"field\": \"x\", \"scale\": {\"padding\": 1}}, \"y\": {\"type\": \"quantitative\", \"axis\": null, \"field\": \"y\", \"scale\": {\"domain\": [-3.587565463633676, 1.3467033986438701]}}}}, {\"mark\": \"line\", \"encoding\": {\"x\": {\"type\": \"quantitative\", \"axis\": null, \"field\": \"x\", \"scale\": {\"padding\": 1}}, \"y\": {\"type\": \"quantitative\", \"axis\": null, \"field\": \"y\", \"scale\": {\"domain\": [-3.587565463633676, 1.3467033986438701]}}}, \"height\": 100, \"title\": \"Overfit\", \"transform\": [{\"on\": \"x\", \"regression\": \"y\", \"method\": \"poly\", \"order\": 9}], \"width\": 150}]}], \"data\": {\"name\": \"data-8c5206655986f1db94933dda959fe8ba\"}, \"$schema\": \"https://vega.github.io/schema/vega-lite/v4.8.1.json\", \"datasets\": {\"data-8c5206655986f1db94933dda959fe8ba\": [{\"x\": -1.5, \"y\": -2.087565463633676}, {\"x\": -1.2222222222222223, \"y\": -1.5550028018588349}, {\"x\": -0.9444444444444444, \"y\": -0.9447924838683208}, {\"x\": -0.6666666666666666, \"y\": -0.5517413066600615}, {\"x\": -0.38888888888888884, \"y\": -0.06469380496876666}, {\"x\": -0.11111111111111116, \"y\": -0.24249954870037396}, {\"x\": 0.16666666666666674, \"y\": 0.14670339864387022}, {\"x\": 0.44444444444444464, \"y\": -0.27365155428704135}, {\"x\": 0.7222222222222223, \"y\": -0.48970102866589516}, {\"x\": 1.0, \"y\": -1.024937037547741}]}}, {\"actions\": false, \"renderer\": \"svg\", \"mode\": \"vega-lite\"});\n",
       "</script>"
      ],
      "text/plain": [
       "alt.HConcatChart(...)"
      ]
     },
     "metadata": {},
     "output_type": "display_data"
    }
   ],
   "source": [
    "rng = np.random.RandomState(seed=1)\n",
    "x = np.linspace(-1.5, 1., 10)\n",
    "y = -x**2 + rng.normal(0, 0.1, size=x.shape)\n",
    "df = pd.DataFrame({'x': x, 'y': y})\n",
    "\n",
    "# Define the degree of the polynomial fits\n",
    "degree_list = [1, 2, 9]\n",
    "title_list = ['Underfit','Good Fit','Overfit']\n",
    "\n",
    "yscale = alt.Scale(domain=[y.min()-1.5, y.max()+1.2])\n",
    "xscale = alt.Scale(padding=1)\n",
    "\n",
    "base = alt.Chart(df).mark_circle(color=\"black\").encode(\n",
    "    alt.X(\"x\", axis=None, scale=xscale), \n",
    "    alt.Y(\"y\", axis=None, scale=yscale)\n",
    ")\n",
    "polynomial_fit = [\n",
    "    base + base.transform_regression(\n",
    "        \"x\", \"y\", method=\"poly\", order=order\n",
    "    )\n",
    "    .mark_line()\n",
    "    .properties(width=150, height=100, title=title)\n",
    "    for title, order in zip(title_list, degree_list)\n",
    "]\n",
    "\n",
    "alt.hconcat(\n",
    "    *polynomial_fit\n",
    ").configure_view(\n",
    "    strokeWidth=0\n",
    ").configure_title(\n",
    "    orient='bottom'\n",
    ").display(\n",
    "    renderer='svg'\n",
    ")"
   ]
  },
  {
   "cell_type": "markdown",
   "metadata": {
    "slideshow": {
     "slide_type": "slide"
    }
   },
   "source": [
    "## Statistics can help to tell the signal from the noise"
   ]
  },
  {
   "cell_type": "markdown",
   "metadata": {
    "tags": []
   },
   "source": [
    "### <br>For example:\n",
    "- In 2016, many were certain that Clinton would win the US election.\n",
    "- On Nov. 4, four days before the election, [a statistics website reported](https://fivethirtyeight.com/features/trump-is-just-a-normal-polling-error-behind-clinton):<br> \"Trump Is Just A Normal Polling Error Behind Clinton\""
   ]
  },
  {
   "cell_type": "markdown",
   "metadata": {
    "slideshow": {
     "slide_type": "slide"
    }
   },
   "source": [
    "## You can get better at statistics!\n",
    "\n",
    "- Follow this course to improve your decision making skills\n",
    "- Suitable for general audiences\n",
    "\n",
    "Next section: [An introductory experiment](1_introductory_card_experiment.slides.html)"
   ]
  },
  {
   "cell_type": "code",
   "execution_count": null,
   "metadata": {},
   "outputs": [],
   "source": []
  }
 ],
 "metadata": {
  "kernelspec": {
   "display_name": "Python 3",
   "language": "python",
   "name": "python3"
  },
  "language_info": {
   "codemirror_mode": {
    "name": "ipython",
    "version": 3
   },
   "file_extension": ".py",
   "mimetype": "text/x-python",
   "name": "python",
   "nbconvert_exporter": "python",
   "pygments_lexer": "ipython3",
   "version": "3.9.6"
  },
  "widgets": {
   "application/vnd.jupyter.widget-state+json": {
    "state": {},
    "version_major": 2,
    "version_minor": 0
   }
  }
 },
 "nbformat": 4,
 "nbformat_minor": 4
}
